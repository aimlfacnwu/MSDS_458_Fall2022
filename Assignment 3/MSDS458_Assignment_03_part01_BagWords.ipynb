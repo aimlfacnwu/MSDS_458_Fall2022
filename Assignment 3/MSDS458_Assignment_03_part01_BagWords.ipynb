{
  "cells": [
    {
      "cell_type": "markdown",
      "metadata": {
        "id": "IcB1Zo9NtOPB"
      },
      "source": [
        "<img src=\"https://github.com/djp840/MSDS_458_Public/blob/master/images/NorthwesternHeader.png?raw=1\">"
      ]
    },
    {
      "cell_type": "markdown",
      "metadata": {
        "id": "d-OcAKMLtOPC"
      },
      "source": [
        "## MSDS458 Research Assignment 3 - Part 01"
      ]
    },
    {
      "cell_type": "markdown",
      "metadata": {
        "id": "J63qF0o3tOPD"
      },
      "source": [
        "## Analyze AG_NEWS_SUBSET Data <br>\n",
        "\n",
        "AG is a collection of more than 1 million news articles. News articles have been gathered from more than 2000 news sources by ComeToMyHead in more than 1 year of activity. ComeToMyHead is an academic news search engine which has been running since July, 2004. The dataset is provided by the academic comunity for research purposes in data mining (clustering, classification, etc), information retrieval (ranking, search, etc), xml, data compression, data streaming, and any other non-commercial activity.<br>\n",
        "\n",
        "For more information, please refer to the link http://www.di.unipi.it/~gulli/AG_corpus_of_news_articles.html<br>\n",
        "\n",
        "\n",
        "The AG's news topic classification dataset is constructed by choosing 4 largest classes (**World**, **Sports**, **Business**, and **Sci/Tech**) from the original corpus. Each class contains 30,000 training samples and 1,900 testing samples. The total number of training samples is 120,000 and testing 7,600.<br>\n",
        "\n",
        "Homepage: https://arxiv.org/abs/1509.01626<br>\n",
        "\n",
        "Source code: tfds.text.AGNewsSubset\n",
        "\n",
        "Versions:\n",
        "\n",
        "1.0.0 (default): No release notes.\n",
        "Download size: 11.24 MiB\n",
        "\n",
        "Dataset size: 35.79 MiB"
      ]
    },
    {
      "cell_type": "markdown",
      "metadata": {
        "id": "-aIn6MqYtOPD"
      },
      "source": [
        "## References\n",
        "1. Deep Learning with Python, Francois Chollet (https://learning.oreilly.com/library/view/deep-learning-with/9781617296864/)\n",
        " * Chapter 10: Deep learning for time series\n",
        " * Chapter 11: Deep learning for text\n",
        "2. Deep Learning A Visual Approach, Andrew Glassner (https://learning.oreilly.com/library/view/deep-learning/9781098129019/)\n",
        " * Chapter 19: Recurrent Neural Networks\n",
        " * Chapter 20: Attention and Transformers"
      ]
    },
    {
      "cell_type": "markdown",
      "metadata": {
        "id": "hqngWa6YtOPD"
      },
      "source": [
        "# Deep learning for text"
      ]
    },
    {
      "cell_type": "markdown",
      "metadata": {
        "id": "aoEPe0lOtOPD"
      },
      "source": [
        "## Natural-language processing: The bird's eye view"
      ]
    },
    {
      "cell_type": "markdown",
      "metadata": {
        "id": "ZjvPESiCtOPE"
      },
      "source": [
        "## Preparing text data"
      ]
    },
    {
      "cell_type": "markdown",
      "metadata": {
        "id": "WgU1-_56tOPE"
      },
      "source": [
        "<img src=\"https://github.com/djp840/MSDS_458_Public/blob/master/images/11-01.png?raw=1\">"
      ]
    },
    {
      "cell_type": "markdown",
      "metadata": {
        "id": "e_oheu7-tOPE"
      },
      "source": [
        "## Import Packages"
      ]
    },
    {
      "cell_type": "code",
      "execution_count": 2,
      "metadata": {
        "id": "XupKsUo7tOPE"
      },
      "outputs": [],
      "source": [
        "from packaging import version\n",
        "\n",
        "import tensorflow as tf\n",
        "import tensorflow_datasets as tfds\n",
        "import keras\n",
        "from keras import layers\n",
        "from keras.layers import TextVectorization"
      ]
    },
    {
      "cell_type": "markdown",
      "metadata": {
        "id": "KUFD-ZCwtOPE"
      },
      "source": [
        "## Verify TensorFlow version and Keras version"
      ]
    },
    {
      "cell_type": "code",
      "execution_count": 3,
      "metadata": {
        "id": "DTu4gw7wtOPF",
        "outputId": "03677298-199e-40a3-9b48-8b791211e07f",
        "colab": {
          "base_uri": "https://localhost:8080/"
        }
      },
      "outputs": [
        {
          "output_type": "stream",
          "name": "stdout",
          "text": [
            "This notebook requires TensorFlow 2.0 or above\n",
            "TensorFlow version:  2.15.0\n"
          ]
        }
      ],
      "source": [
        "print(\"This notebook requires TensorFlow 2.0 or above\")\n",
        "print(\"TensorFlow version: \", tf.__version__)\n",
        "assert version.parse(tf.__version__).release[0] >=2"
      ]
    },
    {
      "cell_type": "code",
      "execution_count": 4,
      "metadata": {
        "id": "TkAPvOpstOPF",
        "outputId": "1fe384eb-4721-433f-a297-143dc0969ca9",
        "colab": {
          "base_uri": "https://localhost:8080/"
        }
      },
      "outputs": [
        {
          "output_type": "stream",
          "name": "stdout",
          "text": [
            "Keras version:  2.15.0\n"
          ]
        }
      ],
      "source": [
        "print(\"Keras version: \", keras.__version__)"
      ]
    },
    {
      "cell_type": "markdown",
      "metadata": {
        "id": "UNwwiMQ2tOPF"
      },
      "source": [
        "## Mount Google Drive to Colab environment"
      ]
    },
    {
      "cell_type": "code",
      "execution_count": 6,
      "metadata": {
        "id": "fTfxftyetOPF",
        "outputId": "6f15f461-fd0f-4ddc-c429-39baa6a532ee",
        "colab": {
          "base_uri": "https://localhost:8080/"
        }
      },
      "outputs": [
        {
          "output_type": "stream",
          "name": "stdout",
          "text": [
            "Drive already mounted at /content/gdrive; to attempt to forcibly remount, call drive.mount(\"/content/gdrive\", force_remount=True).\n",
            "/content/gdrive/My Drive/MSDS_458/Assignment 3/data\n"
          ]
        }
      ],
      "source": [
        "from google.colab import drive\n",
        "drive.mount('/content/gdrive')\n",
        "%cd /content/gdrive/My Drive/MSDS_458/Assignment 3/data/\n",
        "gCollab = True"
      ]
    },
    {
      "cell_type": "markdown",
      "metadata": {
        "id": "nj0epl-0tOPG"
      },
      "source": [
        "## Load AG_NEWS_SUBSET News Articles Dataset"
      ]
    },
    {
      "cell_type": "code",
      "execution_count": 7,
      "metadata": {
        "scrolled": false,
        "id": "MkaG6HpetOPG",
        "outputId": "6828a065-2c16-4780-cbc0-0e400fd67ca1",
        "colab": {
          "base_uri": "https://localhost:8080/"
        }
      },
      "outputs": [
        {
          "output_type": "stream",
          "name": "stdout",
          "text": [
            "W0508 01:01:55.393962 134767467241472 download_and_prepare.py:46] ***`tfds build` should be used instead of `download_and_prepare`.***\n",
            "INFO[build.py]: Loading dataset ag_news_subset from imports: tensorflow_datasets.datasets.ag_news_subset.ag_news_subset_dataset_builder\n",
            "2024-05-08 01:01:55.862055: E external/local_xla/xla/stream_executor/cuda/cuda_dnn.cc:9261] Unable to register cuDNN factory: Attempting to register factory for plugin cuDNN when one has already been registered\n",
            "2024-05-08 01:01:55.862107: E external/local_xla/xla/stream_executor/cuda/cuda_fft.cc:607] Unable to register cuFFT factory: Attempting to register factory for plugin cuFFT when one has already been registered\n",
            "2024-05-08 01:01:55.863764: E external/local_xla/xla/stream_executor/cuda/cuda_blas.cc:1515] Unable to register cuBLAS factory: Attempting to register factory for plugin cuBLAS when one has already been registered\n",
            "2024-05-08 01:01:57.579372: W tensorflow/compiler/tf2tensorrt/utils/py_utils.cc:38] TF-TRT Warning: Could not find TensorRT\n",
            "INFO[utils.py]: NumExpr defaulting to 2 threads.\n",
            "2024-05-08 01:01:58.950367: W external/local_tsl/tsl/platform/cloud/google_auth_provider.cc:184] All attempts to get a Google authentication bearer token failed, returning an empty token. Retrieving token from files failed with \"NOT_FOUND: Could not locate the credentials file.\". Retrieving token from GCE failed with \"NOT_FOUND: Error executing an HTTP request: HTTP response code 404\".\n",
            "INFO[dataset_info.py]: Load pre-computed DatasetInfo (eg: splits, num examples,...) from GCS: ag_news_subset/1.0.0\n",
            "INFO[dataset_info.py]: Load dataset info from /tmp/tmprrw3dy6ctfds\n",
            "INFO[dataset_info.py]: For 'ag_news_subset/1.0.0': fields info.[description, splits, supervised_keys, module_name] differ on disk and in the code. Keeping the one from code.\n",
            "INFO[build.py]: download_and_prepare for dataset ag_news_subset/1.0.0...\n",
            "INFO[dataset_builder.py]: Generating dataset ag_news_subset (/root/tensorflow_datasets/ag_news_subset/1.0.0)\n",
            "\u001b[1mDownloading and preparing dataset 11.24 MiB (download: 11.24 MiB, generated: 35.79 MiB, total: 47.03 MiB) to /root/tensorflow_datasets/ag_news_subset/1.0.0...\u001b[0m\n",
            "Dl Completed...: 0 url [00:00, ? url/s]\n",
            "Dl Size...: 0 MiB [00:00, ? MiB/s]\u001b[A\n",
            "\n",
            "                                       \n",
            "\n",
            "\u001b[A\u001b[A\n",
            "\u001b[AINFO[download_manager.py]: Downloading https://drive.google.com/uc?export=download&id=0Bz8a_Dbh9QhbUDNpeUdjb0wxRms into /root/tensorflow_datasets/downloads/ucexport_download_id_0Bz8a_Dbh9QhbUDNpeUdjb0wxj4g1umFAV8OV-uDwxSJR0LdxO_k1jxMuFWwAfNX9jos.tmp.cdedff9c00e147df8ce8450ae2374fe1...\n",
            "Dl Completed...: 0 url [00:00, ? url/s]\n",
            "\n",
            "Extraction completed...: 0 file [00:00, ? file/s]\u001b[A\u001b[A\n",
            "Dl Completed...:   0% 0/1 [00:00<?, ? url/s]\n",
            "Dl Size...: 0 MiB [00:00, ? MiB/s]\u001b[A\n",
            "\n",
            "Dl Completed...:   0% 0/1 [00:17<?, ? url/s]\n",
            "Dl Size...:   0% 0/11 [00:17<?, ? MiB/s]\u001b[A\n",
            "\n",
            "Extraction completed...: 0 file [00:17, ? file/s]\u001b[A\u001b[A\n",
            "Dl Completed...:   0% 0/1 [00:17<?, ? url/s]\n",
            "Dl Size...:   9% 1/11 [00:17<02:54, 17.42s/ MiB]\u001b[A\n",
            "\n",
            "Dl Completed...:   0% 0/1 [00:17<?, ? url/s]\n",
            "Dl Size...:  18% 2/11 [00:17<02:36, 17.42s/ MiB]\u001b[A\n",
            "\n",
            "Dl Completed...:   0% 0/1 [00:17<?, ? url/s]\n",
            "Dl Size...:  27% 3/11 [00:17<02:19, 17.42s/ MiB]\u001b[A\n",
            "\n",
            "Dl Completed...:   0% 0/1 [00:17<?, ? url/s]\n",
            "Dl Size...:  36% 4/11 [00:17<02:01, 17.42s/ MiB]\u001b[A\n",
            "\n",
            "Dl Completed...:   0% 0/1 [00:17<?, ? url/s]\n",
            "Dl Size...:  45% 5/11 [00:17<01:44, 17.42s/ MiB]\u001b[A\n",
            "\n",
            "Dl Completed...:   0% 0/1 [00:17<?, ? url/s]\n",
            "Dl Size...:  55% 6/11 [00:17<01:27, 17.42s/ MiB]\u001b[A\n",
            "\n",
            "Dl Completed...:   0% 0/1 [00:17<?, ? url/s]\n",
            "Dl Size...:  64% 7/11 [00:17<01:09, 17.42s/ MiB]\u001b[A\n",
            "\n",
            "Dl Completed...:   0% 0/1 [00:17<?, ? url/s]\n",
            "Dl Size...:  73% 8/11 [00:17<00:52, 17.42s/ MiB]\u001b[A\n",
            "\n",
            "Dl Completed...:   0% 0/1 [00:17<?, ? url/s]\n",
            "Dl Size...:  82% 9/11 [00:17<00:34, 17.42s/ MiB]\u001b[A\n",
            "\n",
            "Dl Completed...:   0% 0/1 [00:17<?, ? url/s]\n",
            "Dl Size...:  91% 10/11 [00:17<00:17, 17.42s/ MiB]\u001b[A\n",
            "\n",
            "Dl Completed...:   0% 0/1 [00:17<?, ? url/s]\n",
            "Dl Size...: 100% 11/11 [00:17<00:00, 17.42s/ MiB]\u001b[A\n",
            "\n",
            "Dl Completed...: 100% 1/1 [00:17<00:00, 17.66s/ url]\n",
            "Dl Size...: 100% 11/11 [00:17<00:00, 17.42s/ MiB]\u001b[A\n",
            "\n",
            "Dl Completed...: 100% 1/1 [00:17<00:00, 17.66s/ url]\n",
            "Dl Size...: 100% 11/11 [00:17<00:00, 17.42s/ MiB]\u001b[A\n",
            "\n",
            "Dl Completed...: 100% 1/1 [00:17<00:00, 17.66s/ url]\n",
            "Dl Size...: 100% 11/11 [00:17<00:00, 17.42s/ MiB]\u001b[A\n",
            "\n",
            "Dl Completed...: 100% 1/1 [00:17<00:00, 17.66s/ url]\n",
            "Dl Size...: 100% 11/11 [00:17<00:00, 17.42s/ MiB]\u001b[A\n",
            "\n",
            "Dl Completed...: 100% 1/1 [00:17<00:00, 17.66s/ url]\n",
            "Dl Size...: 100% 11/11 [00:17<00:00, 17.42s/ MiB]\u001b[A\n",
            "\n",
            "Extraction completed...:   0% 0/4 [00:17<?, ? file/s]\u001b[A\u001b[A\n",
            "\n",
            "Dl Completed...: 100% 1/1 [00:17<00:00, 17.66s/ url]\n",
            "Dl Size...: 100% 11/11 [00:17<00:00, 17.42s/ MiB]\u001b[A\n",
            "\n",
            "Dl Completed...: 100% 1/1 [00:17<00:00, 17.66s/ url]\n",
            "Dl Size...: 100% 11/11 [00:17<00:00, 17.42s/ MiB]\u001b[A\n",
            "\n",
            "Dl Completed...: 100% 1/1 [00:17<00:00, 17.66s/ url]\n",
            "Dl Size...: 100% 11/11 [00:17<00:00, 17.42s/ MiB]\u001b[A\n",
            "\n",
            "Dl Completed...: 100% 1/1 [00:17<00:00, 17.66s/ url]\n",
            "Dl Size...: 100% 11/11 [00:17<00:00, 17.42s/ MiB]\u001b[A\n",
            "\n",
            "Extraction completed...: 100% 4/4 [00:17<00:00,  4.49s/ file]\n",
            "Dl Size...: 100% 11/11 [00:17<00:00,  1.63s/ MiB]\n",
            "Dl Completed...: 100% 1/1 [00:17<00:00, 17.97s/ url]\n",
            "Generating splits...:   0% 0/2 [00:00<?, ? splits/s]\n",
            "Generating train examples...:   0% 0/120000 [00:00<?, ? examples/s]\u001b[A\n",
            "Generating train examples...:   5% 5554/120000 [00:01<00:20, 5553.56 examples/s]\u001b[A\n",
            "Generating train examples...:  10% 12520/120000 [00:02<00:16, 6384.18 examples/s]\u001b[A\n",
            "Generating train examples...:  19% 23110/120000 [00:03<00:11, 8304.25 examples/s]\u001b[A\n",
            "Generating train examples...:  29% 35187/120000 [00:04<00:08, 9793.40 examples/s]\u001b[A\n",
            "Generating train examples...:  39% 46992/120000 [00:05<00:06, 10518.49 examples/s]\u001b[A\n",
            "Generating train examples...:  49% 58896/120000 [00:06<00:05, 10989.40 examples/s]\u001b[A\n",
            "Generating train examples...:  59% 70569/120000 [00:07<00:04, 11212.71 examples/s]\u001b[A\n",
            "Generating train examples...:  69% 82675/120000 [00:08<00:03, 11496.93 examples/s]\u001b[A\n",
            "Generating train examples...:  79% 94803/120000 [00:09<00:02, 11694.08 examples/s]\u001b[A\n",
            "Generating train examples...:  89% 106760/120000 [00:10<00:01, 11775.11 examples/s]\u001b[A\n",
            "Generating train examples...:  99% 118826/120000 [00:11<00:00, 11863.90 examples/s]\u001b[A\n",
            "                                                                                   \u001b[A\n",
            "Shuffling /root/tensorflow_datasets/ag_news_subset/1.0.0.incompleteVTLEQE/ag_news_subset-train.tfrecord*...:   0% 0/120000 [00:00<?, ? examples/s]\u001b[A\n",
            "Shuffling /root/tensorflow_datasets/ag_news_subset/1.0.0.incompleteVTLEQE/ag_news_subset-train.tfrecord*...:  11% 13649/120000 [00:00<00:00, 136482.32 examples/s]\u001b[A\n",
            "Shuffling /root/tensorflow_datasets/ag_news_subset/1.0.0.incompleteVTLEQE/ag_news_subset-train.tfrecord*...:  53% 63029/120000 [00:00<00:00, 346650.90 examples/s]\u001b[A\n",
            "Shuffling /root/tensorflow_datasets/ag_news_subset/1.0.0.incompleteVTLEQE/ag_news_subset-train.tfrecord*...:  95% 114456/120000 [00:00<00:00, 423175.86 examples/s]\u001b[A\n",
            "INFO[writer.py]: Done writing /root/tensorflow_datasets/ag_news_subset/1.0.0.incompleteVTLEQE/ag_news_subset-train.tfrecord*. Number of examples: 120000 (shards: [120000])\n",
            "Generating splits...:  50% 1/2 [00:11<00:11, 11.43s/ splits]\n",
            "Generating test examples...:   0% 0/7600 [00:00<?, ? examples/s]\u001b[A\n",
            "                                                                \u001b[A\n",
            "Shuffling /root/tensorflow_datasets/ag_news_subset/1.0.0.incompleteVTLEQE/ag_news_subset-test.tfrecord*...:   0% 0/7600 [00:00<?, ? examples/s]\u001b[A\n",
            "INFO[writer.py]: Done writing /root/tensorflow_datasets/ag_news_subset/1.0.0.incompleteVTLEQE/ag_news_subset-test.tfrecord*. Number of examples: 7600 (shards: [7600])\n",
            "\u001b[1mDataset ag_news_subset downloaded and prepared to /root/tensorflow_datasets/ag_news_subset/1.0.0. Subsequent calls will reuse this data.\u001b[0m\n",
            "INFO[build.py]: Dataset generation complete...\n",
            "\n",
            "tfds.core.DatasetInfo(\n",
            "    name='ag_news_subset',\n",
            "    full_name='ag_news_subset/1.0.0',\n",
            "    description=\"\"\"\n",
            "    AG is a collection of more than 1 million news articles. News articles have been\n",
            "    gathered from more than 2000 news sources by ComeToMyHead in more than 1 year of\n",
            "    activity. ComeToMyHead is an academic news search engine which has been running\n",
            "    since July, 2004. The dataset is provided by the academic comunity for research\n",
            "    purposes in data mining (clustering, classification, etc), information retrieval\n",
            "    (ranking, search, etc), xml, data compression, data streaming, and any other\n",
            "    non-commercial activity. For more information, please refer to the link\n",
            "    http://www.di.unipi.it/~gulli/AG_corpus_of_news_articles.html .\n",
            "    \n",
            "    The AG's news topic classification dataset is constructed by Xiang Zhang\n",
            "    (xiang.zhang@nyu.edu) from the dataset above. It is used as a text\n",
            "    classification benchmark in the following paper: Xiang Zhang, Junbo Zhao, Yann\n",
            "    LeCun. Character-level Convolutional Networks for Text Classification. Advances\n",
            "    in Neural Information Processing Systems 28 (NIPS 2015).\n",
            "    \n",
            "    The AG's news topic classification dataset is constructed by choosing 4 largest\n",
            "    classes from the original corpus. Each class contains 30,000 training samples\n",
            "    and 1,900 testing samples. The total number of training samples is 120,000 and\n",
            "    testing 7,600.\n",
            "    \"\"\",\n",
            "    homepage='https://arxiv.org/abs/1509.01626',\n",
            "    data_dir=PosixGPath('/tmp/tmprrw3dy6ctfds'),\n",
            "    file_format=tfrecord,\n",
            "    download_size=11.24 MiB,\n",
            "    dataset_size=35.79 MiB,\n",
            "    features=FeaturesDict({\n",
            "        'description': Text(shape=(), dtype=string),\n",
            "        'label': ClassLabel(shape=(), dtype=int64, num_classes=4),\n",
            "        'title': Text(shape=(), dtype=string),\n",
            "    }),\n",
            "    supervised_keys=('description', 'label'),\n",
            "    disable_shuffling=False,\n",
            "    splits={\n",
            "        'test': <SplitInfo num_examples=7600, num_shards=1>,\n",
            "        'train': <SplitInfo num_examples=120000, num_shards=1>,\n",
            "    },\n",
            "    citation=\"\"\"@misc{zhang2015characterlevel,\n",
            "        title={Character-level Convolutional Networks for Text Classification},\n",
            "        author={Xiang Zhang and Junbo Zhao and Yann LeCun},\n",
            "        year={2015},\n",
            "        eprint={1509.01626},\n",
            "        archivePrefix={arXiv},\n",
            "        primaryClass={cs.LG}\n",
            "    }\"\"\",\n",
            ")\n",
            "\n"
          ]
        }
      ],
      "source": [
        "# register  ag_news_subset so that tfds.load doesn't generate a checksum (mismatch) error\n",
        "!python -m tensorflow_datasets.scripts.download_and_prepare --register_checksums --datasets=ag_news_subset\n",
        "\n",
        "dataset, info = tfds.load('ag_news_subset', with_info=True,  split=['train[:114000]','train[114000:]', 'test'],\n",
        "                          batch_size = 32, as_supervised=True)\n",
        "train_ds, val_ds, test_ds = dataset"
      ]
    },
    {
      "cell_type": "markdown",
      "metadata": {
        "id": "uD8RtWpttOPG"
      },
      "source": [
        "## Display The Number of Batches"
      ]
    },
    {
      "cell_type": "code",
      "execution_count": 8,
      "metadata": {
        "id": "PusjXhAstOPG",
        "outputId": "80c49061-1d3a-48da-e1f1-eece35023fe1",
        "colab": {
          "base_uri": "https://localhost:8080/"
        }
      },
      "outputs": [
        {
          "output_type": "execute_result",
          "data": {
            "text/plain": [
              "(3563, 188, 238)"
            ]
          },
          "metadata": {},
          "execution_count": 8
        }
      ],
      "source": [
        "len(train_ds), len(val_ds), len(test_ds)"
      ]
    },
    {
      "cell_type": "markdown",
      "metadata": {
        "id": "cTRKecHvtOPG"
      },
      "source": [
        "## Displaying The Shapes and Dtypes of the First Batch"
      ]
    },
    {
      "cell_type": "raw",
      "metadata": {
        "id": "sy4wWEoNtOPG"
      },
      "source": [
        "'description': Text(shape=(), dtype=tf.string),\n",
        "'label': ClassLabel(shape=(), dtype=tf.int64, num_classes=4),\n",
        "'title': Text(shape=(), dtype=tf.string),"
      ]
    },
    {
      "cell_type": "code",
      "execution_count": 9,
      "metadata": {
        "id": "IriocrGotOPH",
        "outputId": "ca31a1e9-d312-41c3-ffa4-a26ad3243df2",
        "colab": {
          "base_uri": "https://localhost:8080/"
        }
      },
      "outputs": [
        {
          "output_type": "stream",
          "name": "stdout",
          "text": [
            "inputs.shape: (32,)\n",
            "\n",
            "inputs.dtype: <dtype: 'string'>\n",
            "\n",
            "targets.shape: (32,)\n",
            "\n",
            "targets.dtype: <dtype: 'int64'>\n",
            "\n",
            "inputs[0]: tf.Tensor(b'AMD #39;s new dual-core Opteron chip is designed mainly for corporate computing applications, including databases, Web services, and financial transactions.', shape=(), dtype=string)\n",
            "\n",
            "targets[0]: tf.Tensor(3, shape=(), dtype=int64)\n"
          ]
        }
      ],
      "source": [
        "for inputs, targets in train_ds:\n",
        "    print(\"inputs.shape:\", inputs.shape)\n",
        "    print()\n",
        "    print(\"inputs.dtype:\", inputs.dtype)\n",
        "    print()\n",
        "    print(\"targets.shape:\", targets.shape)\n",
        "    print()\n",
        "    print(\"targets.dtype:\", targets.dtype)\n",
        "    print()\n",
        "    print(\"inputs[0]:\", inputs[0])\n",
        "    print()\n",
        "    print(\"targets[0]:\", targets[0])\n",
        "    break"
      ]
    },
    {
      "cell_type": "markdown",
      "metadata": {
        "id": "ndhquJ0HtOPH"
      },
      "source": [
        "## Processing words as a set: The bag-of-words approach\n",
        "\n",
        "The simplest way to encode a piece of text for processing by a machine learning model is to discard order and treat it as a set (a “bag”) of tokens."
      ]
    },
    {
      "cell_type": "markdown",
      "metadata": {
        "id": "VtNkURcftOPH"
      },
      "source": [
        "## Single words (unigrams) with binary encoding\n",
        "\n",
        "The main advantage of this encoding is that you can represent an entire text as a single vector, where each entry is a presence indicator for a given word."
      ]
    },
    {
      "cell_type": "markdown",
      "metadata": {
        "id": "oUJiBOaftOPH"
      },
      "source": [
        "## Preprocessing Datasets TextVectorization Layer"
      ]
    },
    {
      "cell_type": "markdown",
      "metadata": {
        "id": "i3-14jS1tOPH"
      },
      "source": [
        "<div class=\"alert alert-block alert-success\">\n",
        "    <b>tf.keras.layers.TextVectorization</b><br>\n",
        "    https://www.tensorflow.org/api_docs/python/tf/keras/layers/TextVectorization\n",
        "    </div>"
      ]
    },
    {
      "cell_type": "raw",
      "metadata": {
        "id": "iYUMlkuEtOPH"
      },
      "source": [
        "Max Token = 1000 Word Vocabulary"
      ]
    },
    {
      "cell_type": "code",
      "execution_count": 11,
      "metadata": {
        "id": "UGR4FmiktOPH"
      },
      "outputs": [],
      "source": [
        "text_vectorization = TextVectorization(\n",
        "    max_tokens=1000,\n",
        "    output_mode=\"multi_hot\")"
      ]
    },
    {
      "cell_type": "code",
      "execution_count": 12,
      "metadata": {
        "id": "XmVM24wItOPH"
      },
      "outputs": [],
      "source": [
        "text_only_train_ds = train_ds.map(lambda x, y: x)"
      ]
    },
    {
      "cell_type": "code",
      "execution_count": 13,
      "metadata": {
        "scrolled": true,
        "id": "AMT-hY2DtOPH",
        "outputId": "d9edc81d-0719-4332-c165-ae919da3676d",
        "colab": {
          "base_uri": "https://localhost:8080/"
        }
      },
      "outputs": [
        {
          "output_type": "stream",
          "name": "stdout",
          "text": [
            "Get first batch of 32 news articles.\n",
            "\n",
            "Here is the first news article:\n",
            "\n",
            "b'AMD #39;s new dual-core Opteron chip is designed mainly for corporate computing applications, including databases, Web services, and financial transactions.'.\n"
          ]
        }
      ],
      "source": [
        "for text in text_only_train_ds:\n",
        "    print(f\"Get first batch of {text.shape[0]} news articles.\\n\")\n",
        "    print(f\"Here is the first news article:\\n\\n{text[0]}.\")\n",
        "    break"
      ]
    },
    {
      "cell_type": "markdown",
      "metadata": {
        "id": "RY0DL9q9tOPI"
      },
      "source": [
        "## Adapt Method - Standardize Text"
      ]
    },
    {
      "cell_type": "raw",
      "metadata": {
        "id": "X6dbewwDtOPI"
      },
      "source": [
        "Create the layer, and pass the dataset's text to the layer's `.adapt` method:\n",
        "The processing of each sample contains the following steps:\n",
        "\n",
        "    standardize each sample (usually lowercasing + punctuation stripping)\n",
        "    split each sample into substrings (usually words)\n",
        "    recombine substrings into tokens (usually ngrams)\n",
        "    index tokens (associate a unique int value with each token)\n",
        "    transform each sample using this index, either into a vector of ints or a dense float vector."
      ]
    },
    {
      "cell_type": "code",
      "execution_count": 14,
      "metadata": {
        "id": "gGe10ooptOPI"
      },
      "outputs": [],
      "source": [
        "text_vectorization.adapt(text_only_train_ds)"
      ]
    },
    {
      "cell_type": "code",
      "execution_count": 15,
      "metadata": {
        "id": "TIzOXsyetOPI"
      },
      "outputs": [],
      "source": [
        "binary_1gram_train_ds = train_ds.map(\n",
        "    lambda x, y: (text_vectorization(x), y),\n",
        "    num_parallel_calls=4)\n",
        "binary_1gram_val_ds = val_ds.map(\n",
        "    lambda x, y: (text_vectorization(x), y),\n",
        "    num_parallel_calls=4)\n",
        "binary_1gram_test_ds = test_ds.map(\n",
        "    lambda x, y: (text_vectorization(x), y),\n",
        "    num_parallel_calls=4)"
      ]
    },
    {
      "cell_type": "markdown",
      "metadata": {
        "id": "_jnHNVRktOPI"
      },
      "source": [
        "## Inspecting Output Binary Unigram Dataset"
      ]
    },
    {
      "cell_type": "code",
      "execution_count": 16,
      "metadata": {
        "id": "yay-oRDttOPI",
        "outputId": "4a7e9214-a130-4b26-dbe5-9803bd3fed4d",
        "colab": {
          "base_uri": "https://localhost:8080/"
        }
      },
      "outputs": [
        {
          "output_type": "stream",
          "name": "stdout",
          "text": [
            "inputs.shape: (32, 1000)\n",
            "\n",
            "inputs.dtype: <dtype: 'float32'>\n",
            "\n",
            "targets.shape: (32,)\n",
            "\n",
            "targets.dtype: <dtype: 'int64'>\n",
            "\n",
            "targets[0]: tf.Tensor(3, shape=(), dtype=int64)\n"
          ]
        }
      ],
      "source": [
        "for inputs, targets in binary_1gram_train_ds:\n",
        "    print(\"inputs.shape:\", inputs.shape)\n",
        "    print()\n",
        "    print(\"inputs.dtype:\", inputs.dtype)\n",
        "    print()\n",
        "    print(\"targets.shape:\", targets.shape)\n",
        "    print()\n",
        "    print(\"targets.dtype:\", targets.dtype)\n",
        "    print()\n",
        "    print(\"targets[0]:\", targets[0])\n",
        "    break"
      ]
    },
    {
      "cell_type": "markdown",
      "metadata": {
        "id": "TwXAQZWLtOPI"
      },
      "source": [
        "## Model Function"
      ]
    },
    {
      "cell_type": "code",
      "execution_count": 17,
      "metadata": {
        "id": "GVJGQ1YUtOPI"
      },
      "outputs": [],
      "source": [
        "def get_model(max_tokens=1000, hidden_dim=16):\n",
        "    inputs = tf.keras.Input(shape=(max_tokens,))\n",
        "    x = layers.Dense(hidden_dim, activation=\"relu\")(inputs)\n",
        "    x = layers.Dropout(0.5)(x)\n",
        "    outputs = layers.Dense(4, activation=\"softmax\")(x)\n",
        "    model = tf.keras.Model(inputs, outputs)\n",
        "    model.compile(optimizer=\"rmsprop\",\n",
        "                  loss='SparseCategoricalCrossentropy',\n",
        "                  metrics=[\"accuracy\"])\n",
        "    return model"
      ]
    },
    {
      "cell_type": "markdown",
      "metadata": {
        "id": "0hyVhlXFtOPI"
      },
      "source": [
        "## Build Binary Unigram Model"
      ]
    },
    {
      "cell_type": "code",
      "execution_count": 18,
      "metadata": {
        "scrolled": true,
        "id": "EtThqySWtOPI",
        "outputId": "cd8cffe6-666c-4391-ad13-1b3f20fc8ddc",
        "colab": {
          "base_uri": "https://localhost:8080/"
        }
      },
      "outputs": [
        {
          "output_type": "stream",
          "name": "stdout",
          "text": [
            "Model: \"model\"\n",
            "_________________________________________________________________\n",
            " Layer (type)                Output Shape              Param #   \n",
            "=================================================================\n",
            " input_1 (InputLayer)        [(None, 1000)]            0         \n",
            "                                                                 \n",
            " dense (Dense)               (None, 16)                16016     \n",
            "                                                                 \n",
            " dropout (Dropout)           (None, 16)                0         \n",
            "                                                                 \n",
            " dense_1 (Dense)             (None, 4)                 68        \n",
            "                                                                 \n",
            "=================================================================\n",
            "Total params: 16084 (62.83 KB)\n",
            "Trainable params: 16084 (62.83 KB)\n",
            "Non-trainable params: 0 (0.00 Byte)\n",
            "_________________________________________________________________\n"
          ]
        }
      ],
      "source": [
        "model_Unigram = get_model()\n",
        "model_Unigram.summary()\n",
        "callbacks = [\n",
        "    tf.keras.callbacks.ModelCheckpoint(\"binary_1gram.keras\",save_best_only=True)\n",
        "    ,tf.keras.callbacks.EarlyStopping(monitor='val_accuracy', patience=5)\n",
        "]"
      ]
    },
    {
      "cell_type": "code",
      "execution_count": 19,
      "metadata": {
        "id": "Ba5BMqiYtOPJ",
        "outputId": "42ea7860-d658-4d23-e250-91101a7d440b",
        "colab": {
          "base_uri": "https://localhost:8080/"
        }
      },
      "outputs": [
        {
          "output_type": "stream",
          "name": "stdout",
          "text": [
            "Epoch 1/200\n",
            "3563/3563 [==============================] - 15s 4ms/step - loss: 0.6801 - accuracy: 0.7555 - val_loss: 0.4678 - val_accuracy: 0.8423\n",
            "Epoch 2/200\n",
            "3563/3563 [==============================] - 10s 3ms/step - loss: 0.5947 - accuracy: 0.7987 - val_loss: 0.4770 - val_accuracy: 0.8398\n",
            "Epoch 3/200\n",
            "3563/3563 [==============================] - 10s 3ms/step - loss: 0.6030 - accuracy: 0.7950 - val_loss: 0.4813 - val_accuracy: 0.8382\n",
            "Epoch 4/200\n",
            "3563/3563 [==============================] - 10s 3ms/step - loss: 0.6064 - accuracy: 0.7929 - val_loss: 0.4818 - val_accuracy: 0.8375\n",
            "Epoch 5/200\n",
            "3563/3563 [==============================] - 9s 3ms/step - loss: 0.6038 - accuracy: 0.7934 - val_loss: 0.4786 - val_accuracy: 0.8380\n",
            "Epoch 6/200\n",
            "3563/3563 [==============================] - 10s 3ms/step - loss: 0.5993 - accuracy: 0.7928 - val_loss: 0.4775 - val_accuracy: 0.8410\n",
            "238/238 [==============================] - 1s 3ms/step - loss: 0.4918 - accuracy: 0.8376\n",
            "Test acc: 0.838\n"
          ]
        }
      ],
      "source": [
        "model_Unigram.fit(binary_1gram_train_ds.cache(),\n",
        "          validation_data=binary_1gram_val_ds.cache(),\n",
        "          epochs=200,\n",
        "          callbacks=callbacks)\n",
        "model_Unigram = keras.models.load_model(\"binary_1gram.keras\")\n",
        "print(f\"Test acc: {model_Unigram.evaluate(binary_1gram_test_ds)[1]:.3f}\")"
      ]
    },
    {
      "cell_type": "markdown",
      "metadata": {
        "id": "XN6o9YfxtOPJ"
      },
      "source": [
        "We call `cache()` on the datasets to cache them in memory: this way, we will only do the preprocessing once, during the first epoch, and we’ll reuse the preprocessed texts for the following epochs. This can only be done if the data is small enough to fit in memory."
      ]
    },
    {
      "cell_type": "markdown",
      "metadata": {
        "id": "hsnxdz0mtOPJ"
      },
      "source": [
        "## Bigrams With Binary Encoding\n",
        "\n",
        "Of course, discarding word order is very reductive, because even atomic concepts can be expressed via multiple words: the term “United States” conveys a concept that is quite distinct from the meaning of the words “states” and “united” taken separately."
      ]
    },
    {
      "cell_type": "markdown",
      "metadata": {
        "id": "oOf8ZrZktOPK"
      },
      "source": [
        "With bigrams, the sentence “`the cat sat on the mat.`” becomes\n",
        "\n",
        "`{\"the\", \"the cat\", \"cat\", \"cat sat\", \"sat\",\n",
        " \"sat on\", \"on\", \"on the\", \"the mat\", \"mat\"}`"
      ]
    },
    {
      "cell_type": "markdown",
      "metadata": {
        "id": "KX6sOXoFtOPK"
      },
      "source": [
        "<div class=\"alert alert-block alert-success\">\n",
        "    <b>tf.keras.layers.TextVectorization</b><br>\n",
        "    https://www.tensorflow.org/api_docs/python/tf/keras/layers/TextVectorization\n",
        "    </div>"
      ]
    },
    {
      "cell_type": "markdown",
      "metadata": {
        "id": "yka4LA8ntOPK"
      },
      "source": [
        "## Configuring the `TextVectorization` layer to return Bigrams\n",
        "\n",
        "The TextVectorization layer can be configured to return arbitrary N-grams: bigrams, trigrams, etc. Just pass an `ngrams=N` argument as in the following listing."
      ]
    },
    {
      "cell_type": "code",
      "execution_count": 20,
      "metadata": {
        "id": "MvXEKOngtOPK"
      },
      "outputs": [],
      "source": [
        "text_vectorization = TextVectorization(\n",
        "    ngrams=2,\n",
        "    max_tokens=1000,\n",
        "    output_mode=\"multi_hot\",\n",
        ")"
      ]
    },
    {
      "cell_type": "markdown",
      "metadata": {
        "id": "idEXIz2-tOPK"
      },
      "source": [
        "## Build Binary Bigram Model"
      ]
    },
    {
      "cell_type": "code",
      "execution_count": 21,
      "metadata": {
        "id": "itK56lEStOPL",
        "outputId": "2f0e15e9-3066-4b06-8f89-8ff68f7ba58c",
        "colab": {
          "base_uri": "https://localhost:8080/"
        }
      },
      "outputs": [
        {
          "output_type": "stream",
          "name": "stdout",
          "text": [
            "Model: \"model_1\"\n",
            "_________________________________________________________________\n",
            " Layer (type)                Output Shape              Param #   \n",
            "=================================================================\n",
            " input_2 (InputLayer)        [(None, 1000)]            0         \n",
            "                                                                 \n",
            " dense_2 (Dense)             (None, 16)                16016     \n",
            "                                                                 \n",
            " dropout_1 (Dropout)         (None, 16)                0         \n",
            "                                                                 \n",
            " dense_3 (Dense)             (None, 4)                 68        \n",
            "                                                                 \n",
            "=================================================================\n",
            "Total params: 16084 (62.83 KB)\n",
            "Trainable params: 16084 (62.83 KB)\n",
            "Non-trainable params: 0 (0.00 Byte)\n",
            "_________________________________________________________________\n"
          ]
        }
      ],
      "source": [
        "text_vectorization.adapt(text_only_train_ds)\n",
        "binary_2gram_train_ds = train_ds.map(\n",
        "    lambda x, y: (text_vectorization(x), y),\n",
        "    num_parallel_calls=4)\n",
        "binary_2gram_val_ds = val_ds.map(\n",
        "    lambda x, y: (text_vectorization(x), y),\n",
        "    num_parallel_calls=4)\n",
        "binary_2gram_test_ds = test_ds.map(\n",
        "    lambda x, y: (text_vectorization(x), y),\n",
        "    num_parallel_calls=4)\n",
        "\n",
        "model_Bigram = get_model()\n",
        "model_Bigram.summary()"
      ]
    },
    {
      "cell_type": "code",
      "execution_count": 22,
      "metadata": {
        "id": "NelG08LRtOPL",
        "outputId": "80fdd401-9de0-409c-e6ec-e44dfe4f8a95",
        "colab": {
          "base_uri": "https://localhost:8080/"
        }
      },
      "outputs": [
        {
          "output_type": "stream",
          "name": "stdout",
          "text": [
            "Epoch 1/200\n",
            "3563/3563 [==============================] - 15s 4ms/step - loss: 0.7056 - accuracy: 0.7435 - val_loss: 0.4854 - val_accuracy: 0.8370\n",
            "Epoch 2/200\n",
            "3563/3563 [==============================] - 9s 3ms/step - loss: 0.6234 - accuracy: 0.7875 - val_loss: 0.4965 - val_accuracy: 0.8327\n",
            "Epoch 3/200\n",
            "3563/3563 [==============================] - 10s 3ms/step - loss: 0.6255 - accuracy: 0.7866 - val_loss: 0.4973 - val_accuracy: 0.8303\n",
            "Epoch 4/200\n",
            "3563/3563 [==============================] - 10s 3ms/step - loss: 0.6212 - accuracy: 0.7866 - val_loss: 0.4941 - val_accuracy: 0.8308\n",
            "Epoch 5/200\n",
            "3563/3563 [==============================] - 9s 3ms/step - loss: 0.6151 - accuracy: 0.7875 - val_loss: 0.4905 - val_accuracy: 0.8318\n",
            "Epoch 6/200\n",
            "3563/3563 [==============================] - 10s 3ms/step - loss: 0.6156 - accuracy: 0.7880 - val_loss: 0.4916 - val_accuracy: 0.8310\n",
            "238/238 [==============================] - 1s 2ms/step - loss: 0.5069 - accuracy: 0.8270\n",
            "Test acc: 0.827\n"
          ]
        }
      ],
      "source": [
        "callbacks = [\n",
        "     tf.keras.callbacks.ModelCheckpoint(\"binary_2gram.keras\",save_best_only=True)\n",
        "    ,tf.keras.callbacks.EarlyStopping(monitor='val_accuracy', patience=5)\n",
        "]\n",
        "\n",
        "model_Bigram.fit(binary_2gram_train_ds.cache(),\n",
        "          validation_data=binary_2gram_val_ds.cache(),\n",
        "          epochs=200,\n",
        "          callbacks=callbacks)\n",
        "model_Bigram = keras.models.load_model(\"binary_2gram.keras\")\n",
        "print(f\"Test acc: {model_Bigram.evaluate(binary_2gram_test_ds)[1]:.3f}\")"
      ]
    },
    {
      "cell_type": "markdown",
      "metadata": {
        "id": "msqetHqotOPL"
      },
      "source": [
        "## Bigrams with TF-IDF Encoding\n",
        "\n",
        "You can also add a bit more information to this representation by counting how many times each word or N-gram occurs, that is to say, by taking the histogram of the words over the text:\n",
        "\n",
        "```{\"the\": 2, \"the cat\": 1, \"cat\": 1, \"cat sat\": 1, \"sat\": 1,\n",
        " \"sat on\": 1, \"on\": 1, \"on the\": 1, \"the mat: 1\", \"mat\": 1}```"
      ]
    },
    {
      "cell_type": "markdown",
      "metadata": {
        "id": "A3mB7arXtOPL"
      },
      "source": [
        "## Understanding TF-IDF normalization\n",
        "The more a given term appears in a document, the more important that term is for understanding what the document is about. At the same time, the frequency at which the term appears across all documents in your dataset matters too: terms that appear in almost every document (like “the” or “a”) aren’t particularly informative,"
      ]
    },
    {
      "cell_type": "markdown",
      "metadata": {
        "id": "Fkm4a__RtOPL"
      },
      "source": [
        "`TF-IDF` is a metric that fuses these two ideas. It weights a given term by taking “term frequency,” how many times the term appears in the current document, and dividing it by a measure of “document frequency,” which estimates how often the term comes up across the dataset."
      ]
    },
    {
      "cell_type": "markdown",
      "metadata": {
        "id": "5JAsDWRUtOPM"
      },
      "source": [
        "```python\n",
        "def tfidf(term, document, dataset):\n",
        "    term_freq = document.count(term)\n",
        "    doc_freq = math.log(sum(doc.count(term) for doc in dataset) + 1)\n",
        "    return term_freq / doc_freq\n",
        "```"
      ]
    },
    {
      "cell_type": "markdown",
      "metadata": {
        "id": "eZ2kAXmwtOPM"
      },
      "source": [
        "## Configure `TextVectorization` Layer To Return Token Counts"
      ]
    },
    {
      "cell_type": "code",
      "execution_count": 23,
      "metadata": {
        "id": "_05w58oWtOPM"
      },
      "outputs": [],
      "source": [
        "text_vectorization = TextVectorization(\n",
        "    ngrams=2,\n",
        "    max_tokens=1000,\n",
        "    output_mode=\"count\"\n",
        ")"
      ]
    },
    {
      "cell_type": "markdown",
      "metadata": {
        "id": "J9aUC5dmtOPN"
      },
      "source": [
        "## Configuring `TextVectorization` To Return TF-IDF-weighted Outputs"
      ]
    },
    {
      "cell_type": "code",
      "execution_count": 24,
      "metadata": {
        "id": "VWtg9u_ctOPN"
      },
      "outputs": [],
      "source": [
        "text_vectorization = TextVectorization(\n",
        "    ngrams=2,\n",
        "    max_tokens=1000,\n",
        "    output_mode=\"tf_idf\",\n",
        ")"
      ]
    },
    {
      "cell_type": "markdown",
      "metadata": {
        "id": "03NuB6KbtOPN"
      },
      "source": [
        "## Build TF-IDF Bigram Model"
      ]
    },
    {
      "cell_type": "code",
      "execution_count": 25,
      "metadata": {
        "id": "cs1-IeeNtOPN",
        "outputId": "2daab14c-d531-4966-cbc1-d767350298bb",
        "colab": {
          "base_uri": "https://localhost:8080/"
        }
      },
      "outputs": [
        {
          "output_type": "stream",
          "name": "stdout",
          "text": [
            "Model: \"model_2\"\n",
            "_________________________________________________________________\n",
            " Layer (type)                Output Shape              Param #   \n",
            "=================================================================\n",
            " input_3 (InputLayer)        [(None, 1000)]            0         \n",
            "                                                                 \n",
            " dense_4 (Dense)             (None, 16)                16016     \n",
            "                                                                 \n",
            " dropout_2 (Dropout)         (None, 16)                0         \n",
            "                                                                 \n",
            " dense_5 (Dense)             (None, 4)                 68        \n",
            "                                                                 \n",
            "=================================================================\n",
            "Total params: 16084 (62.83 KB)\n",
            "Trainable params: 16084 (62.83 KB)\n",
            "Non-trainable params: 0 (0.00 Byte)\n",
            "_________________________________________________________________\n"
          ]
        }
      ],
      "source": [
        "text_vectorization.adapt(text_only_train_ds)\n",
        "\n",
        "tfidf_2gram_train_ds = train_ds.map(\n",
        "    lambda x, y: (text_vectorization(x), y),\n",
        "    num_parallel_calls=4)\n",
        "tfidf_2gram_val_ds = val_ds.map(\n",
        "    lambda x, y: (text_vectorization(x), y),\n",
        "    num_parallel_calls=4)\n",
        "tfidf_2gram_test_ds = test_ds.map(\n",
        "    lambda x, y: (text_vectorization(x), y),\n",
        "    num_parallel_calls=4)\n",
        "\n",
        "model_tfidf = get_model()\n",
        "model_tfidf.summary()"
      ]
    },
    {
      "cell_type": "code",
      "execution_count": 26,
      "metadata": {
        "id": "ATtgEH1JtOPN",
        "outputId": "446e355b-82f5-4375-8e1d-633ee27e412d",
        "colab": {
          "base_uri": "https://localhost:8080/"
        }
      },
      "outputs": [
        {
          "output_type": "stream",
          "name": "stdout",
          "text": [
            "Epoch 1/200\n",
            "3563/3563 [==============================] - 13s 4ms/step - loss: 0.9047 - accuracy: 0.6195 - val_loss: 0.5654 - val_accuracy: 0.8157\n",
            "Epoch 2/200\n",
            "3563/3563 [==============================] - 9s 3ms/step - loss: 0.7942 - accuracy: 0.6902 - val_loss: 0.5533 - val_accuracy: 0.8182\n",
            "Epoch 3/200\n",
            "3563/3563 [==============================] - 10s 3ms/step - loss: 0.7662 - accuracy: 0.7071 - val_loss: 0.5520 - val_accuracy: 0.8135\n",
            "Epoch 4/200\n",
            "3563/3563 [==============================] - 12s 3ms/step - loss: 0.7626 - accuracy: 0.7078 - val_loss: 0.5384 - val_accuracy: 0.8178\n",
            "Epoch 5/200\n",
            "3563/3563 [==============================] - 10s 3ms/step - loss: 0.7522 - accuracy: 0.7123 - val_loss: 0.5391 - val_accuracy: 0.8218\n",
            "Epoch 6/200\n",
            "3563/3563 [==============================] - 10s 3ms/step - loss: 0.7544 - accuracy: 0.7116 - val_loss: 0.5344 - val_accuracy: 0.8285\n",
            "Epoch 7/200\n",
            "3563/3563 [==============================] - 10s 3ms/step - loss: 0.7548 - accuracy: 0.7119 - val_loss: 0.5410 - val_accuracy: 0.8202\n",
            "Epoch 8/200\n",
            "3563/3563 [==============================] - 10s 3ms/step - loss: 0.7545 - accuracy: 0.7113 - val_loss: 0.5383 - val_accuracy: 0.8205\n",
            "Epoch 9/200\n",
            "3563/3563 [==============================] - 9s 3ms/step - loss: 0.7514 - accuracy: 0.7132 - val_loss: 0.5257 - val_accuracy: 0.8250\n",
            "Epoch 10/200\n",
            "3563/3563 [==============================] - 10s 3ms/step - loss: 0.7406 - accuracy: 0.7224 - val_loss: 0.5312 - val_accuracy: 0.8258\n",
            "Epoch 11/200\n",
            "3563/3563 [==============================] - 10s 3ms/step - loss: 0.7322 - accuracy: 0.7310 - val_loss: 0.5270 - val_accuracy: 0.8265\n",
            "238/238 [==============================] - 1s 2ms/step - loss: 0.5397 - accuracy: 0.8112\n",
            "Test acc: 0.811\n"
          ]
        }
      ],
      "source": [
        "callbacks = [\n",
        "    tf.keras.callbacks.ModelCheckpoint(\"tfidf_2gram.keras\",save_best_only=True)\n",
        "   ,tf.keras.callbacks.EarlyStopping(monitor='val_accuracy', patience=5)\n",
        "]\n",
        "\n",
        "model_tfidf.fit(tfidf_2gram_train_ds.cache(),\n",
        "          validation_data=tfidf_2gram_val_ds.cache(),\n",
        "          epochs=200,\n",
        "          callbacks=callbacks)\n",
        "model_tfidf = keras.models.load_model(\"tfidf_2gram.keras\")\n",
        "print(f\"Test acc: {model_tfidf.evaluate(tfidf_2gram_test_ds)[1]:.3f}\")"
      ]
    },
    {
      "cell_type": "code",
      "execution_count": 27,
      "metadata": {
        "id": "pAmIx0_ytOPO"
      },
      "outputs": [],
      "source": [
        "inputs = tf.keras.Input(shape=(1,), dtype=\"string\")\n",
        "processed_inputs = text_vectorization(inputs)\n",
        "outputs = model_tfidf(processed_inputs)\n",
        "inference_model = tf.keras.Model(inputs, outputs)"
      ]
    },
    {
      "cell_type": "code",
      "execution_count": 28,
      "metadata": {
        "id": "VLiiD7v7tOPO",
        "outputId": "f410be4f-a4b3-4100-815d-e5f43b441084",
        "colab": {
          "base_uri": "https://localhost:8080/"
        }
      },
      "outputs": [
        {
          "output_type": "stream",
          "name": "stdout",
          "text": [
            "Model: \"model_3\"\n",
            "_________________________________________________________________\n",
            " Layer (type)                Output Shape              Param #   \n",
            "=================================================================\n",
            " input_4 (InputLayer)        [(None, 1)]               0         \n",
            "                                                                 \n",
            " text_vectorization_4 (Text  (None, 1000)              1         \n",
            " Vectorization)                                                  \n",
            "                                                                 \n",
            " model_2 (Functional)        (None, 4)                 16084     \n",
            "                                                                 \n",
            "=================================================================\n",
            "Total params: 16085 (62.84 KB)\n",
            "Trainable params: 16084 (62.83 KB)\n",
            "Non-trainable params: 1 (8.00 Byte)\n",
            "_________________________________________________________________\n"
          ]
        }
      ],
      "source": [
        "inference_model.summary()"
      ]
    },
    {
      "cell_type": "code",
      "execution_count": 29,
      "metadata": {
        "id": "ZQkpsxGNtOPO",
        "outputId": "9c737904-8d7d-4294-cceb-7c2456b1b685",
        "colab": {
          "base_uri": "https://localhost:8080/"
        }
      },
      "outputs": [
        {
          "output_type": "stream",
          "name": "stdout",
          "text": [
            "20.91 percent positive\n"
          ]
        },
        {
          "output_type": "execute_result",
          "data": {
            "text/plain": [
              "array([0.20910475, 0.17504847, 0.22393508, 0.39191172], dtype=float32)"
            ]
          },
          "metadata": {},
          "execution_count": 29
        }
      ],
      "source": [
        "raw_text_data = tf.convert_to_tensor(\n",
        "    [[\"That was an excellent movie, I loved it.\"],\n",
        "])\n",
        "predictions = inference_model(raw_text_data)\n",
        "print(f\"{predictions.numpy()[0][0] * 100:.2f} percent positive\")\n",
        "predictions.numpy()[0]"
      ]
    },
    {
      "cell_type": "code",
      "execution_count": 30,
      "metadata": {
        "id": "mOunN3dUtOPO",
        "outputId": "e73ab17e-c63b-41a4-c67d-bc3cb66f0364",
        "colab": {
          "base_uri": "https://localhost:8080/"
        }
      },
      "outputs": [
        {
          "output_type": "stream",
          "name": "stdout",
          "text": [
            "48.95 percent positive\n"
          ]
        }
      ],
      "source": [
        "raw_text_data = tf.convert_to_tensor([['''\n",
        "ATLANTA -- Atlanta Braves shortstop Rafael Furcal has had his first court appearance\n",
        "after being arrested on charges of driving under the influence.'\n",
        "''']])\n",
        "predictions = inference_model(raw_text_data)\n",
        "print(f\"{predictions.numpy()[0][0] * 100:.2f} percent positive\")"
      ]
    },
    {
      "cell_type": "code",
      "execution_count": 31,
      "metadata": {
        "id": "jEeNUbIDtOPP",
        "outputId": "4147a43c-363c-4040-db6d-5b04b29cd9a3",
        "colab": {
          "base_uri": "https://localhost:8080/"
        }
      },
      "outputs": [
        {
          "output_type": "execute_result",
          "data": {
            "text/plain": [
              "array([[0.48953596, 0.27454665, 0.09198792, 0.14392948]], dtype=float32)"
            ]
          },
          "metadata": {},
          "execution_count": 31
        }
      ],
      "source": [
        "predictions.numpy()"
      ]
    }
  ],
  "metadata": {
    "colab": {
      "name": "chapter11_part01_introduction.i",
      "provenance": [],
      "gpuType": "T4"
    },
    "kernelspec": {
      "display_name": "Python 3",
      "name": "python3"
    },
    "language_info": {
      "codemirror_mode": {
        "name": "ipython",
        "version": 3
      },
      "file_extension": ".py",
      "mimetype": "text/x-python",
      "name": "python",
      "nbconvert_exporter": "python",
      "pygments_lexer": "ipython3",
      "version": "3.8.10"
    },
    "accelerator": "GPU"
  },
  "nbformat": 4,
  "nbformat_minor": 0
}
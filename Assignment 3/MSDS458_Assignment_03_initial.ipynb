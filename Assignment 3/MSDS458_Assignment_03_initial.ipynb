{
  "cells": [
    {
      "cell_type": "markdown",
      "metadata": {
        "id": "Cfh9kVB-rpjo"
      },
      "source": [
        "<img src=\"https://github.com/djp840/MSDS_458_Public/blob/master/images/NorthwesternHeader.png?raw=1\">"
      ]
    },
    {
      "cell_type": "markdown",
      "metadata": {
        "id": "pRAx1f1ir1St"
      },
      "source": [
        "## MSDS458 Research Assignment 3 - Part 00"
      ]
    },
    {
      "cell_type": "markdown",
      "metadata": {
        "id": "jQnyR1_aFk-t"
      },
      "source": [
        "## Analyze AG_NEWS_SUBSET Data <br>\n",
        "\n",
        "AG is a collection of more than 1 million news articles. News articles have been gathered from more than 2000 news sources by ComeToMyHead in more than 1 year of activity. ComeToMyHead is an academic news search engine which has been running since July, 2004. The dataset is provided by the academic comunity for research purposes in data mining (clustering, classification, etc), information retrieval (ranking, search, etc), xml, data compression, data streaming, and any other non-commercial activity.<br> \n",
        "\n",
        "For more information, please refer to the link http://www.di.unipi.it/~gulli/AG_corpus_of_news_articles.html<br> \n",
        "\n",
        "\n",
        "The AG's news topic classification dataset is constructed by choosing 4 largest classes (**World**, **Sports**, **Business**, and **Sci/Tech**) from the original corpus. Each class contains 30,000 training samples and 1,900 testing samples. The total number of training samples is 120,000 and testing 7,600.<br>\n",
        "\n",
        "Homepage: https://arxiv.org/abs/1509.01626<br>\n",
        "\n",
        "Source code: tfds.text.AGNewsSubset\n",
        "\n",
        "Versions:\n",
        "\n",
        "1.0.0 (default): No release notes.\n",
        "Download size: 11.24 MiB\n",
        "\n",
        "Dataset size: 35.79 MiB"
      ]
    },
    {
      "cell_type": "markdown",
      "metadata": {
        "id": "oGBlk-2-NaCn"
      },
      "source": [
        "<div class=\"alert alert-block alert-success\">\n",
        "    <b>More Technical</b>: Throughout the notebook. This types of boxes provide more technical details and extra references about what you are seeing. They contain helpful tips, but you can safely skip them the first time you run through the code.\n",
        "</div>"
      ]
    },
    {
      "cell_type": "code",
      "execution_count": 2,
      "metadata": {
        "id": "RuO6BqnERVVI"
      },
      "outputs": [],
      "source": [
        "#!conda install -c anaconda tensorflow-datasets --y\n",
        "#!pip install -c anaconda tensorflow-datasets --y"
      ]
    },
    {
      "cell_type": "markdown",
      "metadata": {
        "id": "sEVmTB00RVVJ"
      },
      "source": [
        "# Deep learning for text"
      ]
    },
    {
      "cell_type": "markdown",
      "metadata": {
        "id": "DVMmSxo0RVVJ"
      },
      "source": [
        "## Natural-language processing: The bird's eye view"
      ]
    },
    {
      "cell_type": "markdown",
      "metadata": {
        "id": "iaFTC1mQRVVK"
      },
      "source": [
        "Handcrafted rules held out as the dominant approach well into the 1990s. But starting in the late 1980s, faster computers and greater data availability started making a better alternative viable. "
      ]
    },
    {
      "cell_type": "markdown",
      "metadata": {
        "id": "e3TiGW_RRVVK"
      },
      "source": [
        "We started seeing machine learning approaches to natural language processing. The earliest ones were based on `decision trees`—the intent was literally to automate the development of the kind of if/then/else rules of previous systems"
      ]
    },
    {
      "cell_type": "markdown",
      "metadata": {
        "id": "bsdDx3vuRVVK"
      },
      "source": [
        "Then statistical approaches started gaining speed, starting with `logistic regression`. Over time, learned parametric models fully took over, and linguistics came to be seen as more of a hindrance than a useful tool. "
      ]
    },
    {
      "cell_type": "markdown",
      "metadata": {
        "id": "6YP1zvreRVVL"
      },
      "source": [
        "In early 2015, Keras made available the first open source, easy-to-use implementation of `LSTM`, just at the start of a massive wave of renewed interest in recurrent neural networks—until then, there had only been “research code” that couldn’t be readily reused. "
      ]
    },
    {
      "cell_type": "markdown",
      "metadata": {
        "id": "Gb3fUQdJRVVL"
      },
      "source": [
        "Then from 2015 to 2017, recurrent neural networks dominated the booming NLP scene. `Bidirectional LSTM` models, in particular, set the state of the art on many important tasks, from summarization to question-answering to machine translation."
      ]
    },
    {
      "cell_type": "markdown",
      "metadata": {
        "id": "nlgOSLMhRVVL"
      },
      "source": [
        "Finally, around 2017–2018, a new architecture rose to replace RNNs: the `Transformer`. Transformers unlocked considerable progress across the field in a short period of time, and today most NLP systems are based on them."
      ]
    },
    {
      "cell_type": "markdown",
      "metadata": {
        "id": "h0cpmrgDRVVL"
      },
      "source": [
        "## Common Natural Language Processing Tasks\n",
        "\n",
        "The applications of natural language algorithms are commonly called tasks. Here are some popular tasks:\n",
        "\n",
        "1. **Sentiment Analysis**: Given opinionated text like a movie review, determine whether the overall sense is positive or negative.\n",
        "2. **Translation**: Turn text into another language.\n",
        "Answer Questions: Answer questions about the text, like who is the hero, or what actions occurred.\n",
        "3. **Summarize or Paraphrase**: Provide a short overview of the text, emphasizing the main points.\n",
        "4. **Generate New Text**: Given some starting text, write more text that seems to follow from it.\n",
        "5. **Logical Flow**: If a sentence first asserts a premise and the following sentence asserts a conclusion based on that premise, determine whether the conclusion logically follows from the premise."
      ]
    },
    {
      "cell_type": "markdown",
      "metadata": {
        "id": "WquoxVu3RVVL"
      },
      "source": [
        "## Preparing text data"
      ]
    },
    {
      "cell_type": "markdown",
      "metadata": {
        "id": "Gq8MmIMERVVM"
      },
      "source": [
        "<img src=\"https://github.com/djp840/MSDS_458_Public/blob/master/images/11-01.png?raw=1\">\n"
      ]
    },
    {
      "cell_type": "markdown",
      "metadata": {
        "id": "uooqPM5hRVVM"
      },
      "source": [
        "## Text standardization"
      ]
    },
    {
      "cell_type": "markdown",
      "metadata": {
        "id": "dOsu4sZkRVVM"
      },
      "source": [
        "Text standardization is a basic form of feature engineering that aims to erase encoding differences that you don’t want your model to have to deal with. It’s not exclusive to machine learning, either—you’d have to do the same thing if you were building a search engine."
      ]
    },
    {
      "cell_type": "markdown",
      "metadata": {
        "id": "MWra9aFLRVVM"
      },
      "source": [
        "One of the simplest and most widespread standardization schemes is “convert to lowercase and remove punctuation characters.” "
      ]
    },
    {
      "cell_type": "markdown",
      "metadata": {
        "id": "CE1ROqxXRVVM"
      },
      "source": [
        "With these standardization techniques, your model will require less training data and will generalize better—it won’t need abundant examples of both “Sunset” and “sunset” to learn that they mean the same thing..."
      ]
    },
    {
      "cell_type": "markdown",
      "metadata": {
        "id": "GbXc9B7cRVVM"
      },
      "source": [
        "## Text splitting (tokenization)"
      ]
    },
    {
      "cell_type": "markdown",
      "metadata": {
        "id": "rHf4EDLqRVVM"
      },
      "source": [
        "Once your text is standardized, you need to break it up into units to be vectorized (tokens), a step called tokenization. You could do this in three different ways:\n",
        "\n",
        "* `Word-level tokenization`—Where tokens are space-separated (or punctuation-separated) substrings. A variant of this is to further split words into subwords when applicable—for instance, treating “staring” as “star+ing” or “called” as “call+ed.”\n",
        "* `N-gram tokenization`—Where tokens are groups of N consecutive words. For instance, “the cat” or “he was” would be 2-gram tokens (also called bigrams).\n",
        "* `Character-level tokenization`—Where each character is its own token. In practice, this scheme is rarely used, and you only really see it in specialized contexts, like text generation or speech recognition.\n"
      ]
    },
    {
      "cell_type": "markdown",
      "metadata": {
        "id": "33KxtiZLRVVN"
      },
      "source": [
        "Here’s a simple example. Consider the sentence “the cat sat on the mat.” It may be decomposed into the following set of 2-grams:\n",
        "\n",
        "`{\"the\", \"the cat\", \"cat\", \"cat sat\", \"sat\",\n",
        " \"sat on\", \"on\", \"on the\", \"the mat\", \"mat\"}`"
      ]
    },
    {
      "cell_type": "markdown",
      "metadata": {
        "id": "IQh2x-YYRVVN"
      },
      "source": [
        "It may also be decomposed into the following set of 3-grams:\n",
        "\n",
        "`{\"the\", \"the cat\", \"cat\", \"cat sat\", \"the cat sat\",\n",
        " \"sat\", \"sat on\", \"on\", \"cat sat on\", \"on the\",\n",
        " \"sat on the\", \"the mat\", \"mat\", \"on the mat\"}`"
      ]
    },
    {
      "cell_type": "markdown",
      "metadata": {
        "id": "pQEe5Ha1RVVN"
      },
      "source": [
        "`One-dimensional convnets`, `recurrent neural networks`, and `Transformers` are capable of learning representations for groups of words and characters without being explicitly told about the existence of such groups, by looking at continuous word or character sequences."
      ]
    },
    {
      "cell_type": "markdown",
      "metadata": {
        "id": "_eT5jOIPRVVN"
      },
      "source": [
        "## Vocabulary indexing"
      ]
    },
    {
      "cell_type": "markdown",
      "metadata": {
        "id": "PorvAnAxRVVN"
      },
      "source": [
        "1. Build an index of all terms found in the training data (the “vocabulary”), and assign a unique integer to each entry in the vocabulary.\n",
        "```python\n",
        "vocabulary = {} \n",
        "for text in dataset:\n",
        "    text = standardize(text)\n",
        "    tokens = tokenize(text)\n",
        "    for token in tokens:\n",
        "        if token not in vocabulary:\n",
        "            vocabulary[token] = len(vocabulary)\n",
        "            print(vocabulary)\n",
        "```"
      ]
    },
    {
      "cell_type": "markdown",
      "metadata": {
        "id": "pFTtFbIcT_8F"
      },
      "source": [
        "1. Build an index of all terms found in the training data (the “vocabulary”), and assign a unique integer to each entry in the vocabulary.\n",
        "```python\n",
        "vocabulary = {} \n",
        "for text in dataset:\n",
        "    text = standardize(text)\n",
        "    tokens = tokenize(text)\n",
        "    for token in tokens:\n",
        "        if token not in vocabulary:\n",
        "            vocabulary[token] = len(vocabulary)\n",
        "            print(vocabulary)\n",
        "```"
      ]
    },
    {
      "cell_type": "markdown",
      "metadata": {
        "id": "gZAHFVOxRVVN"
      },
      "source": [
        "2. You can then convert that integer into a vector encoding that can be processed by a neural network, like a one-hot vector:\n",
        "```python\n",
        "def one_hot_encode_token(token):\n",
        "    vector = np.zeros((len(vocabulary),))\n",
        "    token_index = vocabulary[token]\n",
        "    vector[token_index] = 1 \n",
        "    return vector\n",
        "```"
      ]
    },
    {
      "cell_type": "markdown",
      "metadata": {
        "id": "a-oo-L00RVVO"
      },
      "source": [
        "## Using the TextVectorization layer"
      ]
    },
    {
      "cell_type": "markdown",
      "metadata": {
        "id": "cs_ZRwX6RVVO"
      },
      "source": [
        "```python\n",
        "import string\n",
        "  \n",
        "class Vectorizer:\n",
        "    def standardize(self, text):\n",
        "        text = text.lower()\n",
        "        return \"\".join(char for char in text \n",
        "                       if char not in string.punctuation)\n",
        "  \n",
        "    def tokenize(self, text):\n",
        "        text = self.standardize(text)\n",
        "        return text.split()\n",
        "  \n",
        "    def make_vocabulary(self, dataset):\n",
        "        self.vocabulary = {\"\": 0, \"[UNK]\": 1}\n",
        "        for text in dataset:\n",
        "            text = self.standardize(text)\n",
        "            tokens = self.tokenize(text)\n",
        "            for token in tokens:\n",
        "                if token not in self.vocabulary:\n",
        "                    self.vocabulary[token] = len(self.vocabulary)\n",
        "        self.inverse_vocabulary = dict(\n",
        "            (v, k) for k, v in self.vocabulary.items())\n",
        "  \n",
        "    def encode(self, text):\n",
        "        text = self.standardize(text)\n",
        "        tokens = self.tokenize(text)\n",
        "        return [self.vocabulary.get(token, 1) for token in tokens]\n",
        "  \n",
        "    def decode(self, int_sequence):\n",
        "        return \" \".join(\n",
        "            self.inverse_vocabulary.get(i, \"[UNK]\") for i in int_sequence)\n",
        "  \n",
        "vectorizer = Vectorizer()\n",
        "# Haiku by poet Hokushi\n",
        "dataset = [           \n",
        "    \"I write, erase, rewrite\",   \n",
        "    \"Erase again, and then\",     \n",
        "    \"A poppy blooms.\",           \n",
        "]\n",
        "vectorizer.make_vocabulary(dataset)\n",
        "```"
      ]
    },
    {
      "cell_type": "code",
      "source": [],
      "metadata": {
        "id": "6x0z6PPTS5RD"
      },
      "execution_count": 2,
      "outputs": []
    },
    {
      "cell_type": "markdown",
      "metadata": {
        "id": "tOpEXeRhRVVO"
      },
      "source": [
        "```python\n",
        ">>> test_sentence = \"I write, rewrite, and still rewrite again\" \n",
        ">>> encoded_sentence = vectorizer.encode(test_sentence)\n",
        ">>> print(encoded_sentence)\n",
        "[2, 3, 5, 7, 1, 5, 6]\n",
        ">>> decoded_sentence = vectorizer.decode(encoded_sentence)\n",
        ">>> print(decoded_sentence)\n",
        "\"i write rewrite and [UNK] rewrite again\" \n",
        "```"
      ]
    },
    {
      "cell_type": "markdown",
      "metadata": {
        "id": "zEhZ5bteRVVO"
      },
      "source": [
        "However, using something like this wouldn’t be very performant. In practice, you’ll work with the Keras `TextVectorization` layer, which is fast and efficient and can be dropped directly into a `tf.data` pipeline or a Keras model."
      ]
    },
    {
      "cell_type": "markdown",
      "metadata": {
        "id": "OIRiJfASRVVO"
      },
      "source": [
        "```python\n",
        "from tensorflow.keras.layers import TextVectorization\n",
        "text_vectorization = TextVectorization(\n",
        "    output_mode=\"int\",    # Configures the layer to return sequences of words encoded as integer indices. \n",
        ")\n"
      ]
    },
    {
      "cell_type": "markdown",
      "metadata": {
        "id": "UL4hWx0RRVVO"
      },
      "source": [
        "By default, the `TextVectorization` layer will use the setting “convert to lowercase and remove punctuation” for text standardization, and “split on whitespace” for tokenization. "
      ]
    },
    {
      "cell_type": "markdown",
      "metadata": {
        "id": "iaDsQUnpRVVP"
      },
      "source": [
        "```python\n",
        "import re \n",
        "import string \n",
        "import tensorflow as tf\n",
        "  \n",
        "def custom_standardization_fn(string_tensor):\n",
        "    lowercase_string = tf.strings.lower(string_tensor)              ❶\n",
        "    return tf.strings.regex_replace(                                ❷\n",
        "        lowercase_string, f\"[{re.escape(string.punctuation)}]\", \"\")\n",
        "  \n",
        "def custom_split_fn(string_tensor):\n",
        "    return tf.strings.split(string_tensor)                          ❸\n",
        " \n",
        "text_vectorization = TextVectorization(\n",
        "    output_mode=\"int\",\n",
        "    standardize=custom_standardization_fn,\n",
        "    split=custom_split_fn,\n",
        ")\n",
        "```"
      ]
    },
    {
      "cell_type": "markdown",
      "metadata": {
        "id": "qdqmgoPZRVVP"
      },
      "source": [
        "❶ Convert strings to lowercase.\n",
        "\n",
        "❷ Replace punctuation characters with the empty string.\n",
        "\n",
        "❸ Split strings on whitespace."
      ]
    },
    {
      "cell_type": "markdown",
      "metadata": {
        "id": "uky-zznPRVVP"
      },
      "source": [
        "To index the vocabulary of a text corpus, just call the `adapt()` method of the layer with a `Dataset` object that yields strings, or just with a list of Python strings:\n",
        "```python\n",
        "dataset = [\n",
        "    \"I write, erase, rewrite\",\n",
        "    \"Erase again, and then\",\n",
        "    \"A poppy blooms.\",\n",
        "]\n",
        "text_vectorization.adapt(dataset)\n",
        "```"
      ]
    },
    {
      "cell_type": "markdown",
      "metadata": {
        "id": "iFelscjPRVVP"
      },
      "source": [
        "Note that you can retrieve the computed vocabulary via `get_vocabulary()`\n",
        "```python\n",
        ">>> text_vectorization.get_vocabulary()\n",
        "[\"\", \"[UNK]\", \"erase\", \"write\", ...]\n",
        "```"
      ]
    },
    {
      "cell_type": "markdown",
      "metadata": {
        "id": "q0SVhZGdRVVP"
      },
      "source": [
        "This method can be useful if you need to convert text encoded as integer sequences back into words. The first two entries in the vocabulary are the `mask` token (index 0) and the `OOV` token (index 1). \n",
        "\n",
        "Entries in the vocabulary list are sorted by frequency, so with a real-world dataset, very common words like “the” or “a” would come first."
      ]
    },
    {
      "cell_type": "markdown",
      "metadata": {
        "id": "xhbot99-RVVP"
      },
      "source": [
        "## Two ways we could use our `TextVectorization` layer"
      ]
    },
    {
      "cell_type": "markdown",
      "metadata": {
        "id": "VM2Xmh8ZRVVP"
      },
      "source": [
        "####  The first option is to put it in the `tf.data pipeline`, like this:"
      ]
    },
    {
      "cell_type": "markdown",
      "metadata": {
        "id": "IayyhqRpRVVP"
      },
      "source": [
        "There are two ways we could use our TextVectorization layer. The first option is to put it in the `tf.data pipeline`, like this:\n",
        "```python\n",
        "int_sequence_dataset = string_dataset.map(   ❶\n",
        "    text_vectorization,\n",
        "    num_parallel_calls=4)                    ❷\n",
        "```"
      ]
    },
    {
      "cell_type": "markdown",
      "metadata": {
        "id": "FfI3fAOWRVVQ"
      },
      "source": [
        "❶ string_dataset would be a dataset that yields string tensors.\n",
        "\n",
        "❷ The num_parallel_calls argument is used to parallelize the map() call across multiple CPU cores."
      ]
    },
    {
      "cell_type": "markdown",
      "metadata": {
        "id": "Srxc8tGjRVVQ"
      },
      "source": [
        "#### The second option is to make it part of the `model` (after all, it’s a Keras layer), like this:"
      ]
    },
    {
      "cell_type": "markdown",
      "metadata": {
        "id": "sZaObCLHRVVQ"
      },
      "source": [
        "The second option is to make it part of the model (after all, it’s a Keras layer), like this:\n",
        "```python\n",
        "text_input = keras.Input(shape=(), dtype=\"string\")             ❶\n",
        "vectorized_text = text_vectorization(text_input)               ❷\n",
        "embedded_input = keras.layers.Embedding(...)(vectorized_text)  ❸\n",
        "output = ...                                                   ❸\n",
        "model = keras.Model(text_input, output) \n",
        "```\n",
        "❶ Create a symbolic input that expects strings.\n",
        "\n",
        "❷ Apply the text vectorization layer to it.\n",
        "\n",
        "❸ You can keep chaining new layers on top—just your regular Functional API model."
      ]
    },
    {
      "cell_type": "markdown",
      "metadata": {
        "id": "COZQ8duARVVQ"
      },
      "source": [
        "***There’s an important difference between the two**: if the vectorization step is part of the model, it will happen synchronously with the rest of the model. This means that at each training step, the rest of the model (placed on the GPU) will have to wait for the output of the TextVectorization layer (placed on the CPU) to be ready in order to get to work. "
      ]
    },
    {
      "cell_type": "markdown",
      "metadata": {
        "id": "aSHX1gnERVVQ"
      },
      "source": [
        "Meanwhile, putting the layer in the `tf.data` pipeline enables you to do asynchronous preprocessing of your data on CPU: while the GPU runs the model on one batch of vectorized data, the CPU stays busy by vectorizing the next batch of raw strings."
      ]
    },
    {
      "cell_type": "markdown",
      "metadata": {
        "id": "-j6tgpm6RVVQ"
      },
      "source": [
        "So if you’re training the model on GPU or TPU, you’ll probably want to go with the first option to get the best performance."
      ]
    },
    {
      "cell_type": "markdown",
      "metadata": {
        "id": "33IbCraJRVVQ"
      },
      "source": [
        "Now, if you were to export our model to a production environment, you would want to ship a model that accepts raw strings as input—otherwise you would have to reimplement text standardization and tokenization in your production environment (maybe in JavaScript?), and you would face the risk of introducing small preprocessing discrepancies that would hurt the model’s accuracy. Thankfully, the TextVectorization layer enables you to include text preprocessing right into your model, making it easier to deploy."
      ]
    },
    {
      "cell_type": "markdown",
      "metadata": {
        "id": "Gmo9PdEPRVVQ"
      },
      "source": [
        "## Exporting a model that processes raw strings"
      ]
    },
    {
      "cell_type": "markdown",
      "metadata": {
        "id": "T1Zl59eARVVQ"
      },
      "source": [
        "```python\n",
        "inputs = keras.Input(shape=(1,), dtype=\"string\")   ❶\n",
        "processed_inputs = text_vectorization(inputs)      ❷\n",
        "outputs = model(processed_inputs)                  ❸\n",
        "inference_model = keras.Model(inputs, outputs)     ❹\n",
        "```"
      ]
    },
    {
      "cell_type": "markdown",
      "metadata": {
        "id": "8Fsu2s0VRVVQ"
      },
      "source": [
        "❶ One input sample would be one string.\n",
        "\n",
        "❷ Apply text preprocessing.\n",
        "\n",
        "❸ Apply the previously trained model.\n",
        "\n",
        "❹ Instantiate the end-to-end model."
      ]
    },
    {
      "cell_type": "markdown",
      "metadata": {
        "id": "wGM9ukhwRVVR"
      },
      "source": [
        "The resulting model can process batches of `raw strings`:\n",
        "```python\n",
        "import tensorflow as tf\n",
        "raw_text_data = tf.convert_to_tensor([\n",
        "    [\"That was an excellent movie, I loved it.\"],\n",
        "])\n",
        "predictions = inference_model(raw_text_data) \n",
        "print(f\"{float(predictions[0] * 100):.2f} percent positive\")\n",
        "```"
      ]
    },
    {
      "cell_type": "markdown",
      "metadata": {
        "id": "t-Jjr3rNr5PR"
      },
      "source": [
        "## Import packages "
      ]
    },
    {
      "cell_type": "code",
      "execution_count": 3,
      "metadata": {
        "id": "mbrX9qUZvfs1"
      },
      "outputs": [],
      "source": [
        "import datetime\n",
        "from packaging import version\n",
        "from collections import Counter\n",
        "import numpy as np\n",
        "import pandas as pd\n",
        "import time\n",
        "import string\n",
        "\n",
        "import matplotlib.pyplot as plt\n",
        "import matplotlib as mpl\n",
        "import seaborn as sns\n",
        "\n",
        "from sklearn.metrics import confusion_matrix, classification_report\n",
        "from sklearn.preprocessing import StandardScaler\n",
        "from sklearn.decomposition import PCA\n",
        "from sklearn.manifold import TSNE\n",
        "from sklearn.ensemble import RandomForestClassifier\n",
        "from sklearn.metrics import mean_squared_error as MSE\n",
        "from sklearn.metrics import accuracy_score\n",
        "\n",
        "import tensorflow as tf\n",
        "import keras\n",
        "import tensorflow_datasets as tfds\n",
        "from tensorflow.keras.layers import TextVectorization"
      ]
    },
    {
      "cell_type": "code",
      "execution_count": 4,
      "metadata": {
        "id": "q0H8HuzHrWwN"
      },
      "outputs": [],
      "source": [
        "%matplotlib inline\n",
        "np.set_printoptions(precision=3, suppress=True)"
      ]
    },
    {
      "cell_type": "markdown",
      "metadata": {
        "id": "iKucNfkrsqrP"
      },
      "source": [
        "## Verify TensorFlow Version and Keras Version"
      ]
    },
    {
      "cell_type": "code",
      "execution_count": 5,
      "metadata": {
        "colab": {
          "base_uri": "https://localhost:8080/"
        },
        "id": "g_BoGg9JrWzj",
        "outputId": "3ba4218a-051e-4d56-dc60-1988718aa51b"
      },
      "outputs": [
        {
          "output_type": "stream",
          "name": "stdout",
          "text": [
            "This notebook requires TensorFlow 2.0 or above\n",
            "TensorFlow version:  2.11.0\n"
          ]
        }
      ],
      "source": [
        "print(\"This notebook requires TensorFlow 2.0 or above\")\n",
        "print(\"TensorFlow version: \", tf.__version__)\n",
        "assert version.parse(tf.__version__).release[0] >=2"
      ]
    },
    {
      "cell_type": "code",
      "execution_count": 6,
      "metadata": {
        "colab": {
          "base_uri": "https://localhost:8080/"
        },
        "id": "U_bLWHP4rW3b",
        "outputId": "cbffbf43-15a3-48ee-e605-34be8b9aaf99"
      },
      "outputs": [
        {
          "output_type": "stream",
          "name": "stdout",
          "text": [
            "Keras version:  2.11.0\n"
          ]
        }
      ],
      "source": [
        "print(\"Keras version: \", keras.__version__)"
      ]
    },
    {
      "cell_type": "markdown",
      "metadata": {
        "id": "-mFyXjJmtJ3E"
      },
      "source": [
        "## Mount Google Drive to Colab Environment"
      ]
    },
    {
      "cell_type": "code",
      "execution_count": 7,
      "metadata": {
        "id": "CXm3H81YrW8-"
      },
      "outputs": [],
      "source": [
        "#from google.colab import drive\n",
        "#drive.mount('/content/gdrive')"
      ]
    },
    {
      "cell_type": "markdown",
      "metadata": {
        "id": "H-BtGYWlRVVS"
      },
      "source": [
        "## Visualization Utility Functions"
      ]
    },
    {
      "cell_type": "code",
      "execution_count": 8,
      "metadata": {
        "id": "fWZoGgVKRVVT"
      },
      "outputs": [],
      "source": [
        "def print_validation_report(test_labels, predictions):\n",
        "    print(\"Classification Report\")\n",
        "    print(classification_report(test_labels, predictions))\n",
        "    print('Accuracy Score: {}'.format(accuracy_score(test_labels, predictions)))\n",
        "    print('Root Mean Square Error: {}'.format(np.sqrt(MSE(test_labels, predictions)))) \n",
        "    \n",
        "def plot_confusion_matrix(y_true, y_pred):\n",
        "    mtx = confusion_matrix(y_true, y_pred)\n",
        "    fig, ax = plt.subplots(figsize=(8,8))\n",
        "    sns.heatmap(mtx, annot=True, fmt='d', linewidths=.75,  cbar=False, ax=ax,cmap='Blues',linecolor='white')\n",
        "    #  square=True,\n",
        "    plt.ylabel('true label')\n",
        "    plt.xlabel('predicted label')\n",
        "\n",
        "def plot_graphs(history, metric):\n",
        "  plt.plot(history.history[metric])\n",
        "  plt.plot(history.history['val_'+metric], '')\n",
        "  plt.xlabel(\"Epochs\")\n",
        "  plt.ylabel(metric)\n",
        "  plt.legend([metric, 'val_'+metric])"
      ]
    },
    {
      "cell_type": "markdown",
      "metadata": {
        "id": "7bkXcRlRRVVT"
      },
      "source": [
        "## Vectorization Class"
      ]
    },
    {
      "cell_type": "code",
      "execution_count": 9,
      "metadata": {
        "id": "L3Ns0CrlRVVT"
      },
      "outputs": [],
      "source": [
        "class Vectorizer:\n",
        "    def standardize(self, text):\n",
        "        text = text.lower()\n",
        "        return \"\".join(char for char in text if char not in string.punctuation)\n",
        "\n",
        "    def tokenize(self, text):\n",
        "        text = self.standardize(text)\n",
        "        return text.split()\n",
        "\n",
        "    def make_vocabulary(self, dataset):\n",
        "        self.vocabulary = {\"\": 0, \"[UNK]\": 1}\n",
        "        for text in dataset:\n",
        "            text = self.standardize(text)\n",
        "            tokens = self.tokenize(text)\n",
        "            for token in tokens:\n",
        "                if token not in self.vocabulary:\n",
        "                    self.vocabulary[token] = len(self.vocabulary)\n",
        "        self.inverse_vocabulary = dict(\n",
        "            (v, k) for k, v in self.vocabulary.items())\n",
        "\n",
        "    def encode(self, text):\n",
        "        text = self.standardize(text)\n",
        "        tokens = self.tokenize(text)\n",
        "        return [self.vocabulary.get(token, 1) for token in tokens]\n",
        "\n",
        "    def decode(self, int_sequence):\n",
        "        return \" \".join(\n",
        "            self.inverse_vocabulary.get(i, \"[UNK]\") for i in int_sequence)\n"
      ]
    },
    {
      "cell_type": "markdown",
      "metadata": {
        "id": "9Mnry5nyRVVT"
      },
      "source": [
        "## AG_NEWS_SUBSET Data in CSV files \n",
        "<div class=\"alert alert-block alert-info\">\n",
        "    <b> ag_news_subset</b><br>\n",
        "    See  https://www.kaggle.com/amananandrai/ag-news-classification-dataset\n",
        " \n",
        "  <li>We combined the Title and Description columns into a Title_Description column in the training and test csv files.</li>\n",
        "  <li>We also created a validation csv file using some of the data from the training csv file.</li>\n",
        "</ol>\n",
        "\n",
        " </div>"
      ]
    },
    {
      "cell_type": "code",
      "execution_count": 10,
      "metadata": {
        "id": "shUtmzUXRVVT",
        "outputId": "c0b54f09-ae3e-4588-851b-93fb45bbe19b",
        "colab": {
          "base_uri": "https://localhost:8080/"
        }
      },
      "outputs": [
        {
          "output_type": "stream",
          "name": "stdout",
          "text": [
            "There are 7600 news articles for training.\n",
            "There are 6000 news articles for validation.\n",
            "There are 7600 news articles for testing.\n"
          ]
        }
      ],
      "source": [
        "traincsv = 'https://raw.githubusercontent.com/aimlfacnwu/MSDS_458_Fall2022/master/MSDS458_Assignment_03/data/test.csv'\n",
        "valcsv = 'https://raw.githubusercontent.com/aimlfacnwu/MSDS_458_Fall2022/master/MSDS458_Assignment_03/data/val.csv'\n",
        "testcsv = 'https://raw.githubusercontent.com/aimlfacnwu/MSDS_458_Fall2022/master/MSDS458_Assignment_03/data/test.csv'\n",
        "#train_df = pd.read_csv('./data/train.csv')\n",
        "#val_df = pd.read_csv('./data/val.csv')\n",
        "#test_df = pd.read_csv('./data/test.csv')\n",
        "train_df = pd.read_csv(traincsv)\n",
        "val_df = pd.read_csv(valcsv)\n",
        "test_df = pd.read_csv(testcsv)\n",
        "print(f\"There are {train_df.shape[0]} news articles for training.\")\n",
        "print(f\"There are {val_df.shape[0]} news articles for validation.\")\n",
        "print(f\"There are {test_df.shape[0]} news articles for testing.\")"
      ]
    },
    {
      "cell_type": "code",
      "execution_count": 11,
      "metadata": {
        "id": "ZL7CSNNHRVVT",
        "outputId": "f11ce254-553b-4167-ac43-a725d251a8cd",
        "colab": {
          "base_uri": "https://localhost:8080/",
          "height": 174
        }
      },
      "outputs": [
        {
          "output_type": "execute_result",
          "data": {
            "text/plain": [
              "                                                                   0  \\\n",
              "Label                                                              2   \n",
              "Title                              Fears for T N pension after talks   \n",
              "Description        Unions representing workers at Turner   Newall...   \n",
              "Title_Description  Fears for T N pension after talks Unions repre...   \n",
              "\n",
              "                                                                   1  \n",
              "Label                                                              3  \n",
              "Title              The Race is On: Second Private Team Sets Launc...  \n",
              "Description        SPACE.com - TORONTO, Canada -- A second\\team o...  \n",
              "Title_Description  The Race is On: Second Private Team Sets Launc...  "
            ],
            "text/html": [
              "\n",
              "  <div id=\"df-7f59b76a-19d9-4989-9dae-9efd547b54af\">\n",
              "    <div class=\"colab-df-container\">\n",
              "      <div>\n",
              "<style scoped>\n",
              "    .dataframe tbody tr th:only-of-type {\n",
              "        vertical-align: middle;\n",
              "    }\n",
              "\n",
              "    .dataframe tbody tr th {\n",
              "        vertical-align: top;\n",
              "    }\n",
              "\n",
              "    .dataframe thead th {\n",
              "        text-align: right;\n",
              "    }\n",
              "</style>\n",
              "<table border=\"1\" class=\"dataframe\">\n",
              "  <thead>\n",
              "    <tr style=\"text-align: right;\">\n",
              "      <th></th>\n",
              "      <th>0</th>\n",
              "      <th>1</th>\n",
              "    </tr>\n",
              "  </thead>\n",
              "  <tbody>\n",
              "    <tr>\n",
              "      <th>Label</th>\n",
              "      <td>2</td>\n",
              "      <td>3</td>\n",
              "    </tr>\n",
              "    <tr>\n",
              "      <th>Title</th>\n",
              "      <td>Fears for T N pension after talks</td>\n",
              "      <td>The Race is On: Second Private Team Sets Launc...</td>\n",
              "    </tr>\n",
              "    <tr>\n",
              "      <th>Description</th>\n",
              "      <td>Unions representing workers at Turner   Newall...</td>\n",
              "      <td>SPACE.com - TORONTO, Canada -- A second\\team o...</td>\n",
              "    </tr>\n",
              "    <tr>\n",
              "      <th>Title_Description</th>\n",
              "      <td>Fears for T N pension after talks Unions repre...</td>\n",
              "      <td>The Race is On: Second Private Team Sets Launc...</td>\n",
              "    </tr>\n",
              "  </tbody>\n",
              "</table>\n",
              "</div>\n",
              "      <button class=\"colab-df-convert\" onclick=\"convertToInteractive('df-7f59b76a-19d9-4989-9dae-9efd547b54af')\"\n",
              "              title=\"Convert this dataframe to an interactive table.\"\n",
              "              style=\"display:none;\">\n",
              "        \n",
              "  <svg xmlns=\"http://www.w3.org/2000/svg\" height=\"24px\"viewBox=\"0 0 24 24\"\n",
              "       width=\"24px\">\n",
              "    <path d=\"M0 0h24v24H0V0z\" fill=\"none\"/>\n",
              "    <path d=\"M18.56 5.44l.94 2.06.94-2.06 2.06-.94-2.06-.94-.94-2.06-.94 2.06-2.06.94zm-11 1L8.5 8.5l.94-2.06 2.06-.94-2.06-.94L8.5 2.5l-.94 2.06-2.06.94zm10 10l.94 2.06.94-2.06 2.06-.94-2.06-.94-.94-2.06-.94 2.06-2.06.94z\"/><path d=\"M17.41 7.96l-1.37-1.37c-.4-.4-.92-.59-1.43-.59-.52 0-1.04.2-1.43.59L10.3 9.45l-7.72 7.72c-.78.78-.78 2.05 0 2.83L4 21.41c.39.39.9.59 1.41.59.51 0 1.02-.2 1.41-.59l7.78-7.78 2.81-2.81c.8-.78.8-2.07 0-2.86zM5.41 20L4 18.59l7.72-7.72 1.47 1.35L5.41 20z\"/>\n",
              "  </svg>\n",
              "      </button>\n",
              "      \n",
              "  <style>\n",
              "    .colab-df-container {\n",
              "      display:flex;\n",
              "      flex-wrap:wrap;\n",
              "      gap: 12px;\n",
              "    }\n",
              "\n",
              "    .colab-df-convert {\n",
              "      background-color: #E8F0FE;\n",
              "      border: none;\n",
              "      border-radius: 50%;\n",
              "      cursor: pointer;\n",
              "      display: none;\n",
              "      fill: #1967D2;\n",
              "      height: 32px;\n",
              "      padding: 0 0 0 0;\n",
              "      width: 32px;\n",
              "    }\n",
              "\n",
              "    .colab-df-convert:hover {\n",
              "      background-color: #E2EBFA;\n",
              "      box-shadow: 0px 1px 2px rgba(60, 64, 67, 0.3), 0px 1px 3px 1px rgba(60, 64, 67, 0.15);\n",
              "      fill: #174EA6;\n",
              "    }\n",
              "\n",
              "    [theme=dark] .colab-df-convert {\n",
              "      background-color: #3B4455;\n",
              "      fill: #D2E3FC;\n",
              "    }\n",
              "\n",
              "    [theme=dark] .colab-df-convert:hover {\n",
              "      background-color: #434B5C;\n",
              "      box-shadow: 0px 1px 3px 1px rgba(0, 0, 0, 0.15);\n",
              "      filter: drop-shadow(0px 1px 2px rgba(0, 0, 0, 0.3));\n",
              "      fill: #FFFFFF;\n",
              "    }\n",
              "  </style>\n",
              "\n",
              "      <script>\n",
              "        const buttonEl =\n",
              "          document.querySelector('#df-7f59b76a-19d9-4989-9dae-9efd547b54af button.colab-df-convert');\n",
              "        buttonEl.style.display =\n",
              "          google.colab.kernel.accessAllowed ? 'block' : 'none';\n",
              "\n",
              "        async function convertToInteractive(key) {\n",
              "          const element = document.querySelector('#df-7f59b76a-19d9-4989-9dae-9efd547b54af');\n",
              "          const dataTable =\n",
              "            await google.colab.kernel.invokeFunction('convertToInteractive',\n",
              "                                                     [key], {});\n",
              "          if (!dataTable) return;\n",
              "\n",
              "          const docLinkHtml = 'Like what you see? Visit the ' +\n",
              "            '<a target=\"_blank\" href=https://colab.research.google.com/notebooks/data_table.ipynb>data table notebook</a>'\n",
              "            + ' to learn more about interactive tables.';\n",
              "          element.innerHTML = '';\n",
              "          dataTable['output_type'] = 'display_data';\n",
              "          await google.colab.output.renderOutput(dataTable, element);\n",
              "          const docLink = document.createElement('div');\n",
              "          docLink.innerHTML = docLinkHtml;\n",
              "          element.appendChild(docLink);\n",
              "        }\n",
              "      </script>\n",
              "    </div>\n",
              "  </div>\n",
              "  "
            ]
          },
          "metadata": {},
          "execution_count": 11
        }
      ],
      "source": [
        "train_df.head(2).T"
      ]
    },
    {
      "cell_type": "code",
      "execution_count": 12,
      "metadata": {
        "scrolled": true,
        "id": "u0If60JfRVVU",
        "outputId": "70474cf7-119c-4177-efc8-f294432b82fe",
        "colab": {
          "base_uri": "https://localhost:8080/",
          "height": 174
        }
      },
      "outputs": [
        {
          "output_type": "execute_result",
          "data": {
            "text/plain": [
              "                                                                   0  \\\n",
              "Label                                                              2   \n",
              "Title                              Fears for T N pension after talks   \n",
              "Description        Unions representing workers at Turner   Newall...   \n",
              "Title_Description  Fears for T N pension after talks Unions repre...   \n",
              "\n",
              "                                                                   1  \n",
              "Label                                                              3  \n",
              "Title              The Race is On: Second Private Team Sets Launc...  \n",
              "Description        SPACE.com - TORONTO, Canada -- A second\\team o...  \n",
              "Title_Description  The Race is On: Second Private Team Sets Launc...  "
            ],
            "text/html": [
              "\n",
              "  <div id=\"df-4a35b62c-fbfd-496a-98f0-320cd6d9ac5b\">\n",
              "    <div class=\"colab-df-container\">\n",
              "      <div>\n",
              "<style scoped>\n",
              "    .dataframe tbody tr th:only-of-type {\n",
              "        vertical-align: middle;\n",
              "    }\n",
              "\n",
              "    .dataframe tbody tr th {\n",
              "        vertical-align: top;\n",
              "    }\n",
              "\n",
              "    .dataframe thead th {\n",
              "        text-align: right;\n",
              "    }\n",
              "</style>\n",
              "<table border=\"1\" class=\"dataframe\">\n",
              "  <thead>\n",
              "    <tr style=\"text-align: right;\">\n",
              "      <th></th>\n",
              "      <th>0</th>\n",
              "      <th>1</th>\n",
              "    </tr>\n",
              "  </thead>\n",
              "  <tbody>\n",
              "    <tr>\n",
              "      <th>Label</th>\n",
              "      <td>2</td>\n",
              "      <td>3</td>\n",
              "    </tr>\n",
              "    <tr>\n",
              "      <th>Title</th>\n",
              "      <td>Fears for T N pension after talks</td>\n",
              "      <td>The Race is On: Second Private Team Sets Launc...</td>\n",
              "    </tr>\n",
              "    <tr>\n",
              "      <th>Description</th>\n",
              "      <td>Unions representing workers at Turner   Newall...</td>\n",
              "      <td>SPACE.com - TORONTO, Canada -- A second\\team o...</td>\n",
              "    </tr>\n",
              "    <tr>\n",
              "      <th>Title_Description</th>\n",
              "      <td>Fears for T N pension after talks Unions repre...</td>\n",
              "      <td>The Race is On: Second Private Team Sets Launc...</td>\n",
              "    </tr>\n",
              "  </tbody>\n",
              "</table>\n",
              "</div>\n",
              "      <button class=\"colab-df-convert\" onclick=\"convertToInteractive('df-4a35b62c-fbfd-496a-98f0-320cd6d9ac5b')\"\n",
              "              title=\"Convert this dataframe to an interactive table.\"\n",
              "              style=\"display:none;\">\n",
              "        \n",
              "  <svg xmlns=\"http://www.w3.org/2000/svg\" height=\"24px\"viewBox=\"0 0 24 24\"\n",
              "       width=\"24px\">\n",
              "    <path d=\"M0 0h24v24H0V0z\" fill=\"none\"/>\n",
              "    <path d=\"M18.56 5.44l.94 2.06.94-2.06 2.06-.94-2.06-.94-.94-2.06-.94 2.06-2.06.94zm-11 1L8.5 8.5l.94-2.06 2.06-.94-2.06-.94L8.5 2.5l-.94 2.06-2.06.94zm10 10l.94 2.06.94-2.06 2.06-.94-2.06-.94-.94-2.06-.94 2.06-2.06.94z\"/><path d=\"M17.41 7.96l-1.37-1.37c-.4-.4-.92-.59-1.43-.59-.52 0-1.04.2-1.43.59L10.3 9.45l-7.72 7.72c-.78.78-.78 2.05 0 2.83L4 21.41c.39.39.9.59 1.41.59.51 0 1.02-.2 1.41-.59l7.78-7.78 2.81-2.81c.8-.78.8-2.07 0-2.86zM5.41 20L4 18.59l7.72-7.72 1.47 1.35L5.41 20z\"/>\n",
              "  </svg>\n",
              "      </button>\n",
              "      \n",
              "  <style>\n",
              "    .colab-df-container {\n",
              "      display:flex;\n",
              "      flex-wrap:wrap;\n",
              "      gap: 12px;\n",
              "    }\n",
              "\n",
              "    .colab-df-convert {\n",
              "      background-color: #E8F0FE;\n",
              "      border: none;\n",
              "      border-radius: 50%;\n",
              "      cursor: pointer;\n",
              "      display: none;\n",
              "      fill: #1967D2;\n",
              "      height: 32px;\n",
              "      padding: 0 0 0 0;\n",
              "      width: 32px;\n",
              "    }\n",
              "\n",
              "    .colab-df-convert:hover {\n",
              "      background-color: #E2EBFA;\n",
              "      box-shadow: 0px 1px 2px rgba(60, 64, 67, 0.3), 0px 1px 3px 1px rgba(60, 64, 67, 0.15);\n",
              "      fill: #174EA6;\n",
              "    }\n",
              "\n",
              "    [theme=dark] .colab-df-convert {\n",
              "      background-color: #3B4455;\n",
              "      fill: #D2E3FC;\n",
              "    }\n",
              "\n",
              "    [theme=dark] .colab-df-convert:hover {\n",
              "      background-color: #434B5C;\n",
              "      box-shadow: 0px 1px 3px 1px rgba(0, 0, 0, 0.15);\n",
              "      filter: drop-shadow(0px 1px 2px rgba(0, 0, 0, 0.3));\n",
              "      fill: #FFFFFF;\n",
              "    }\n",
              "  </style>\n",
              "\n",
              "      <script>\n",
              "        const buttonEl =\n",
              "          document.querySelector('#df-4a35b62c-fbfd-496a-98f0-320cd6d9ac5b button.colab-df-convert');\n",
              "        buttonEl.style.display =\n",
              "          google.colab.kernel.accessAllowed ? 'block' : 'none';\n",
              "\n",
              "        async function convertToInteractive(key) {\n",
              "          const element = document.querySelector('#df-4a35b62c-fbfd-496a-98f0-320cd6d9ac5b');\n",
              "          const dataTable =\n",
              "            await google.colab.kernel.invokeFunction('convertToInteractive',\n",
              "                                                     [key], {});\n",
              "          if (!dataTable) return;\n",
              "\n",
              "          const docLinkHtml = 'Like what you see? Visit the ' +\n",
              "            '<a target=\"_blank\" href=https://colab.research.google.com/notebooks/data_table.ipynb>data table notebook</a>'\n",
              "            + ' to learn more about interactive tables.';\n",
              "          element.innerHTML = '';\n",
              "          dataTable['output_type'] = 'display_data';\n",
              "          await google.colab.output.renderOutput(dataTable, element);\n",
              "          const docLink = document.createElement('div');\n",
              "          docLink.innerHTML = docLinkHtml;\n",
              "          element.appendChild(docLink);\n",
              "        }\n",
              "      </script>\n",
              "    </div>\n",
              "  </div>\n",
              "  "
            ]
          },
          "metadata": {},
          "execution_count": 12
        }
      ],
      "source": [
        "test_df.head(2).T"
      ]
    },
    {
      "cell_type": "code",
      "execution_count": 13,
      "metadata": {
        "id": "MtytL2BTRVVU",
        "outputId": "08da154c-518a-4eed-b9aa-8b35d1fc30cd",
        "colab": {
          "base_uri": "https://localhost:8080/"
        }
      },
      "outputs": [
        {
          "output_type": "execute_result",
          "data": {
            "text/plain": [
              "(127600, 4)"
            ]
          },
          "metadata": {},
          "execution_count": 13
        }
      ],
      "source": [
        "allcsv= 'https://raw.githubusercontent.com/aimlfacnwu/MSDS_458_Fall2022/master/MSDS458_Assignment_03/data/all.csv'\n",
        "all_df = pd.read_csv(allcsv)\n",
        "all_df.shape"
      ]
    },
    {
      "cell_type": "code",
      "execution_count": 14,
      "metadata": {
        "id": "KurT1S2NRVVV",
        "outputId": "a1367b9e-2a34-4eaf-bdbc-1eb3f2c78f63",
        "colab": {
          "base_uri": "https://localhost:8080/",
          "height": 174
        }
      },
      "outputs": [
        {
          "output_type": "execute_result",
          "data": {
            "text/plain": [
              "                                                                   0  \\\n",
              "Label                                                              2   \n",
              "Title              Wall St. Bears Claw Back Into the Black (Reuters)   \n",
              "Description        Reuters - Short-sellers, Wall Street's dwindli...   \n",
              "Title_Description  Wall St. Bears Claw Back Into the Black (Reute...   \n",
              "\n",
              "                                                                   1  \n",
              "Label                                                              2  \n",
              "Title              Carlyle Looks Toward Commercial Aerospace (Reu...  \n",
              "Description        Reuters - Private investment firm Carlyle Grou...  \n",
              "Title_Description  Carlyle Looks Toward Commercial Aerospace (Reu...  "
            ],
            "text/html": [
              "\n",
              "  <div id=\"df-e9e987ed-4066-444f-ba92-4546b8d3633e\">\n",
              "    <div class=\"colab-df-container\">\n",
              "      <div>\n",
              "<style scoped>\n",
              "    .dataframe tbody tr th:only-of-type {\n",
              "        vertical-align: middle;\n",
              "    }\n",
              "\n",
              "    .dataframe tbody tr th {\n",
              "        vertical-align: top;\n",
              "    }\n",
              "\n",
              "    .dataframe thead th {\n",
              "        text-align: right;\n",
              "    }\n",
              "</style>\n",
              "<table border=\"1\" class=\"dataframe\">\n",
              "  <thead>\n",
              "    <tr style=\"text-align: right;\">\n",
              "      <th></th>\n",
              "      <th>0</th>\n",
              "      <th>1</th>\n",
              "    </tr>\n",
              "  </thead>\n",
              "  <tbody>\n",
              "    <tr>\n",
              "      <th>Label</th>\n",
              "      <td>2</td>\n",
              "      <td>2</td>\n",
              "    </tr>\n",
              "    <tr>\n",
              "      <th>Title</th>\n",
              "      <td>Wall St. Bears Claw Back Into the Black (Reuters)</td>\n",
              "      <td>Carlyle Looks Toward Commercial Aerospace (Reu...</td>\n",
              "    </tr>\n",
              "    <tr>\n",
              "      <th>Description</th>\n",
              "      <td>Reuters - Short-sellers, Wall Street's dwindli...</td>\n",
              "      <td>Reuters - Private investment firm Carlyle Grou...</td>\n",
              "    </tr>\n",
              "    <tr>\n",
              "      <th>Title_Description</th>\n",
              "      <td>Wall St. Bears Claw Back Into the Black (Reute...</td>\n",
              "      <td>Carlyle Looks Toward Commercial Aerospace (Reu...</td>\n",
              "    </tr>\n",
              "  </tbody>\n",
              "</table>\n",
              "</div>\n",
              "      <button class=\"colab-df-convert\" onclick=\"convertToInteractive('df-e9e987ed-4066-444f-ba92-4546b8d3633e')\"\n",
              "              title=\"Convert this dataframe to an interactive table.\"\n",
              "              style=\"display:none;\">\n",
              "        \n",
              "  <svg xmlns=\"http://www.w3.org/2000/svg\" height=\"24px\"viewBox=\"0 0 24 24\"\n",
              "       width=\"24px\">\n",
              "    <path d=\"M0 0h24v24H0V0z\" fill=\"none\"/>\n",
              "    <path d=\"M18.56 5.44l.94 2.06.94-2.06 2.06-.94-2.06-.94-.94-2.06-.94 2.06-2.06.94zm-11 1L8.5 8.5l.94-2.06 2.06-.94-2.06-.94L8.5 2.5l-.94 2.06-2.06.94zm10 10l.94 2.06.94-2.06 2.06-.94-2.06-.94-.94-2.06-.94 2.06-2.06.94z\"/><path d=\"M17.41 7.96l-1.37-1.37c-.4-.4-.92-.59-1.43-.59-.52 0-1.04.2-1.43.59L10.3 9.45l-7.72 7.72c-.78.78-.78 2.05 0 2.83L4 21.41c.39.39.9.59 1.41.59.51 0 1.02-.2 1.41-.59l7.78-7.78 2.81-2.81c.8-.78.8-2.07 0-2.86zM5.41 20L4 18.59l7.72-7.72 1.47 1.35L5.41 20z\"/>\n",
              "  </svg>\n",
              "      </button>\n",
              "      \n",
              "  <style>\n",
              "    .colab-df-container {\n",
              "      display:flex;\n",
              "      flex-wrap:wrap;\n",
              "      gap: 12px;\n",
              "    }\n",
              "\n",
              "    .colab-df-convert {\n",
              "      background-color: #E8F0FE;\n",
              "      border: none;\n",
              "      border-radius: 50%;\n",
              "      cursor: pointer;\n",
              "      display: none;\n",
              "      fill: #1967D2;\n",
              "      height: 32px;\n",
              "      padding: 0 0 0 0;\n",
              "      width: 32px;\n",
              "    }\n",
              "\n",
              "    .colab-df-convert:hover {\n",
              "      background-color: #E2EBFA;\n",
              "      box-shadow: 0px 1px 2px rgba(60, 64, 67, 0.3), 0px 1px 3px 1px rgba(60, 64, 67, 0.15);\n",
              "      fill: #174EA6;\n",
              "    }\n",
              "\n",
              "    [theme=dark] .colab-df-convert {\n",
              "      background-color: #3B4455;\n",
              "      fill: #D2E3FC;\n",
              "    }\n",
              "\n",
              "    [theme=dark] .colab-df-convert:hover {\n",
              "      background-color: #434B5C;\n",
              "      box-shadow: 0px 1px 3px 1px rgba(0, 0, 0, 0.15);\n",
              "      filter: drop-shadow(0px 1px 2px rgba(0, 0, 0, 0.3));\n",
              "      fill: #FFFFFF;\n",
              "    }\n",
              "  </style>\n",
              "\n",
              "      <script>\n",
              "        const buttonEl =\n",
              "          document.querySelector('#df-e9e987ed-4066-444f-ba92-4546b8d3633e button.colab-df-convert');\n",
              "        buttonEl.style.display =\n",
              "          google.colab.kernel.accessAllowed ? 'block' : 'none';\n",
              "\n",
              "        async function convertToInteractive(key) {\n",
              "          const element = document.querySelector('#df-e9e987ed-4066-444f-ba92-4546b8d3633e');\n",
              "          const dataTable =\n",
              "            await google.colab.kernel.invokeFunction('convertToInteractive',\n",
              "                                                     [key], {});\n",
              "          if (!dataTable) return;\n",
              "\n",
              "          const docLinkHtml = 'Like what you see? Visit the ' +\n",
              "            '<a target=\"_blank\" href=https://colab.research.google.com/notebooks/data_table.ipynb>data table notebook</a>'\n",
              "            + ' to learn more about interactive tables.';\n",
              "          element.innerHTML = '';\n",
              "          dataTable['output_type'] = 'display_data';\n",
              "          await google.colab.output.renderOutput(dataTable, element);\n",
              "          const docLink = document.createElement('div');\n",
              "          docLink.innerHTML = docLinkHtml;\n",
              "          element.appendChild(docLink);\n",
              "        }\n",
              "      </script>\n",
              "    </div>\n",
              "  </div>\n",
              "  "
            ]
          },
          "metadata": {},
          "execution_count": 14
        }
      ],
      "source": [
        "all_df.head(2).T"
      ]
    },
    {
      "cell_type": "markdown",
      "metadata": {
        "id": "BBgSjAw-RVVV"
      },
      "source": [
        "## Review Examples By Classification"
      ]
    },
    {
      "cell_type": "code",
      "execution_count": 15,
      "metadata": {
        "scrolled": true,
        "id": "Idsy2XaiRVVV",
        "outputId": "ea104b14-9353-4363-ef60-eb54d701a7b7",
        "colab": {
          "base_uri": "https://localhost:8080/"
        }
      },
      "outputs": [
        {
          "output_type": "execute_result",
          "data": {
            "text/plain": [
              "Business    31900\n",
              "Sci/Tech    31900\n",
              "Sports      31900\n",
              "World       31900\n",
              "Name: Label, dtype: int64"
            ]
          },
          "metadata": {},
          "execution_count": 15
        }
      ],
      "source": [
        "categories = {0: 'World', 1: 'Sports', 2: 'Business', 3: 'Sci/Tech'}\n",
        "all_df.Label.value_counts(sort=False).rename(index=categories)"
      ]
    },
    {
      "cell_type": "markdown",
      "metadata": {
        "id": "tIo9_uFHRVVV"
      },
      "source": [
        "## Vectorization Example"
      ]
    },
    {
      "cell_type": "code",
      "execution_count": 16,
      "metadata": {
        "id": "CSfLjHzqRVVW"
      },
      "outputs": [],
      "source": [
        "vectorizer = Vectorizer()\n",
        "dataset = [\n",
        "    \"I write, erase, rewrite\",\n",
        "    \"Erase again, and then\",\n",
        "    \"A poppy blooms.\",\n",
        "]\n",
        "vectorizer.make_vocabulary(dataset)"
      ]
    },
    {
      "cell_type": "code",
      "execution_count": 17,
      "metadata": {
        "id": "PUebNt06RVVW",
        "outputId": "05d04044-18a6-49f1-ba5b-579478e81dbc",
        "colab": {
          "base_uri": "https://localhost:8080/"
        }
      },
      "outputs": [
        {
          "output_type": "stream",
          "name": "stdout",
          "text": [
            "[2, 3, 5, 7, 1, 5, 6]\n"
          ]
        }
      ],
      "source": [
        "test_sentence = \"I write, rewrite, and still rewrite again\"\n",
        "encoded_sentence = vectorizer.encode(test_sentence)\n",
        "print(encoded_sentence)"
      ]
    },
    {
      "cell_type": "code",
      "execution_count": 18,
      "metadata": {
        "id": "ex8X4ANeRVVW",
        "outputId": "89b706fe-9e86-4431-a5bd-f495cfab0fec",
        "colab": {
          "base_uri": "https://localhost:8080/"
        }
      },
      "outputs": [
        {
          "output_type": "stream",
          "name": "stdout",
          "text": [
            "i write rewrite and [UNK] rewrite again\n"
          ]
        }
      ],
      "source": [
        "decoded_sentence = vectorizer.decode(encoded_sentence)\n",
        "print(decoded_sentence)"
      ]
    },
    {
      "cell_type": "markdown",
      "metadata": {
        "id": "jefGMXn9RVVW"
      },
      "source": [
        "<div class=\"alert alert-block alert-success\">\n",
        "    <b> TensorFlow Make CSV Dataset</b><br>\n",
        "    https://www.tensorflow.org/api_docs/python/tf/data/experimental/make_csv_dataset\n",
        "    </div>"
      ]
    },
    {
      "cell_type": "markdown",
      "metadata": {
        "id": "qTJTrpV1RVVW"
      },
      "source": [
        "Reads CSV files into a dataset, where each element of the dataset is a (features, labels) tuple that corresponds to a batch of CSV rows. The features dictionary maps feature column names to Tensors containing the corresponding feature data, and labels is a Tensor containing the batch's label data.\n",
        "\n",
        "By default, the first rows of the CSV files are expected to be headers listing the column names. If the first rows are not headers, set header=False and provide the column names with the column_names argument.\n",
        "\n",
        "By default, the dataset is repeated indefinitely, reshuffling the order each time. This behavior can be modified by setting the num_epochs and shuffle arguments."
      ]
    },
    {
      "cell_type": "markdown",
      "metadata": {
        "id": "EaLMQq9HRVVW"
      },
      "source": [
        "## Load CSV Datasets Convert TensorFlow Dataset (Training, Validation, Test)"
      ]
    },
    {
      "cell_type": "code",
      "execution_count": 19,
      "metadata": {
        "id": "YNsWe7G4RVVW",
        "colab": {
          "base_uri": "https://localhost:8080/"
        },
        "outputId": "bba8ff16-33e2-4719-8910-b463056dbe0c"
      },
      "outputs": [
        {
          "output_type": "stream",
          "name": "stdout",
          "text": [
            "Downloading data from https://raw.githubusercontent.com/aimlfacnwu/MSDS_458_Fall2022/master/MSDS458_Assignment_03/data/test.csv\n",
            "3631630/3631630 [==============================] - 0s 0us/step\n",
            "Downloading data from https://raw.githubusercontent.com/aimlfacnwu/MSDS_458_Fall2022/master/MSDS458_Assignment_03/data/val.csv\n",
            "2872142/2872142 [==============================] - 0s 0us/step\n",
            "Downloading data from https://raw.githubusercontent.com/aimlfacnwu/MSDS_458_Fall2022/master/MSDS458_Assignment_03/data/test.csv\n",
            "3631630/3631630 [==============================] - 0s 0us/step\n"
          ]
        }
      ],
      "source": [
        "batch_size = 32\n",
        "traincsv_file_path = tf.keras.utils.get_file(\"train.csv\", traincsv)\n",
        "valcsv_file_path = tf.keras.utils.get_file(\"val.csv\", valcsv)\n",
        "testcsv_file_path = tf.keras.utils.get_file(\"test.csv\", testcsv)\n",
        "\n",
        "train_ds =\\\n",
        "tf.data.experimental.make_csv_dataset(traincsv_file_path,select_columns=['Title_Description','Label'],\n",
        "                                      label_name=\"Label\",num_epochs=1, batch_size=batch_size)\n",
        "val_ds =\\\n",
        "tf.data.experimental.make_csv_dataset(valcsv_file_path,select_columns=['Title_Description','Label'],\n",
        "                                      label_name=\"Label\",num_epochs=1,batch_size=batch_size)\n",
        "test_ds =\\\n",
        "tf.data.experimental.make_csv_dataset(testcsv_file_path,select_columns=['Title_Description','Label'],\n",
        "                                      label_name=\"Label\",num_epochs=1,batch_size=batch_size)"
      ]
    },
    {
      "cell_type": "markdown",
      "metadata": {
        "id": "zP6pGj52RVVX"
      },
      "source": [
        "## Review First Article in Training Dataset"
      ]
    },
    {
      "cell_type": "code",
      "execution_count": 20,
      "metadata": {
        "id": "UNqZgI7CRVVX",
        "outputId": "fa27df5d-ba0a-4bb7-880a-950be6f99cda",
        "colab": {
          "base_uri": "https://localhost:8080/"
        }
      },
      "outputs": [
        {
          "output_type": "stream",
          "name": "stdout",
          "text": [
            "The first batch has 32 articles with 32 labels.\n",
            "The articles have type <dtype: 'string'>, the labels type: <dtype: 'int32'>\n",
            "\n",
            "The first news article:\n",
            "b'Florida Supreme Court puts Nader on state ballot (AFP) AFP - The Florida Supreme Court has ruled that third-party presidential hopeful Ralph Nader can appear on ballots in the decisive state, increasing the chance the maverick contender will again influence the outcome of the presidential election.'\n",
            "\n",
            "It is a World article.\n"
          ]
        }
      ],
      "source": [
        "for inputs, targets in train_ds:\n",
        "    print(f\"The first batch has {inputs['Title_Description'].shape[0]} articles with {targets.shape[0]} labels.\")\n",
        "    print(f\"The articles have type {inputs['Title_Description'].dtype}, the labels type: {targets.dtype}\\n\")\n",
        "    \n",
        "    # just print the first news article in the batch\n",
        "    print(f\"The first news article:\\n{inputs['Title_Description'][0]}\\n\") \n",
        "\n",
        "    print(f\"It is a {categories[targets[0].numpy()]} article.\")\n",
        "    break"
      ]
    },
    {
      "cell_type": "markdown",
      "metadata": {
        "id": "Mg8DyTz6RVVX"
      },
      "source": [
        "## Load CSV Datasets Convert TensorFlow Dataset (All Dataset)"
      ]
    },
    {
      "cell_type": "code",
      "execution_count": 21,
      "metadata": {
        "id": "o-ktseTNRVVX"
      },
      "outputs": [],
      "source": [
        "allcsv_file_path = tf.keras.utils.get_file(\"test.csv\", testcsv)\n",
        "all_ds =\\\n",
        "tf.data.experimental.make_csv_dataset(allcsv_file_path,select_columns=['Title_Description','Label'],\n",
        "                                      label_name=\"Label\",num_epochs=1, batch_size=1)"
      ]
    },
    {
      "cell_type": "markdown",
      "metadata": {
        "id": "qOEhx5gWRVVX"
      },
      "source": [
        "<div class=\"alert alert-block alert-success\">\n",
        "    <b>tf.keras.layers.TextVectorization</b><br>\n",
        "    https://www.tensorflow.org/api_docs/python/tf/keras/layers/TextVectorization\n",
        "    </div>"
      ]
    },
    {
      "cell_type": "code",
      "execution_count": 22,
      "metadata": {
        "id": "cvCfy1tZRVVX",
        "colab": {
          "base_uri": "https://localhost:8080/"
        },
        "outputId": "d932bfc3-a85a-44f8-f9fc-3a1534e916d6"
      },
      "outputs": [
        {
          "output_type": "stream",
          "name": "stderr",
          "text": [
            "WARNING:tensorflow:From /usr/local/lib/python3.8/dist-packages/tensorflow/python/autograph/pyct/static_analysis/liveness.py:83: Analyzer.lamba_check (from tensorflow.python.autograph.pyct.static_analysis.liveness) is deprecated and will be removed after 2023-09-23.\n",
            "Instructions for updating:\n",
            "Lambda fuctions will be no more assumed to be used in the statement where they are used, or at least in the same block. https://github.com/tensorflow/tensorflow/issues/56089\n"
          ]
        }
      ],
      "source": [
        "text_vectorization = TextVectorization(\n",
        "    output_mode=\"int\",\n",
        ")\n",
        "text_only_all_ds = all_ds.map(lambda x, y: x['Title_Description'])"
      ]
    },
    {
      "cell_type": "markdown",
      "metadata": {
        "id": "qdNbPdOERVVY"
      },
      "source": [
        "## Review First Article in Training Dataset"
      ]
    },
    {
      "cell_type": "code",
      "execution_count": 23,
      "metadata": {
        "id": "NNds4kxbRVVY",
        "outputId": "f809dc54-acea-4495-ccea-bdf9bc364a48",
        "colab": {
          "base_uri": "https://localhost:8080/"
        }
      },
      "outputs": [
        {
          "output_type": "stream",
          "name": "stdout",
          "text": [
            "Get first batch of 1 news articles.\n",
            "\n",
            "Here is the first news article:\n",
            "\n",
            "b'Second Prisoner Abuse Report Expected WASHINGTON - Inattention to prisoner issues by senior U.S. military leaders in Iraq and at the Pentagon was a key factor in the abuse scandal at Abu Ghraib prison, but there is no evidence they ordered any mistreatment, an independent panel concluded...'.\n"
          ]
        }
      ],
      "source": [
        "for text in text_only_all_ds:\n",
        "    print(f\"Get first batch of {text.shape[0]} news articles.\\n\")\n",
        "    print(f\"Here is the first news article:\\n\\n{text[0]}.\")\n",
        "    break"
      ]
    },
    {
      "cell_type": "markdown",
      "metadata": {
        "id": "AF7TmzuVRVVY"
      },
      "source": [
        "Create the layer, and pass the dataset's text to the layer's `.adapt` method:\n",
        "The processing of each sample contains the following steps:\n",
        "\n",
        "    standardize each sample (usually lowercasing + punctuation stripping)\n",
        "    split each sample into substrings (usually words)\n",
        "    recombine substrings into tokens (usually ngrams)\n",
        "    index tokens (associate a unique int value with each token)\n",
        "    transform each sample using this index, either into a vector of ints or a dense float vector."
      ]
    },
    {
      "cell_type": "code",
      "execution_count": 24,
      "metadata": {
        "id": "Ih0Q9wZCRVVY",
        "outputId": "aa29fcb2-3b44-4a8f-ae82-1e072286761b",
        "colab": {
          "base_uri": "https://localhost:8080/"
        }
      },
      "outputs": [
        {
          "output_type": "stream",
          "name": "stdout",
          "text": [
            "CPU times: user 13.5 s, sys: 1.37 s, total: 14.9 s\n",
            "Wall time: 12.6 s\n"
          ]
        }
      ],
      "source": [
        "%%time\n",
        "text_vectorization.adapt(text_only_all_ds)"
      ]
    },
    {
      "cell_type": "markdown",
      "metadata": {
        "id": "xtfXVUhfRVVY"
      },
      "source": [
        "## Vocabulary Words In Corpus"
      ]
    },
    {
      "cell_type": "code",
      "execution_count": 26,
      "metadata": {
        "id": "MmT9OZZiRVVZ",
        "outputId": "75da12c0-bf50-42a6-c945-09b316c6d00f",
        "colab": {
          "base_uri": "https://localhost:8080/"
        }
      },
      "outputs": [
        {
          "output_type": "stream",
          "name": "stdout",
          "text": [
            "There are 25884 vocabulary words in the corpus.\n"
          ]
        }
      ],
      "source": [
        "vocab = text_vectorization.get_vocabulary()\n",
        "print(f\"There are {len(vocab)} vocabulary words in the corpus.\")"
      ]
    },
    {
      "cell_type": "markdown",
      "metadata": {
        "id": "EBY5s-EKRVVZ"
      },
      "source": [
        "## Example 12 Words "
      ]
    },
    {
      "cell_type": "code",
      "execution_count": 27,
      "metadata": {
        "id": "KkxICFMmRVVZ",
        "outputId": "c1047b31-befb-4ee5-93fc-40814fe0e120",
        "colab": {
          "base_uri": "https://localhost:8080/"
        }
      },
      "outputs": [
        {
          "output_type": "execute_result",
          "data": {
            "text/plain": [
              "['', '[UNK]', 'the', 'to', 'a', 'of', 'in', 'and', 'on', 'for', '39s', 'that']"
            ]
          },
          "metadata": {},
          "execution_count": 27
        }
      ],
      "source": [
        "vocab[:12]"
      ]
    },
    {
      "cell_type": "markdown",
      "metadata": {
        "id": "kwKpTm5hRVVa"
      },
      "source": [
        "## Vectorization - Title Description Column"
      ]
    },
    {
      "cell_type": "code",
      "execution_count": 28,
      "metadata": {
        "id": "N9p3vL_kRVVa",
        "outputId": "ae1959a2-3296-4b33-9203-635b29e42efe",
        "colab": {
          "base_uri": "https://localhost:8080/"
        }
      },
      "outputs": [
        {
          "output_type": "stream",
          "name": "stdout",
          "text": [
            "CPU times: user 1min 3s, sys: 4.71 s, total: 1min 8s\n",
            "Wall time: 1min 3s\n"
          ]
        }
      ],
      "source": [
        "%%time\n",
        "doc_sizes = []\n",
        "corpus = []\n",
        "for example, _ in all_ds:\n",
        "  enc_example = text_vectorization(example['Title_Description'])\n",
        "  doc_sizes.append(enc_example.shape[1])\n",
        "  corpus+=list(enc_example.numpy()[0])"
      ]
    },
    {
      "cell_type": "code",
      "execution_count": 29,
      "metadata": {
        "scrolled": true,
        "id": "YfUiq5WcRVVa",
        "outputId": "5f0f18e6-9bfd-4032-9901-dbb3444ab023",
        "colab": {
          "base_uri": "https://localhost:8080/"
        }
      },
      "outputs": [
        {
          "output_type": "stream",
          "name": "stdout",
          "text": [
            "There are 283435 words in the corpus of 7600 news articles.\n",
            "Each news article has between 11 and 136 tokens in it.\n"
          ]
        }
      ],
      "source": [
        "print(f\"There are {len(corpus)} words in the corpus of {len(doc_sizes)} news articles.\")\n",
        "print(f\"Each news article has between {min(doc_sizes)} and {max(doc_sizes)} tokens in it.\")"
      ]
    },
    {
      "cell_type": "code",
      "execution_count": 30,
      "metadata": {
        "id": "BaDuCF4JRVVa",
        "outputId": "0147d201-fb53-4b3e-d1f7-cb9b122e013c",
        "colab": {
          "base_uri": "https://localhost:8080/"
        }
      },
      "outputs": [
        {
          "output_type": "execute_result",
          "data": {
            "text/plain": [
              "[9784, 23455, 2208, 14, 23404]"
            ]
          },
          "metadata": {},
          "execution_count": 30
        }
      ],
      "source": [
        "corpus[:5]"
      ]
    },
    {
      "cell_type": "markdown",
      "metadata": {
        "id": "e7-sV0bHRVVb"
      },
      "source": [
        "## Plot Distribution of Percent of Non-Vocabulary Words in News Articles"
      ]
    },
    {
      "cell_type": "code",
      "execution_count": 31,
      "metadata": {
        "id": "Rw_vcZfrRVVb",
        "outputId": "11cff01b-7ce2-484c-b820-a2dbeeadfe71",
        "colab": {
          "base_uri": "https://localhost:8080/",
          "height": 551
        }
      },
      "outputs": [
        {
          "output_type": "display_data",
          "data": {
            "text/plain": [
              "<Figure size 1080x648 with 1 Axes>"
            ],
            "image/png": "[encoded data removed]"
          },
          "metadata": {
            "needs_background": "light"
          }
        }
      ],
      "source": [
        "plt.figure(figsize=(15,9))\n",
        "plt.hist(doc_sizes, bins=20,range = (0,120))\n",
        "plt.xlabel(\"Tokens Per Document\")\n",
        "plt.ylabel(\"Number of AG News Articles\");"
      ]
    },
    {
      "cell_type": "markdown",
      "metadata": {
        "id": "kGSu-OF1RVVb"
      },
      "source": [
        "## Top 1000 Words Vectorized"
      ]
    },
    {
      "cell_type": "code",
      "execution_count": 32,
      "metadata": {
        "id": "Tor4TLtGRVVb",
        "outputId": "7c978d0a-81d3-4174-f253-a01d3fa73fba",
        "colab": {
          "base_uri": "https://localhost:8080/"
        }
      },
      "outputs": [
        {
          "output_type": "stream",
          "name": "stdout",
          "text": [
            "CPU times: user 13 s, sys: 1.44 s, total: 14.5 s\n",
            "Wall time: 20.5 s\n"
          ]
        }
      ],
      "source": [
        "%%time\n",
        "from tensorflow.keras.layers import TextVectorization\n",
        "encoder_1000 = TextVectorization(\n",
        "    output_mode=\"int\",\n",
        "    max_tokens=1000\n",
        ")\n",
        "encoder_1000.adapt(text_only_all_ds)\n",
        "vocab_1000 = np.array(encoder_1000.get_vocabulary());"
      ]
    },
    {
      "cell_type": "markdown",
      "metadata": {
        "id": "djupKHOvRVVb"
      },
      "source": [
        "## Example 20 Words"
      ]
    },
    {
      "cell_type": "code",
      "execution_count": 33,
      "metadata": {
        "id": "Ut59O2XzRVVb",
        "outputId": "d89887b2-eba8-4019-c6c5-7bebec91c00d",
        "colab": {
          "base_uri": "https://localhost:8080/"
        }
      },
      "outputs": [
        {
          "output_type": "execute_result",
          "data": {
            "text/plain": [
              "array(['', '[UNK]', 'the', 'to', 'a', 'of', 'in', 'and', 'on', 'for',\n",
              "       '39s', 'that', 'with', 'as', 'at', 'its', 'is', 'by', 'new',\n",
              "       'said'], dtype='<U14')"
            ]
          },
          "metadata": {},
          "execution_count": 33
        }
      ],
      "source": [
        "vocab_1000[:20]"
      ]
    },
    {
      "cell_type": "code",
      "execution_count": 34,
      "metadata": {
        "id": "UMOnqqIVRVVc",
        "outputId": "d8f2a0b4-0dd0-44a5-fad3-7358081c2ac8",
        "colab": {
          "base_uri": "https://localhost:8080/"
        }
      },
      "outputs": [
        {
          "output_type": "execute_result",
          "data": {
            "text/plain": [
              "array([  2,   1,   1,  29,   4, 190,   1,  13,  20,   1,  17,   2,   1,\n",
              "         8,   2,   1])"
            ]
          },
          "metadata": {},
          "execution_count": 34
        }
      ],
      "source": [
        "example = \"the dog ran after a red ball as it rolled by the hat on the ground.\"\n",
        "enc_example = encoder_1000(example).numpy()\n",
        "enc_example"
      ]
    },
    {
      "cell_type": "markdown",
      "metadata": {
        "id": "YrAgqkEARVVc"
      },
      "source": [
        "## Zero and One are Special Value Integers ( 0 = Padding, 1 = Unknown Word)"
      ]
    },
    {
      "cell_type": "code",
      "execution_count": 35,
      "metadata": {
        "id": "Yx55XTniRVVc",
        "outputId": "50c35878-9593-4c53-c05f-e8c2627eebf3",
        "colab": {
          "base_uri": "https://localhost:8080/"
        }
      },
      "outputs": [
        {
          "output_type": "execute_result",
          "data": {
            "text/plain": [
              "6"
            ]
          },
          "metadata": {},
          "execution_count": 35
        }
      ],
      "source": [
        "num_ones = tf.math.count_nonzero(enc_example==1).numpy()\n",
        "num_ones"
      ]
    },
    {
      "cell_type": "markdown",
      "metadata": {
        "id": "uOB08haMRVVc"
      },
      "source": [
        "## Encode Sequences Leveraging 1000 Word Vocabulary "
      ]
    },
    {
      "cell_type": "code",
      "execution_count": 36,
      "metadata": {
        "id": "YZ8oWaQrRVVd",
        "outputId": "8769559b-2ab9-43f8-bad0-19ed72a5842f",
        "colab": {
          "base_uri": "https://localhost:8080/"
        }
      },
      "outputs": [
        {
          "output_type": "stream",
          "name": "stdout",
          "text": [
            "CPU times: user 1min 24s, sys: 5.48 s, total: 1min 29s\n",
            "Wall time: 1min 21s\n"
          ]
        }
      ],
      "source": [
        "%%time\n",
        "doc1000_sizes = []\n",
        "corpus1000 = []\n",
        "count1000=0\n",
        "useless = 0\n",
        "# stop = 0\n",
        "percents = []\n",
        "for example, _ in all_ds.as_numpy_iterator():\n",
        "#   stop+=1\n",
        "#   if stop > 2: break\n",
        "  enc_example = encoder_1000(example['Title_Description'])[0]\n",
        "#   print(enc_example)\n",
        "\n",
        "  num_ones = tf.math.count_nonzero(enc_example==1).numpy()\n",
        "#   print(num_ones)\n",
        "  percent_ones = round(num_ones*100/len(enc_example))\n",
        "#   print(f\"{percent_ones}%\")\n",
        "  percents.append(percent_ones)\n",
        "\n",
        "  s = set(list(enc_example.numpy()))\n",
        "  if s == {1}: useless+=1\n",
        "#   print(useless)\n",
        "\n",
        "  doc1000_sizes.append(len(enc_example))\n",
        "  corpus1000+=list(enc_example.numpy())\n",
        "\n",
        "  count1000 += tf.math.count_nonzero(enc_example>1)"
      ]
    },
    {
      "cell_type": "markdown",
      "metadata": {
        "id": "RMNI4BWiRVVd"
      },
      "source": [
        "## Plot Distribution of Tokens Per News Article"
      ]
    },
    {
      "cell_type": "code",
      "execution_count": 37,
      "metadata": {
        "id": "Zp1bhcmZRVVd",
        "outputId": "49974dd9-debe-4dfb-b6b6-7637e5deca20",
        "colab": {
          "base_uri": "https://localhost:8080/",
          "height": 551
        }
      },
      "outputs": [
        {
          "output_type": "display_data",
          "data": {
            "text/plain": [
              "<Figure size 1080x648 with 1 Axes>"
            ],
            "image/png": "[encoded data removed]"
          },
          "metadata": {
            "needs_background": "light"
          }
        }
      ],
      "source": [
        "plt.figure(figsize=(15,9))\n",
        "plt.hist(percents, 20)\n",
        "plt.ylabel('Number of Documents')\n",
        "plt.xlabel('Percent of Non-Vocabulary Words in a Document');"
      ]
    },
    {
      "cell_type": "code",
      "execution_count": 38,
      "metadata": {
        "id": "6cGsO4ATRVVe",
        "outputId": "8b0bd21b-1560-4918-eb60-69deea031f6f",
        "colab": {
          "base_uri": "https://localhost:8080/"
        }
      },
      "outputs": [
        {
          "output_type": "stream",
          "name": "stdout",
          "text": [
            "Each news article has between 11and 136 tokens in it.\n"
          ]
        }
      ],
      "source": [
        "print(f\"Each news article has between {min(doc1000_sizes)}\\\n",
        "and {max(doc1000_sizes)} tokens in it.\")"
      ]
    }
  ],
  "metadata": {
    "accelerator": "GPU",
    "colab": {
      "machine_shape": "hm",
      "provenance": []
    },
    "kernelspec": {
      "display_name": "Python 3",
      "language": "python",
      "name": "python3"
    },
    "language_info": {
      "codemirror_mode": {
        "name": "ipython",
        "version": 3
      },
      "file_extension": ".py",
      "mimetype": "text/x-python",
      "name": "python",
      "nbconvert_exporter": "python",
      "pygments_lexer": "ipython3",
      "version": "3.8.10"
    },
    "toc": {
      "base_numbering": 1,
      "nav_menu": {},
      "number_sections": false,
      "sideBar": true,
      "skip_h1_title": false,
      "title_cell": "Table of Contents",
      "title_sidebar": "Contents",
      "toc_cell": false,
      "toc_position": {},
      "toc_section_display": true,
      "toc_window_display": false
    }
  },
  "nbformat": 4,
  "nbformat_minor": 0
}

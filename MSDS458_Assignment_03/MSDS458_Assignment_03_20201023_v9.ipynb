{
 "cells": [
  {
   "cell_type": "markdown",
   "metadata": {},
   "source": [
    "<img src=\"https://github.com/djp840/MSDS_458_Public/blob/master/images/NorthwesternHeader.png?raw=1\">"
   ]
  },
  {
   "cell_type": "raw",
   "metadata": {},
   "source": [
    "DATE: October 21, 2020"
   ]
  },
  {
   "cell_type": "markdown",
   "metadata": {},
   "source": [
    "## MSDS458 Research Assignment 3\n",
    "\n",
    "The goal is to compare `RNN` and `LSTM` on `Reuters News Wire` data.\n",
    "\n",
    "<div class=\"alert alert-block alert-success\">\n",
    "    <b>More Technical</b>: Throughout the notebook. This types of boxes provide more technical details and extra references about what you are seeing. They contain helpful tips, but you can safely skip them the first time you run through the code.\n",
    "</div>"
   ]
  },
  {
   "cell_type": "markdown",
   "metadata": {},
   "source": [
    "## Import packages \n"
   ]
  },
  {
   "cell_type": "code",
   "execution_count": 1,
   "metadata": {},
   "outputs": [],
   "source": [
    "# Helper libraries\n",
    "import datetime\n",
    "from packaging import version\n",
    "import matplotlib.pyplot as plt\n",
    "from mpl_toolkits.mplot3d import Axes3D\n",
    "import seaborn as sns\n",
    "from sklearn.metrics import confusion_matrix\n",
    "from sklearn.preprocessing import StandardScaler\n",
    "from sklearn.decomposition import PCA\n",
    "from sklearn.manifold import TSNE\n",
    "from sklearn.ensemble import RandomForestClassifier\n",
    "\n",
    "from collections import Counter\n",
    "import numpy as np\n",
    "import pandas as pd\n",
    "\n",
    "# TensorFlow and tf.keras\n",
    "import tensorflow as tf\n",
    "from tensorflow.keras.utils import to_categorical\n",
    "from tensorflow import keras\n",
    "from tensorflow.keras import preprocessing\n",
    "from tensorflow.keras import models, layers\n",
    "from tensorflow.keras.models import Sequential\n",
    "from tensorflow.keras.layers import Embedding, SimpleRNN,RNN, LSTM\n",
    "from tensorflow.keras.layers import Dense, Flatten\n",
    "from tensorflow.keras.layers import Conv2D, MaxPooling2D, BatchNormalization\n",
    "from tensorflow.keras.layers import Dropout, Flatten, Input, Dense\n",
    "from tensorflow.keras.datasets import reuters"
   ]
  },
  {
   "cell_type": "code",
   "execution_count": 2,
   "metadata": {},
   "outputs": [],
   "source": [
    "%matplotlib inline\n",
    "np.set_printoptions(precision=3, suppress=True)"
   ]
  },
  {
   "cell_type": "markdown",
   "metadata": {},
   "source": [
    "### Verify TensorFlow Version and Keras Version"
   ]
  },
  {
   "cell_type": "code",
   "execution_count": 3,
   "metadata": {},
   "outputs": [
    {
     "name": "stdout",
     "output_type": "stream",
     "text": [
      "This notebook requires TensorFlow 2.0 or above\n",
      "TensorFlow version:  2.3.0\n"
     ]
    }
   ],
   "source": [
    "print(\"This notebook requires TensorFlow 2.0 or above\")\n",
    "print(\"TensorFlow version: \", tf.__version__)\n",
    "assert version.parse(tf.__version__).release[0] >=2"
   ]
  },
  {
   "cell_type": "code",
   "execution_count": 4,
   "metadata": {},
   "outputs": [
    {
     "name": "stdout",
     "output_type": "stream",
     "text": [
      "Keras version:  2.4.0\n"
     ]
    }
   ],
   "source": [
    "print(\"Keras version: \", keras.__version__)"
   ]
  },
  {
   "cell_type": "markdown",
   "metadata": {},
   "source": [
    "<div class=\"alert alert-block alert-info\">\n",
    "    <b>Suppress warning messages</b></div>"
   ]
  },
  {
   "cell_type": "code",
   "execution_count": 5,
   "metadata": {},
   "outputs": [],
   "source": [
    "def warn(*args, **kwargs):\n",
    "    pass\n",
    "import warnings\n",
    "warnings.warn = warn"
   ]
  },
  {
   "cell_type": "markdown",
   "metadata": {},
   "source": [
    "### Mount Google Drive to Colab Environment"
   ]
  },
  {
   "cell_type": "code",
   "execution_count": 6,
   "metadata": {},
   "outputs": [],
   "source": [
    "#from google.colab import drive\n",
    "#drive.mount('/content/gdrive')"
   ]
  },
  {
   "cell_type": "markdown",
   "metadata": {},
   "source": [
    "## Loading Reuters dataset\n",
    "\n",
    "We will be working with the Reuters dataset, a set of short newswires and their topics, published by Reuters in 1986. It's a very simple, widely used toy dataset for text classification. This is a dataset of 11,228 newswires from Reuters, labeled over 46 topics. Some topics are more represented than others, but each topic has at least 10 examples in the training set.\n",
    "\n",
    "Like MNIST and Fashion MNIST, the Reuters dataset comes packaged as part of Keras.\n",
    "<div class=\"alert alert-block alert-success\">\n",
    "\"Each newswire is encoded as a list of word indexes (integers). For convenience, words are indexed by overall frequency in the dataset, so that for instance the integer \"3\" encodes the 3rd most frequent word in the data. This allows for quick filtering operations such as: \"only consider the top 10,000 most common words, but eliminate the top 20 most common words\".</div>"
   ]
  },
  {
   "cell_type": "markdown",
   "metadata": {},
   "source": [
    "<div class=\"alert alert-block alert-info\">\n",
    "<b>tf.keras.datasets.reuters.load_data</b><br>\n",
    "https://www.tensorflow.org/api_docs/python/tf/keras/datasets/reuters/load_data\n",
    "</div>"
   ]
  },
  {
   "cell_type": "code",
   "execution_count": 7,
   "metadata": {},
   "outputs": [],
   "source": [
    "(data, labels), (_, _) = tf.keras.datasets.reuters.load_data(\n",
    "                                      path='reuters.npz', num_words=None, skip_top=0, maxlen=None, test_split=0,\n",
    "                                      seed=113, start_char=1, oov_char=2, index_from=3)"
   ]
  },
  {
   "cell_type": "markdown",
   "metadata": {},
   "source": [
    "## EDA Reuters Dataset"
   ]
  },
  {
   "cell_type": "code",
   "execution_count": 8,
   "metadata": {},
   "outputs": [
    {
     "name": "stdout",
     "output_type": "stream",
     "text": [
      "There are 11228 Reuters News Articles with 11228 labels.\n",
      "There are 46 different label categories.\n"
     ]
    }
   ],
   "source": [
    "print(f\"There are {len(data)} Reuters News Articles with {len(labels)} labels.\") \n",
    "print(f\"There are {len(set(labels))} different label categories.\")"
   ]
  },
  {
   "cell_type": "code",
   "execution_count": 9,
   "metadata": {},
   "outputs": [
    {
     "name": "stdout",
     "output_type": "stream",
     "text": [
      "The first five labels: [ 3  4  3  4  4  4  4  3  3 16]\n"
     ]
    }
   ],
   "source": [
    "print(f\"The first five labels: {labels[:10]}\")"
   ]
  },
  {
   "cell_type": "markdown",
   "metadata": {},
   "source": [
    "## Mapping of classes to indices \n",
    "keeps track of our mapping of label values to the label indices, where the indices are actually predicted by our model. The label_map can map the label class back to the label name."
   ]
  },
  {
   "cell_type": "code",
   "execution_count": 10,
   "metadata": {},
   "outputs": [],
   "source": [
    "class_to_idx =  \\\n",
    "{'copper': 6, 'livestock': 28, 'gold': 25, \n",
    " 'money-fx': 19, 'ipi': 30, 'trade': 11, \n",
    " 'cocoa': 0, 'iron-steel': 31, 'reserves': 12, \n",
    " 'tin': 26, 'zinc': 37, 'jobs': 34, 'ship': 13, \n",
    " 'cotton': 14, 'alum': 23, 'strategic-metal': 27, \n",
    " 'lead': 45, 'housing': 7, 'meal-feed': 22, 'gnp': 21, \n",
    " 'sugar': 10, 'rubber': 32, 'dlr': 40, 'veg-oil': 2, \n",
    " 'interest': 20, 'crude': 16, 'coffee': 9, 'wheat': 5, \n",
    " 'carcass': 15, 'lei': 35, 'gas': 41, 'nat-gas': 17, \n",
    " 'oilseed': 24, 'orange': 38, 'heat': 33, 'wpi': 43, \n",
    " 'silver': 42, 'cpi': 18, 'earn': 3, 'bop': 36, 'money-supply': 8, \n",
    " 'hog': 44, 'acq': 4, 'pet-chem': 39, 'grain': 1, 'retail': 29}"
   ]
  },
  {
   "cell_type": "markdown",
   "metadata": {},
   "source": [
    "### Report the total number of documents, classes, and frequency distribution\n",
    "\n",
    "we reversed the `class_to_idx` dictionary above so that we can decode the labels into classes"
   ]
  },
  {
   "cell_type": "code",
   "execution_count": 11,
   "metadata": {},
   "outputs": [
    {
     "data": {
      "text/plain": [
       "{6: 'copper',\n",
       " 28: 'livestock',\n",
       " 25: 'gold',\n",
       " 19: 'money-fx',\n",
       " 30: 'ipi',\n",
       " 11: 'trade',\n",
       " 0: 'cocoa',\n",
       " 31: 'iron-steel',\n",
       " 12: 'reserves',\n",
       " 26: 'tin',\n",
       " 37: 'zinc',\n",
       " 34: 'jobs',\n",
       " 13: 'ship',\n",
       " 14: 'cotton',\n",
       " 23: 'alum'}"
      ]
     },
     "execution_count": 11,
     "metadata": {},
     "output_type": "execute_result"
    }
   ],
   "source": [
    "idx_to_class = dict([(value, key) for (key, value) in class_to_idx.items()])\n",
    "{k: idx_to_class[k] for k in list(idx_to_class)[:15]} "
   ]
  },
  {
   "cell_type": "code",
   "execution_count": 12,
   "metadata": {},
   "outputs": [],
   "source": [
    "classes = [idx_to_class[label] for label in labels]"
   ]
  },
  {
   "cell_type": "code",
   "execution_count": 13,
   "metadata": {},
   "outputs": [
    {
     "data": {
      "text/plain": [
       "[('earn', 3972),\n",
       " ('acq', 2423),\n",
       " ('money-fx', 682),\n",
       " ('crude', 543),\n",
       " ('grain', 537),\n",
       " ('trade', 473),\n",
       " ('interest', 339),\n",
       " ('ship', 209),\n",
       " ('money-supply', 177),\n",
       " ('sugar', 154),\n",
       " ('gnp', 127),\n",
       " ('coffee', 126),\n",
       " ('gold', 123),\n",
       " ('veg-oil', 94),\n",
       " ('cpi', 86),\n",
       " ('oilseed', 81),\n",
       " ('cocoa', 67),\n",
       " ('copper', 62),\n",
       " ('reserves', 62),\n",
       " ('bop', 60),\n",
       " ('livestock', 58),\n",
       " ('ipi', 57),\n",
       " ('jobs', 57),\n",
       " ('alum', 53),\n",
       " ('iron-steel', 52),\n",
       " ('nat-gas', 51),\n",
       " ('dlr', 46),\n",
       " ('rubber', 42),\n",
       " ('gas', 38),\n",
       " ('tin', 32),\n",
       " ('carcass', 29),\n",
       " ('pet-chem', 29),\n",
       " ('cotton', 28),\n",
       " ('wpi', 27),\n",
       " ('retail', 23),\n",
       " ('orange', 22),\n",
       " ('meal-feed', 22),\n",
       " ('wheat', 22),\n",
       " ('zinc', 21),\n",
       " ('housing', 19),\n",
       " ('lead', 19),\n",
       " ('strategic-metal', 19),\n",
       " ('hog', 17),\n",
       " ('lei', 16),\n",
       " ('silver', 16),\n",
       " ('heat', 16)]"
      ]
     },
     "execution_count": 13,
     "metadata": {},
     "output_type": "execute_result"
    }
   ],
   "source": [
    "Counter(classes).most_common()"
   ]
  },
  {
   "cell_type": "markdown",
   "metadata": {},
   "source": [
    "### Preview Rueters News Articles \n",
    "\n",
    "Each document is a list of integers (word indexes).  We get the `word_index` dictionary and then reverse is to get the original text of the newswires"
   ]
  },
  {
   "cell_type": "code",
   "execution_count": 14,
   "metadata": {},
   "outputs": [
    {
     "name": "stdout",
     "output_type": "stream",
     "text": [
      "[1, 3267, 699, 3434, 2295, 56, 16784, 7511, 9, 56, 3906, 1073, 81, 5, 1198, 57, 366, 737, 132, 20, 4093, 7, 19261, 49, 2295, 13415, 1037, 3267, 699, 3434, 8, 7, 10, 241, 16, 855, 129, 231, 783, 5, 4, 587, 2295, 13415, 30625, 775, 7, 48, 34, 191, 44, 35, 1795, 505, 17, 12]\n"
     ]
    }
   ],
   "source": [
    "print(data[1])"
   ]
  },
  {
   "cell_type": "markdown",
   "metadata": {},
   "source": [
    "###  Decode 5 newswire articles \n",
    "<div class=\"alert alert-block alert-info\">\n",
    "We use the `reverse_word_index` dictionary to decode the 5 newswires (with different topic labels) and display them with along with their class labels.\n",
    "\n",
    "tf.keras.datasets.reuters.get_word_index()\n",
    "Retrieves a dict mapping words to their index in the Reuters dataset.</div>"
   ]
  },
  {
   "cell_type": "code",
   "execution_count": 15,
   "metadata": {},
   "outputs": [],
   "source": [
    "word_index = tf.keras.datasets.reuters.get_word_index()\n",
    "reverse_word_index = dict([(value, key) for (key, value) in word_index.items()])"
   ]
  },
  {
   "cell_type": "code",
   "execution_count": 16,
   "metadata": {},
   "outputs": [
    {
     "name": "stdout",
     "output_type": "stream",
     "text": [
      "Reuters News Article 11:\n",
      "? period ended december 31 shr profit 11 cts vs loss 24 cts net profit 224 271 vs loss 511 349 revs 7 258 688 vs 7 200 349 reuter 3 \n",
      "\n",
      "Topic: earn\n",
      "\n",
      "Reuters News Article 21:\n",
      "? leading u s farm state senators are seeking to insert into the senate's omnibus trade bill a provision that would broaden eligibility requirements under the u s agriculture department's export enhancement program eep to include traditional buyers of u s farm products including the soviet union senate staff said under existing criteria usda can offer eep subsidies to recoup export markets lost to competing nations' unfair trading practices senate agriculture committee chairman patrick leahy d vt is leading a group of farm state senators in an effort to broaden the criteria in such a way as to enable moscow to be eligible for the subsidies sources said the senators including senate finance committee chairman lloyd bentsen d tex max baucus d mont david pryor d ark john melcher d mont and thad cochran r miss also may fold into the trade bill a measure to shield pork producers and processors from canadian imports the measure sponsored by sen charles grassley r iowa would clarify the definition of industry in determining whether or not imports were causing injury to u s producers grassley's bill stems from a 1985 decision by the international trade commission that imports from canada of live swine but not fresh chilled and frozen pork were harming u s producers the bill's proponents have argued canada has simply replaced shipments of live hogs with fresh pork reuter 3 \n",
      "\n",
      "Topic: trade\n",
      "\n",
      "Reuters News Article 31:\n",
      "? the u s agriculture department said private u s exporters reported sales of 200 000 tonnes of wheat to jordan 300 000 tonnes of soybean meal to iraq and 100 000 tonnes of corn to algeria the wheat for jordan includes 165 000 tonnes of hard red winter and 35 000 tonnes of soft red winter and is for delivery during the 1987 88 marketing year the soybean meal sales to iraq includes 180 000 tonnes for delivery during the 1986 87 season and 120 000 tonnes during the 1987 88 season the department said the 100 000 tonnes of corn sales to algeria are for delivery during the 1986 87 season it said the marketing year for wheat begins june 1 corn september 1 and soybean meal october 1 reuter 3 \n",
      "\n",
      "Topic: grain\n",
      "\n",
      "Reuters News Article 36:\n",
      "? chase corp ltd lt chca we said it will make an offer for all fully paid shares and options of lt entregrowth international ltd it does not already own chase a property investment firm said it holds 48 pct of entregrowth its vehicle for expansion in north america it said agreements are being concluded to give it a beneficial 72 4 pct interest the offer for the remaining shares is one chase share for every three entregrowth shares and one chase option for every four entregrowth options chase shares closed on friday at 4 41 dlrs and the options at 2 38 entregrowth closed at 1 35 dlrs and options at 55 cents chase said the offer for the remaining 27 6 pct of entregrowth worth 34 2 mln dlrs involved the issue of 5 80 mln chase shares and 3 10 mln chase options chase chairman colin reynolds said the takeover would allow entregrowth to concentrate on north american operations with access to chase's international funding base and a stronger executive team he said there also would be benefits from integrating new zealand investment activities chase said the offer is conditional it receiving accptances for at least 90 pct of the shares and options reuter 3 \n",
      "\n",
      "Topic: acq\n",
      "\n",
      "Reuters News Article 46:\n",
      "? the u s treasury said its weekly auction of three month bills produced an average rate of 5 98 pct with a 6 08 pct rate on six month bills these rates compared with averages of 5 53 pct for the three and 5 63 pct for the six month bills sold last week the bond equivalent yield on three month bills was 6 17 pct accepted bids ranges from 5 92 to 5 99 pct and 60 pct of the bids at the high or stopout rate were taken for six months the yield was 6 38 pct and the bids ranged from 5 98 pct to 6 10 pct with 48 pct of the bids accepted the treasury said it received 25 99 billion dlrs of bids for the three month bills including 1 2 billion dlrs in non competitive bids from the public it accepted 6 6 billion dlrs of bids including 2 1 billion dlrs from the federal reserve and 180 mln dlrs from foreign and international monetary authorities some 24 7 billion dlrs in bids for six month bills were received including 832 mln dlrs in non competitives the treasury accepted 6 6 billion dlrs including 1 8 billion dlrs from the fed and 1 2 billion dlrs from foreign and international authorities the average price for the three month bills was 98 488 and prices ranged from 98 504 to 98 486 the average price for the six months bills was 96 926 and prices ranged from 96 977 to 96 916 the average yield on the three month bills was the highest since 5 99 pct on june 30 1986 the average yield on the six month bills was the highest since 6 13 pct on june 23 1986 reuter 3 \n",
      "\n",
      "Topic: interest\n",
      "\n"
     ]
    }
   ],
   "source": [
    "selection = [classes.index(cls) for cls in set(classes)] # get one index per class\n",
    "for k in [10,20,30,35,45]:   # picked from different 5 topics (using trial and error to find)\n",
    "    # Note that our indices were offset by 3\n",
    "    # because 0, 1 and 2 are reserved indices for \"padding\", \"start of sequence\", and \"unknown\".\n",
    "    decoded_newswire = ' '.join([reverse_word_index.get(i - 3, '?') for i in data[k]])\n",
    "    print(f\"Reuters News Article {k+1}:\\n{decoded_newswire}\",\"\\n\")\n",
    "    print(f\"Topic: {idx_to_class[labels[k]]}\\n\")"
   ]
  },
  {
   "cell_type": "markdown",
   "metadata": {},
   "source": [
    "### Examine words in the corpus (Unique / Most Frequent / Least Frequent)\n",
    "To get the data corpus we first get the list of indexes<br>\n",
    "NOTE: \"start of sequence\" will appear as \"?\""
   ]
  },
  {
   "cell_type": "code",
   "execution_count": 17,
   "metadata": {},
   "outputs": [
    {
     "name": "stdout",
     "output_type": "stream",
     "text": [
      "There are 1638886 words in the data corpus\n"
     ]
    }
   ],
   "source": [
    "indexes = [word for doc in data for word in doc]  \n",
    "print(f\"There are {len(indexes)} words in the data corpus\")"
   ]
  },
  {
   "cell_type": "markdown",
   "metadata": {},
   "source": [
    "### Top 25 most common words in the corpus"
   ]
  },
  {
   "cell_type": "code",
   "execution_count": 18,
   "metadata": {},
   "outputs": [
    {
     "data": {
      "text/plain": [
       "[('in', 82723),\n",
       " ('said', 42393),\n",
       " ('and', 40350),\n",
       " ('a', 33157),\n",
       " ('mln', 29978),\n",
       " ('3', 29956),\n",
       " ('for', 29581),\n",
       " ('vs', 20141),\n",
       " ('dlrs', 16668),\n",
       " ('it', 15224),\n",
       " ('reuter', 15015),\n",
       " ('000', 13329),\n",
       " ('1', 12395),\n",
       " ('the', 11228),\n",
       " ('pct', 11191),\n",
       " ('on', 11039),\n",
       " ('from', 10755),\n",
       " ('is', 10746),\n",
       " ('that', 10377),\n",
       " ('its', 9345),\n",
       " ('cts', 9113),\n",
       " ('by', 9022),\n",
       " ('at', 8579),\n",
       " ('year', 8451),\n",
       " ('be', 8311)]"
      ]
     },
     "execution_count": 18,
     "metadata": {},
     "output_type": "execute_result"
    }
   ],
   "source": [
    "corpus = [reverse_word_index.get(index,'?') for index in indexes]\n",
    "corpus_freq = Counter(corpus).most_common()\n",
    "corpus_freq[:25]"
   ]
  },
  {
   "cell_type": "markdown",
   "metadata": {},
   "source": [
    "### Top 25 least common words in the corpus"
   ]
  },
  {
   "cell_type": "code",
   "execution_count": 19,
   "metadata": {},
   "outputs": [
    {
     "name": "stdout",
     "output_type": "stream",
     "text": [
      "There are 10305 words that occur just once in the data corpus totaling 1638886 words\n"
     ]
    }
   ],
   "source": [
    "uniques = [word for word,freq in Counter(corpus).items() if freq == 1]\n",
    "print(f\"There are {len(uniques)} words that occur just once in the data corpus totaling 1638886 words\")"
   ]
  },
  {
   "cell_type": "code",
   "execution_count": 20,
   "metadata": {},
   "outputs": [
    {
     "data": {
      "text/plain": [
       "[('barrelling', 1),\n",
       " ('bionomic', 1),\n",
       " ('atcma', 1),\n",
       " ('leopoldo', 1),\n",
       " ('departnment', 1),\n",
       " ('greylock', 1),\n",
       " ('knives', 1),\n",
       " ('theys', 1),\n",
       " ('gienow', 1),\n",
       " ('tentonian', 1),\n",
       " ('trifles', 1),\n",
       " ('brutal', 1),\n",
       " ('mustapha', 1),\n",
       " ('ufe', 1),\n",
       " ('armatron', 1),\n",
       " ('outraged', 1),\n",
       " ('enliven', 1),\n",
       " ('7801', 1),\n",
       " ('billard', 1),\n",
       " ('sulphurisation', 1),\n",
       " ('ncw', 1),\n",
       " ('collapsing', 1),\n",
       " ('rechannelling', 1),\n",
       " ('schipol', 1),\n",
       " ('monopolising', 1)]"
      ]
     },
     "execution_count": 20,
     "metadata": {},
     "output_type": "execute_result"
    }
   ],
   "source": [
    "corpus_freq[:-26:-1]"
   ]
  },
  {
   "cell_type": "markdown",
   "metadata": {},
   "source": [
    "### Number of words corpus vocabulary"
   ]
  },
  {
   "cell_type": "code",
   "execution_count": 21,
   "metadata": {},
   "outputs": [
    {
     "name": "stdout",
     "output_type": "stream",
     "text": [
      "There are 30980 words in the data corpus that represent the vocabulary\n"
     ]
    }
   ],
   "source": [
    "unique_indexes = list(set(indexes))\n",
    "print(f\"There are {len(unique_indexes)} words in the data corpus that represent the vocabulary\")"
   ]
  },
  {
   "cell_type": "code",
   "execution_count": 22,
   "metadata": {},
   "outputs": [
    {
     "data": {
      "text/plain": [
       "['wattie',\n",
       " 'nondiscriminatory',\n",
       " \"recommend's\",\n",
       " 'supplie',\n",
       " 'linares',\n",
       " 'unsubsidised',\n",
       " 'optioon',\n",
       " 'nonbelligerent',\n",
       " '8231',\n",
       " \"regime's\",\n",
       " 'effot',\n",
       " 'kuomintang',\n",
       " 'silently',\n",
       " 'disapproval',\n",
       " 'monarch',\n",
       " 'erba',\n",
       " 'hoax',\n",
       " 'cnpc',\n",
       " 'elbe',\n",
       " 'bavaria',\n",
       " 'mutton',\n",
       " 'saffron',\n",
       " 'thunderstorms',\n",
       " 'rogaland',\n",
       " 'atkinson']"
      ]
     },
     "execution_count": 22,
     "metadata": {},
     "output_type": "execute_result"
    }
   ],
   "source": [
    "uniques[:25]"
   ]
  },
  {
   "cell_type": "markdown",
   "metadata": {},
   "source": [
    "###  Overview of word corpus <br>\n",
    "\n",
    "| Word Frequency  | Description    |  Count        |  Percentage   |\n",
    "| :---            |    :----:      |     :----:    |          ---: |\n",
    "| Top 25 Words    | High Frequency |     499,067   |       0.30451 |\n",
    "| Bottom 25 Words | Low Frequency  |      10,305   |       0.00628 |\n",
    "| Unique Words    | Unique         |      30,398   |       0.01890 |\n"
   ]
  },
  {
   "cell_type": "markdown",
   "metadata": {},
   "source": [
    "### Review documents and create a histogram based on the number of words contain within each document"
   ]
  },
  {
   "cell_type": "code",
   "execution_count": 23,
   "metadata": {},
   "outputs": [
    {
     "name": "stdout",
     "output_type": "stream",
     "text": [
      "Number of words in Rueters News Articles: 2 to 2376\n",
      "There are a total of 1638886 words in the data corpus\n"
     ]
    }
   ],
   "source": [
    "doc_sizes = ([len(lst) for lst in data]) # num of words in each document\n",
    "print(f\"Number of words in Rueters News Articles: {min(doc_sizes)} to {max(doc_sizes)}\")\n",
    "print(f\"There are a total of {sum(doc_sizes)} words in the data corpus\")"
   ]
  },
  {
   "cell_type": "markdown",
   "metadata": {},
   "source": [
    "### Review distribution of the document sizes for data corpus"
   ]
  },
  {
   "cell_type": "code",
   "execution_count": 24,
   "metadata": {},
   "outputs": [
    {
     "data": {
      "text/plain": [
       "Text(0, 0.5, 'Number of Reuters News Articles')"
      ]
     },
     "execution_count": 24,
     "metadata": {},
     "output_type": "execute_result"
    },
    {
     "data": {
      "image/png": "[encoded data removed]",
      "text/plain": [
       "<Figure size 1080x648 with 1 Axes>"
      ]
     },
     "metadata": {
      "needs_background": "light"
     },
     "output_type": "display_data"
    }
   ],
   "source": [
    "plt.figure(figsize=[15,9])\n",
    "plt.hist(doc_sizes, bins=20,range = (0,800))\n",
    "plt.xlabel(\"Words Per Document\")\n",
    "plt.ylabel(\"Number of Reuters News Articles\")"
   ]
  },
  {
   "cell_type": "markdown",
   "metadata": {},
   "source": [
    "Distribution is right screwed, most of the words contained with the first couple hundred documents"
   ]
  },
  {
   "cell_type": "markdown",
   "metadata": {},
   "source": [
    "## Preprocess Reuters Dataset"
   ]
  },
  {
   "cell_type": "markdown",
   "metadata": {},
   "source": [
    "Decisions resulting from EDA<br>\n",
    "Input Vector size from document length (maxlen)<br>\n",
    "Skip Top 25 words - as non-informative (skip_top)"
   ]
  },
  {
   "cell_type": "code",
   "execution_count": 25,
   "metadata": {},
   "outputs": [],
   "source": [
    "voc_size=10500"
   ]
  },
  {
   "cell_type": "markdown",
   "metadata": {},
   "source": [
    "<div class=\"alert alert-block alert-info\">\n",
    "<b>tf.keras.datasets.reuters.load_data</b><br>\n",
    "https://www.tensorflow.org/api_docs/python/tf/keras/datasets/reuters/load_data\n",
    "</div>"
   ]
  },
  {
   "cell_type": "code",
   "execution_count": 26,
   "metadata": {},
   "outputs": [],
   "source": [
    "(train_data, train_labels),(test_data, test_labels) = tf.keras.datasets.reuters.load_data(\n",
    "                                      path='reuters.npz', num_words=voc_size, skip_top=26, maxlen=300, test_split=0.2,\n",
    "                                      seed=113, start_char=1, oov_char=2, index_from=3)"
   ]
  },
  {
   "cell_type": "markdown",
   "metadata": {},
   "source": [
    "### Review Data (Training / Test)"
   ]
  },
  {
   "cell_type": "code",
   "execution_count": 27,
   "metadata": {},
   "outputs": [
    {
     "data": {
      "text/plain": [
       "((7976,), (1994,))"
      ]
     },
     "execution_count": 27,
     "metadata": {},
     "output_type": "execute_result"
    }
   ],
   "source": [
    "train_labels.shape, test_labels.shape"
   ]
  },
  {
   "cell_type": "markdown",
   "metadata": {},
   "source": [
    "### Review training and testing split of words "
   ]
  },
  {
   "cell_type": "code",
   "execution_count": 28,
   "metadata": {},
   "outputs": [],
   "source": [
    "train_data_sizes = [len(s) for s in train_data]\n",
    "test_data_sizes = [len(s) for s in test_data]"
   ]
  },
  {
   "cell_type": "code",
   "execution_count": 29,
   "metadata": {},
   "outputs": [
    {
     "data": {
      "text/plain": [
       "'There are 827922 words in the training data corpus'"
      ]
     },
     "execution_count": 29,
     "metadata": {},
     "output_type": "execute_result"
    }
   ],
   "source": [
    "f\"There are {sum(train_data_sizes)} words in the training data corpus\""
   ]
  },
  {
   "cell_type": "code",
   "execution_count": 30,
   "metadata": {},
   "outputs": [
    {
     "data": {
      "text/plain": [
       "'There are 206813 words in the test data corpus'"
      ]
     },
     "execution_count": 30,
     "metadata": {},
     "output_type": "execute_result"
    }
   ],
   "source": [
    "f\"There are {sum(test_data_sizes)} words in the test data corpus\""
   ]
  },
  {
   "cell_type": "markdown",
   "metadata": {},
   "source": [
    "### Padding Input Vector (Sequences) "
   ]
  },
  {
   "cell_type": "markdown",
   "metadata": {},
   "source": [
    "This function transforms a list (of length num_samples) of sequences (lists of integers) into a 2D Numpy array of shape (num_samples, num_timesteps). num_timesteps is either the maxlen argument if provided, or the length of the longest sequence in the list.<br>\n",
    "\n",
    "Sequences that are shorter than num_timesteps are padded with value until they are num_timesteps long.<br>\n",
    "\n",
    "Sequences longer than num_timesteps are truncated so that they fit the desired length.<br>\n",
    "\n",
    "The position where padding or truncation happens is determined by the arguments padding and truncating, respectively. Pre-padding or removing values from the beginning of the sequence is the default.<br>"
   ]
  },
  {
   "cell_type": "markdown",
   "metadata": {},
   "source": [
    "<div class=\"alert alert-block alert-info\">\n",
    "<b>tf.keras.preprocessing.sequence.pad_sequences</b><br>\n",
    "https://www.tensorflow.org/api_docs/python/tf/keras/preprocessing/sequence/pad_sequences\n",
    "</div>"
   ]
  },
  {
   "cell_type": "code",
   "execution_count": 31,
   "metadata": {},
   "outputs": [],
   "source": [
    "train_data_rnn = tf.keras.preprocessing.sequence.pad_sequences(train_data, padding='post')\n",
    "test_data_rnn = tf.keras.preprocessing.sequence.pad_sequences(test_data, padding='post')"
   ]
  },
  {
   "cell_type": "code",
   "execution_count": 32,
   "metadata": {},
   "outputs": [
    {
     "data": {
      "text/plain": [
       "((7976, 299), (1994, 299))"
      ]
     },
     "execution_count": 32,
     "metadata": {},
     "output_type": "execute_result"
    }
   ],
   "source": [
    "train_data_rnn.shape, test_data_rnn.shape"
   ]
  },
  {
   "cell_type": "markdown",
   "metadata": {},
   "source": [
    "### One Hot Encoding Labels\n",
    "\n",
    "We will change the way this label is represented from a class name or number, to a vector of all possible classes with all the classes set to 0 except the one which this example belongs to - which will be set to 1. For example:\n",
    "\n",
    "\n",
    "| original label | one-hot encoded label |\n",
    "|------|------|\n",
    "| 3 | [0, 0, 0, 1, 0, 0, 0, 0, 0, 0] |\n",
    "| 4 | [0, 0, 0, 0, 1, 0, 0, 0, 0, 0] |\n",
    "| 5 | [0, 0, 0, 0, 0, 1, 0, 0, 0, 0] |"
   ]
  },
  {
   "cell_type": "code",
   "execution_count": 33,
   "metadata": {},
   "outputs": [
    {
     "name": "stdout",
     "output_type": "stream",
     "text": [
      "First ten entries of train_labels:\n",
      " [3 4 3 4 4]\n",
      "\n",
      "First ten rows of one-hot train_labels:\n",
      " [[0. 0. 0. 1. 0. 0. 0. 0. 0. 0. 0. 0. 0. 0. 0. 0. 0. 0. 0. 0. 0. 0. 0. 0.\n",
      "  0. 0. 0. 0. 0. 0. 0. 0. 0. 0. 0. 0. 0. 0. 0. 0. 0. 0. 0. 0. 0. 0.]\n",
      " [0. 0. 0. 0. 1. 0. 0. 0. 0. 0. 0. 0. 0. 0. 0. 0. 0. 0. 0. 0. 0. 0. 0. 0.\n",
      "  0. 0. 0. 0. 0. 0. 0. 0. 0. 0. 0. 0. 0. 0. 0. 0. 0. 0. 0. 0. 0. 0.]\n",
      " [0. 0. 0. 1. 0. 0. 0. 0. 0. 0. 0. 0. 0. 0. 0. 0. 0. 0. 0. 0. 0. 0. 0. 0.\n",
      "  0. 0. 0. 0. 0. 0. 0. 0. 0. 0. 0. 0. 0. 0. 0. 0. 0. 0. 0. 0. 0. 0.]\n",
      " [0. 0. 0. 0. 1. 0. 0. 0. 0. 0. 0. 0. 0. 0. 0. 0. 0. 0. 0. 0. 0. 0. 0. 0.\n",
      "  0. 0. 0. 0. 0. 0. 0. 0. 0. 0. 0. 0. 0. 0. 0. 0. 0. 0. 0. 0. 0. 0.]\n",
      " [0. 0. 0. 0. 1. 0. 0. 0. 0. 0. 0. 0. 0. 0. 0. 0. 0. 0. 0. 0. 0. 0. 0. 0.\n",
      "  0. 0. 0. 0. 0. 0. 0. 0. 0. 0. 0. 0. 0. 0. 0. 0. 0. 0. 0. 0. 0. 0.]]\n"
     ]
    }
   ],
   "source": [
    "train_labels_encoded = to_categorical(train_labels)\n",
    "test_labels_encoded = to_categorical(test_labels)\n",
    "\n",
    "print(\"First ten entries of train_labels:\\n {}\\n\".format(train_labels[0:5]))\n",
    "print(\"First ten rows of one-hot train_labels:\\n {}\".format(train_labels_encoded[0:5,]))"
   ]
  },
  {
   "cell_type": "markdown",
   "metadata": {},
   "source": [
    "## Build SimpleRNN Model"
   ]
  },
  {
   "cell_type": "markdown",
   "metadata": {},
   "source": [
    "<img src=\"https://github.com/djp840/MSDS_458_Public/blob/master/images/SimpleRNNArchitecture.png?raw=1\">"
   ]
  },
  {
   "cell_type": "code",
   "execution_count": 34,
   "metadata": {},
   "outputs": [],
   "source": [
    "model = Sequential()\n",
    "model.add(Embedding(input_dim=voc_size, output_dim=128, input_length=299))\n",
    "model.add(SimpleRNN(units=256,activation='tanh',use_bias=True))\n",
    "model.add(Dense(units=46, activation='softmax'))"
   ]
  },
  {
   "cell_type": "code",
   "execution_count": 35,
   "metadata": {},
   "outputs": [
    {
     "name": "stdout",
     "output_type": "stream",
     "text": [
      "Model: \"sequential\"\n",
      "_________________________________________________________________\n",
      "Layer (type)                 Output Shape              Param #   \n",
      "=================================================================\n",
      "embedding (Embedding)        (None, 299, 128)          1344000   \n",
      "_________________________________________________________________\n",
      "simple_rnn (SimpleRNN)       (None, 256)               98560     \n",
      "_________________________________________________________________\n",
      "dense (Dense)                (None, 46)                11822     \n",
      "=================================================================\n",
      "Total params: 1,454,382\n",
      "Trainable params: 1,454,382\n",
      "Non-trainable params: 0\n",
      "_________________________________________________________________\n"
     ]
    }
   ],
   "source": [
    "model.summary()"
   ]
  },
  {
   "cell_type": "markdown",
   "metadata": {},
   "source": [
    "### Calculate the Number of Parameters Per Layer\n",
    "<div class=\"alert alert-block alert-success\">\n",
    "    <b>Embedding Parameters</b> = num_words(10500) * size of output (128)<br> \n",
    "<b>RNN Parameters</b> = [(size_of_input + 1) * size_of_output + size_of_output^2)]<br>\n",
    "<b>Dense Layer</b> = size of input(256+1) * size of output(46)\n",
    "</div>"
   ]
  },
  {
   "cell_type": "code",
   "execution_count": 36,
   "metadata": {},
   "outputs": [
    {
     "data": {
      "image/png": "[encoded data removed]",
      "text/plain": [
       "<IPython.core.display.Image object>"
      ]
     },
     "execution_count": 36,
     "metadata": {},
     "output_type": "execute_result"
    }
   ],
   "source": [
    "keras.utils.plot_model(model, \"SimpleRNN_model.png\", show_shapes=True) "
   ]
  },
  {
   "cell_type": "markdown",
   "metadata": {},
   "source": [
    "### Compile SimpleRNN Model"
   ]
  },
  {
   "cell_type": "code",
   "execution_count": 37,
   "metadata": {},
   "outputs": [],
   "source": [
    "model.compile(optimizer='rmsprop',\n",
    "              loss='categorical_crossentropy',\n",
    "              metrics=['accuracy'])"
   ]
  },
  {
   "cell_type": "markdown",
   "metadata": {},
   "source": [
    "### Define Callback - Training Time Statistics"
   ]
  },
  {
   "cell_type": "code",
   "execution_count": 38,
   "metadata": {},
   "outputs": [],
   "source": [
    "class TrainRuntimeCallback(keras.callbacks.Callback):\n",
    "\n",
    "  def on_train_begin(self,logs={}):\n",
    "    self.start = datetime.datetime.now()\n",
    "\n",
    "  def on_train_end(self,logs={}):\n",
    "    self.process_time = (datetime.datetime.now() - self.start).total_seconds()"
   ]
  },
  {
   "cell_type": "markdown",
   "metadata": {},
   "source": [
    "### Training SimpleRNN Model"
   ]
  },
  {
   "cell_type": "code",
   "execution_count": 39,
   "metadata": {},
   "outputs": [
    {
     "name": "stdout",
     "output_type": "stream",
     "text": [
      "Epoch 1/10\n",
      "53/53 [==============================] - 40s 756ms/step - loss: 2.4545 - accuracy: 0.3380 - val_loss: 2.4198 - val_accuracy: 0.2247\n",
      "Epoch 2/10\n",
      "53/53 [==============================] - 40s 753ms/step - loss: 2.3657 - accuracy: 0.3548 - val_loss: 2.3515 - val_accuracy: 0.3751\n",
      "Epoch 3/10\n",
      "53/53 [==============================] - 40s 751ms/step - loss: 2.3471 - accuracy: 0.3790 - val_loss: 2.3529 - val_accuracy: 0.3751\n",
      "Epoch 4/10\n",
      "53/53 [==============================] - 40s 749ms/step - loss: 2.3547 - accuracy: 0.3709 - val_loss: 2.3509 - val_accuracy: 0.3751\n",
      "Epoch 5/10\n",
      "53/53 [==============================] - 40s 751ms/step - loss: 2.3494 - accuracy: 0.3728 - val_loss: 2.3821 - val_accuracy: 0.3751\n",
      "Epoch 6/10\n",
      "53/53 [==============================] - 40s 748ms/step - loss: 2.3517 - accuracy: 0.3658 - val_loss: 2.3588 - val_accuracy: 0.3751\n",
      "Epoch 7/10\n",
      "53/53 [==============================] - 40s 749ms/step - loss: 2.3519 - accuracy: 0.3685 - val_loss: 2.3874 - val_accuracy: 0.2247\n",
      "Epoch 8/10\n",
      "53/53 [==============================] - 40s 751ms/step - loss: 2.3518 - accuracy: 0.3714 - val_loss: 2.3711 - val_accuracy: 0.3751\n",
      "Epoch 9/10\n",
      "53/53 [==============================] - 40s 749ms/step - loss: 2.3421 - accuracy: 0.3744 - val_loss: 2.3536 - val_accuracy: 0.3743\n",
      "Epoch 10/10\n",
      "53/53 [==============================] - 40s 752ms/step - loss: 2.3449 - accuracy: 0.3678 - val_loss: 2.3467 - val_accuracy: 0.3751\n"
     ]
    }
   ],
   "source": [
    "train_rt = TrainRuntimeCallback()\n",
    "history = model.fit(train_data_rnn,\n",
    "                    train_labels_encoded,\n",
    "                    callbacks = [train_rt],\n",
    "                    epochs=10,\n",
    "                    batch_size=128,\n",
    "                    validation_split = 0.15)   "
   ]
  },
  {
   "cell_type": "markdown",
   "metadata": {},
   "source": [
    "### Training Time Statistics SimpleRNN"
   ]
  },
  {
   "cell_type": "code",
   "execution_count": 40,
   "metadata": {},
   "outputs": [
    {
     "data": {
      "text/plain": [
       "6.7736646333333335"
      ]
     },
     "execution_count": 40,
     "metadata": {},
     "output_type": "execute_result"
    }
   ],
   "source": [
    "train_time = (train_rt.process_time/60)\n",
    "train_time"
   ]
  },
  {
   "cell_type": "markdown",
   "metadata": {},
   "source": [
    "### Test SimpleRNN Model"
   ]
  },
  {
   "cell_type": "code",
   "execution_count": 41,
   "metadata": {},
   "outputs": [
    {
     "name": "stdout",
     "output_type": "stream",
     "text": [
      "63/63 [==============================] - 6s 95ms/step - loss: 2.3379 - accuracy: 0.3967\n",
      "test set accuracy:  39.66900706291199\n"
     ]
    }
   ],
   "source": [
    "loss, accuracy = model.evaluate(test_data_rnn, test_labels_encoded)\n",
    "print('test set accuracy: ', accuracy * 100)"
   ]
  },
  {
   "cell_type": "markdown",
   "metadata": {},
   "source": [
    "### Plotting Performance Metrics SimpleRNN"
   ]
  },
  {
   "cell_type": "code",
   "execution_count": 42,
   "metadata": {},
   "outputs": [
    {
     "data": {
      "text/plain": [
       "dict_keys(['loss', 'accuracy', 'val_loss', 'val_accuracy'])"
      ]
     },
     "execution_count": 42,
     "metadata": {},
     "output_type": "execute_result"
    }
   ],
   "source": [
    "history_dict = history.history\n",
    "history_dict.keys()"
   ]
  },
  {
   "cell_type": "code",
   "execution_count": 43,
   "metadata": {},
   "outputs": [],
   "source": [
    "losses = history.history['loss']\n",
    "accs = history.history['accuracy']\n",
    "val_losses = history.history['val_loss']\n",
    "val_accs = history.history['val_accuracy']\n",
    "epochs = len(losses)"
   ]
  },
  {
   "cell_type": "code",
   "execution_count": 44,
   "metadata": {},
   "outputs": [
    {
     "data": {
      "image/png": "[encoded data removed]",
      "text/plain": [
       "<Figure size 864x288 with 2 Axes>"
      ]
     },
     "metadata": {
      "needs_background": "light"
     },
     "output_type": "display_data"
    }
   ],
   "source": [
    "plt.figure(figsize=(12, 4))\n",
    "for i, metrics in enumerate(zip([losses, accs], [val_losses, val_accs], ['Loss', 'Accuracy'])):\n",
    "    plt.subplot(1, 2, i + 1)\n",
    "    plt.plot(range(epochs), metrics[0], label='Training {}'.format(metrics[2]))\n",
    "    plt.plot(range(epochs), metrics[1], label='Validation {}'.format(metrics[2]))\n",
    "    plt.legend()\n",
    "plt.show()"
   ]
  },
  {
   "cell_type": "markdown",
   "metadata": {},
   "source": [
    "## Build LSTM Model"
   ]
  },
  {
   "cell_type": "markdown",
   "metadata": {},
   "source": [
    "<img src=\"https://github.com/djp840/MSDS_458_Public/blob/master/images/LSTMcellArchitecture.png?raw=1\">"
   ]
  },
  {
   "cell_type": "code",
   "execution_count": 45,
   "metadata": {},
   "outputs": [],
   "source": [
    "(train_data, LSTMtrain_labels),(test_data, LSTMtest_labels) = tf.keras.datasets.reuters.load_data(\n",
    "                                      path='reuters.npz', num_words=30980, skip_top=26, maxlen=2376, test_split=0.2,\n",
    "                                      seed=113, start_char=1, oov_char=2, index_from=26)"
   ]
  },
  {
   "cell_type": "code",
   "execution_count": 46,
   "metadata": {},
   "outputs": [],
   "source": [
    "LSTMtrain_data_rnn = tf.keras.preprocessing.sequence.pad_sequences(train_data,maxlen=1032)\n",
    "LSTMtest_data_rnn = tf.keras.preprocessing.sequence.pad_sequences(test_data,maxlen=1032)\n",
    "LSTMtrain_encoded = to_categorical(LSTMtrain_labels)\n",
    "LSTMtest_encoded = to_categorical(LSTMtest_labels)"
   ]
  },
  {
   "cell_type": "code",
   "execution_count": 47,
   "metadata": {},
   "outputs": [
    {
     "data": {
      "text/plain": [
       "((8981, 1032), (2246, 1032))"
      ]
     },
     "execution_count": 47,
     "metadata": {},
     "output_type": "execute_result"
    }
   ],
   "source": [
    "LSTMtrain_data_rnn.shape, LSTMtest_data_rnn.shape"
   ]
  },
  {
   "cell_type": "code",
   "execution_count": 48,
   "metadata": {},
   "outputs": [],
   "source": [
    "LSTMmodel= Sequential()\n",
    "LSTMmodel.add(Embedding(input_dim=30980, output_dim=256, input_length=1032))\n",
    "LSTMmodel.add(LSTM(units = 128))\n",
    "LSTMmodel.add(Dropout(0.2))\n",
    "LSTMmodel.add(Dense(units = 46, activation='softmax'))"
   ]
  },
  {
   "cell_type": "code",
   "execution_count": 49,
   "metadata": {},
   "outputs": [
    {
     "name": "stdout",
     "output_type": "stream",
     "text": [
      "Model: \"sequential_1\"\n",
      "_________________________________________________________________\n",
      "Layer (type)                 Output Shape              Param #   \n",
      "=================================================================\n",
      "embedding_1 (Embedding)      (None, 1032, 256)         7930880   \n",
      "_________________________________________________________________\n",
      "lstm (LSTM)                  (None, 128)               197120    \n",
      "_________________________________________________________________\n",
      "dropout (Dropout)            (None, 128)               0         \n",
      "_________________________________________________________________\n",
      "dense_1 (Dense)              (None, 46)                5934      \n",
      "=================================================================\n",
      "Total params: 8,133,934\n",
      "Trainable params: 8,133,934\n",
      "Non-trainable params: 0\n",
      "_________________________________________________________________\n"
     ]
    }
   ],
   "source": [
    "LSTMmodel.summary()"
   ]
  },
  {
   "cell_type": "markdown",
   "metadata": {},
   "source": [
    "### Calculate the Number of Parameters Per Layer\n",
    "Embedding Parameters = num_words(30980) * size of output (256)<br> \n",
    "LSTM Parameters = 4 * [(size_of_input + 1) * size_of_output + size_of_output^2)]<br>\n",
    "Dense Layer = size of input(256+1) * size of output(46) "
   ]
  },
  {
   "cell_type": "code",
   "execution_count": 50,
   "metadata": {},
   "outputs": [
    {
     "data": {
      "image/png": "[encoded data removed]",
      "text/plain": [
       "<IPython.core.display.Image object>"
      ]
     },
     "execution_count": 50,
     "metadata": {},
     "output_type": "execute_result"
    }
   ],
   "source": [
    "keras.utils.plot_model(LSTMmodel, \"LSTM_model.png\", show_shapes=True) "
   ]
  },
  {
   "cell_type": "markdown",
   "metadata": {},
   "source": [
    "### Compile LSTM Model"
   ]
  },
  {
   "cell_type": "code",
   "execution_count": 51,
   "metadata": {},
   "outputs": [],
   "source": [
    "LSTMmodel.compile(optimizer='rmsprop',\n",
    "              loss='categorical_crossentropy',\n",
    "              metrics=['accuracy'])"
   ]
  },
  {
   "cell_type": "markdown",
   "metadata": {},
   "source": [
    "### Training LSTM Model"
   ]
  },
  {
   "cell_type": "code",
   "execution_count": 52,
   "metadata": {},
   "outputs": [
    {
     "name": "stdout",
     "output_type": "stream",
     "text": [
      "Epoch 1/10\n",
      "120/120 [==============================] - 369s 3s/step - loss: 2.1905 - accuracy: 0.4334 - val_loss: 1.9370 - val_accuracy: 0.5230\n",
      "Epoch 2/10\n",
      "120/120 [==============================] - 368s 3s/step - loss: 1.6877 - accuracy: 0.5592 - val_loss: 1.6828 - val_accuracy: 0.5816\n",
      "Epoch 3/10\n",
      "120/120 [==============================] - 367s 3s/step - loss: 1.5037 - accuracy: 0.6097 - val_loss: 1.6004 - val_accuracy: 0.5861\n",
      "Epoch 4/10\n",
      "120/120 [==============================] - 368s 3s/step - loss: 1.2967 - accuracy: 0.6634 - val_loss: 1.4073 - val_accuracy: 0.6469\n",
      "Epoch 5/10\n",
      "120/120 [==============================] - 368s 3s/step - loss: 1.0778 - accuracy: 0.7238 - val_loss: 1.3482 - val_accuracy: 0.6699\n",
      "Epoch 6/10\n",
      "120/120 [==============================] - 368s 3s/step - loss: 0.9558 - accuracy: 0.7576 - val_loss: 1.3529 - val_accuracy: 0.6780\n",
      "Epoch 7/10\n",
      "120/120 [==============================] - 367s 3s/step - loss: 0.8010 - accuracy: 0.7964 - val_loss: 1.4160 - val_accuracy: 0.6669\n",
      "Epoch 8/10\n",
      "120/120 [==============================] - 367s 3s/step - loss: 0.7036 - accuracy: 0.8239 - val_loss: 1.5009 - val_accuracy: 0.6506\n",
      "Epoch 9/10\n",
      "120/120 [==============================] - 367s 3s/step - loss: 0.6117 - accuracy: 0.8415 - val_loss: 1.3930 - val_accuracy: 0.7062\n",
      "Epoch 10/10\n",
      "120/120 [==============================] - 368s 3s/step - loss: 0.5330 - accuracy: 0.8670 - val_loss: 1.4734 - val_accuracy: 0.6914\n"
     ]
    }
   ],
   "source": [
    "train_rt = TrainRuntimeCallback()\n",
    "history = LSTMmodel.fit(LSTMtrain_data_rnn,\n",
    "                    LSTMtrain_encoded,\n",
    "                    callbacks = [train_rt],\n",
    "                    epochs=10,\n",
    "                    batch_size=64,\n",
    "                    validation_split = 0.15) "
   ]
  },
  {
   "cell_type": "markdown",
   "metadata": {},
   "source": [
    "### Training Time Statistics LSTM "
   ]
  },
  {
   "cell_type": "code",
   "execution_count": 53,
   "metadata": {},
   "outputs": [
    {
     "data": {
      "text/plain": [
       "61.81978175"
      ]
     },
     "execution_count": 53,
     "metadata": {},
     "output_type": "execute_result"
    }
   ],
   "source": [
    "LSTMtrain_time = (train_rt.process_time/60)\n",
    "LSTMtrain_time"
   ]
  },
  {
   "cell_type": "markdown",
   "metadata": {},
   "source": [
    "### Test LSTM Model"
   ]
  },
  {
   "cell_type": "code",
   "execution_count": 54,
   "metadata": {},
   "outputs": [
    {
     "name": "stdout",
     "output_type": "stream",
     "text": [
      "71/71 [==============================] - 41s 578ms/step - loss: 1.5533 - accuracy: 0.6785\n",
      "test set accuracy:  67.85396337509155\n"
     ]
    }
   ],
   "source": [
    "loss, accuracy = LSTMmodel.evaluate(LSTMtest_data_rnn, LSTMtest_encoded)\n",
    "print('test set accuracy: ', accuracy * 100)"
   ]
  },
  {
   "cell_type": "markdown",
   "metadata": {},
   "source": [
    "### Plotting Performance Metrics LSTM"
   ]
  },
  {
   "cell_type": "code",
   "execution_count": 55,
   "metadata": {},
   "outputs": [
    {
     "data": {
      "text/plain": [
       "dict_keys(['loss', 'accuracy', 'val_loss', 'val_accuracy'])"
      ]
     },
     "execution_count": 55,
     "metadata": {},
     "output_type": "execute_result"
    }
   ],
   "source": [
    "history_dict = history.history\n",
    "history_dict.keys()"
   ]
  },
  {
   "cell_type": "code",
   "execution_count": 56,
   "metadata": {},
   "outputs": [],
   "source": [
    "losses = history.history['loss']\n",
    "accs = history.history['accuracy']\n",
    "val_losses = history.history['val_loss']\n",
    "val_accs = history.history['val_accuracy']\n",
    "epochs = len(losses)"
   ]
  },
  {
   "cell_type": "code",
   "execution_count": 57,
   "metadata": {},
   "outputs": [
    {
     "data": {
      "image/png": "[encoded data removed]",
      "text/plain": [
       "<Figure size 864x288 with 2 Axes>"
      ]
     },
     "metadata": {
      "needs_background": "light"
     },
     "output_type": "display_data"
    }
   ],
   "source": [
    "plt.figure(figsize=(12, 4))\n",
    "for i, metrics in enumerate(zip([losses, accs], [val_losses, val_accs], ['Loss', 'Accuracy'])):\n",
    "    plt.subplot(1, 2, i + 1)\n",
    "    plt.plot(range(epochs), metrics[0], label='Training {}'.format(metrics[2]))\n",
    "    plt.plot(range(epochs), metrics[1], label='Validation {}'.format(metrics[2]))\n",
    "    plt.legend()\n",
    "plt.show()"
   ]
  },
  {
   "cell_type": "code",
   "execution_count": null,
   "metadata": {},
   "outputs": [],
   "source": []
  },
  {
   "cell_type": "code",
   "execution_count": null,
   "metadata": {},
   "outputs": [],
   "source": []
  },
  {
   "cell_type": "code",
   "execution_count": null,
   "metadata": {},
   "outputs": [],
   "source": []
  },
  {
   "cell_type": "code",
   "execution_count": null,
   "metadata": {},
   "outputs": [],
   "source": []
  }
 ],
 "metadata": {
  "kernelspec": {
   "display_name": "Python 3",
   "language": "python",
   "name": "python3"
  },
  "language_info": {
   "codemirror_mode": {
    "name": "ipython",
    "version": 3
   },
   "file_extension": ".py",
   "mimetype": "text/x-python",
   "name": "python",
   "nbconvert_exporter": "python",
   "pygments_lexer": "ipython3",
   "version": "3.6.9"
  },
  "toc": {
   "base_numbering": 1,
   "nav_menu": {},
   "number_sections": false,
   "sideBar": true,
   "skip_h1_title": false,
   "title_cell": "Table of Contents",
   "title_sidebar": "Contents",
   "toc_cell": false,
   "toc_position": {},
   "toc_section_display": true,
   "toc_window_display": false
  }
 },
 "nbformat": 4,
 "nbformat_minor": 2
}

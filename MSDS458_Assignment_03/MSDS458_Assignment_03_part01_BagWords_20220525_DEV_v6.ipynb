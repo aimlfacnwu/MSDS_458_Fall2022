{
 "cells": [
  {
   "cell_type": "markdown",
   "metadata": {},
   "source": [
    "<img src=\"https://github.com/djp840/MSDS_458_Public/blob/master/images/NorthwesternHeader.png?raw=1\">"
   ]
  },
  {
   "cell_type": "markdown",
   "metadata": {},
   "source": [
    "## MSDS458 Research Assignment 3 - Part 01"
   ]
  },
  {
   "cell_type": "markdown",
   "metadata": {},
   "source": [
    "## Analyze AG_NEWS_SUBSET Data <br>\n",
    "\n",
    "AG is a collection of more than 1 million news articles. News articles have been gathered from more than 2000 news sources by ComeToMyHead in more than 1 year of activity. ComeToMyHead is an academic news search engine which has been running since July, 2004. The dataset is provided by the academic comunity for research purposes in data mining (clustering, classification, etc), information retrieval (ranking, search, etc), xml, data compression, data streaming, and any other non-commercial activity.<br> \n",
    "\n",
    "For more information, please refer to the link http://www.di.unipi.it/~gulli/AG_corpus_of_news_articles.html<br> \n",
    "\n",
    "\n",
    "The AG's news topic classification dataset is constructed by choosing 4 largest classes (**World**, **Sports**, **Business**, and **Sci/Tech**) from the original corpus. Each class contains 30,000 training samples and 1,900 testing samples. The total number of training samples is 120,000 and testing 7,600.<br>\n",
    "\n",
    "Homepage: https://arxiv.org/abs/1509.01626<br>\n",
    "\n",
    "Source code: tfds.text.AGNewsSubset\n",
    "\n",
    "Versions:\n",
    "\n",
    "1.0.0 (default): No release notes.\n",
    "Download size: 11.24 MiB\n",
    "\n",
    "Dataset size: 35.79 MiB"
   ]
  },
  {
   "cell_type": "markdown",
   "metadata": {},
   "source": [
    "## References\n",
    "1. Deep Learning with Python, Francois Chollet (https://learning.oreilly.com/library/view/deep-learning-with/9781617296864/)\n",
    " * Chapter 10: Deep learning for time series\n",
    " * Chapter 11: Deep learning for text\n",
    "2. Deep Learning A Visual Approach, Andrew Glassner (https://learning.oreilly.com/library/view/deep-learning/9781098129019/)\n",
    " * Chapter 19: Recurrent Neural Networks\n",
    " * Chapter 20: Attention and Transformers"
   ]
  },
  {
   "cell_type": "markdown",
   "metadata": {
    "colab_type": "text"
   },
   "source": [
    "# Deep learning for text"
   ]
  },
  {
   "cell_type": "markdown",
   "metadata": {
    "colab_type": "text"
   },
   "source": [
    "## Natural-language processing: The bird's eye view"
   ]
  },
  {
   "cell_type": "markdown",
   "metadata": {
    "colab_type": "text"
   },
   "source": [
    "## Preparing text data"
   ]
  },
  {
   "cell_type": "markdown",
   "metadata": {},
   "source": [
    "<img src=\"https://github.com/djp840/MSDS_458_Public/blob/master/images/11-01.png?raw=1\">"
   ]
  },
  {
   "cell_type": "markdown",
   "metadata": {},
   "source": [
    "## Import Packages"
   ]
  },
  {
   "cell_type": "code",
   "execution_count": 1,
   "metadata": {},
   "outputs": [],
   "source": [
    "from packaging import version\n",
    "\n",
    "import tensorflow as tf\n",
    "import tensorflow_datasets as tfds\n",
    "from tensorflow import keras\n",
    "from tensorflow.keras import layers\n",
    "from tensorflow.keras.layers import TextVectorization"
   ]
  },
  {
   "cell_type": "markdown",
   "metadata": {},
   "source": [
    "## Verify TensorFlow version and Keras version"
   ]
  },
  {
   "cell_type": "code",
   "execution_count": 2,
   "metadata": {},
   "outputs": [
    {
     "name": "stdout",
     "output_type": "stream",
     "text": [
      "This notebook requires TensorFlow 2.0 or above\n",
      "TensorFlow version:  2.8.0\n"
     ]
    }
   ],
   "source": [
    "print(\"This notebook requires TensorFlow 2.0 or above\")\n",
    "print(\"TensorFlow version: \", tf.__version__)\n",
    "assert version.parse(tf.__version__).release[0] >=2"
   ]
  },
  {
   "cell_type": "code",
   "execution_count": 3,
   "metadata": {},
   "outputs": [
    {
     "name": "stdout",
     "output_type": "stream",
     "text": [
      "Keras version:  2.8.0\n"
     ]
    }
   ],
   "source": [
    "print(\"Keras version: \", keras.__version__)"
   ]
  },
  {
   "cell_type": "markdown",
   "metadata": {},
   "source": [
    "## Mount Google Drive to Colab environment"
   ]
  },
  {
   "cell_type": "code",
   "execution_count": 4,
   "metadata": {},
   "outputs": [],
   "source": [
    "#from google.colab import drive\n",
    "#drive.mount('/content/gdrive')"
   ]
  },
  {
   "cell_type": "markdown",
   "metadata": {
    "colab_type": "text"
   },
   "source": [
    "## Load AG_NEWS_SUBSET News Articles Dataset"
   ]
  },
  {
   "cell_type": "code",
   "execution_count": 5,
   "metadata": {
    "scrolled": false
   },
   "outputs": [
    {
     "name": "stdout",
     "output_type": "stream",
     "text": [
      "2022-05-08 14:26:55.929599: W tensorflow/stream_executor/platform/default/dso_loader.cc:64] Could not load dynamic library 'libcudart.so.11.0'; dlerror: libcudart.so.11.0: cannot open shared object file: No such file or directory\n",
      "2022-05-08 14:26:55.929677: I tensorflow/stream_executor/cuda/cudart_stub.cc:29] Ignore above cudart dlerror if you do not have a GPU set up on your machine.\n",
      "2022-05-08 14:26:58.413775: W tensorflow/stream_executor/platform/default/dso_loader.cc:64] Could not load dynamic library 'libcuda.so.1'; dlerror: libcuda.so.1: cannot open shared object file: No such file or directory\n",
      "2022-05-08 14:26:58.413809: W tensorflow/stream_executor/cuda/cuda_driver.cc:269] failed call to cuInit: UNKNOWN ERROR (303)\n",
      "2022-05-08 14:26:58.413846: I tensorflow/stream_executor/cuda/cuda_diagnostics.cc:156] kernel driver does not appear to be running on this host (ub3): /proc/driver/nvidia/version does not exist\n",
      "W0508 14:26:58.413981 139949077260096 download_and_prepare.py:42] ***`tfds build` should be used instead of `download_and_prepare`.***\n",
      "INFO[build.py]: Loading dataset ag_news_subset from imports: tensorflow_datasets.text.ag_news_subset\n",
      "INFO[dataset_info.py]: Load dataset info from /home/jensen116/tensorflow_datasets/ag_news_subset/1.0.0\n",
      "INFO[build.py]: download_and_prepare for dataset ag_news_subset/1.0.0...\n",
      "INFO[dataset_builder.py]: Reusing dataset ag_news_subset (/home/jensen116/tensorflow_datasets/ag_news_subset/1.0.0)\n",
      "INFO[build.py]: Dataset generation complete...\n",
      "\n",
      "tfds.core.DatasetInfo(\n",
      "    name='ag_news_subset',\n",
      "    full_name='ag_news_subset/1.0.0',\n",
      "    description=\"\"\"\n",
      "    AG is a collection of more than 1 million news articles.\n",
      "    News articles have been gathered from more than 2000  news sources by ComeToMyHead in more than 1 year of activity.\n",
      "    ComeToMyHead is an academic news search engine which has been running since July, 2004.\n",
      "    The dataset is provided by the academic comunity for research purposes in data mining (clustering, classification, etc),\n",
      "    information retrieval (ranking, search, etc), xml, data compression, data streaming,\n",
      "    and any other non-commercial activity.\n",
      "    For more information, please refer to the link http://www.di.unipi.it/~gulli/AG_corpus_of_news_articles.html .\n",
      "    \n",
      "    The AG's news topic classification dataset is constructed by Xiang Zhang (xiang.zhang@nyu.edu) from the dataset above.\n",
      "    It is used as a text classification benchmark in the following paper:\n",
      "    Xiang Zhang, Junbo Zhao, Yann LeCun. Character-level Convolutional Networks for Text Classification. Advances in Neural Information Processing Systems 28 (NIPS 2015).\n",
      "    \n",
      "    The AG's news topic classification dataset is constructed by choosing 4 largest classes from the original corpus.\n",
      "    Each class contains 30,000 training samples and 1,900 testing samples.\n",
      "    The total number of training samples is 120,000 and testing 7,600.\n",
      "    \"\"\",\n",
      "    homepage='https://arxiv.org/abs/1509.01626',\n",
      "    data_path='/home/jensen116/tensorflow_datasets/ag_news_subset/1.0.0',\n",
      "    download_size=11.24 MiB,\n",
      "    dataset_size=35.79 MiB,\n",
      "    features=FeaturesDict({\n",
      "        'description': Text(shape=(), dtype=tf.string),\n",
      "        'label': ClassLabel(shape=(), dtype=tf.int64, num_classes=4),\n",
      "        'title': Text(shape=(), dtype=tf.string),\n",
      "    }),\n",
      "    supervised_keys=('description', 'label'),\n",
      "    disable_shuffling=False,\n",
      "    splits={\n",
      "        'test': <SplitInfo num_examples=7600, num_shards=1>,\n",
      "        'train': <SplitInfo num_examples=120000, num_shards=1>,\n",
      "    },\n",
      "    citation=\"\"\"@misc{zhang2015characterlevel,\n",
      "        title={Character-level Convolutional Networks for Text Classification},\n",
      "        author={Xiang Zhang and Junbo Zhao and Yann LeCun},\n",
      "        year={2015},\n",
      "        eprint={1509.01626},\n",
      "        archivePrefix={arXiv},\n",
      "        primaryClass={cs.LG}\n",
      "    }\"\"\",\n",
      ")\n",
      "\n"
     ]
    }
   ],
   "source": [
    "# register  ag_news_subset so that tfds.load doesn't generate a checksum (mismatch) error\n",
    "!python -m tensorflow_datasets.scripts.download_and_prepare --register_checksums --datasets=ag_news_subset\n",
    "\n",
    "dataset, info = tfds.load('ag_news_subset', with_info=True,  split=['train[:114000]','train[114000:]', 'test'],\n",
    "                          batch_size = 32, as_supervised=True)\n",
    "train_ds, val_ds, test_ds = dataset"
   ]
  },
  {
   "cell_type": "markdown",
   "metadata": {},
   "source": [
    "## Display The Number of Batches"
   ]
  },
  {
   "cell_type": "code",
   "execution_count": 6,
   "metadata": {},
   "outputs": [
    {
     "data": {
      "text/plain": [
       "(3563, 188, 238)"
      ]
     },
     "execution_count": 6,
     "metadata": {},
     "output_type": "execute_result"
    }
   ],
   "source": [
    "len(train_ds), len(val_ds), len(test_ds)"
   ]
  },
  {
   "cell_type": "markdown",
   "metadata": {
    "colab_type": "text"
   },
   "source": [
    "## Displaying The Shapes and Dtypes of the First Batch"
   ]
  },
  {
   "cell_type": "raw",
   "metadata": {},
   "source": [
    "'description': Text(shape=(), dtype=tf.string),\n",
    "'label': ClassLabel(shape=(), dtype=tf.int64, num_classes=4),\n",
    "'title': Text(shape=(), dtype=tf.string),"
   ]
  },
  {
   "cell_type": "code",
   "execution_count": 7,
   "metadata": {},
   "outputs": [
    {
     "name": "stdout",
     "output_type": "stream",
     "text": [
      "inputs.shape: (32,)\n",
      "\n",
      "inputs.dtype: <dtype: 'string'>\n",
      "\n",
      "targets.shape: (32,)\n",
      "\n",
      "targets.dtype: <dtype: 'int64'>\n",
      "\n",
      "inputs[0]: tf.Tensor(b'AMD #39;s new dual-core Opteron chip is designed mainly for corporate computing applications, including databases, Web services, and financial transactions.', shape=(), dtype=string)\n",
      "\n",
      "targets[0]: tf.Tensor(3, shape=(), dtype=int64)\n"
     ]
    }
   ],
   "source": [
    "for inputs, targets in train_ds:\n",
    "    print(\"inputs.shape:\", inputs.shape)\n",
    "    print()\n",
    "    print(\"inputs.dtype:\", inputs.dtype)\n",
    "    print()\n",
    "    print(\"targets.shape:\", targets.shape)\n",
    "    print()\n",
    "    print(\"targets.dtype:\", targets.dtype)\n",
    "    print()\n",
    "    print(\"inputs[0]:\", inputs[0])\n",
    "    print()\n",
    "    print(\"targets[0]:\", targets[0])\n",
    "    break"
   ]
  },
  {
   "cell_type": "markdown",
   "metadata": {
    "colab_type": "text"
   },
   "source": [
    "## Processing words as a set: The bag-of-words approach\n",
    "\n",
    "The simplest way to encode a piece of text for processing by a machine learning model is to discard order and treat it as a set (a “bag”) of tokens."
   ]
  },
  {
   "cell_type": "markdown",
   "metadata": {
    "colab_type": "text"
   },
   "source": [
    "## Single words (unigrams) with binary encoding\n",
    "\n",
    "The main advantage of this encoding is that you can represent an entire text as a single vector, where each entry is a presence indicator for a given word."
   ]
  },
  {
   "cell_type": "markdown",
   "metadata": {
    "colab_type": "text"
   },
   "source": [
    "## Preprocessing Datasets TextVectorization Layer"
   ]
  },
  {
   "cell_type": "markdown",
   "metadata": {},
   "source": [
    "<div class=\"alert alert-block alert-success\">\n",
    "    <b>tf.keras.layers.TextVectorization</b><br>\n",
    "    https://www.tensorflow.org/api_docs/python/tf/keras/layers/TextVectorization\n",
    "    </div>"
   ]
  },
  {
   "cell_type": "raw",
   "metadata": {},
   "source": [
    "Max Token = 1000 Word Vocabulary"
   ]
  },
  {
   "cell_type": "code",
   "execution_count": 8,
   "metadata": {
    "colab_type": "code"
   },
   "outputs": [],
   "source": [
    "text_vectorization = TextVectorization(\n",
    "    max_tokens=1000,\n",
    "    output_mode=\"multi_hot\")"
   ]
  },
  {
   "cell_type": "code",
   "execution_count": 9,
   "metadata": {},
   "outputs": [],
   "source": [
    "text_only_train_ds = train_ds.map(lambda x, y: x)"
   ]
  },
  {
   "cell_type": "code",
   "execution_count": 10,
   "metadata": {
    "scrolled": true
   },
   "outputs": [
    {
     "name": "stdout",
     "output_type": "stream",
     "text": [
      "Get first batch of 32 news articles.\n",
      "\n",
      "Here is the first news article:\n",
      "\n",
      "b'AMD #39;s new dual-core Opteron chip is designed mainly for corporate computing applications, including databases, Web services, and financial transactions.'.\n"
     ]
    }
   ],
   "source": [
    "for text in text_only_train_ds:\n",
    "    print(f\"Get first batch of {text.shape[0]} news articles.\\n\")\n",
    "    print(f\"Here is the first news article:\\n\\n{text[0]}.\")\n",
    "    break"
   ]
  },
  {
   "cell_type": "markdown",
   "metadata": {},
   "source": [
    "## Adapt Method - Standardize Text"
   ]
  },
  {
   "cell_type": "raw",
   "metadata": {},
   "source": [
    "Create the layer, and pass the dataset's text to the layer's `.adapt` method:\n",
    "The processing of each sample contains the following steps:\n",
    "\n",
    "    standardize each sample (usually lowercasing + punctuation stripping)\n",
    "    split each sample into substrings (usually words)\n",
    "    recombine substrings into tokens (usually ngrams)\n",
    "    index tokens (associate a unique int value with each token)\n",
    "    transform each sample using this index, either into a vector of ints or a dense float vector."
   ]
  },
  {
   "cell_type": "code",
   "execution_count": 11,
   "metadata": {},
   "outputs": [],
   "source": [
    "text_vectorization.adapt(text_only_train_ds)"
   ]
  },
  {
   "cell_type": "code",
   "execution_count": 12,
   "metadata": {},
   "outputs": [],
   "source": [
    "binary_1gram_train_ds = train_ds.map(\n",
    "    lambda x, y: (text_vectorization(x), y),\n",
    "    num_parallel_calls=4)\n",
    "binary_1gram_val_ds = val_ds.map(\n",
    "    lambda x, y: (text_vectorization(x), y),\n",
    "    num_parallel_calls=4)\n",
    "binary_1gram_test_ds = test_ds.map(\n",
    "    lambda x, y: (text_vectorization(x), y),\n",
    "    num_parallel_calls=4)"
   ]
  },
  {
   "cell_type": "markdown",
   "metadata": {
    "colab_type": "text"
   },
   "source": [
    "## Inspecting Output Binary Unigram Dataset"
   ]
  },
  {
   "cell_type": "code",
   "execution_count": 13,
   "metadata": {},
   "outputs": [
    {
     "name": "stdout",
     "output_type": "stream",
     "text": [
      "inputs.shape: (32, 1000)\n",
      "\n",
      "inputs.dtype: <dtype: 'float32'>\n",
      "\n",
      "targets.shape: (32,)\n",
      "\n",
      "targets.dtype: <dtype: 'int64'>\n",
      "\n",
      "targets[0]: tf.Tensor(3, shape=(), dtype=int64)\n"
     ]
    }
   ],
   "source": [
    "for inputs, targets in binary_1gram_train_ds:\n",
    "    print(\"inputs.shape:\", inputs.shape)\n",
    "    print()\n",
    "    print(\"inputs.dtype:\", inputs.dtype)\n",
    "    print()\n",
    "    print(\"targets.shape:\", targets.shape)\n",
    "    print()\n",
    "    print(\"targets.dtype:\", targets.dtype)\n",
    "    print()\n",
    "    print(\"targets[0]:\", targets[0])\n",
    "    break"
   ]
  },
  {
   "cell_type": "markdown",
   "metadata": {
    "colab_type": "text"
   },
   "source": [
    "## Model Function "
   ]
  },
  {
   "cell_type": "code",
   "execution_count": 14,
   "metadata": {
    "colab_type": "code"
   },
   "outputs": [],
   "source": [
    "def get_model(max_tokens=1000, hidden_dim=16):\n",
    "    inputs = tf.keras.Input(shape=(max_tokens,))\n",
    "    x = layers.Dense(hidden_dim, activation=\"relu\")(inputs)\n",
    "    x = layers.Dropout(0.5)(x)\n",
    "    outputs = layers.Dense(4, activation=\"softmax\")(x)\n",
    "    model = tf.keras.Model(inputs, outputs)\n",
    "    model.compile(optimizer=\"rmsprop\",\n",
    "                  loss='SparseCategoricalCrossentropy',\n",
    "                  metrics=[\"accuracy\"])\n",
    "    return model"
   ]
  },
  {
   "cell_type": "markdown",
   "metadata": {
    "colab_type": "text"
   },
   "source": [
    "## Build Binary Unigram Model"
   ]
  },
  {
   "cell_type": "code",
   "execution_count": 15,
   "metadata": {
    "colab_type": "code",
    "scrolled": true
   },
   "outputs": [
    {
     "name": "stdout",
     "output_type": "stream",
     "text": [
      "Model: \"model\"\n",
      "_________________________________________________________________\n",
      " Layer (type)                Output Shape              Param #   \n",
      "=================================================================\n",
      " input_1 (InputLayer)        [(None, 1000)]            0         \n",
      "                                                                 \n",
      " dense (Dense)               (None, 16)                16016     \n",
      "                                                                 \n",
      " dropout (Dropout)           (None, 16)                0         \n",
      "                                                                 \n",
      " dense_1 (Dense)             (None, 4)                 68        \n",
      "                                                                 \n",
      "=================================================================\n",
      "Total params: 16,084\n",
      "Trainable params: 16,084\n",
      "Non-trainable params: 0\n",
      "_________________________________________________________________\n"
     ]
    }
   ],
   "source": [
    "model_Unigram = get_model()\n",
    "model_Unigram.summary()\n",
    "callbacks = [\n",
    "    tf.keras.callbacks.ModelCheckpoint(\"binary_1gram.keras\",save_best_only=True)\n",
    "    ,tf.keras.callbacks.EarlyStopping(monitor='val_accuracy', patience=5)\n",
    "]"
   ]
  },
  {
   "cell_type": "code",
   "execution_count": 16,
   "metadata": {},
   "outputs": [
    {
     "name": "stdout",
     "output_type": "stream",
     "text": [
      "Epoch 1/200\n",
      "3563/3563 [==============================] - 11s 3ms/step - loss: 0.6853 - accuracy: 0.7585 - val_loss: 0.4742 - val_accuracy: 0.8438\n",
      "Epoch 2/200\n",
      "3563/3563 [==============================] - 10s 3ms/step - loss: 0.6030 - accuracy: 0.8020 - val_loss: 0.4786 - val_accuracy: 0.8435\n",
      "Epoch 3/200\n",
      "3563/3563 [==============================] - 10s 3ms/step - loss: 0.6078 - accuracy: 0.8005 - val_loss: 0.4822 - val_accuracy: 0.8408\n",
      "Epoch 4/200\n",
      "3563/3563 [==============================] - 10s 3ms/step - loss: 0.6051 - accuracy: 0.7993 - val_loss: 0.4813 - val_accuracy: 0.8450\n",
      "Epoch 5/200\n",
      "3563/3563 [==============================] - 10s 3ms/step - loss: 0.6065 - accuracy: 0.7983 - val_loss: 0.4797 - val_accuracy: 0.8435\n",
      "Epoch 6/200\n",
      "3563/3563 [==============================] - 10s 3ms/step - loss: 0.6015 - accuracy: 0.7988 - val_loss: 0.4777 - val_accuracy: 0.8445\n",
      "Epoch 7/200\n",
      "3563/3563 [==============================] - 10s 3ms/step - loss: 0.6012 - accuracy: 0.7995 - val_loss: 0.4764 - val_accuracy: 0.8452\n",
      "Epoch 8/200\n",
      "3563/3563 [==============================] - 10s 3ms/step - loss: 0.5967 - accuracy: 0.7998 - val_loss: 0.4743 - val_accuracy: 0.8478\n",
      "Epoch 9/200\n",
      "3563/3563 [==============================] - 10s 3ms/step - loss: 0.5955 - accuracy: 0.7984 - val_loss: 0.4758 - val_accuracy: 0.8465\n",
      "Epoch 10/200\n",
      "3563/3563 [==============================] - 10s 3ms/step - loss: 0.5962 - accuracy: 0.7992 - val_loss: 0.4741 - val_accuracy: 0.8457\n",
      "Epoch 11/200\n",
      "3563/3563 [==============================] - 10s 3ms/step - loss: 0.5955 - accuracy: 0.7997 - val_loss: 0.4711 - val_accuracy: 0.8470\n",
      "Epoch 12/200\n",
      "3563/3563 [==============================] - 10s 3ms/step - loss: 0.5909 - accuracy: 0.8005 - val_loss: 0.4719 - val_accuracy: 0.8480\n",
      "Epoch 13/200\n",
      "3563/3563 [==============================] - 10s 3ms/step - loss: 0.5971 - accuracy: 0.7982 - val_loss: 0.4734 - val_accuracy: 0.8450\n",
      "Epoch 14/200\n",
      "3563/3563 [==============================] - 10s 3ms/step - loss: 0.5939 - accuracy: 0.7998 - val_loss: 0.4733 - val_accuracy: 0.8458\n",
      "Epoch 15/200\n",
      "3563/3563 [==============================] - 10s 3ms/step - loss: 0.5950 - accuracy: 0.7998 - val_loss: 0.4705 - val_accuracy: 0.8465\n",
      "Epoch 16/200\n",
      "3563/3563 [==============================] - 10s 3ms/step - loss: 0.5930 - accuracy: 0.7996 - val_loss: 0.4720 - val_accuracy: 0.8455\n",
      "Epoch 17/200\n",
      "3563/3563 [==============================] - 10s 3ms/step - loss: 0.5943 - accuracy: 0.7997 - val_loss: 0.4723 - val_accuracy: 0.8453\n",
      "238/238 [==============================] - 1s 2ms/step - loss: 0.4954 - accuracy: 0.8382\n",
      "Test acc: 0.838\n"
     ]
    }
   ],
   "source": [
    "model_Unigram.fit(binary_1gram_train_ds.cache(),\n",
    "          validation_data=binary_1gram_val_ds.cache(),\n",
    "          epochs=200,\n",
    "          callbacks=callbacks)\n",
    "model_Unigram = keras.models.load_model(\"binary_1gram.keras\")\n",
    "print(f\"Test acc: {model_Unigram.evaluate(binary_1gram_test_ds)[1]:.3f}\")"
   ]
  },
  {
   "cell_type": "markdown",
   "metadata": {},
   "source": [
    "We call `cache()` on the datasets to cache them in memory: this way, we will only do the preprocessing once, during the first epoch, and we’ll reuse the preprocessed texts for the following epochs. This can only be done if the data is small enough to fit in memory."
   ]
  },
  {
   "cell_type": "markdown",
   "metadata": {
    "colab_type": "text"
   },
   "source": [
    "## Bigrams With Binary Encoding\n",
    "\n",
    "Of course, discarding word order is very reductive, because even atomic concepts can be expressed via multiple words: the term “United States” conveys a concept that is quite distinct from the meaning of the words “states” and “united” taken separately. "
   ]
  },
  {
   "cell_type": "markdown",
   "metadata": {},
   "source": [
    "With bigrams, the sentence “`the cat sat on the mat.`” becomes\n",
    "\n",
    "`{\"the\", \"the cat\", \"cat\", \"cat sat\", \"sat\",\n",
    " \"sat on\", \"on\", \"on the\", \"the mat\", \"mat\"}`"
   ]
  },
  {
   "cell_type": "markdown",
   "metadata": {},
   "source": [
    "<div class=\"alert alert-block alert-success\">\n",
    "    <b>tf.keras.layers.TextVectorization</b><br>\n",
    "    https://www.tensorflow.org/api_docs/python/tf/keras/layers/TextVectorization\n",
    "    </div>"
   ]
  },
  {
   "cell_type": "markdown",
   "metadata": {
    "colab_type": "text"
   },
   "source": [
    "## Configuring the `TextVectorization` layer to return Bigrams\n",
    "\n",
    "The TextVectorization layer can be configured to return arbitrary N-grams: bigrams, trigrams, etc. Just pass an `ngrams=N` argument as in the following listing."
   ]
  },
  {
   "cell_type": "code",
   "execution_count": 17,
   "metadata": {
    "colab_type": "code"
   },
   "outputs": [],
   "source": [
    "text_vectorization = TextVectorization(\n",
    "    ngrams=2,\n",
    "    max_tokens=1000,\n",
    "    output_mode=\"multi_hot\",\n",
    ")"
   ]
  },
  {
   "cell_type": "markdown",
   "metadata": {
    "colab_type": "text"
   },
   "source": [
    "## Build Binary Bigram Model "
   ]
  },
  {
   "cell_type": "code",
   "execution_count": 18,
   "metadata": {
    "colab_type": "code"
   },
   "outputs": [
    {
     "name": "stdout",
     "output_type": "stream",
     "text": [
      "Model: \"model_1\"\n",
      "_________________________________________________________________\n",
      " Layer (type)                Output Shape              Param #   \n",
      "=================================================================\n",
      " input_2 (InputLayer)        [(None, 1000)]            0         \n",
      "                                                                 \n",
      " dense_2 (Dense)             (None, 16)                16016     \n",
      "                                                                 \n",
      " dropout_1 (Dropout)         (None, 16)                0         \n",
      "                                                                 \n",
      " dense_3 (Dense)             (None, 4)                 68        \n",
      "                                                                 \n",
      "=================================================================\n",
      "Total params: 16,084\n",
      "Trainable params: 16,084\n",
      "Non-trainable params: 0\n",
      "_________________________________________________________________\n"
     ]
    }
   ],
   "source": [
    "text_vectorization.adapt(text_only_train_ds)\n",
    "binary_2gram_train_ds = train_ds.map(\n",
    "    lambda x, y: (text_vectorization(x), y),\n",
    "    num_parallel_calls=4)\n",
    "binary_2gram_val_ds = val_ds.map(\n",
    "    lambda x, y: (text_vectorization(x), y),\n",
    "    num_parallel_calls=4)\n",
    "binary_2gram_test_ds = test_ds.map(\n",
    "    lambda x, y: (text_vectorization(x), y),\n",
    "    num_parallel_calls=4)\n",
    "\n",
    "model_Bigram = get_model()\n",
    "model_Bigram.summary()"
   ]
  },
  {
   "cell_type": "code",
   "execution_count": 19,
   "metadata": {},
   "outputs": [
    {
     "name": "stdout",
     "output_type": "stream",
     "text": [
      "Epoch 1/200\n",
      "3563/3563 [==============================] - 10s 3ms/step - loss: 0.6958 - accuracy: 0.7466 - val_loss: 0.4856 - val_accuracy: 0.8353\n",
      "Epoch 2/200\n",
      "3563/3563 [==============================] - 10s 3ms/step - loss: 0.6206 - accuracy: 0.7894 - val_loss: 0.4922 - val_accuracy: 0.8350\n",
      "Epoch 3/200\n",
      "3563/3563 [==============================] - 10s 3ms/step - loss: 0.6215 - accuracy: 0.7885 - val_loss: 0.4944 - val_accuracy: 0.8332\n",
      "Epoch 4/200\n",
      "3563/3563 [==============================] - 10s 3ms/step - loss: 0.6210 - accuracy: 0.7891 - val_loss: 0.4947 - val_accuracy: 0.8317\n",
      "Epoch 5/200\n",
      "3563/3563 [==============================] - 10s 3ms/step - loss: 0.6200 - accuracy: 0.7902 - val_loss: 0.4926 - val_accuracy: 0.8337\n",
      "Epoch 6/200\n",
      "3563/3563 [==============================] - 10s 3ms/step - loss: 0.6160 - accuracy: 0.7906 - val_loss: 0.4927 - val_accuracy: 0.8322\n",
      "238/238 [==============================] - 1s 2ms/step - loss: 0.5070 - accuracy: 0.8233\n",
      "Test acc: 0.823\n"
     ]
    }
   ],
   "source": [
    "callbacks = [\n",
    "     tf.keras.callbacks.ModelCheckpoint(\"binary_2gram.keras\",save_best_only=True)\n",
    "    ,tf.keras.callbacks.EarlyStopping(monitor='val_accuracy', patience=5)\n",
    "]\n",
    "\n",
    "model_Bigram.fit(binary_2gram_train_ds.cache(),\n",
    "          validation_data=binary_2gram_val_ds.cache(),\n",
    "          epochs=200,\n",
    "          callbacks=callbacks)\n",
    "model_Bigram = keras.models.load_model(\"binary_2gram.keras\")\n",
    "print(f\"Test acc: {model_Bigram.evaluate(binary_2gram_test_ds)[1]:.3f}\")"
   ]
  },
  {
   "cell_type": "markdown",
   "metadata": {
    "colab_type": "text"
   },
   "source": [
    "## Bigrams with TF-IDF Encoding\n",
    "\n",
    "You can also add a bit more information to this representation by counting how many times each word or N-gram occurs, that is to say, by taking the histogram of the words over the text:\n",
    "\n",
    "```{\"the\": 2, \"the cat\": 1, \"cat\": 1, \"cat sat\": 1, \"sat\": 1,\n",
    " \"sat on\": 1, \"on\": 1, \"on the\": 1, \"the mat: 1\", \"mat\": 1}```"
   ]
  },
  {
   "cell_type": "markdown",
   "metadata": {},
   "source": [
    "## Understanding TF-IDF normalization\n",
    "The more a given term appears in a document, the more important that term is for understanding what the document is about. At the same time, the frequency at which the term appears across all documents in your dataset matters too: terms that appear in almost every document (like “the” or “a”) aren’t particularly informative,"
   ]
  },
  {
   "cell_type": "markdown",
   "metadata": {},
   "source": [
    "`TF-IDF` is a metric that fuses these two ideas. It weights a given term by taking “term frequency,” how many times the term appears in the current document, and dividing it by a measure of “document frequency,” which estimates how often the term comes up across the dataset. "
   ]
  },
  {
   "cell_type": "markdown",
   "metadata": {},
   "source": [
    "```python\n",
    "def tfidf(term, document, dataset):\n",
    "    term_freq = document.count(term)\n",
    "    doc_freq = math.log(sum(doc.count(term) for doc in dataset) + 1)\n",
    "    return term_freq / doc_freq\n",
    "```"
   ]
  },
  {
   "cell_type": "markdown",
   "metadata": {
    "colab_type": "text"
   },
   "source": [
    "## Configure `TextVectorization` Layer To Return Token Counts"
   ]
  },
  {
   "cell_type": "code",
   "execution_count": 20,
   "metadata": {
    "colab_type": "code"
   },
   "outputs": [],
   "source": [
    "text_vectorization = TextVectorization(\n",
    "    ngrams=2,\n",
    "    max_tokens=1000,\n",
    "    output_mode=\"count\"\n",
    ")"
   ]
  },
  {
   "cell_type": "markdown",
   "metadata": {
    "colab_type": "text"
   },
   "source": [
    "## Configuring `TextVectorization` To Return TF-IDF-weighted Outputs"
   ]
  },
  {
   "cell_type": "code",
   "execution_count": 21,
   "metadata": {
    "colab_type": "code"
   },
   "outputs": [],
   "source": [
    "text_vectorization = TextVectorization(\n",
    "    ngrams=2,\n",
    "    max_tokens=1000,\n",
    "    output_mode=\"tf_idf\",\n",
    ")"
   ]
  },
  {
   "cell_type": "markdown",
   "metadata": {
    "colab_type": "text"
   },
   "source": [
    "## Build TF-IDF Bigram Model"
   ]
  },
  {
   "cell_type": "code",
   "execution_count": 22,
   "metadata": {
    "colab_type": "code"
   },
   "outputs": [
    {
     "name": "stdout",
     "output_type": "stream",
     "text": [
      "Model: \"model_2\"\n",
      "_________________________________________________________________\n",
      " Layer (type)                Output Shape              Param #   \n",
      "=================================================================\n",
      " input_3 (InputLayer)        [(None, 1000)]            0         \n",
      "                                                                 \n",
      " dense_4 (Dense)             (None, 16)                16016     \n",
      "                                                                 \n",
      " dropout_2 (Dropout)         (None, 16)                0         \n",
      "                                                                 \n",
      " dense_5 (Dense)             (None, 4)                 68        \n",
      "                                                                 \n",
      "=================================================================\n",
      "Total params: 16,084\n",
      "Trainable params: 16,084\n",
      "Non-trainable params: 0\n",
      "_________________________________________________________________\n"
     ]
    }
   ],
   "source": [
    "text_vectorization.adapt(text_only_train_ds)\n",
    "\n",
    "tfidf_2gram_train_ds = train_ds.map(\n",
    "    lambda x, y: (text_vectorization(x), y),\n",
    "    num_parallel_calls=4)\n",
    "tfidf_2gram_val_ds = val_ds.map(\n",
    "    lambda x, y: (text_vectorization(x), y),\n",
    "    num_parallel_calls=4)\n",
    "tfidf_2gram_test_ds = test_ds.map(\n",
    "    lambda x, y: (text_vectorization(x), y),\n",
    "    num_parallel_calls=4)\n",
    "\n",
    "model_tfidf = get_model()\n",
    "model_tfidf.summary()"
   ]
  },
  {
   "cell_type": "code",
   "execution_count": 23,
   "metadata": {},
   "outputs": [
    {
     "name": "stdout",
     "output_type": "stream",
     "text": [
      "Epoch 1/200\n",
      "3563/3563 [==============================] - 10s 3ms/step - loss: 0.9631 - accuracy: 0.5761 - val_loss: 0.5885 - val_accuracy: 0.8065\n",
      "Epoch 2/200\n",
      "3563/3563 [==============================] - 10s 3ms/step - loss: 0.8879 - accuracy: 0.6117 - val_loss: 0.6054 - val_accuracy: 0.8028\n",
      "Epoch 3/200\n",
      "3563/3563 [==============================] - 10s 3ms/step - loss: 0.8787 - accuracy: 0.6131 - val_loss: 0.5991 - val_accuracy: 0.8072\n",
      "Epoch 4/200\n",
      "3563/3563 [==============================] - 10s 3ms/step - loss: 0.8742 - accuracy: 0.6134 - val_loss: 0.5934 - val_accuracy: 0.8090\n",
      "Epoch 5/200\n",
      "3563/3563 [==============================] - 10s 3ms/step - loss: 0.8740 - accuracy: 0.6145 - val_loss: 0.5921 - val_accuracy: 0.8102\n",
      "Epoch 6/200\n",
      "3563/3563 [==============================] - 10s 3ms/step - loss: 0.8716 - accuracy: 0.6164 - val_loss: 0.5860 - val_accuracy: 0.8142\n",
      "Epoch 7/200\n",
      "3563/3563 [==============================] - 10s 3ms/step - loss: 0.8754 - accuracy: 0.6116 - val_loss: 0.5805 - val_accuracy: 0.8087\n",
      "Epoch 8/200\n",
      "3563/3563 [==============================] - 10s 3ms/step - loss: 0.8712 - accuracy: 0.6150 - val_loss: 0.5812 - val_accuracy: 0.8105\n",
      "Epoch 9/200\n",
      "3563/3563 [==============================] - 10s 3ms/step - loss: 0.8771 - accuracy: 0.6117 - val_loss: 0.5844 - val_accuracy: 0.8080\n",
      "Epoch 10/200\n",
      "3563/3563 [==============================] - 10s 3ms/step - loss: 0.8777 - accuracy: 0.6116 - val_loss: 0.5918 - val_accuracy: 0.8085\n",
      "Epoch 11/200\n",
      "3563/3563 [==============================] - 10s 3ms/step - loss: 0.8799 - accuracy: 0.6109 - val_loss: 0.5938 - val_accuracy: 0.8087\n",
      "238/238 [==============================] - 1s 2ms/step - loss: 0.5940 - accuracy: 0.7947\n",
      "Test acc: 0.795\n"
     ]
    }
   ],
   "source": [
    "callbacks = [\n",
    "    tf.keras.callbacks.ModelCheckpoint(\"tfidf_2gram.keras\",save_best_only=True)\n",
    "   ,tf.keras.callbacks.EarlyStopping(monitor='val_accuracy', patience=5)\n",
    "]\n",
    "\n",
    "model_tfidf.fit(tfidf_2gram_train_ds.cache(),\n",
    "          validation_data=tfidf_2gram_val_ds.cache(),\n",
    "          epochs=200,\n",
    "          callbacks=callbacks)\n",
    "model_tfidf = keras.models.load_model(\"tfidf_2gram.keras\")\n",
    "print(f\"Test acc: {model_tfidf.evaluate(tfidf_2gram_test_ds)[1]:.3f}\")"
   ]
  },
  {
   "cell_type": "code",
   "execution_count": 24,
   "metadata": {
    "colab_type": "code"
   },
   "outputs": [],
   "source": [
    "inputs = tf.keras.Input(shape=(1,), dtype=\"string\")\n",
    "processed_inputs = text_vectorization(inputs)\n",
    "outputs = model_tfidf(processed_inputs)\n",
    "inference_model = tf.keras.Model(inputs, outputs)"
   ]
  },
  {
   "cell_type": "code",
   "execution_count": 25,
   "metadata": {},
   "outputs": [
    {
     "name": "stdout",
     "output_type": "stream",
     "text": [
      "Model: \"model_3\"\n",
      "_________________________________________________________________\n",
      " Layer (type)                Output Shape              Param #   \n",
      "=================================================================\n",
      " input_4 (InputLayer)        [(None, 1)]               0         \n",
      "                                                                 \n",
      " text_vectorization_3 (TextV  (None, 1000)             1         \n",
      " ectorization)                                                   \n",
      "                                                                 \n",
      " model_2 (Functional)        (None, 4)                 16084     \n",
      "                                                                 \n",
      "=================================================================\n",
      "Total params: 16,085\n",
      "Trainable params: 16,084\n",
      "Non-trainable params: 1\n",
      "_________________________________________________________________\n"
     ]
    }
   ],
   "source": [
    "inference_model.summary()"
   ]
  },
  {
   "cell_type": "code",
   "execution_count": 28,
   "metadata": {},
   "outputs": [
    {
     "name": "stdout",
     "output_type": "stream",
     "text": [
      "21.66 percent positive\n"
     ]
    },
    {
     "data": {
      "text/plain": [
       "array([0.21656954, 0.18496458, 0.25586057, 0.34260526], dtype=float32)"
      ]
     },
     "execution_count": 28,
     "metadata": {},
     "output_type": "execute_result"
    }
   ],
   "source": [
    "raw_text_data = tf.convert_to_tensor(\n",
    "    [[\"That was an excellent movie, I loved it.\"],\n",
    "])\n",
    "predictions = inference_model(raw_text_data)\n",
    "print(f\"{predictions.numpy()[0][0] * 100:.2f} percent positive\")\n",
    "predictions.numpy()[0]"
   ]
  },
  {
   "cell_type": "code",
   "execution_count": 29,
   "metadata": {},
   "outputs": [
    {
     "name": "stdout",
     "output_type": "stream",
     "text": [
      "31.37 percent positive\n"
     ]
    }
   ],
   "source": [
    "raw_text_data = tf.convert_to_tensor([['''\n",
    "ATLANTA -- Atlanta Braves shortstop Rafael Furcal has had his first court appearance\n",
    "after being arrested on charges of driving under the influence.'\n",
    "''']])\n",
    "predictions = inference_model(raw_text_data)\n",
    "print(f\"{predictions.numpy()[0][0] * 100:.2f} percent positive\")"
   ]
  },
  {
   "cell_type": "code",
   "execution_count": 30,
   "metadata": {},
   "outputs": [
    {
     "data": {
      "text/plain": [
       "array([[0.31374127, 0.33925086, 0.16206345, 0.18494438]], dtype=float32)"
      ]
     },
     "execution_count": 30,
     "metadata": {},
     "output_type": "execute_result"
    }
   ],
   "source": [
    "predictions.numpy()"
   ]
  }
 ],
 "metadata": {
  "colab": {
   "collapsed_sections": [],
   "name": "chapter11_part01_introduction.i",
   "private_outputs": false,
   "provenance": [],
   "toc_visible": true
  },
  "kernelspec": {
   "display_name": "Python 3",
   "language": "python",
   "name": "python3"
  },
  "language_info": {
   "codemirror_mode": {
    "name": "ipython",
    "version": 3
   },
   "file_extension": ".py",
   "mimetype": "text/x-python",
   "name": "python",
   "nbconvert_exporter": "python",
   "pygments_lexer": "ipython3",
   "version": "3.8.10"
  }
 },
 "nbformat": 4,
 "nbformat_minor": 4
}

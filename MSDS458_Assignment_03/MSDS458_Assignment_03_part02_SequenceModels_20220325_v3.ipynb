{
 "cells": [
  {
   "cell_type": "markdown",
   "metadata": {
    "id": "xHJ-2a8LRro5"
   },
   "source": [
    "<img src=\"https://github.com/djp840/MSDS_458_Public/blob/master/images/NorthwesternHeader.png?raw=1\">"
   ]
  },
  {
   "cell_type": "markdown",
   "metadata": {},
   "source": [
    "## MSDS458 Research Assignment 3 - Part 02"
   ]
  },
  {
   "cell_type": "markdown",
   "metadata": {},
   "source": [
    "## Analyze AG_NEWS_SUBSET Data <br>\n",
    "\n",
    "AG is a collection of more than 1 million news articles. News articles have been gathered from more than 2000 news sources by ComeToMyHead in more than 1 year of activity. ComeToMyHead is an academic news search engine which has been running since July, 2004. The dataset is provided by the academic comunity for research purposes in data mining (clustering, classification, etc), information retrieval (ranking, search, etc), xml, data compression, data streaming, and any other non-commercial activity.<br> \n",
    "\n",
    "For more information, please refer to the link http://www.di.unipi.it/~gulli/AG_corpus_of_news_articles.html<br> \n",
    "\n",
    "\n",
    "The AG's news topic classification dataset is constructed by choosing 4 largest classes (**World**, **Sports**, **Business**, and **Sci/Tech**) from the original corpus. Each class contains 30,000 training samples and 1,900 testing samples. The total number of training samples is 120,000 and testing 7,600.<br>\n",
    "\n",
    "Homepage: https://arxiv.org/abs/1509.01626<br>\n",
    "\n",
    "Source code: tfds.text.AGNewsSubset\n",
    "\n",
    "Versions:\n",
    "\n",
    "1.0.0 (default): No release notes.\n",
    "Download size: 11.24 MiB\n",
    "\n",
    "Dataset size: 35.79 MiB"
   ]
  },
  {
   "cell_type": "markdown",
   "metadata": {},
   "source": [
    "## References\n",
    "1. Deep Learning with Python, Francois Chollet (https://learning.oreilly.com/library/view/deep-learning-with/9781617296864/)\n",
    " * Chapter 10: Deep learning for time series\n",
    " * Chapter 11: Deep learning for text\n",
    "2. Deep Learning A Visual Approach, Andrew Glassner (https://learning.oreilly.com/library/view/deep-learning/9781098129019/)\n",
    " * Chapter 19: Recurrent Neural Networks\n",
    " * Chapter 20: Attention and Transformers"
   ]
  },
  {
   "cell_type": "markdown",
   "metadata": {
    "id": "vT8kwmgNRro7"
   },
   "source": [
    "## Processing words as a sequence: The sequence model approach\n",
    "\n",
    "To implement a sequence model, you’d start by representing your input samples as sequences of integer indices (one integer standing for one word). Then, you’d map each integer to a vector to obtain vector sequences. Finally, you’d feed these sequences of vectors into a stack of layers that could cross-correlate features from adjacent vectors, such as a 1D convnet, a RNN, or a Transformer."
   ]
  },
  {
   "cell_type": "markdown",
   "metadata": {},
   "source": [
    "For some time around 2016–2017, bidirectional RNNs (in particular, `bidirectional LSTMs`) were considered to be the state of the art for sequence modeling. However, nowadays sequence modeling is almost universally done with `Transformers`. \n",
    "\n",
    "F. Chollet: \"One-dimensional convnets were never very popular in NLP, even though, a residual stack of depthwise-separable 1D convolutions can often achieve comparable performance to a bidirectional LSTM, at a greatly reduced computational cost.\""
   ]
  },
  {
   "cell_type": "markdown",
   "metadata": {},
   "source": [
    "## Import Packages"
   ]
  },
  {
   "cell_type": "code",
   "execution_count": null,
   "metadata": {},
   "outputs": [],
   "source": [
    "import numpy as np\n",
    "import re\n",
    "import string\n",
    "import tensorflow as tf\n",
    "import tensorflow_datasets as tfds\n",
    "from tensorflow import keras\n",
    "from tensorflow.keras import layers"
   ]
  },
  {
   "cell_type": "markdown",
   "metadata": {},
   "source": [
    "## Verify TensorFlow version and Keras version"
   ]
  },
  {
   "cell_type": "code",
   "execution_count": null,
   "metadata": {},
   "outputs": [],
   "source": [
    "print(\"This notebook requires TensorFlow 2.0 or above\")\n",
    "print(\"TensorFlow version: \", tf.__version__)\n",
    "assert version.parse(tf.__version__).release[0] >=2"
   ]
  },
  {
   "cell_type": "code",
   "execution_count": null,
   "metadata": {},
   "outputs": [],
   "source": [
    "print(\"Keras version: \", keras.__version__)"
   ]
  },
  {
   "cell_type": "markdown",
   "metadata": {},
   "source": [
    "## Mount Google Drive to Colab environment"
   ]
  },
  {
   "cell_type": "code",
   "execution_count": null,
   "metadata": {},
   "outputs": [],
   "source": [
    "#from google.colab import drive\n",
    "#drive.mount('/content/gdrive')"
   ]
  },
  {
   "cell_type": "markdown",
   "metadata": {
    "id": "XvqFLia1Rro9"
   },
   "source": [
    "## Load Data"
   ]
  },
  {
   "cell_type": "code",
   "execution_count": 1,
   "metadata": {
    "colab": {
     "base_uri": "https://localhost:8080/"
    },
    "id": "EsypDzDARro-",
    "outputId": "750f4c6f-155a-47ad-a2c6-a47d40a22fc2"
   },
   "outputs": [
    {
     "name": "stdout",
     "output_type": "stream",
     "text": [
      "2022-03-26 11:04:43.468153: W tensorflow/stream_executor/platform/default/dso_loader.cc:64] Could not load dynamic library 'libcudart.so.11.0'; dlerror: libcudart.so.11.0: cannot open shared object file: No such file or directory\n",
      "2022-03-26 11:04:43.468191: I tensorflow/stream_executor/cuda/cudart_stub.cc:29] Ignore above cudart dlerror if you do not have a GPU set up on your machine.\n",
      "2022-03-26 11:04:45.923086: W tensorflow/stream_executor/platform/default/dso_loader.cc:64] Could not load dynamic library 'libcuda.so.1'; dlerror: libcuda.so.1: cannot open shared object file: No such file or directory\n",
      "2022-03-26 11:04:45.923119: W tensorflow/stream_executor/cuda/cuda_driver.cc:269] failed call to cuInit: UNKNOWN ERROR (303)\n",
      "2022-03-26 11:04:45.923143: I tensorflow/stream_executor/cuda/cuda_diagnostics.cc:156] kernel driver does not appear to be running on this host (ub3): /proc/driver/nvidia/version does not exist\n",
      "W0326 11:04:45.923274 139864460494656 download_and_prepare.py:42] ***`tfds build` should be used instead of `download_and_prepare`.***\n",
      "INFO[build.py]: Loading dataset ag_news_subset from imports: tensorflow_datasets.text.ag_news_subset\n",
      "INFO[dataset_info.py]: Load dataset info from /home/jensen116/tensorflow_datasets/ag_news_subset/1.0.0\n",
      "INFO[build.py]: download_and_prepare for dataset ag_news_subset/1.0.0...\n",
      "INFO[dataset_builder.py]: Reusing dataset ag_news_subset (/home/jensen116/tensorflow_datasets/ag_news_subset/1.0.0)\n",
      "INFO[build.py]: Dataset generation complete...\n",
      "\n",
      "tfds.core.DatasetInfo(\n",
      "    name='ag_news_subset',\n",
      "    full_name='ag_news_subset/1.0.0',\n",
      "    description=\"\"\"\n",
      "    AG is a collection of more than 1 million news articles.\n",
      "    News articles have been gathered from more than 2000  news sources by ComeToMyHead in more than 1 year of activity.\n",
      "    ComeToMyHead is an academic news search engine which has been running since July, 2004.\n",
      "    The dataset is provided by the academic comunity for research purposes in data mining (clustering, classification, etc),\n",
      "    information retrieval (ranking, search, etc), xml, data compression, data streaming,\n",
      "    and any other non-commercial activity.\n",
      "    For more information, please refer to the link http://www.di.unipi.it/~gulli/AG_corpus_of_news_articles.html .\n",
      "    \n",
      "    The AG's news topic classification dataset is constructed by Xiang Zhang (xiang.zhang@nyu.edu) from the dataset above.\n",
      "    It is used as a text classification benchmark in the following paper:\n",
      "    Xiang Zhang, Junbo Zhao, Yann LeCun. Character-level Convolutional Networks for Text Classification. Advances in Neural Information Processing Systems 28 (NIPS 2015).\n",
      "    \n",
      "    The AG's news topic classification dataset is constructed by choosing 4 largest classes from the original corpus.\n",
      "    Each class contains 30,000 training samples and 1,900 testing samples.\n",
      "    The total number of training samples is 120,000 and testing 7,600.\n",
      "    \"\"\",\n",
      "    homepage='https://arxiv.org/abs/1509.01626',\n",
      "    data_path='/home/jensen116/tensorflow_datasets/ag_news_subset/1.0.0',\n",
      "    download_size=11.24 MiB,\n",
      "    dataset_size=35.79 MiB,\n",
      "    features=FeaturesDict({\n",
      "        'description': Text(shape=(), dtype=tf.string),\n",
      "        'label': ClassLabel(shape=(), dtype=tf.int64, num_classes=4),\n",
      "        'title': Text(shape=(), dtype=tf.string),\n",
      "    }),\n",
      "    supervised_keys=('description', 'label'),\n",
      "    disable_shuffling=False,\n",
      "    splits={\n",
      "        'test': <SplitInfo num_examples=7600, num_shards=1>,\n",
      "        'train': <SplitInfo num_examples=120000, num_shards=1>,\n",
      "    },\n",
      "    citation=\"\"\"@misc{zhang2015characterlevel,\n",
      "        title={Character-level Convolutional Networks for Text Classification},\n",
      "        author={Xiang Zhang and Junbo Zhao and Yann LeCun},\n",
      "        year={2015},\n",
      "        eprint={1509.01626},\n",
      "        archivePrefix={arXiv},\n",
      "        primaryClass={cs.LG}\n",
      "    }\"\"\",\n",
      ")\n",
      "\n"
     ]
    }
   ],
   "source": [
    "# register  ag_news_subset so that tfds.load doesn't generate a checksum (mismatch) error\n",
    "!python -m tensorflow_datasets.scripts.download_and_prepare --register_checksums --datasets=ag_news_subset\n",
    "\n",
    "# Example Approaches to Split Data Set\n",
    "# dataset, info = tfds.load('ag_news_subset', with_info=True,  split=['train[:]','test[:1000]', 'test[1000:]'],\n",
    "dataset, info = tfds.load('ag_news_subset', with_info=True,  split=['train[:95%]','train[95%:]', 'test'],\n",
    "# dataset, info = tfds.load('ag_news_subset', with_info=True,  split=['train[:114000]','train[114000:]', 'test[:]'],\n",
    "                          batch_size = 32, as_supervised=True)\n",
    "train_ds, val_ds, test_ds = dataset\n",
    "# train_dataset, test_dataset = dataset['train'],dataset['test']\n",
    "\n",
    "text_only_train_ds = train_ds.map(lambda x, y: x)"
   ]
  },
  {
   "cell_type": "markdown",
   "metadata": {
    "id": "mq7Q6zlFRro_"
   },
   "source": [
    "## Preparing Integer Sequence Datasets"
   ]
  },
  {
   "cell_type": "code",
   "execution_count": 2,
   "metadata": {
    "id": "AfTnCGIERrpA"
   },
   "outputs": [],
   "source": [
    "max_length = 150\n",
    "max_tokens = 1000\n",
    "text_vectorization = layers.TextVectorization(\n",
    "    max_tokens=max_tokens,\n",
    "    output_mode=\"int\",\n",
    "    output_sequence_length=max_length,\n",
    ")\n",
    "text_vectorization.adapt(text_only_train_ds)\n",
    "\n",
    "int_train_ds = train_ds.map(\n",
    "    lambda x, y: (text_vectorization(x), y),\n",
    "    num_parallel_calls=4)\n",
    "int_val_ds = val_ds.map(\n",
    "    lambda x, y: (text_vectorization(x), y),\n",
    "    num_parallel_calls=4)\n",
    "int_test_ds = test_ds.map(\n",
    "    lambda x, y: (text_vectorization(x), y),\n",
    "    num_parallel_calls=4)"
   ]
  },
  {
   "cell_type": "markdown",
   "metadata": {},
   "source": [
    "## Bi-directional RNN\n",
    "\n",
    "When translating in real-time, it would help to have access to worlds towards the end of a sentence, say, as well as earlier words in the sentence. One way to use the later words in the sentence is to feed the words into our RNN backward. So if we create two independent RNNs, we can feed one the words in their forward, or natural order, and the second gets their words in the revser order. This is the idea behind `Bi-directional RNNS`:"
   ]
  },
  {
   "attachments": {},
   "cell_type": "markdown",
   "metadata": {},
   "source": [
    "<img src=\"https://github.com/djp840/MSDS_458_Public/blob/master/images/Bidirectional2RNN.png?raw=1\">"
   ]
  },
  {
   "cell_type": "markdown",
   "metadata": {
    "id": "qN2wjSjdRrpB"
   },
   "source": [
    "## Sequence Model Built on One-Hot Encoded Vector Sequences"
   ]
  },
  {
   "cell_type": "code",
   "execution_count": 3,
   "metadata": {
    "colab": {
     "base_uri": "https://localhost:8080/"
    },
    "id": "Hq6dB-zWRrpB",
    "outputId": "c9c62d85-4f76-490e-a3e0-f27410a4753d"
   },
   "outputs": [
    {
     "name": "stdout",
     "output_type": "stream",
     "text": [
      "Model: \"model\"\n",
      "_________________________________________________________________\n",
      " Layer (type)                Output Shape              Param #   \n",
      "=================================================================\n",
      " input_1 (InputLayer)        [(None, None)]            0         \n",
      "                                                                 \n",
      " tf.one_hot (TFOpLambda)     (None, None, 1000)        0         \n",
      "                                                                 \n",
      " bidirectional (Bidirectiona  (None, 64)               264448    \n",
      " l)                                                              \n",
      "                                                                 \n",
      " dropout (Dropout)           (None, 64)                0         \n",
      "                                                                 \n",
      " dense (Dense)               (None, 4)                 260       \n",
      "                                                                 \n",
      "=================================================================\n",
      "Total params: 264,708\n",
      "Trainable params: 264,708\n",
      "Non-trainable params: 0\n",
      "_________________________________________________________________\n"
     ]
    }
   ],
   "source": [
    "inputs = keras.Input(shape=(None,), dtype=\"int64\")\n",
    "embedded = tf.one_hot(inputs, depth=max_tokens)\n",
    "x = layers.Bidirectional(layers.LSTM(32))(embedded)\n",
    "x = layers.Dropout(0.5)(x)\n",
    "outputs = layers.Dense(4, activation=\"softmax\")(x)\n",
    "model = keras.Model(inputs, outputs)\n",
    "model.compile(optimizer=\"rmsprop\",\n",
    "              loss=\"SparseCategoricalCrossentropy\",\n",
    "              metrics=[\"accuracy\"])\n",
    "model.summary()"
   ]
  },
  {
   "cell_type": "markdown",
   "metadata": {},
   "source": [
    "One input is a sequence of integers.\n",
    "\n",
    "❶ In order to keep a manageable input size, we’ll truncate the inputs after the first 150 words. This is a reasonable choice, since the average review length is 233 words, and only 5% of reviews are longer than 150 words.\n",
    "\n",
    "❷ Encode the integers into binary 1,000-dimensional vectors.\n",
    "\n",
    "❸ Add a bidirectional LSTM.\n",
    "\n",
    "❹ Finally, add a classification layer."
   ]
  },
  {
   "cell_type": "markdown",
   "metadata": {
    "id": "ognTeJM6RrpC"
   },
   "source": [
    "## Training Sequence Model"
   ]
  },
  {
   "cell_type": "code",
   "execution_count": 4,
   "metadata": {
    "colab": {
     "base_uri": "https://localhost:8080/"
    },
    "id": "5kCbHrrsRrpC",
    "outputId": "bb74a636-4a82-41b3-b45d-9bd2eed7b87b"
   },
   "outputs": [
    {
     "name": "stdout",
     "output_type": "stream",
     "text": [
      "Epoch 1/10\n",
      "3563/3563 [==============================] - 947s 265ms/step - loss: 0.5859 - accuracy: 0.7899 - val_loss: 0.4137 - val_accuracy: 0.8560\n",
      "Epoch 2/10\n",
      "3563/3563 [==============================] - 990s 278ms/step - loss: 0.4395 - accuracy: 0.8500 - val_loss: 0.4033 - val_accuracy: 0.8585\n",
      "Epoch 3/10\n",
      "3563/3563 [==============================] - 968s 272ms/step - loss: 0.4230 - accuracy: 0.8557 - val_loss: 0.3976 - val_accuracy: 0.8620\n",
      "Epoch 4/10\n",
      "3563/3563 [==============================] - 934s 262ms/step - loss: 0.4150 - accuracy: 0.8600 - val_loss: 0.3970 - val_accuracy: 0.8633\n",
      "Epoch 5/10\n",
      "3563/3563 [==============================] - 976s 274ms/step - loss: 0.4058 - accuracy: 0.8612 - val_loss: 0.3969 - val_accuracy: 0.8643\n",
      "Epoch 6/10\n",
      "3563/3563 [==============================] - 963s 270ms/step - loss: 0.4012 - accuracy: 0.8640 - val_loss: 0.3978 - val_accuracy: 0.8640\n",
      "Epoch 7/10\n",
      "3563/3563 [==============================] - 938s 263ms/step - loss: 0.3964 - accuracy: 0.8661 - val_loss: 0.3980 - val_accuracy: 0.8643\n",
      "Epoch 8/10\n",
      "3563/3563 [==============================] - 964s 271ms/step - loss: 0.3922 - accuracy: 0.8671 - val_loss: 0.3949 - val_accuracy: 0.8650\n",
      "Epoch 9/10\n",
      "3563/3563 [==============================] - 932s 261ms/step - loss: 0.3875 - accuracy: 0.8685 - val_loss: 0.3974 - val_accuracy: 0.8662\n",
      "Epoch 10/10\n",
      "3563/3563 [==============================] - 974s 273ms/step - loss: 0.3852 - accuracy: 0.8706 - val_loss: 0.3965 - val_accuracy: 0.8652\n",
      "238/238 [==============================] - 27s 109ms/step - loss: 0.4106 - accuracy: 0.8561\n",
      "Test acc: 0.856\n"
     ]
    }
   ],
   "source": [
    "callbacks = [\n",
    "    keras.callbacks.ModelCheckpoint(\"one_hot_bidir_lstm.keras\",\n",
    "                                    save_best_only=True)\n",
    "]\n",
    "model.fit(int_train_ds, validation_data=int_val_ds, epochs=10, callbacks=callbacks)\n",
    "model = keras.models.load_model(\"one_hot_bidir_lstm.keras\")\n",
    "print(f\"Test acc: {model.evaluate(int_test_ds)[1]:.3f}\")"
   ]
  },
  {
   "cell_type": "markdown",
   "metadata": {
    "id": "fTprEi3bRrpD"
   },
   "source": [
    "## Understanding word embeddings"
   ]
  },
  {
   "cell_type": "markdown",
   "metadata": {},
   "source": [
    "When you encode something via `one-hot encoding`, you’re making a feature-engineering decision. You’re injecting into your model a fundamental assumption about the structure of your feature space. That assumption is that the different tokens you’re encoding are all independent from each other: indeed, one-hot vectors are all orthogonal to one another."
   ]
  },
  {
   "cell_type": "markdown",
   "metadata": {},
   "source": [
    "However, in a reasonable word vector space, you would expect synonyms to be embedded into similar word vectors, and in general, you would expect the geometric distance  between any two word vectors to relate to the “semantic distance” between the associated words.\n",
    "\n",
    "Words that mean different things should lie far away from each other, whereas related words should be closer."
   ]
  },
  {
   "cell_type": "markdown",
   "metadata": {},
   "source": [
    "`Word embeddings` are vector representations of words that achieve exactly this: they map human language into a structured geometric space."
   ]
  },
  {
   "cell_type": "markdown",
   "metadata": {},
   "source": [
    "Whereas the vectors obtained through `one-hot encoding` are *binary*, *sparse*, and *very high-dimensional* (the same dimensionality as the number of words in the vocabulary), `word embeddings` are *low-dimensional floating-point vectors* (that is, `dense vectors`, as opposed to `sparse vectors`)."
   ]
  },
  {
   "attachments": {},
   "cell_type": "markdown",
   "metadata": {},
   "source": [
    "<img src=\"https://github.com/djp840/MSDS_458_Public/blob/master/images/EmbeddingsSparse.png?raw=1\">"
   ]
  },
  {
   "cell_type": "markdown",
   "metadata": {},
   "source": [
    "## Two ways to obtain word embeddings\n",
    "\n",
    "1. `Learn word embeddings jointly with the main task you care about` (such as document classification or sentiment prediction). In this setup, you start with random word vectors and then learn word vectors in the same way you learn the weights of a neural network.\n",
    "2. Load into your model word embeddings that were precomputed using a different machine learning task than the one you’re trying to solve. These are called `pretrained word embeddings`.\n"
   ]
  },
  {
   "cell_type": "markdown",
   "metadata": {
    "id": "0CNyH_fhRrpD"
   },
   "source": [
    "## Learning word embeddings with the Embedding layer"
   ]
  },
  {
   "cell_type": "markdown",
   "metadata": {},
   "source": [
    "What makes a good word-embedding space depends heavily on your task: the perfect word-embedding space for an English-language movie-review sentiment-analysis model may look different from the perfect embedding space for an English-language legal-document classification model, because the importance of certain semantic relationships varies from task to task.\n",
    "\n",
    "It’s thus reasonable to learn a new embedding space with every new task."
   ]
  },
  {
   "cell_type": "markdown",
   "metadata": {
    "id": "NrVeqKcsRrpE"
   },
   "source": [
    "## Instantiating An `Embedding` Layer\n",
    "\n",
    "The Embedding layer takes at least two arguments: the number of possible tokens and the dimensionality of the embeddings (here, 256)."
   ]
  },
  {
   "cell_type": "code",
   "execution_count": 5,
   "metadata": {
    "id": "WLTjxbMnRrpE"
   },
   "outputs": [],
   "source": [
    "embedding_layer = layers.Embedding(input_dim=max_tokens, output_dim=256)"
   ]
  },
  {
   "cell_type": "markdown",
   "metadata": {},
   "source": [
    "The Embedding layer is best understood as a dictionary that maps integer indices (which stand for specific words) to dense vectors"
   ]
  },
  {
   "cell_type": "markdown",
   "metadata": {},
   "source": [
    "The Embedding layer takes as input a rank-2 tensor of integers, of shape `(batch_size, sequence_length)`, where each entry is a sequence of integers. The layer then returns a 3D floating-point tensor of shape `(batch_size, sequence_length, embedding_ dimensionality)`.Again, embedding_ dimensionality is 256 above."
   ]
  },
  {
   "cell_type": "markdown",
   "metadata": {
    "id": "PSfWWNO6RrpE"
   },
   "source": [
    "## Model Uses An `Embedding` Layer Trained From Scratch"
   ]
  },
  {
   "cell_type": "markdown",
   "metadata": {},
   "source": [
    "One input is a sequence of integers.\n",
    "\n",
    "❷ Encode the integers into binary 20,000-dimensional vectors.\n",
    "\n",
    "❸ Add a bidirectional LSTM.\n",
    "\n",
    "❹ Finally, add a classification layer."
   ]
  },
  {
   "cell_type": "code",
   "execution_count": 6,
   "metadata": {
    "colab": {
     "base_uri": "https://localhost:8080/"
    },
    "id": "O6JFON-CRrpF",
    "outputId": "f5e57228-03b4-47a0-e56b-f4be6d00bb84"
   },
   "outputs": [
    {
     "name": "stdout",
     "output_type": "stream",
     "text": [
      "Model: \"model_1\"\n",
      "_________________________________________________________________\n",
      " Layer (type)                Output Shape              Param #   \n",
      "=================================================================\n",
      " input_2 (InputLayer)        [(None, None)]            0         \n",
      "                                                                 \n",
      " embedding_1 (Embedding)     (None, None, 256)         256000    \n",
      "                                                                 \n",
      " bidirectional_1 (Bidirectio  (None, 64)               73984     \n",
      " nal)                                                            \n",
      "                                                                 \n",
      " dropout_1 (Dropout)         (None, 64)                0         \n",
      "                                                                 \n",
      " dense_1 (Dense)             (None, 4)                 260       \n",
      "                                                                 \n",
      "=================================================================\n",
      "Total params: 330,244\n",
      "Trainable params: 330,244\n",
      "Non-trainable params: 0\n",
      "_________________________________________________________________\n",
      "Epoch 1/10\n",
      "3563/3563 [==============================] - 537s 150ms/step - loss: 0.5153 - accuracy: 0.8205 - val_loss: 0.4133 - val_accuracy: 0.8572\n",
      "Epoch 2/10\n",
      "3563/3563 [==============================] - 541s 152ms/step - loss: 0.4344 - accuracy: 0.8518 - val_loss: 0.3983 - val_accuracy: 0.8612\n",
      "Epoch 3/10\n",
      "3563/3563 [==============================] - 546s 153ms/step - loss: 0.4152 - accuracy: 0.8584 - val_loss: 0.3888 - val_accuracy: 0.8652\n",
      "Epoch 4/10\n",
      "3563/3563 [==============================] - 544s 153ms/step - loss: 0.4048 - accuracy: 0.8605 - val_loss: 0.3864 - val_accuracy: 0.8658\n",
      "Epoch 5/10\n",
      "3563/3563 [==============================] - 548s 154ms/step - loss: 0.3977 - accuracy: 0.8629 - val_loss: 0.3793 - val_accuracy: 0.8673\n",
      "Epoch 6/10\n",
      "3563/3563 [==============================] - 545s 153ms/step - loss: 0.3881 - accuracy: 0.8649 - val_loss: 0.3860 - val_accuracy: 0.8657\n",
      "Epoch 7/10\n",
      "3563/3563 [==============================] - 546s 153ms/step - loss: 0.3833 - accuracy: 0.8677 - val_loss: 0.3869 - val_accuracy: 0.8677\n",
      "Epoch 8/10\n",
      "3563/3563 [==============================] - 544s 153ms/step - loss: 0.3766 - accuracy: 0.8692 - val_loss: 0.3879 - val_accuracy: 0.8665\n",
      "Epoch 9/10\n",
      "3563/3563 [==============================] - 544s 153ms/step - loss: 0.3719 - accuracy: 0.8715 - val_loss: 0.3891 - val_accuracy: 0.8688\n",
      "Epoch 10/10\n",
      "3563/3563 [==============================] - 542s 152ms/step - loss: 0.3655 - accuracy: 0.8742 - val_loss: 0.3893 - val_accuracy: 0.8677\n",
      "238/238 [==============================] - 10s 38ms/step - loss: 0.3989 - accuracy: 0.8593\n",
      "Test acc: 0.859\n"
     ]
    }
   ],
   "source": [
    "inputs = keras.Input(shape=(None,), dtype=\"int64\")\n",
    "embedded = layers.Embedding(input_dim=max_tokens, output_dim=256)(inputs)\n",
    "x = layers.Bidirectional(layers.LSTM(32))(embedded)\n",
    "x = layers.Dropout(0.5)(x)\n",
    "outputs = layers.Dense(4, activation=\"softmax\")(x)\n",
    "model = keras.Model(inputs, outputs)\n",
    "model.compile(optimizer=\"rmsprop\",\n",
    "              loss=\"SparseCategoricalCrossentropy\",\n",
    "              metrics=[\"accuracy\"])\n",
    "model.summary()\n",
    "\n",
    "callbacks = [\n",
    "    keras.callbacks.ModelCheckpoint(\"embeddings_bidir_gru.keras\",\n",
    "                                    save_best_only=True)\n",
    "]\n",
    "model.fit(int_train_ds, validation_data=int_val_ds, epochs=10, callbacks=callbacks)\n",
    "model = keras.models.load_model(\"embeddings_bidir_gru.keras\")\n",
    "print(f\"Test acc: {model.evaluate(int_test_ds)[1]:.3f}\")"
   ]
  },
  {
   "cell_type": "markdown",
   "metadata": {},
   "source": [
    "It trains much faster than the one-hot model (since the LSTM only has to process 256-dimensional vectors instead of 1,000-dimensional), and its test accuracy is comparable (86%)."
   ]
  },
  {
   "cell_type": "markdown",
   "metadata": {
    "id": "M0gOTdNnRrpF"
   },
   "source": [
    "## Understanding padding and masking"
   ]
  },
  {
   "cell_type": "markdown",
   "metadata": {},
   "source": [
    "One thing that’s slightly hurting model performance here is that our input sequences are full of zeros. This comes from our use of the `output_sequence_length=max_ length` option in TextVectorization (with `max_length equal` to 150): sentences longer than 150 tokens are truncated to a length of 150 tokens, and sentences shorter than 150 tokens are padded with zeros at the end so that they can be concatenated together with other sequences to form contiguous batches."
   ]
  },
  {
   "cell_type": "markdown",
   "metadata": {},
   "source": [
    "The RNN that looks at the tokens in their natural order will spend its last iterations seeing only vectors that encode padding—possibly for several hundreds of iterations if the original sentence was short. The information stored in the internal state of the RNN will gradually fade out as it gets exposed to these meaningless inputs."
   ]
  },
  {
   "cell_type": "markdown",
   "metadata": {},
   "source": [
    "We need some way to tell the RNN that it should skip these iterations. There’s an API for that: `masking`."
   ]
  },
  {
   "cell_type": "markdown",
   "metadata": {
    "id": "HGe0pvoxRrpF"
   },
   "source": [
    "## Using An `Embedding` Layer With Masking Enabled"
   ]
  },
  {
   "cell_type": "code",
   "execution_count": 7,
   "metadata": {
    "colab": {
     "base_uri": "https://localhost:8080/"
    },
    "id": "tU6YKNrDRrpF",
    "outputId": "b7f4bfcd-5bea-4002-b814-23d088ed3ad6"
   },
   "outputs": [
    {
     "name": "stdout",
     "output_type": "stream",
     "text": [
      "Model: \"model_2\"\n",
      "_________________________________________________________________\n",
      " Layer (type)                Output Shape              Param #   \n",
      "=================================================================\n",
      " input_3 (InputLayer)        [(None, None)]            0         \n",
      "                                                                 \n",
      " embedding_2 (Embedding)     (None, None, 256)         256000    \n",
      "                                                                 \n",
      " bidirectional_2 (Bidirectio  (None, 64)               73984     \n",
      " nal)                                                            \n",
      "                                                                 \n",
      " dropout_2 (Dropout)         (None, 64)                0         \n",
      "                                                                 \n",
      " dense_2 (Dense)             (None, 4)                 260       \n",
      "                                                                 \n",
      "=================================================================\n",
      "Total params: 330,244\n",
      "Trainable params: 330,244\n",
      "Non-trainable params: 0\n",
      "_________________________________________________________________\n",
      "Epoch 1/10\n",
      "3563/3563 [==============================] - 704s 195ms/step - loss: 0.4829 - accuracy: 0.8311 - val_loss: 0.4037 - val_accuracy: 0.8595\n",
      "Epoch 2/10\n",
      "3563/3563 [==============================] - 692s 194ms/step - loss: 0.4170 - accuracy: 0.8538 - val_loss: 0.3875 - val_accuracy: 0.8648\n",
      "Epoch 3/10\n",
      "3563/3563 [==============================] - 699s 196ms/step - loss: 0.4009 - accuracy: 0.8604 - val_loss: 0.3804 - val_accuracy: 0.8678\n",
      "Epoch 4/10\n",
      "3563/3563 [==============================] - 700s 196ms/step - loss: 0.3885 - accuracy: 0.8636 - val_loss: 0.3780 - val_accuracy: 0.8672\n",
      "Epoch 5/10\n",
      "3563/3563 [==============================] - 699s 196ms/step - loss: 0.3779 - accuracy: 0.8685 - val_loss: 0.3780 - val_accuracy: 0.8675\n",
      "Epoch 6/10\n",
      "3563/3563 [==============================] - 698s 196ms/step - loss: 0.3711 - accuracy: 0.8709 - val_loss: 0.3763 - val_accuracy: 0.8678\n",
      "Epoch 7/10\n",
      "3563/3563 [==============================] - 701s 197ms/step - loss: 0.3634 - accuracy: 0.8745 - val_loss: 0.3882 - val_accuracy: 0.8655\n",
      "Epoch 8/10\n",
      "3563/3563 [==============================] - 699s 196ms/step - loss: 0.3544 - accuracy: 0.8761 - val_loss: 0.3902 - val_accuracy: 0.8655\n",
      "Epoch 9/10\n",
      "3563/3563 [==============================] - 701s 197ms/step - loss: 0.3455 - accuracy: 0.8808 - val_loss: 0.3853 - val_accuracy: 0.8682\n",
      "Epoch 10/10\n",
      "3563/3563 [==============================] - 701s 197ms/step - loss: 0.3398 - accuracy: 0.8831 - val_loss: 0.3865 - val_accuracy: 0.8688\n",
      "238/238 [==============================] - 14s 46ms/step - loss: 0.3961 - accuracy: 0.8641\n",
      "Test acc: 0.864\n"
     ]
    }
   ],
   "source": [
    "inputs = keras.Input(shape=(None,), dtype=\"int64\")\n",
    "embedded = layers.Embedding(\n",
    "    input_dim=max_tokens, output_dim=256, mask_zero=True)(inputs)\n",
    "x = layers.Bidirectional(layers.LSTM(32))(embedded)\n",
    "x = layers.Dropout(0.5)(x)\n",
    "outputs = layers.Dense(4, activation=\"softmax\")(x)\n",
    "model = keras.Model(inputs, outputs)\n",
    "model.compile(optimizer=\"rmsprop\",\n",
    "              loss=\"SparseCategoricalCrossentropy\",\n",
    "              metrics=[\"accuracy\"])\n",
    "model.summary()\n",
    "\n",
    "callbacks = [\n",
    "    keras.callbacks.ModelCheckpoint(\"embeddings_bidir_gru_with_masking.keras\",\n",
    "                                    save_best_only=True)\n",
    "]\n",
    "model.fit(int_train_ds, validation_data=int_val_ds, epochs=10, callbacks=callbacks)\n",
    "model = keras.models.load_model(\"embeddings_bidir_gru_with_masking.keras\")\n",
    "print(f\"Test acc: {model.evaluate(int_test_ds)[1]:.3f}\")"
   ]
  },
  {
   "cell_type": "markdown",
   "metadata": {
    "id": "SDRunHYSRrpG"
   },
   "source": [
    "## Using pretrained word embeddings"
   ]
  },
  {
   "cell_type": "markdown",
   "metadata": {},
   "source": [
    "The rationale behind using `pretrained word embedding`s in natural language processing is much the same as for using pretrained convnets in image classification: *you don’t have enough data available to learn truly powerful features on your own*, but you expect that the features you need are fairly generic—that is, common visual features or semantic features. In this case, it makes sense to reuse features learned on a different problem."
   ]
  },
  {
   "cell_type": "markdown",
   "metadata": {},
   "source": [
    "The idea of a dense, low-dimensional embedding space for words, computed in an unsupervised way, was initially explored by Bengio et al. in the early 2000s, but it only started to take off in research and industry applications after the release of one of the most famous and successful word-embedding schemes: the `Word2Vec` algorithm (https://code.google.com/archive/p/word2vec), developed by Tomas Mikolov at Google in 2013. `Word2Vec` dimensions capture specific semantic properties, such as gender."
   ]
  },
  {
   "cell_type": "markdown",
   "metadata": {},
   "source": [
    "There are various precomputed databases of word embeddings that you can download and use in a Keras Embedding layer. `Word2vec` is one of them. Another popular one is called `Global Vectors for Word Representatio`n (GloVe, https://nlp.stanford.edu/projects/glove), which was developed by Stanford researchers in 2014. This embedding technique is based on factorizing a matrix of word co-occurrence statistics. Its developers have made available precomputed embeddings for millions of English tokens, obtained from Wikipedia data and Common Crawl data."
   ]
  },
  {
   "cell_type": "markdown",
   "metadata": {},
   "source": [
    "First, let’s download the GloVe word embeddings precomputed on the 2014 English Wikipedia dataset. It’s an 822 MB zip file containing 100-dimensional embedding vectors for 400,000 words (or non-word tokens)."
   ]
  },
  {
   "cell_type": "code",
   "execution_count": 8,
   "metadata": {
    "colab": {
     "base_uri": "https://localhost:8080/"
    },
    "id": "-EjBZq6cRrpG",
    "outputId": "fa1ada21-80cb-4ac4-cbfa-bc2c657f11bf"
   },
   "outputs": [
    {
     "name": "stdout",
     "output_type": "stream",
     "text": [
      "--2022-03-26 17:13:09--  http://nlp.stanford.edu/data/glove.6B.zip\n",
      "Resolving nlp.stanford.edu (nlp.stanford.edu)... 171.64.67.140\n",
      "Connecting to nlp.stanford.edu (nlp.stanford.edu)|171.64.67.140|:80... connected.\n",
      "HTTP request sent, awaiting response... 302 Found\n",
      "Location: https://nlp.stanford.edu/data/glove.6B.zip [following]\n",
      "--2022-03-26 17:13:09--  https://nlp.stanford.edu/data/glove.6B.zip\n",
      "Connecting to nlp.stanford.edu (nlp.stanford.edu)|171.64.67.140|:443... connected.\n",
      "HTTP request sent, awaiting response... 301 Moved Permanently\n",
      "Location: http://downloads.cs.stanford.edu/nlp/data/glove.6B.zip [following]\n",
      "--2022-03-26 17:13:10--  http://downloads.cs.stanford.edu/nlp/data/glove.6B.zip\n",
      "Resolving downloads.cs.stanford.edu (downloads.cs.stanford.edu)... 171.64.64.22\n",
      "Connecting to downloads.cs.stanford.edu (downloads.cs.stanford.edu)|171.64.64.22|:80... connected.\n",
      "HTTP request sent, awaiting response... 200 OK\n",
      "Length: 862182613 (822M) [application/zip]\n",
      "Saving to: ‘glove.6B.zip’\n",
      "\n",
      "glove.6B.zip        100%[===================>] 822.24M  63.5KB/s    in 3h 16m  \n",
      "\n",
      "2022-03-26 20:30:05 (71.3 KB/s) - ‘glove.6B.zip’ saved [862182613/862182613]\n",
      "\n"
     ]
    }
   ],
   "source": [
    "!wget http://nlp.stanford.edu/data/glove.6B.zip\n",
    "!unzip -q glove.6B.zip"
   ]
  },
  {
   "cell_type": "markdown",
   "metadata": {
    "id": "o4Ifl-sJRrpH"
   },
   "source": [
    "## Parsing The GloVe Word-Embeddings File\n",
    "\n",
    "First line of `glove.6B.100d.txt`:\n",
    "\n",
    "`the -0.038194 -0.24487 0.72812 ...`"
   ]
  },
  {
   "cell_type": "code",
   "execution_count": 9,
   "metadata": {
    "colab": {
     "base_uri": "https://localhost:8080/"
    },
    "id": "VPo9aWdbRrpH",
    "outputId": "0f1b626d-b8cf-43d7-f24e-b06814d95dea"
   },
   "outputs": [
    {
     "name": "stdout",
     "output_type": "stream",
     "text": [
      "Found 400000 word vectors.\n"
     ]
    }
   ],
   "source": [
    "path_to_glove_file = \"glove.6B.100d.txt\"\n",
    "\n",
    "embeddings_index = {}\n",
    "with open(path_to_glove_file) as f:\n",
    "    for line in f:\n",
    "        word, coefs = line.split(maxsplit=1)\n",
    "        coefs = np.fromstring(coefs, \"f\", sep=\" \") # np.dtype('f') returns dtype('float32')\n",
    "        embeddings_index[word] = coefs\n",
    "\n",
    "print(f\"Found {len(embeddings_index)} word vectors.\")"
   ]
  },
  {
   "cell_type": "markdown",
   "metadata": {
    "id": "evKxdRndRrpH"
   },
   "source": [
    "## Preparing The GloVe Word-Embeddings Matrix\n",
    "\n",
    "Next, let’s build an embedding matrix that you can load into an Embedding layer. It must be a matrix of shape `(max_words, embedding_dim)`, where each entry *i* contains the `embedding_dim`-dimensional vector for the word of index *i* in the reference word index (built during tokenization)."
   ]
  },
  {
   "cell_type": "code",
   "execution_count": 10,
   "metadata": {
    "id": "jSCD2_KcRrpI"
   },
   "outputs": [],
   "source": [
    "embedding_dim = 100\n",
    "\n",
    "# Retrieve the vocabulary indexed by our previous TextVectorization layer.\n",
    "vocabulary = text_vectorization.get_vocabulary()\n",
    "\n",
    "# Use it to create a mapping from words to their index in the vocabulary.\n",
    "word_index = dict(zip(vocabulary, range(len(vocabulary))))\n",
    "\n",
    "# Prepare a matrix that we’ll fill with the GloVe vectors.\n",
    "embedding_matrix = np.zeros((max_tokens, embedding_dim))\n",
    "\n",
    "# Fill entry i in the matrix with the word vector for index i.\n",
    "for word, i in word_index.items():\n",
    "    if i < max_tokens:\n",
    "        embedding_vector = embeddings_index.get(word)\n",
    "    if embedding_vector is not None:  # Words not found in the embedding index will be all zeros.\n",
    "        embedding_matrix[i] = embedding_vector"
   ]
  },
  {
   "cell_type": "code",
   "execution_count": 11,
   "metadata": {
    "id": "ZE2xRs4QRrpI"
   },
   "outputs": [],
   "source": [
    "embedding_layer = layers.Embedding(\n",
    "    max_tokens,\n",
    "    embedding_dim,\n",
    "    embeddings_initializer=keras.initializers.Constant(embedding_matrix),\n",
    "    trainable=False,\n",
    "    mask_zero=True,\n",
    ")"
   ]
  },
  {
   "cell_type": "markdown",
   "metadata": {},
   "source": [
    "We’re now ready to train a new model—identical to our previous model, but leveraging the `100-dimensional` pretrained GloVe embeddings instead of `256-dimensional` learned embeddings."
   ]
  },
  {
   "cell_type": "markdown",
   "metadata": {},
   "source": [
    "## One possible alternative to GloVE: ELMo (Embedding from Language Models)"
   ]
  },
  {
   "attachments": {},
   "cell_type": "markdown",
   "metadata": {},
   "source": [
    "<img src=\"https://github.com/djp840/MSDS_458_Public/blob/master/images/ELMoArchitecture.png?raw=1\">"
   ]
  },
  {
   "attachments": {},
   "cell_type": "markdown",
   "metadata": {},
   "source": [
    "### \"Although the word is written in the identical way in each sentence, ELMo is able to identify the correct embedding based on the word’s context.\"\n",
    "\n",
    "<img src=\"https://github.com/djp840/MSDS_458_Public/blob/master/images/ELMoComparison.png?raw=1\">\n",
    "\n",
    "https://colab.research.google.com/github/tensorflow/hub/blob/master/examples/colab/semantic_similarity_with_tf_hub_universal_encoder.ipynb#scrollTo=cPMCaxrZwp7t"
   ]
  },
  {
   "cell_type": "markdown",
   "metadata": {
    "id": "VOA_ss3iRrpJ"
   },
   "source": [
    "## Model that uses a pretrained (GloVe) Embedding layer"
   ]
  },
  {
   "cell_type": "code",
   "execution_count": 12,
   "metadata": {
    "colab": {
     "base_uri": "https://localhost:8080/"
    },
    "id": "RI8Tj4g1RrpJ",
    "outputId": "bfe52c86-0e86-4946-8ac1-ae5a03172abf",
    "scrolled": false
   },
   "outputs": [
    {
     "name": "stdout",
     "output_type": "stream",
     "text": [
      "Model: \"model_3\"\n",
      "_________________________________________________________________\n",
      " Layer (type)                Output Shape              Param #   \n",
      "=================================================================\n",
      " input_4 (InputLayer)        [(None, None)]            0         \n",
      "                                                                 \n",
      " embedding_3 (Embedding)     (None, None, 100)         100000    \n",
      "                                                                 \n",
      " bidirectional_3 (Bidirectio  (None, 64)               34048     \n",
      " nal)                                                            \n",
      "                                                                 \n",
      " dropout_3 (Dropout)         (None, 64)                0         \n",
      "                                                                 \n",
      " dense_3 (Dense)             (None, 4)                 260       \n",
      "                                                                 \n",
      "=================================================================\n",
      "Total params: 134,308\n",
      "Trainable params: 34,308\n",
      "Non-trainable params: 100,000\n",
      "_________________________________________________________________\n",
      "Epoch 1/10\n",
      "3563/3563 [==============================] - 503s 139ms/step - loss: 0.5048 - accuracy: 0.8173 - val_loss: 0.4146 - val_accuracy: 0.8528\n",
      "Epoch 2/10\n",
      "3563/3563 [==============================] - 493s 138ms/step - loss: 0.4317 - accuracy: 0.8459 - val_loss: 0.3926 - val_accuracy: 0.8580\n",
      "Epoch 3/10\n",
      "3563/3563 [==============================] - 493s 138ms/step - loss: 0.4112 - accuracy: 0.8526 - val_loss: 0.3853 - val_accuracy: 0.8590\n",
      "Epoch 4/10\n",
      "3563/3563 [==============================] - 493s 138ms/step - loss: 0.3991 - accuracy: 0.8576 - val_loss: 0.3763 - val_accuracy: 0.8653\n",
      "Epoch 5/10\n",
      "3563/3563 [==============================] - 492s 138ms/step - loss: 0.3886 - accuracy: 0.8603 - val_loss: 0.3717 - val_accuracy: 0.8663\n",
      "Epoch 6/10\n",
      "3563/3563 [==============================] - 493s 138ms/step - loss: 0.3828 - accuracy: 0.8620 - val_loss: 0.3704 - val_accuracy: 0.8670\n",
      "Epoch 7/10\n",
      "3563/3563 [==============================] - 494s 139ms/step - loss: 0.3756 - accuracy: 0.8656 - val_loss: 0.3674 - val_accuracy: 0.8708\n",
      "Epoch 8/10\n",
      "3563/3563 [==============================] - 493s 138ms/step - loss: 0.3698 - accuracy: 0.8680 - val_loss: 0.3677 - val_accuracy: 0.8688\n",
      "Epoch 9/10\n",
      "3563/3563 [==============================] - 493s 138ms/step - loss: 0.3658 - accuracy: 0.8697 - val_loss: 0.3685 - val_accuracy: 0.8698\n",
      "Epoch 10/10\n",
      "3563/3563 [==============================] - 492s 138ms/step - loss: 0.3600 - accuracy: 0.8711 - val_loss: 0.3707 - val_accuracy: 0.8677\n",
      "238/238 [==============================] - 11s 36ms/step - loss: 0.3824 - accuracy: 0.8632\n",
      "Test acc: 0.863\n"
     ]
    }
   ],
   "source": [
    "inputs = keras.Input(shape=(None,), dtype=\"int64\")\n",
    "embedded = embedding_layer(inputs)\n",
    "x = layers.Bidirectional(layers.LSTM(32))(embedded)\n",
    "x = layers.Dropout(0.5)(x)\n",
    "outputs = layers.Dense(4, activation=\"softmax\")(x)\n",
    "model = keras.Model(inputs, outputs)\n",
    "model.compile(optimizer=\"rmsprop\",\n",
    "              loss=\"SparseCategoricalCrossentropy\",\n",
    "              metrics=[\"accuracy\"])\n",
    "model.summary()\n",
    "\n",
    "callbacks = [\n",
    "    keras.callbacks.ModelCheckpoint(\"glove_embeddings_sequence_model.keras\",\n",
    "                                    save_best_only=True)\n",
    "]\n",
    "model.fit(int_train_ds, validation_data=int_val_ds, epochs=10, callbacks=callbacks)\n",
    "model = keras.models.load_model(\"glove_embeddings_sequence_model.keras\")\n",
    "print(f\"Test acc: {model.evaluate(int_test_ds)[1]:.3f}\")"
   ]
  },
  {
   "cell_type": "code",
   "execution_count": null,
   "metadata": {},
   "outputs": [],
   "source": []
  }
 ],
 "metadata": {
  "accelerator": "GPU",
  "colab": {
   "collapsed_sections": [],
   "machine_shape": "hm",
   "name": "chapter11_part02_sequence-models-AG_SUBSET.ipynb",
   "provenance": [],
   "toc_visible": true
  },
  "kernelspec": {
   "display_name": "Python 3",
   "language": "python",
   "name": "python3"
  },
  "language_info": {
   "codemirror_mode": {
    "name": "ipython",
    "version": 3
   },
   "file_extension": ".py",
   "mimetype": "text/x-python",
   "name": "python",
   "nbconvert_exporter": "python",
   "pygments_lexer": "ipython3",
   "version": "3.8.10"
  }
 },
 "nbformat": 4,
 "nbformat_minor": 1
}

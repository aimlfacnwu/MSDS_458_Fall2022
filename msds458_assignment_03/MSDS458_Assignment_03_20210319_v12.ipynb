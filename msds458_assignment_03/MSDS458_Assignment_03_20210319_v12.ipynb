{
 "cells": [
  {
   "cell_type": "markdown",
   "metadata": {
    "id": "Cfh9kVB-rpjo"
   },
   "source": [
    "<img src=\"https://github.com/djp840/MSDS_458_Public/blob/master/images/NorthwesternHeader.png?raw=1\">"
   ]
  },
  {
   "cell_type": "markdown",
   "metadata": {
    "id": "pRAx1f1ir1St"
   },
   "source": [
    "## MSDS458 Research Assignment 3"
   ]
  },
  {
   "cell_type": "markdown",
   "metadata": {
    "id": "jQnyR1_aFk-t"
   },
   "source": [
    "### Analyze AG_NEWS_SUBSET Data <br>\n",
    "\n",
    "AG is a collection of more than 1 million news articles. News articles have been gathered from more than 2000 news sources by ComeToMyHead in more than 1 year of activity. ComeToMyHead is an academic news search engine which has been running since July, 2004. The dataset is provided by the academic comunity for research purposes in data mining (clustering, classification, etc), information retrieval (ranking, search, etc), xml, data compression, data streaming, and any other non-commercial activity.<br> \n",
    "\n",
    "For more information, please refer to the link http://www.di.unipi.it/~gulli/AG_corpus_of_news_articles.html<br> \n",
    "\n",
    "\n",
    "The AG's news topic classification dataset is constructed by choosing 4 largest classes (**World**, **Sports**, **Business**, and **Sci/Tech**) from the original corpus. Each class contains 30,000 training samples and 1,900 testing samples. The total number of training samples is 120,000 and testing 7,600.<br>\n",
    "\n",
    "Homepage: https://arxiv.org/abs/1509.01626<br>\n",
    "\n",
    "Source code: tfds.text.AGNewsSubset\n",
    "\n",
    "Versions:\n",
    "\n",
    "1.0.0 (default): No release notes.\n",
    "Download size: 11.24 MiB\n",
    "\n",
    "Dataset size: 35.79 MiB"
   ]
  },
  {
   "cell_type": "markdown",
   "metadata": {
    "id": "oGBlk-2-NaCn"
   },
   "source": [
    "<div class=\"alert alert-block alert-success\">\n",
    "    <b>More Technical</b>: Throughout the notebook. This types of boxes provide more technical details and extra references about what you are seeing. They contain helpful tips, but you can safely skip them the first time you run through the code.\n",
    "</div>"
   ]
  },
  {
   "cell_type": "markdown",
   "metadata": {
    "id": "t-Jjr3rNr5PR"
   },
   "source": [
    "## Import packages "
   ]
  },
  {
   "cell_type": "code",
   "execution_count": 1,
   "metadata": {
    "id": "mbrX9qUZvfs1"
   },
   "outputs": [],
   "source": [
    "import datetime\n",
    "from packaging import version\n",
    "from collections import Counter\n",
    "import numpy as np\n",
    "import pandas as pd\n",
    "import matplotlib.pyplot as plt\n",
    "\n",
    "# TensorFlow and tf.keras\n",
    "import tensorflow as tf\n",
    "from tensorflow import keras\n",
    "import tensorflow_datasets as tfds"
   ]
  },
  {
   "cell_type": "code",
   "execution_count": 2,
   "metadata": {
    "id": "q0H8HuzHrWwN"
   },
   "outputs": [],
   "source": [
    "%matplotlib inline\n",
    "np.set_printoptions(precision=3, suppress=True)"
   ]
  },
  {
   "cell_type": "markdown",
   "metadata": {
    "id": "b2iqmNYKxw3A"
   },
   "source": [
    "### Create a Helper Function to Plot Graphs:"
   ]
  },
  {
   "cell_type": "code",
   "execution_count": 3,
   "metadata": {
    "id": "gg13oDZNxxMp"
   },
   "outputs": [],
   "source": [
    "def plot_graphs(history, metric):\n",
    "  plt.plot(history.history[metric])\n",
    "  plt.plot(history.history['val_'+metric], '')\n",
    "  plt.xlabel(\"Epochs\")\n",
    "  plt.ylabel(metric)\n",
    "  plt.legend([metric, 'val_'+metric])"
   ]
  },
  {
   "cell_type": "markdown",
   "metadata": {
    "id": "iKucNfkrsqrP"
   },
   "source": [
    "### Verify TensorFlow Version and Keras Version"
   ]
  },
  {
   "cell_type": "code",
   "execution_count": 4,
   "metadata": {
    "colab": {
     "base_uri": "https://localhost:8080/"
    },
    "id": "g_BoGg9JrWzj",
    "outputId": "1d145f0a-62fd-442c-a987-a96df7112855"
   },
   "outputs": [
    {
     "name": "stdout",
     "output_type": "stream",
     "text": [
      "This notebook requires TensorFlow 2.0 or above\n",
      "TensorFlow version:  2.4.1\n"
     ]
    }
   ],
   "source": [
    "print(\"This notebook requires TensorFlow 2.0 or above\")\n",
    "print(\"TensorFlow version: \", tf.__version__)\n",
    "assert version.parse(tf.__version__).release[0] >=2"
   ]
  },
  {
   "cell_type": "code",
   "execution_count": 5,
   "metadata": {
    "colab": {
     "base_uri": "https://localhost:8080/"
    },
    "id": "U_bLWHP4rW3b",
    "outputId": "84076303-7d38-4ed3-b0db-0f0e4de2e2e6"
   },
   "outputs": [
    {
     "name": "stdout",
     "output_type": "stream",
     "text": [
      "Keras version:  2.4.0\n"
     ]
    }
   ],
   "source": [
    "print(\"Keras version: \", keras.__version__)"
   ]
  },
  {
   "cell_type": "markdown",
   "metadata": {
    "id": "J3-S2vDGs_ye"
   },
   "source": [
    "<div class=\"alert alert-block alert-info\">\n",
    "    <b>Suppress warning messages</b></div>"
   ]
  },
  {
   "cell_type": "code",
   "execution_count": 6,
   "metadata": {
    "id": "mh3EX5eBrW6R"
   },
   "outputs": [],
   "source": [
    "def warn(*args, **kwargs):\n",
    "    pass\n",
    "import warnings\n",
    "warnings.warn = warn"
   ]
  },
  {
   "cell_type": "markdown",
   "metadata": {
    "id": "-mFyXjJmtJ3E"
   },
   "source": [
    "### Mount Google Drive to Colab Environment"
   ]
  },
  {
   "cell_type": "code",
   "execution_count": 7,
   "metadata": {
    "colab": {
     "base_uri": "https://localhost:8080/"
    },
    "id": "CXm3H81YrW8-",
    "outputId": "e619af3b-e635-41e9-9982-a380644c98ef"
   },
   "outputs": [
    {
     "name": "stdout",
     "output_type": "stream",
     "text": [
      "Mounted at /content/gdrive\n"
     ]
    }
   ],
   "source": [
    "from google.colab import drive\n",
    "drive.mount('/content/gdrive')"
   ]
  },
  {
   "cell_type": "markdown",
   "metadata": {
    "id": "X6s4xhh5ysp6"
   },
   "source": [
    "###  TensorFlow Datasets Information<br>\n",
    "<div class=\"alert alert-block alert-info\">\n",
    "    <b> ag_news_subset</b><br>\n",
    "    See https://www.tensorflow.org/datasets/catalog/ag_news_subset\n",
    "    </div>"
   ]
  },
  {
   "cell_type": "markdown",
   "metadata": {
    "id": "cL3ewSkAF4yF"
   },
   "source": [
    "Get all the words in the documents (as well as the number of words in each document) by using the encoder to get the indices associated with each token and then translating the indices to tokens. But first we need to get the \"unpadded\" new articles so that we can get their length."
   ]
  },
  {
   "cell_type": "code",
   "execution_count": 8,
   "metadata": {
    "colab": {
     "base_uri": "https://localhost:8080/"
    },
    "id": "VNj2HSxNtTNS",
    "outputId": "617394f9-74d1-4ae3-b5e0-4cc4dd2c8908",
    "scrolled": false
   },
   "outputs": [
    {
     "name": "stdout",
     "output_type": "stream",
     "text": [
      "2021-03-19 21:36:37.387179: I tensorflow/stream_executor/platform/default/dso_loader.cc:49] Successfully opened dynamic library libcudart.so.11.0\n",
      "I0319 21:36:40.187196 140014259640192 download_and_prepare.py:200] Running download_and_prepare for dataset(s):\n",
      "ag_news_subset\n",
      "2021-03-19 21:36:40.199175: I tensorflow/core/platform/cloud/google_auth_provider.cc:180] Attempting an empty bearer token since no token was retrieved from files, and GCE metadata check was skipped.\n",
      "2021-03-19 21:36:40.267480: I tensorflow/core/platform/cloud/google_auth_provider.cc:180] Attempting an empty bearer token since no token was retrieved from files, and GCE metadata check was skipped.\n",
      "2021-03-19 21:36:40.309822: I tensorflow/core/platform/cloud/google_auth_provider.cc:180] Attempting an empty bearer token since no token was retrieved from files, and GCE metadata check was skipped.\n",
      "I0319 21:36:40.350319 140014259640192 dataset_info.py:434] Load pre-computed DatasetInfo (eg: splits, num examples,...) from GCS: ag_news_subset/1.0.0\n",
      "2021-03-19 21:36:40.375336: I tensorflow/core/platform/cloud/google_auth_provider.cc:180] Attempting an empty bearer token since no token was retrieved from files, and GCE metadata check was skipped.\n",
      "2021-03-19 21:36:40.501181: I tensorflow/core/platform/cloud/google_auth_provider.cc:180] Attempting an empty bearer token since no token was retrieved from files, and GCE metadata check was skipped.\n",
      "I0319 21:36:40.643166 140014259640192 dataset_info.py:361] Load dataset info from /tmp/tmp6m0l4m2ntfds\n",
      "I0319 21:36:40.645232 140014259640192 download_and_prepare.py:138] download_and_prepare for dataset ag_news_subset/1.0.0...\n",
      "I0319 21:36:40.645695 140014259640192 dataset_builder.py:357] Generating dataset ag_news_subset (/root/tensorflow_datasets/ag_news_subset/1.0.0)\n",
      "\u001b[1mDownloading and preparing dataset ag_news_subset/1.0.0 (download: 11.24 MiB, generated: 35.79 MiB, total: 47.03 MiB) to /root/tensorflow_datasets/ag_news_subset/1.0.0...\u001b[0m\n",
      "2021-03-19 21:36:40.817924: I tensorflow/core/platform/cloud/google_auth_provider.cc:180] Attempting an empty bearer token since no token was retrieved from files, and GCE metadata check was skipped.\n",
      "2021-03-19 21:36:40.866648: I tensorflow/core/platform/cloud/google_auth_provider.cc:180] Attempting an empty bearer token since no token was retrieved from files, and GCE metadata check was skipped.\n",
      "Dl Completed...: 0 url [00:00, ? url/s]\n",
      "Dl Size...: 0 MiB [00:00, ? MiB/s]\u001b[A\n",
      "\n",
      "Extraction completed...: 0 file [00:00, ? file/s]\u001b[A\u001b[AI0319 21:36:40.912771 140014259640192 download_manager.py:476] Downloading https://drive.google.com/uc?export=download&id=0Bz8a_Dbh9QhbUDNpeUdjb0wxRms into /root/tensorflow_datasets/downloads/ucexport_download_id_0Bz8a_Dbh9QhbUDNpeUdjb0wxj4g1umFAV8OV-uDwxSJR0LdxO_k1jxMuFWwAfNX9jos.tmp.aabe87faac6b45c2a18a0891f2794840...\n",
      "Dl Completed...:   0% 0/1 [00:00<?, ? url/s]\n",
      "Dl Size...: 0 MiB [00:00, ? MiB/s]\u001b[A\n",
      "\n",
      "Dl Completed...:   0% 0/1 [00:05<?, ? url/s]\n",
      "Dl Size...: 0 MiB [00:05, ? MiB/s]\u001b[A\n",
      "\n",
      "Extraction completed...: 0 file [00:05, ? file/s]\u001b[A\u001b[A\n",
      "Dl Completed...:   0% 0/1 [00:05<?, ? url/s]\n",
      "Dl Size...: 1 MiB [00:05,  5.85s/ MiB]\u001b[A\n",
      "\n",
      "Dl Completed...:   0% 0/1 [00:05<?, ? url/s]\n",
      "Dl Size...: 2 MiB [00:05,  5.85s/ MiB]\u001b[A\n",
      "\n",
      "Dl Completed...:   0% 0/1 [00:05<?, ? url/s]\n",
      "Dl Size...: 3 MiB [00:05,  5.85s/ MiB]\u001b[A\n",
      "\n",
      "Dl Completed...:   0% 0/1 [00:05<?, ? url/s]\n",
      "Dl Size...: 4 MiB [00:05,  5.85s/ MiB]\u001b[A\n",
      "\n",
      "Dl Completed...:   0% 0/1 [00:05<?, ? url/s]\n",
      "Dl Size...: 5 MiB [00:05,  5.85s/ MiB]\u001b[A\n",
      "\n",
      "Dl Completed...:   0% 0/1 [00:05<?, ? url/s]\n",
      "Dl Size...: 6 MiB [00:05,  5.85s/ MiB]\u001b[A\n",
      "\n",
      "Dl Completed...:   0% 0/1 [00:05<?, ? url/s]\n",
      "Dl Size...: 7 MiB [00:05,  5.85s/ MiB]\u001b[A\n",
      "\n",
      "Dl Completed...:   0% 0/1 [00:05<?, ? url/s]\n",
      "Dl Size...: 8 MiB [00:05,  5.85s/ MiB]\u001b[A\n",
      "\n",
      "Dl Completed...:   0% 0/1 [00:05<?, ? url/s]\n",
      "Dl Size...: 9 MiB [00:05,  5.85s/ MiB]\u001b[A\n",
      "\n",
      "Dl Completed...:   0% 0/1 [00:05<?, ? url/s]\n",
      "Dl Size...: 10 MiB [00:05,  5.85s/ MiB]\u001b[A\n",
      "\n",
      "Dl Completed...:   0% 0/1 [00:05<?, ? url/s]\n",
      "Dl Size...: 11 MiB [00:05,  5.85s/ MiB]\u001b[A\n",
      "\n",
      "Dl Completed...: 100% 1/1 [00:05<00:00,  5.95s/ url]\n",
      "Dl Size...: 11 MiB [00:05,  5.85s/ MiB]\u001b[A\n",
      "\n",
      "Dl Completed...: 100% 1/1 [00:05<00:00,  5.95s/ url]\n",
      "Dl Size...: 11 MiB [00:05,  5.85s/ MiB]\u001b[A\n",
      "\n",
      "Extraction completed...:   0% 0/1 [00:05<?, ? file/s]\u001b[A\u001b[A\n",
      "\n",
      "Dl Completed...: 100% 1/1 [00:06<00:00,  5.95s/ url]\n",
      "Dl Size...: 11 MiB [00:06,  5.85s/ MiB]\u001b[A\n",
      "\n",
      "Extraction completed...: 100% 1/1 [00:06<00:00,  6.34s/ file]\u001b[A\u001b[A\n",
      "Extraction completed...: 100% 1/1 [00:06<00:00,  6.34s/ file]\n",
      "\n",
      "Dl Size...: 11 MiB [00:06,  1.73 MiB/s]\n",
      "\n",
      "Dl Completed...: 100% 1/1 [00:06<00:00,  6.34s/ url]\n",
      "I0319 21:36:47.255429 140014259640192 dataset_builder.py:970] Generating split train\n",
      "Shuffling and writing examples to /root/tensorflow_datasets/ag_news_subset/1.0.0.incomplete9X0248/ag_news_subset-train.tfrecord\n",
      " 94% 113280/120000 [00:00<05:37, 19.89 examples/s]I0319 21:37:12.975221 140014259640192 tfrecords_writer.py:226] Done writing /root/tensorflow_datasets/ag_news_subset/1.0.0.incomplete9X0248/ag_news_subset-train.tfrecord. Shard lengths: [120000]\n",
      "I0319 21:37:12.993685 140014259640192 dataset_builder.py:970] Generating split test\n",
      "Shuffling and writing examples to /root/tensorflow_datasets/ag_news_subset/1.0.0.incomplete9X0248/ag_news_subset-test.tfrecord\n",
      "  0% 0/7600 [00:00<?, ? examples/s]I0319 21:37:14.544195 140014259640192 tfrecords_writer.py:226] Done writing /root/tensorflow_datasets/ag_news_subset/1.0.0.incomplete9X0248/ag_news_subset-test.tfrecord. Shard lengths: [7600]\n",
      "I0319 21:37:14.546337 140014259640192 dataset_builder.py:412] Skipping computing stats for mode ComputeStatsMode.SKIP.\n",
      "\u001b[1mDataset ag_news_subset downloaded and prepared to /root/tensorflow_datasets/ag_news_subset/1.0.0. Subsequent calls will reuse this data.\u001b[0m\n",
      "\u001b[1mname: \"ag_news_subset\"\n",
      "description: \"AG is a collection of more than 1 million news articles.\\nNews articles have been gathered from more than 2000  news sources by ComeToMyHead in more than 1 year of activity.\\nComeToMyHead is an academic news search engine which has been running since July, 2004.\\nThe dataset is provided by the academic comunity for research purposes in data mining (clustering, classification, etc),\\ninformation retrieval (ranking, search, etc), xml, data compression, data streaming,\\nand any other non-commercial activity.\\nFor more information, please refer to the link http://www.di.unipi.it/~gulli/AG_corpus_of_news_articles.html .\\n\\nThe AG\\'s news topic classification dataset is constructed by Xiang Zhang (xiang.zhang@nyu.edu) from the dataset above.\\nIt is used as a text classification benchmark in the following paper:\\nXiang Zhang, Junbo Zhao, Yann LeCun. Character-level Convolutional Networks for Text Classification. Advances in Neural Information Processing Systems 28 (NIPS 2015).\\n\\nThe AG\\'s news topic classification dataset is constructed by choosing 4 largest classes from the original corpus.\\nEach class contains 30,000 training samples and 1,900 testing samples.\\nThe total number of training samples is 120,000 and testing 7,600.\"\n",
      "citation: \"@misc{zhang2015characterlevel,\\n    title={Character-level Convolutional Networks for Text Classification},\\n    author={Xiang Zhang and Junbo Zhao and Yann LeCun},\\n    year={2015},\\n    eprint={1509.01626},\\n    archivePrefix={arXiv},\\n    primaryClass={cs.LG}\\n}\"\n",
      "location {\n",
      "  urls: \"https://arxiv.org/abs/1509.01626\"\n",
      "}\n",
      "splits {\n",
      "  name: \"test\"\n",
      "  shard_lengths: 7600\n",
      "  num_bytes: 2226751\n",
      "}\n",
      "splits {\n",
      "  name: \"train\"\n",
      "  shard_lengths: 120000\n",
      "  num_bytes: 35301386\n",
      "}\n",
      "supervised_keys {\n",
      "  input: \"description\"\n",
      "  output: \"label\"\n",
      "}\n",
      "version: \"1.0.0\"\n",
      "download_size: 11784327\n",
      "\u001b[0m\n"
     ]
    }
   ],
   "source": [
    "#register  ag_news_subset so that tfds.load doesn't generate a checksum (mismatch) error\n",
    "!python -m tensorflow_datasets.scripts.download_and_prepare --register_checksums --datasets=ag_news_subset\n",
    "\n",
    "# https://www.tensorflow.org/datasets/splits\n",
    "# The full `train` and `test` splits, interleaved together.\n",
    "ri = tfds.core.ReadInstruction('train') + tfds.core.ReadInstruction('test')\n",
    "dataset_all, info = tfds.load('ag_news_subset', with_info=True,  split=ri, as_supervised=True)"
   ]
  },
  {
   "cell_type": "markdown",
   "metadata": {
    "id": "Bzs2FWbQIf5m"
   },
   "source": [
    "###  Exploratory Analysis AG News Subset"
   ]
  },
  {
   "cell_type": "markdown",
   "metadata": {
    "id": "m7514-j4I4B-"
   },
   "source": [
    "**Get information about the ag_news_subset dataset. We combined the training and test data for a total of 127,600 news articles.**"
   ]
  },
  {
   "cell_type": "code",
   "execution_count": 9,
   "metadata": {
    "colab": {
     "base_uri": "https://localhost:8080/"
    },
    "id": "eJNcnZbRtTQ2",
    "outputId": "e8ccc882-1735-49b9-b297-873e56db65ab"
   },
   "outputs": [
    {
     "data": {
      "text/plain": [
       "tfds.core.DatasetInfo(\n",
       "    name='ag_news_subset',\n",
       "    version=1.0.0,\n",
       "    description='AG is a collection of more than 1 million news articles.\n",
       "News articles have been gathered from more than 2000  news sources by ComeToMyHead in more than 1 year of activity.\n",
       "ComeToMyHead is an academic news search engine which has been running since July, 2004.\n",
       "The dataset is provided by the academic comunity for research purposes in data mining (clustering, classification, etc),\n",
       "information retrieval (ranking, search, etc), xml, data compression, data streaming,\n",
       "and any other non-commercial activity.\n",
       "For more information, please refer to the link http://www.di.unipi.it/~gulli/AG_corpus_of_news_articles.html .\n",
       "\n",
       "The AG's news topic classification dataset is constructed by Xiang Zhang (xiang.zhang@nyu.edu) from the dataset above.\n",
       "It is used as a text classification benchmark in the following paper:\n",
       "Xiang Zhang, Junbo Zhao, Yann LeCun. Character-level Convolutional Networks for Text Classification. Advances in Neural Information Processing Systems 28 (NIPS 2015).\n",
       "\n",
       "The AG's news topic classification dataset is constructed by choosing 4 largest classes from the original corpus.\n",
       "Each class contains 30,000 training samples and 1,900 testing samples.\n",
       "The total number of training samples is 120,000 and testing 7,600.',\n",
       "    homepage='https://arxiv.org/abs/1509.01626',\n",
       "    features=FeaturesDict({\n",
       "        'description': Text(shape=(), dtype=tf.string),\n",
       "        'label': ClassLabel(shape=(), dtype=tf.int64, num_classes=4),\n",
       "        'title': Text(shape=(), dtype=tf.string),\n",
       "    }),\n",
       "    total_num_examples=127600,\n",
       "    splits={\n",
       "        'test': 7600,\n",
       "        'train': 120000,\n",
       "    },\n",
       "    supervised_keys=('description', 'label'),\n",
       "    citation=\"\"\"@misc{zhang2015characterlevel,\n",
       "        title={Character-level Convolutional Networks for Text Classification},\n",
       "        author={Xiang Zhang and Junbo Zhao and Yann LeCun},\n",
       "        year={2015},\n",
       "        eprint={1509.01626},\n",
       "        archivePrefix={arXiv},\n",
       "        primaryClass={cs.LG}\n",
       "    }\"\"\",\n",
       "    redistribution_info=,\n",
       ")"
      ]
     },
     "execution_count": 9,
     "metadata": {
      "tags": []
     },
     "output_type": "execute_result"
    }
   ],
   "source": [
    "info"
   ]
  },
  {
   "cell_type": "code",
   "execution_count": 10,
   "metadata": {
    "colab": {
     "base_uri": "https://localhost:8080/",
     "height": 224
    },
    "id": "w6GaSzMRqrIR",
    "outputId": "c1a4b157-6ff5-49c4-a82d-0d16665555ec"
   },
   "outputs": [
    {
     "data": {
      "text/html": [
       "<style  type=\"text/css\" >\n",
       "</style><table id=\"T_45f2bb9a_88fb_11eb_ab3d_0242ac1c0002\" ><thead>    <tr>        <th class=\"blank level0\" ></th>        <th class=\"col_heading level0 col0\" >description</th>        <th class=\"col_heading level0 col1\" >label</th>    </tr></thead><tbody>\n",
       "                <tr>\n",
       "                        <th id=\"T_45f2bb9a_88fb_11eb_ab3d_0242ac1c0002level0_row0\" class=\"row_heading level0 row0\" >0</th>\n",
       "                        <td id=\"T_45f2bb9a_88fb_11eb_ab3d_0242ac1c0002row0_col0\" class=\"data row0 col0\" >AMD #39;s new dual-core Opteron chip is designed mainly for corporate computing applications, including databases, Web services, and financial transactions.</td>\n",
       "                        <td id=\"T_45f2bb9a_88fb_11eb_ab3d_0242ac1c0002row0_col1\" class=\"data row0 col1\" >3 (Sci/Tech)</td>\n",
       "            </tr>\n",
       "            <tr>\n",
       "                        <th id=\"T_45f2bb9a_88fb_11eb_ab3d_0242ac1c0002level0_row1\" class=\"row_heading level0 row1\" >1</th>\n",
       "                        <td id=\"T_45f2bb9a_88fb_11eb_ab3d_0242ac1c0002row1_col0\" class=\"data row1 col0\" >Reuters - Major League Baseball\\Monday announced a decision on the appeal filed by Chicago Cubs\\pitcher Kerry Wood regarding a suspension stemming from an\\incident earlier this season.</td>\n",
       "                        <td id=\"T_45f2bb9a_88fb_11eb_ab3d_0242ac1c0002row1_col1\" class=\"data row1 col1\" >1 (Sports)</td>\n",
       "            </tr>\n",
       "            <tr>\n",
       "                        <th id=\"T_45f2bb9a_88fb_11eb_ab3d_0242ac1c0002level0_row2\" class=\"row_heading level0 row2\" >2</th>\n",
       "                        <td id=\"T_45f2bb9a_88fb_11eb_ab3d_0242ac1c0002row2_col0\" class=\"data row2 col0\" >President Bush #39;s quot;revenue-neutral quot; tax reform needs losers to balance its winners, and people claiming the federal deduction for state and local taxes may be in administration planners #39; sights, news reports say.</td>\n",
       "                        <td id=\"T_45f2bb9a_88fb_11eb_ab3d_0242ac1c0002row2_col1\" class=\"data row2 col1\" >2 (Business)</td>\n",
       "            </tr>\n",
       "            <tr>\n",
       "                        <th id=\"T_45f2bb9a_88fb_11eb_ab3d_0242ac1c0002level0_row3\" class=\"row_heading level0 row3\" >3</th>\n",
       "                        <td id=\"T_45f2bb9a_88fb_11eb_ab3d_0242ac1c0002row3_col0\" class=\"data row3 col0\" >Britain will run out of leading scientists unless science education is improved, says Professor Colin Pillinger.</td>\n",
       "                        <td id=\"T_45f2bb9a_88fb_11eb_ab3d_0242ac1c0002row3_col1\" class=\"data row3 col1\" >3 (Sci/Tech)</td>\n",
       "            </tr>\n",
       "            <tr>\n",
       "                        <th id=\"T_45f2bb9a_88fb_11eb_ab3d_0242ac1c0002level0_row4\" class=\"row_heading level0 row4\" >4</th>\n",
       "                        <td id=\"T_45f2bb9a_88fb_11eb_ab3d_0242ac1c0002row4_col0\" class=\"data row4 col0\" >London, England (Sports Network) - England midfielder Steven Gerrard injured his groin late in Thursday #39;s training session, but is hopeful he will be ready for Saturday #39;s World Cup qualifier against Austria.</td>\n",
       "                        <td id=\"T_45f2bb9a_88fb_11eb_ab3d_0242ac1c0002row4_col1\" class=\"data row4 col1\" >1 (Sports)</td>\n",
       "            </tr>\n",
       "            <tr>\n",
       "                        <th id=\"T_45f2bb9a_88fb_11eb_ab3d_0242ac1c0002level0_row5\" class=\"row_heading level0 row5\" >5</th>\n",
       "                        <td id=\"T_45f2bb9a_88fb_11eb_ab3d_0242ac1c0002row5_col0\" class=\"data row5 col0\" >TOKYO - Sony Corp. is banking on the \\$3 billion deal to acquire Hollywood studio Metro-Goldwyn-Mayer Inc...</td>\n",
       "                        <td id=\"T_45f2bb9a_88fb_11eb_ab3d_0242ac1c0002row5_col1\" class=\"data row5 col1\" >0 (World)</td>\n",
       "            </tr>\n",
       "            <tr>\n",
       "                        <th id=\"T_45f2bb9a_88fb_11eb_ab3d_0242ac1c0002level0_row6\" class=\"row_heading level0 row6\" >6</th>\n",
       "                        <td id=\"T_45f2bb9a_88fb_11eb_ab3d_0242ac1c0002row6_col0\" class=\"data row6 col0\" >Giant pandas may well prefer bamboo to laptops, but wireless technology is helping researchers in China in their efforts to protect the engandered animals living in the remote Wolong Nature Reserve.</td>\n",
       "                        <td id=\"T_45f2bb9a_88fb_11eb_ab3d_0242ac1c0002row6_col1\" class=\"data row6 col1\" >3 (Sci/Tech)</td>\n",
       "            </tr>\n",
       "            <tr>\n",
       "                        <th id=\"T_45f2bb9a_88fb_11eb_ab3d_0242ac1c0002level0_row7\" class=\"row_heading level0 row7\" >7</th>\n",
       "                        <td id=\"T_45f2bb9a_88fb_11eb_ab3d_0242ac1c0002row7_col0\" class=\"data row7 col0\" >VILNIUS, Lithuania - Lithuania #39;s main parties formed an alliance to try to keep a Russian-born tycoon and his populist promises out of the government in Sunday #39;s second round of parliamentary elections in this Baltic country.</td>\n",
       "                        <td id=\"T_45f2bb9a_88fb_11eb_ab3d_0242ac1c0002row7_col1\" class=\"data row7 col1\" >0 (World)</td>\n",
       "            </tr>\n",
       "            <tr>\n",
       "                        <th id=\"T_45f2bb9a_88fb_11eb_ab3d_0242ac1c0002level0_row8\" class=\"row_heading level0 row8\" >8</th>\n",
       "                        <td id=\"T_45f2bb9a_88fb_11eb_ab3d_0242ac1c0002row8_col0\" class=\"data row8 col0\" >Witnesses in the trial of a US soldier charged with abusing prisoners at Abu Ghraib have told the court that the CIA sometimes directed abuse and orders were received from military command to toughen interrogations.</td>\n",
       "                        <td id=\"T_45f2bb9a_88fb_11eb_ab3d_0242ac1c0002row8_col1\" class=\"data row8 col1\" >0 (World)</td>\n",
       "            </tr>\n",
       "            <tr>\n",
       "                        <th id=\"T_45f2bb9a_88fb_11eb_ab3d_0242ac1c0002level0_row9\" class=\"row_heading level0 row9\" >9</th>\n",
       "                        <td id=\"T_45f2bb9a_88fb_11eb_ab3d_0242ac1c0002row9_col0\" class=\"data row9 col0\" >Dan Olsen of Ponte Vedra Beach, Fla., shot a 7-under 65 Thursday to take a one-shot lead after two rounds of the PGA Tour qualifying tournament.</td>\n",
       "                        <td id=\"T_45f2bb9a_88fb_11eb_ab3d_0242ac1c0002row9_col1\" class=\"data row9 col1\" >1 (Sports)</td>\n",
       "            </tr>\n",
       "    </tbody></table>"
      ],
      "text/plain": [
       "                                         description  label\n",
       "0  b'AMD #39;s new dual-core Opteron chip is desi...      3\n",
       "1  b'Reuters - Major League Baseball\\\\Monday anno...      1\n",
       "2  b'President Bush #39;s  quot;revenue-neutral q...      2\n",
       "3  b'Britain will run out of leading scientists u...      3\n",
       "4  b'London, England (Sports Network) - England m...      1\n",
       "5  b'TOKYO - Sony Corp. is banking on the \\\\$3 bi...      0\n",
       "6  b'Giant pandas may well prefer bamboo to lapto...      3\n",
       "7  b'VILNIUS, Lithuania - Lithuania #39;s main pa...      0\n",
       "8  b'Witnesses in the trial of a US soldier charg...      0\n",
       "9  b'Dan Olsen of Ponte Vedra Beach, Fla., shot a...      1"
      ]
     },
     "execution_count": 10,
     "metadata": {
      "tags": []
     },
     "output_type": "execute_result"
    }
   ],
   "source": [
    "tfds.as_dataframe(dataset_all.take(10),info)"
   ]
  },
  {
   "cell_type": "markdown",
   "metadata": {
    "id": "RoG_cOcMMKgC"
   },
   "source": [
    "### Review Labels (Categories) "
   ]
  },
  {
   "cell_type": "code",
   "execution_count": 11,
   "metadata": {
    "colab": {
     "base_uri": "https://localhost:8080/"
    },
    "id": "4uBCsL_8tTUU",
    "outputId": "ba7bbb7e-dba0-4988-e8f5-0fd9e448e1ed"
   },
   "outputs": [
    {
     "name": "stdout",
     "output_type": "stream",
     "text": [
      "There are 4 classes in the dataset.\n",
      "The class names are ['World', 'Sports', 'Business', 'Sci/Tech']\n"
     ]
    }
   ],
   "source": [
    "print(f'There are {info.features[\"label\"].num_classes} classes in the dataset.')\n",
    "print(f'The class names are {info.features[\"label\"].names}')"
   ]
  },
  {
   "cell_type": "code",
   "execution_count": 12,
   "metadata": {
    "colab": {
     "base_uri": "https://localhost:8080/"
    },
    "id": "fRbULmnCtTXo",
    "outputId": "139ef6dd-e10a-4fb4-e20b-7b00bcd92d4c"
   },
   "outputs": [
    {
     "data": {
      "text/plain": [
       "{0: 'World', 1: 'Sports', 2: 'Business', 3: 'Sci/Tech'}"
      ]
     },
     "execution_count": 12,
     "metadata": {
      "tags": []
     },
     "output_type": "execute_result"
    }
   ],
   "source": [
    "# classes dictionary\n",
    "categories =dict(enumerate(info.features[\"label\"].names))\n",
    "categories"
   ]
  },
  {
   "cell_type": "markdown",
   "metadata": {
    "id": "xXQzudk9MmOs"
   },
   "source": [
    "The 127,600 news articles are evenly distributed among the 4 categories"
   ]
  },
  {
   "cell_type": "code",
   "execution_count": 13,
   "metadata": {
    "colab": {
     "base_uri": "https://localhost:8080/"
    },
    "id": "PRtOaULstTbJ",
    "outputId": "ae8e3faa-4522-4ac2-d1c4-19cc26bb2cd6"
   },
   "outputs": [
    {
     "data": {
      "text/plain": [
       "[('Sci/Tech', 31900), ('Sports', 31900), ('Business', 31900), ('World', 31900)]"
      ]
     },
     "execution_count": 13,
     "metadata": {
      "tags": []
     },
     "output_type": "execute_result"
    }
   ],
   "source": [
    "train_categories = [categories[label] for label in dataset_all.map(lambda text, label: label).as_numpy_iterator()]\n",
    "Counter(train_categories).most_common()"
   ]
  },
  {
   "cell_type": "markdown",
   "metadata": {
    "id": "k6-1-zvxdS8f"
   },
   "source": [
    "We will use the tf.keras.layers.experimental.preprocessing.TextVectorization layer to transform each news article into a \"list\" of non-negative integers representing the tokens in the news article.\n",
    "\n",
    "For the purpose of training our models each such \"encoding\" will have a fixed length corresponding to the news article(s) with the most tokens. Shorter articles will be right-padded with zeros in the encoding. Also to speed up the training process, we will set max_tokens = 1000 so that words not in the vabulary set of top 1000 most common tokes are encoded as 1. But first we set max_tokens = None (which is the default value) in order to get the vocabulary size of the corpus.\n"
   ]
  },
  {
   "cell_type": "code",
   "execution_count": 14,
   "metadata": {
    "colab": {
     "base_uri": "https://localhost:8080/"
    },
    "id": "WYY7P-aaeU4Z",
    "outputId": "5edd043c-2ecb-434f-a03e-49b8269a6df3"
   },
   "outputs": [
    {
     "name": "stdout",
     "output_type": "stream",
     "text": [
      "WARNING:tensorflow:AutoGraph could not transform <function <lambda> at 0x7f8bb652ee60> and will run it as-is.\n",
      "Cause: could not parse the source code of <function <lambda> at 0x7f8bb652ee60>: no matching AST found\n",
      "To silence this warning, decorate the function with @tf.autograph.experimental.do_not_convert\n"
     ]
    },
    {
     "name": "stderr",
     "output_type": "stream",
     "text": [
      "WARNING:tensorflow:AutoGraph could not transform <function <lambda> at 0x7f8bb652ee60> and will run it as-is.\n",
      "Cause: could not parse the source code of <function <lambda> at 0x7f8bb652ee60>: no matching AST found\n",
      "To silence this warning, decorate the function with @tf.autograph.experimental.do_not_convert\n"
     ]
    },
    {
     "name": "stdout",
     "output_type": "stream",
     "text": [
      "WARNING: AutoGraph could not transform <function <lambda> at 0x7f8bb652ee60> and will run it as-is.\n",
      "Cause: could not parse the source code of <function <lambda> at 0x7f8bb652ee60>: no matching AST found\n",
      "To silence this warning, decorate the function with @tf.autograph.experimental.do_not_convert\n",
      "CPU times: user 1min 33s, sys: 28 s, total: 2min 1s\n",
      "Wall time: 1min 8s\n"
     ]
    }
   ],
   "source": [
    "%%time\n",
    "encoder = tf.keras.layers.experimental.preprocessing.TextVectorization(max_tokens=None)\n",
    "encoder.adapt(dataset_all.map(lambda text, label: text))\n",
    "vocab = np.array(encoder.get_vocabulary())"
   ]
  },
  {
   "cell_type": "code",
   "execution_count": 15,
   "metadata": {
    "colab": {
     "base_uri": "https://localhost:8080/"
    },
    "id": "iKGVb8_Jeyig",
    "outputId": "7f198ac7-6e2e-4074-98f1-40c495c5ca7c"
   },
   "outputs": [
    {
     "name": "stdout",
     "output_type": "stream",
     "text": [
      "There are 95976 vocabulary words in the corpus.\n"
     ]
    }
   ],
   "source": [
    "print(f\"There are {len(vocab)} vocabulary words in the corpus.\")"
   ]
  },
  {
   "cell_type": "markdown",
   "metadata": {
    "id": "PlQ3s9QUe3CX"
   },
   "source": [
    "There are 95976 vocabulary words in the corpus.\n",
    "\n",
    "The .adapt method sets the layer's vocabulary. Here are the first 20 tokens. After the padding and unknown tokens they're sorted by frequency:"
   ]
  },
  {
   "cell_type": "code",
   "execution_count": 16,
   "metadata": {
    "colab": {
     "base_uri": "https://localhost:8080/"
    },
    "id": "_Z2Io_yoe8zW",
    "outputId": "a9e24ebb-7a81-4c9b-bf75-623ffc88ced3"
   },
   "outputs": [
    {
     "data": {
      "text/plain": [
       "array(['', '[UNK]', 'the', 'a', 'to', 'of', 'in', 'and', 'on', 'for',\n",
       "       'that', '39s', 'with', 'its', 'as', 'at', 'is', 'said', 'by', 'it'],\n",
       "      dtype='<U150')"
      ]
     },
     "execution_count": 16,
     "metadata": {
      "tags": []
     },
     "output_type": "execute_result"
    }
   ],
   "source": [
    "vocab[:20]"
   ]
  },
  {
   "cell_type": "markdown",
   "metadata": {
    "id": "Lg0kYN3tfEPJ"
   },
   "source": [
    "Let's use how the encoding works on a sample string all of whose words are in the vocabulary of the corpus"
   ]
  },
  {
   "cell_type": "code",
   "execution_count": 17,
   "metadata": {
    "colab": {
     "base_uri": "https://localhost:8080/"
    },
    "id": "gE-EfC2CfIcv",
    "outputId": "69fb515e-fb9c-4b1d-f528-c4d970d7bdbc"
   },
   "outputs": [
    {
     "name": "stdout",
     "output_type": "stream",
     "text": [
      "\"the\" is in the vocabulary.\n",
      "\"dog\" is in the vocabulary.\n",
      "\"ran\" is in the vocabulary.\n",
      "\"after\" is in the vocabulary.\n",
      "\"a\" is in the vocabulary.\n",
      "\"red\" is in the vocabulary.\n",
      "\"ball\" is in the vocabulary.\n",
      "\"as\" is in the vocabulary.\n",
      "\"it\" is in the vocabulary.\n",
      "\"rolled\" is in the vocabulary.\n",
      "\"by\" is in the vocabulary.\n",
      "\"the\" is in the vocabulary.\n",
      "\"hat\" is in the vocabulary.\n",
      "\"on\" is in the vocabulary.\n",
      "\"the\" is in the vocabulary.\n",
      "\"ground.\" is *not* in the vocabulary.\n"
     ]
    }
   ],
   "source": [
    "example = \"the dog ran after a red ball as it rolled by the hat on the ground.\"\n",
    "for word in example.split():\n",
    "  print(f'\"{word}\" is {\"*not* \" if word not in vocab  else \"\"}in the vocabulary.')"
   ]
  },
  {
   "cell_type": "code",
   "execution_count": 18,
   "metadata": {
    "colab": {
     "base_uri": "https://localhost:8080/"
    },
    "id": "MQ3K5w1ZfNYd",
    "outputId": "1340de23-9490-4ef8-ef0f-4a83fa49ba1c"
   },
   "outputs": [
    {
     "data": {
      "text/plain": [
       "<tf.Tensor: shape=(16,), dtype=int64, numpy=\n",
       "array([   2, 5958, 1287,   29,    3,  232, 1414,   14,   19, 2548,   18,\n",
       "          2, 2435,    8,    2,  999])>"
      ]
     },
     "execution_count": 18,
     "metadata": {
      "tags": []
     },
     "output_type": "execute_result"
    }
   ],
   "source": [
    "encoder(example)"
   ]
  },
  {
   "cell_type": "markdown",
   "metadata": {
    "id": "wJ0MQCTAfdCL"
   },
   "source": [
    "Let us get the total number of words in the corpus and the sizes of the news articles"
   ]
  },
  {
   "cell_type": "code",
   "execution_count": 19,
   "metadata": {
    "colab": {
     "base_uri": "https://localhost:8080/"
    },
    "id": "l3TlBRwMfXde",
    "outputId": "8d91a0bd-d3ac-4648-ab89-1f32ce7cdc0a"
   },
   "outputs": [
    {
     "name": "stdout",
     "output_type": "stream",
     "text": [
      "CPU times: user 5min 41s, sys: 4.23 s, total: 5min 46s\n",
      "Wall time: 5min 30s\n"
     ]
    }
   ],
   "source": [
    "%%time\n",
    "doc_sizes = []\n",
    "corpus = []\n",
    "for example, _ in dataset_all.as_numpy_iterator():\n",
    "  enc_example = encoder(example)\n",
    "  doc_sizes.append(len(enc_example))\n",
    "  corpus+=list(enc_example.numpy())"
   ]
  },
  {
   "cell_type": "code",
   "execution_count": 20,
   "metadata": {
    "colab": {
     "base_uri": "https://localhost:8080/"
    },
    "id": "XEbVpRHyfXqU",
    "outputId": "7c893dc6-15e5-48ad-d5ec-da9e4d724022"
   },
   "outputs": [
    {
     "name": "stdout",
     "output_type": "stream",
     "text": [
      "There are 3909695 words in the corpus of 127600 news articles.\n",
      "Each news article has between 3 and 173 tokens in it.\n"
     ]
    }
   ],
   "source": [
    "print(f\"There are {len(corpus)} words in the corpus of {len(doc_sizes)} news articles.\")\n",
    "print(f\"Each news article has between {min(doc_sizes)} and {max(doc_sizes)} tokens in it.\")"
   ]
  },
  {
   "cell_type": "code",
   "execution_count": 21,
   "metadata": {
    "colab": {
     "base_uri": "https://localhost:8080/",
     "height": 568
    },
    "id": "mgtVVxL-i8Uo",
    "outputId": "88f1200c-083c-43e7-852c-a02c5695fbd8"
   },
   "outputs": [
    {
     "data": {
      "text/plain": [
       "Text(0, 0.5, 'Number of AG News Articles')"
      ]
     },
     "execution_count": 21,
     "metadata": {
      "tags": []
     },
     "output_type": "execute_result"
    },
    {
     "data": {
      "image/png": "[encoded data removed]",
      "text/plain": [
       "<Figure size 1080x648 with 1 Axes>"
      ]
     },
     "metadata": {
      "needs_background": "light",
      "tags": []
     },
     "output_type": "display_data"
    }
   ],
   "source": [
    "plt.figure(figsize=(15,9))\n",
    "plt.hist(doc_sizes, bins=20,range = (0,120))\n",
    "plt.xlabel(\"Tokens Per Document\")\n",
    "plt.ylabel(\"Number of AG News Articles\")"
   ]
  },
  {
   "cell_type": "markdown",
   "metadata": {
    "id": "gu7roRaAjDYH"
   },
   "source": [
    "Encode the news articles using the top 1000 most common words in the corpus"
   ]
  },
  {
   "cell_type": "code",
   "execution_count": 22,
   "metadata": {
    "colab": {
     "base_uri": "https://localhost:8080/"
    },
    "id": "Z4fN-QeAjCFZ",
    "outputId": "6b412d90-7355-48f9-e6cb-397e723afb54"
   },
   "outputs": [
    {
     "name": "stdout",
     "output_type": "stream",
     "text": [
      "WARNING:tensorflow:AutoGraph could not transform <function <lambda> at 0x7f8b33bb39e0> and will run it as-is.\n",
      "Cause: could not parse the source code of <function <lambda> at 0x7f8b33bb39e0>: no matching AST found\n",
      "To silence this warning, decorate the function with @tf.autograph.experimental.do_not_convert\n"
     ]
    },
    {
     "name": "stderr",
     "output_type": "stream",
     "text": [
      "WARNING:tensorflow:AutoGraph could not transform <function <lambda> at 0x7f8b33bb39e0> and will run it as-is.\n",
      "Cause: could not parse the source code of <function <lambda> at 0x7f8b33bb39e0>: no matching AST found\n",
      "To silence this warning, decorate the function with @tf.autograph.experimental.do_not_convert\n"
     ]
    },
    {
     "name": "stdout",
     "output_type": "stream",
     "text": [
      "WARNING: AutoGraph could not transform <function <lambda> at 0x7f8b33bb39e0> and will run it as-is.\n",
      "Cause: could not parse the source code of <function <lambda> at 0x7f8b33bb39e0>: no matching AST found\n",
      "To silence this warning, decorate the function with @tf.autograph.experimental.do_not_convert\n",
      "CPU times: user 1min 29s, sys: 22.8 s, total: 1min 51s\n",
      "Wall time: 1min 3s\n"
     ]
    }
   ],
   "source": [
    "%%time\n",
    "encoder_1000 = tf.keras.layers.experimental.preprocessing.TextVectorization(max_tokens=1000)\n",
    "encoder_1000.adapt(dataset_all.map(lambda text, label: text))\n",
    "vocab_1000 = np.array(encoder_1000.get_vocabulary())"
   ]
  },
  {
   "cell_type": "markdown",
   "metadata": {
    "id": "M65FlO5QjeFb"
   },
   "source": [
    "The .adapt method sets the layer's vocabulary. Here are the first 20 tokens. After the padding and unknown tokens they're sorted by frequency:"
   ]
  },
  {
   "cell_type": "code",
   "execution_count": 23,
   "metadata": {
    "colab": {
     "base_uri": "https://localhost:8080/"
    },
    "id": "BBTFJ-RUjcug",
    "outputId": "322dc11b-b2a9-448e-f739-650a8bb42200"
   },
   "outputs": [
    {
     "data": {
      "text/plain": [
       "array(['', '[UNK]', 'the', 'a', 'to', 'of', 'in', 'and', 'on', 'for',\n",
       "       'that', '39s', 'with', 'its', 'as', 'at', 'is', 'said', 'by', 'it'],\n",
       "      dtype='<U14')"
      ]
     },
     "execution_count": 23,
     "metadata": {
      "tags": []
     },
     "output_type": "execute_result"
    }
   ],
   "source": [
    "vocab_1000[:20]"
   ]
  },
  {
   "cell_type": "markdown",
   "metadata": {
    "id": "pejvLRAMjlZJ"
   },
   "source": [
    "In particular, 0 is use for padding, 1 for the unknown words, 2 for the common word, i.e. 'the', etc. Let us look at the same example we encoded previously using the encoder for all the vocabulary words. Note that there are now five 1's denoting words that are not in the top 1000 in frequency.\n",
    "\n",
    "We encode the same example as before using the new encoder. Note that there are now 5 out of vocabulary words."
   ]
  },
  {
   "cell_type": "code",
   "execution_count": 24,
   "metadata": {
    "colab": {
     "base_uri": "https://localhost:8080/"
    },
    "id": "4Am3_fw5jqBV",
    "outputId": "8960fbd9-2c43-4241-c27e-578f4a9f153d"
   },
   "outputs": [
    {
     "data": {
      "text/plain": [
       "<tf.Tensor: shape=(16,), dtype=int64, numpy=\n",
       "array([  2,   1,   1,  29,   3, 232,   1,  14,  19,   1,  18,   2,   1,\n",
       "         8,   2, 999])>"
      ]
     },
     "execution_count": 24,
     "metadata": {
      "tags": []
     },
     "output_type": "execute_result"
    }
   ],
   "source": [
    "example = \"the dog ran after a red ball as it rolled by the hat on the ground.\"\n",
    "encoder_1000(example)"
   ]
  },
  {
   "cell_type": "code",
   "execution_count": 25,
   "metadata": {
    "colab": {
     "base_uri": "https://localhost:8080/"
    },
    "id": "J4OtDWMxjuos",
    "outputId": "404e7f64-1b71-4477-f74f-562e47c00b24"
   },
   "outputs": [
    {
     "name": "stdout",
     "output_type": "stream",
     "text": [
      "\"the\" is in the vocabulary.\n",
      "\"dog\" is *not* in the vocabulary.\n",
      "\"ran\" is *not* in the vocabulary.\n",
      "\"after\" is in the vocabulary.\n",
      "\"a\" is in the vocabulary.\n",
      "\"red\" is in the vocabulary.\n",
      "\"ball\" is *not* in the vocabulary.\n",
      "\"as\" is in the vocabulary.\n",
      "\"it\" is in the vocabulary.\n",
      "\"rolled\" is *not* in the vocabulary.\n",
      "\"by\" is in the vocabulary.\n",
      "\"the\" is in the vocabulary.\n",
      "\"hat\" is *not* in the vocabulary.\n",
      "\"on\" is in the vocabulary.\n",
      "\"the\" is in the vocabulary.\n",
      "\"ground.\" is *not* in the vocabulary.\n"
     ]
    }
   ],
   "source": [
    "for word in example.split():\n",
    "  print(f'\"{word}\" is {\"*not* \" if word not in vocab_1000  else \"\"}in the vocabulary.')"
   ]
  },
  {
   "cell_type": "markdown",
   "metadata": {
    "id": "DbrBW9_zjzOA"
   },
   "source": [
    "We want to determine the number of non-vocabulary words in each news articles (denoted by 1s in the encoding)"
   ]
  },
  {
   "cell_type": "code",
   "execution_count": 26,
   "metadata": {
    "colab": {
     "base_uri": "https://localhost:8080/"
    },
    "id": "JoPf9hvsj5h0",
    "outputId": "e706898e-27fa-47b1-c316-7dddecd30cab"
   },
   "outputs": [
    {
     "name": "stdout",
     "output_type": "stream",
     "text": [
      "CPU times: user 6min 39s, sys: 6.79 s, total: 6min 46s\n",
      "Wall time: 6min 30s\n"
     ]
    }
   ],
   "source": [
    "%%time\n",
    "doc1000_sizes = []\n",
    "corpus1000 = []\n",
    "count1000=0\n",
    "useless = 0\n",
    "# stop = 0\n",
    "percents = []\n",
    "for example, _ in dataset_all.as_numpy_iterator():\n",
    "  # stop+=1\n",
    "  # if stop > 5: break\n",
    "  enc_example = encoder_1000(example)\n",
    "  num_ones = tf.math.count_nonzero(enc_example==1).numpy()\n",
    "  percent_ones = round(num_ones*100/len(enc_example))\n",
    "  # print(f\"{percent_ones}%\")\n",
    "  percents.append(percent_ones)\n",
    "\n",
    "  s = set(list(enc_example.numpy()))\n",
    "  if s == {1}: useless+=1\n",
    "\n",
    "  doc1000_sizes.append(len(enc_example))\n",
    "  corpus1000+=list(enc_example.numpy())\n",
    "\n",
    "  count1000 += tf.math.count_nonzero(enc_example>1)"
   ]
  },
  {
   "cell_type": "code",
   "execution_count": 27,
   "metadata": {
    "colab": {
     "base_uri": "https://localhost:8080/"
    },
    "id": "2vy5wpoAkHCQ",
    "outputId": "df4d7988-cfad-43a3-ca87-d26c4488e3d1"
   },
   "outputs": [
    {
     "name": "stdout",
     "output_type": "stream",
     "text": [
      "There are 3909695 words in the corpus of 127600 news articles.\n",
      "Each news article has between 3 and 173 tokens in it.\n"
     ]
    }
   ],
   "source": [
    "print(f\"There are {len(corpus1000)} words in the corpus of {len(doc1000_sizes)} news articles.\")\n",
    "print(f\"Each news article has between {min(doc1000_sizes)} and {max(doc1000_sizes)} tokens in it.\")"
   ]
  },
  {
   "cell_type": "markdown",
   "metadata": {
    "id": "RnJEjOHgkE4Y"
   },
   "source": [
    "\n",
    "\n",
    "Note below that most of the news articles consists of at least 60% (top 1000) vocabulary words (with only 22 out for 127,600 news articles containing no top 1000 vacabulary words)"
   ]
  },
  {
   "cell_type": "code",
   "execution_count": 28,
   "metadata": {
    "colab": {
     "base_uri": "https://localhost:8080/"
    },
    "id": "IZFeEWE0kXE5",
    "outputId": "bddd10fc-edfa-4d38-a563-5d7117fc968c"
   },
   "outputs": [
    {
     "data": {
      "text/plain": [
       "(array([  0,   3,   4,   5,   6,   7,   8,   9,  10,  11,  12,  13,  14,\n",
       "         15,  16,  17,  18,  19,  20,  21,  22,  23,  24,  25,  26,  27,\n",
       "         28,  29,  30,  31,  32,  33,  34,  35,  36,  37,  38,  39,  40,\n",
       "         41,  42,  43,  44,  45,  46,  47,  48,  49,  50,  51,  52,  53,\n",
       "         54,  55,  56,  57,  58,  59,  60,  61,  62,  63,  64,  65,  66,\n",
       "         67,  68,  69,  70,  71,  72,  73,  74,  75,  76,  77,  78,  79,\n",
       "         80,  81,  82,  83,  84,  85,  86,  87,  88,  89,  90,  91,  92,\n",
       "         93,  95,  97, 100]),\n",
       " array([  12,    5,   20,   29,   49,   71,  120,  137,  172,  274,  486,\n",
       "         368,  682,  777,  828, 1346, 1376, 2123, 1610, 2863, 2687, 3018,\n",
       "        3957, 3315, 4605, 3934, 4148, 5737, 4954, 5072, 6123, 6165, 3255,\n",
       "        5095, 4596, 3438, 5880, 4205, 3109, 4063, 3555, 3030, 2904, 2294,\n",
       "        1967, 1716, 2174,  368, 2486,  234, 1246,  747,  573,  547,  520,\n",
       "         441,  348,  217,  250,  135,  234,   49,  131,  101,   11,  135,\n",
       "          40,   62,   33,   53,    8,   34,   10,   55,   10,    8,   15,\n",
       "           3,   27,    9,    5,   19,    1,    8,   12,    6,   16,   11,\n",
       "           5,    4,    2,    3,    1,    1,   22]))"
      ]
     },
     "execution_count": 28,
     "metadata": {
      "tags": []
     },
     "output_type": "execute_result"
    }
   ],
   "source": [
    "Counter(percents).most_common(10)\n",
    "np.unique(percents, return_counts=True) "
   ]
  },
  {
   "cell_type": "code",
   "execution_count": 29,
   "metadata": {
    "colab": {
     "base_uri": "https://localhost:8080/",
     "height": 550
    },
    "id": "PPJDd74Hljwz",
    "outputId": "e0af8b4d-3aca-4b90-8fb7-059a5d961f89"
   },
   "outputs": [
    {
     "data": {
      "image/png": "[encoded data removed]",
      "text/plain": [
       "<Figure size 1080x648 with 1 Axes>"
      ]
     },
     "metadata": {
      "needs_background": "light",
      "tags": []
     },
     "output_type": "display_data"
    }
   ],
   "source": [
    "plt.figure(figsize=(15,9))\n",
    "plt.hist(percents, 20)\n",
    "plt.ylabel('Number of Documents')\n",
    "plt.xlabel('Percent of Non-Vocabulary Words in a Document');"
   ]
  },
  {
   "cell_type": "code",
   "execution_count": 30,
   "metadata": {
    "colab": {
     "base_uri": "https://localhost:8080/"
    },
    "id": "AXb2Q-gVlo08",
    "outputId": "7c58895f-cc58-4f83-ccf5-a3ddfb27b8ac"
   },
   "outputs": [
    {
     "name": "stdout",
     "output_type": "stream",
     "text": [
      "There are 3909695 words in the corpus with 22 documents not containing any of the top 1000 vocabulary words.\n",
      "There are 2602670 top 1000 vocabulary words in the corpus.\n"
     ]
    }
   ],
   "source": [
    "print(f\"There are {len(corpus1000)} words in the corpus with {useless} documents not containing any of the top {len(vocab_1000)} vocabulary words.\")\n",
    "print(f\"There are {count1000} top {len(vocab_1000)} vocabulary words in the corpus.\")"
   ]
  },
  {
   "cell_type": "markdown",
   "metadata": {
    "id": "aEPOPb63RNjv"
   },
   "source": [
    "### Preprocessing Data Create Input Pipeline"
   ]
  },
  {
   "cell_type": "code",
   "execution_count": 31,
   "metadata": {
    "colab": {
     "base_uri": "https://localhost:8080/"
    },
    "id": "0_tU6cH0ncl0",
    "outputId": "0f1ec710-7e4e-4171-9145-17443cff52f8"
   },
   "outputs": [
    {
     "name": "stdout",
     "output_type": "stream",
     "text": [
      "2021-03-19 21:51:39.782985: I tensorflow/stream_executor/platform/default/dso_loader.cc:49] Successfully opened dynamic library libcudart.so.11.0\n",
      "I0319 21:51:42.627108 140129083852672 download_and_prepare.py:200] Running download_and_prepare for dataset(s):\n",
      "ag_news_subset\n",
      "I0319 21:51:42.628138 140129083852672 dataset_info.py:361] Load dataset info from /root/tensorflow_datasets/ag_news_subset/1.0.0\n",
      "I0319 21:51:42.629977 140129083852672 download_and_prepare.py:138] download_and_prepare for dataset ag_news_subset/1.0.0...\n",
      "I0319 21:51:42.630222 140129083852672 dataset_builder.py:299] Reusing dataset ag_news_subset (/root/tensorflow_datasets/ag_news_subset/1.0.0)\n",
      "\u001b[1mname: \"ag_news_subset\"\n",
      "description: \"AG is a collection of more than 1 million news articles.\\nNews articles have been gathered from more than 2000  news sources by ComeToMyHead in more than 1 year of activity.\\nComeToMyHead is an academic news search engine which has been running since July, 2004.\\nThe dataset is provided by the academic comunity for research purposes in data mining (clustering, classification, etc),\\ninformation retrieval (ranking, search, etc), xml, data compression, data streaming,\\nand any other non-commercial activity.\\nFor more information, please refer to the link http://www.di.unipi.it/~gulli/AG_corpus_of_news_articles.html .\\n\\nThe AG\\'s news topic classification dataset is constructed by Xiang Zhang (xiang.zhang@nyu.edu) from the dataset above.\\nIt is used as a text classification benchmark in the following paper:\\nXiang Zhang, Junbo Zhao, Yann LeCun. Character-level Convolutional Networks for Text Classification. Advances in Neural Information Processing Systems 28 (NIPS 2015).\\n\\nThe AG\\'s news topic classification dataset is constructed by choosing 4 largest classes from the original corpus.\\nEach class contains 30,000 training samples and 1,900 testing samples.\\nThe total number of training samples is 120,000 and testing 7,600.\"\n",
      "citation: \"@misc{zhang2015characterlevel,\\n    title={Character-level Convolutional Networks for Text Classification},\\n    author={Xiang Zhang and Junbo Zhao and Yann LeCun},\\n    year={2015},\\n    eprint={1509.01626},\\n    archivePrefix={arXiv},\\n    primaryClass={cs.LG}\\n}\"\n",
      "location {\n",
      "  urls: \"https://arxiv.org/abs/1509.01626\"\n",
      "}\n",
      "splits {\n",
      "  name: \"test\"\n",
      "  shard_lengths: 7600\n",
      "  num_bytes: 2226751\n",
      "}\n",
      "splits {\n",
      "  name: \"train\"\n",
      "  shard_lengths: 120000\n",
      "  num_bytes: 35301386\n",
      "}\n",
      "supervised_keys {\n",
      "  input: \"description\"\n",
      "  output: \"label\"\n",
      "}\n",
      "version: \"1.0.0\"\n",
      "download_size: 11784327\n",
      "\u001b[0m\n"
     ]
    }
   ],
   "source": [
    "# register  ag_news_subset so that tfds.load doesn't generate a checksum (mismatch) error\n",
    "!python -m tensorflow_datasets.scripts.download_and_prepare --register_checksums --datasets=ag_news_subset\n",
    "\n",
    "# Example Approaches to Split Data Set\n",
    "# dataset, info = tfds.load('ag_news_subset', with_info=True,  split=['train[:]','test[:1000]', 'test[1000:]'],\n",
    "dataset, info = tfds.load('ag_news_subset', with_info=True,  split=['train[:95%]','train[95%:]', 'test[:]'],\n",
    "# dataset, info = tfds.load('ag_news_subset', with_info=True,  split=['train[:114000]','train[114000:]', 'test[:]'],\n",
    "                          as_supervised=True)\n",
    "train_dataset, validation_dataset, test_dataset = dataset\n",
    "# train_dataset, test_dataset = dataset['train'],dataset['test']"
   ]
  },
  {
   "cell_type": "code",
   "execution_count": 32,
   "metadata": {
    "id": "bRc-UUujdLD6"
   },
   "outputs": [],
   "source": [
    "####  Dataset Splits (Training, Test, Validation)\n",
    "#### .8934 Training, .0470 Test, .0596 Validation"
   ]
  },
  {
   "cell_type": "code",
   "execution_count": 33,
   "metadata": {
    "colab": {
     "base_uri": "https://localhost:8080/"
    },
    "id": "3TXXMh7Hdr47",
    "outputId": "44d3a4ff-2a95-47f6-d6a7-e0ffa3c6c1b9"
   },
   "outputs": [
    {
     "data": {
      "text/plain": [
       "(114000, 6000, 7600)"
      ]
     },
     "execution_count": 33,
     "metadata": {
      "tags": []
     },
     "output_type": "execute_result"
    }
   ],
   "source": [
    "len(train_dataset),len(validation_dataset),len(test_dataset) \n",
    "# len(train_dataset),len(test_dataset) "
   ]
  },
  {
   "cell_type": "markdown",
   "metadata": {
    "id": "e3ISb8oinPnR"
   },
   "source": [
    "### Review Distribution of Categorical Labels for the 114000 training data (news articles)"
   ]
  },
  {
   "cell_type": "code",
   "execution_count": 34,
   "metadata": {
    "colab": {
     "base_uri": "https://localhost:8080/"
    },
    "id": "Itjr5Erroxv9",
    "outputId": "00b84ec3-f534-46ed-e4e9-6bebd1e25518"
   },
   "outputs": [
    {
     "data": {
      "text/plain": [
       "[('Business', 28531), ('Sports', 28495), ('World', 28491), ('Sci/Tech', 28483)]"
      ]
     },
     "execution_count": 34,
     "metadata": {
      "tags": []
     },
     "output_type": "execute_result"
    }
   ],
   "source": [
    "from collections import Counter\n",
    "train_categories = [categories[label] for label in train_dataset.map(lambda text, label: label).as_numpy_iterator()]\n",
    "Counter(train_categories).most_common()"
   ]
  },
  {
   "cell_type": "markdown",
   "metadata": {
    "id": "nWA4c2ir7g6p"
   },
   "source": [
    "Review Example with Interger Label(text, label pairs):"
   ]
  },
  {
   "cell_type": "markdown",
   "metadata": {
    "id": "icCNaXSirCnm"
   },
   "source": [
    "Review Example with Interger Label Encoded Classification(text, label pairs):"
   ]
  },
  {
   "cell_type": "code",
   "execution_count": 35,
   "metadata": {
    "colab": {
     "base_uri": "https://localhost:8080/"
    },
    "id": "g469sP9PYbQT",
    "outputId": "910b7422-5a9d-47f7-8ac9-024cbd03f8c5"
   },
   "outputs": [
    {
     "name": "stdout",
     "output_type": "stream",
     "text": [
      "text:  b'AMD #39;s new dual-core Opteron chip is designed mainly for corporate computing applications, including databases, Web services, and financial transactions.'\n",
      "class:  Sci/Tech\n"
     ]
    }
   ],
   "source": [
    "for example, label in train_dataset.take(1):\n",
    "  print('text: ', example.numpy())\n",
    "  print('class: ', categories[label.numpy()])"
   ]
  },
  {
   "cell_type": "markdown",
   "metadata": {
    "id": "z2qVJzcEluH_"
   },
   "source": [
    "#### Preprocessing Shuffle Data for Training and Create Batches of `(text, label)` pairs:"
   ]
  },
  {
   "cell_type": "code",
   "execution_count": 36,
   "metadata": {
    "id": "dDsCaZCDYZgm"
   },
   "outputs": [],
   "source": [
    "BUFFER_SIZE = 10000\n",
    "BATCH_SIZE = 64"
   ]
  },
  {
   "cell_type": "code",
   "execution_count": 37,
   "metadata": {
    "id": "VznrltNOnUc5"
   },
   "outputs": [],
   "source": [
    "train_dataset = train_dataset.shuffle(BUFFER_SIZE).batch(BATCH_SIZE).prefetch(tf.data.experimental.AUTOTUNE)\n",
    "validation_dataset = validation_dataset.shuffle(BUFFER_SIZE).batch(BATCH_SIZE).prefetch(tf.data.experimental.AUTOTUNE)\n",
    "test_dataset = test_dataset.batch(BATCH_SIZE).prefetch(tf.data.experimental.AUTOTUNE)"
   ]
  },
  {
   "cell_type": "code",
   "execution_count": 38,
   "metadata": {
    "colab": {
     "base_uri": "https://localhost:8080/"
    },
    "id": "jqkvdcFv41wC",
    "outputId": "fe04f892-8f19-48a6-a87a-dc149886d15b"
   },
   "outputs": [
    {
     "name": "stdout",
     "output_type": "stream",
     "text": [
      "texts:  [b'Earth is about to gets its closest brush this century with a massive asteroid, a hurtling space rock astronomers say is big enough to cause global devastation if it were to collide with the planet.'\n",
      " b'Iraq #39;s Shiite Muslim parties and the religious leadership headed by Grand Ayatollah Ali Sistani on Saturday rejected a demand by other communities for a delay in nationwide elections scheduled for Jan.'\n",
      " b'Researchers have identified more genetic mutations that appear to be linked with cot death.']\n",
      "\n",
      "labels:  [3 0 0]\n",
      "texts:  [b'ARSNE WENGER admitted yesterday that Arsenals run of disappointing results amounts to a crisis, although he played down the extent of the dilemma as much as he could.'\n",
      " b'The top managers of NASA #39;s human and robotic programs are coming together to share their expertise as the agency prepares to return a safer Space Shuttle to flight.'\n",
      " b'Woolworths has probably won the first phase of the battle for Australian Leisure  amp; Hospitality Group. Whether that translates into clear leadership of the Australian liquor retailing ']\n",
      "\n",
      "labels:  [1 3 2]\n"
     ]
    }
   ],
   "source": [
    "for example, label in train_dataset.take(2):\n",
    "  print('texts: ', example.numpy()[:3])\n",
    "  print()\n",
    "  print('labels: ', label.numpy()[:3])"
   ]
  },
  {
   "cell_type": "code",
   "execution_count": 39,
   "metadata": {
    "colab": {
     "base_uri": "https://localhost:8080/"
    },
    "id": "HQ_8Srl7Yi2Y",
    "outputId": "3ab8dec4-46b2-4c5b-ca5e-f3603cb0a163"
   },
   "outputs": [
    {
     "name": "stdout",
     "output_type": "stream",
     "text": [
      "texts:  [b'Giants Coach Tom Coughlin looks to turn around a skid where his team has lost three of their last four games by starting Eli Manning this Sunday against the Falcons.'\n",
      " b'SAN DIEGO (Ticker) -- The San Diego Padres look to keep their slim playoff hopes alive Thursday by completing a sweep of the Los Angeles Dodgers.'\n",
      " b'\\\\$2.5 million in prize money is on the line as gamers from Uzbekistan to Ecuador compete in the World Cyber Games.']\n",
      "\n",
      "labels:  ['Sports', 'Sports', 'Sci/Tech']\n",
      "\n",
      "texts:  [b'Record high oil prices are likely to trigger a rash of airline mergers and tie-ups, accelerating a wave of consolidation in the aviation sector, the head of Australian carrier Qantas said on Wednesday.'\n",
      " b'AIR New Zealand #39;s future is uncertain after the country #39;s High Court yesterday ended the long awaited nuptials with Qantas.'\n",
      " b\"AP - The Bush administration has spent more than  #36;65 million in the past two years to aid political organizations in Ukraine, paying to bring opposition leader Viktor Yushchenko to meet U.S. leaders and helping to underwrite exit polls indicating he won last month's disputed runoff election.\"]\n",
      "\n",
      "labels:  ['World', 'Business', 'World']\n",
      "\n"
     ]
    }
   ],
   "source": [
    "for example, label in train_dataset.take(2):\n",
    "  print('texts: ', example.numpy()[:3])\n",
    "  print()\n",
    "  print('labels: ', [categories[n] for n in label.numpy()[:3]])\n",
    "  print()"
   ]
  },
  {
   "cell_type": "markdown",
   "metadata": {
    "id": "s5eWCo88voPY"
   },
   "source": [
    "## Create the Text Encoder"
   ]
  },
  {
   "cell_type": "markdown",
   "metadata": {
    "id": "TFevcItw15P_"
   },
   "source": [
    "The raw text loaded by `tfds` needs to be processed before it can be used in a model. The simplest way to process text for training is using the `experimental.preprocessing.TextVectorization` layer. This layer has many capabilities, but this tutorial sticks to the default behavior.\n",
    "\n",
    "Create the layer, and pass the dataset's text to the layer's `.adapt` method:"
   ]
  },
  {
   "cell_type": "markdown",
   "metadata": {
    "id": "BLaLcPcXsY95"
   },
   "source": [
    "The `.adapt` method sets the layer's vocabulary. Here are the first 20 tokens. After the padding and unknown tokens they're sorted by frequency: "
   ]
  },
  {
   "cell_type": "code",
   "execution_count": 40,
   "metadata": {
    "id": "uC25Lu1Yvuqy"
   },
   "outputs": [],
   "source": [
    "VOCAB_SIZE=1000\n",
    "encoder = tf.keras.layers.experimental.preprocessing.TextVectorization(\n",
    "    max_tokens=VOCAB_SIZE)\n",
    "encoder.adapt(train_dataset.map(lambda text, label: text))"
   ]
  },
  {
   "cell_type": "code",
   "execution_count": 41,
   "metadata": {
    "colab": {
     "base_uri": "https://localhost:8080/"
    },
    "id": "s5tP4VcSkTvY",
    "outputId": "f97e71cf-5425-49e2-8141-2f9320912afb"
   },
   "outputs": [
    {
     "data": {
      "text/plain": [
       "1000"
      ]
     },
     "execution_count": 41,
     "metadata": {
      "tags": []
     },
     "output_type": "execute_result"
    }
   ],
   "source": [
    "vocab = np.array(encoder.get_vocabulary())\n",
    "len(vocab)"
   ]
  },
  {
   "cell_type": "code",
   "execution_count": 42,
   "metadata": {
    "colab": {
     "base_uri": "https://localhost:8080/"
    },
    "id": "tBoyjjWg0Ac9",
    "outputId": "bdcae9a3-11a6-4c81-eae3-d5c2e103d30b"
   },
   "outputs": [
    {
     "data": {
      "text/plain": [
       "array(['', '[UNK]', 'the', 'a', 'to', 'of', 'in', 'and', 'on', 'for',\n",
       "       'that', '39s', 'with', 'its', 'as', 'at', 'is', 'said', 'by', 'it'],\n",
       "      dtype='<U14')"
      ]
     },
     "execution_count": 42,
     "metadata": {
      "tags": []
     },
     "output_type": "execute_result"
    }
   ],
   "source": [
    "vocab = np.array(encoder.get_vocabulary())\n",
    "vocab[:20]"
   ]
  },
  {
   "cell_type": "markdown",
   "metadata": {
    "id": "-rPfbSyoruu3"
   },
   "source": [
    "Here are the 20 least frequent words."
   ]
  },
  {
   "cell_type": "code",
   "execution_count": 43,
   "metadata": {
    "colab": {
     "base_uri": "https://localhost:8080/"
    },
    "id": "O6tWoBiwrzyX",
    "outputId": "3415ed0a-3459-419a-ba7e-bd5599981c84"
   },
   "outputs": [
    {
     "data": {
      "text/plain": [
       "array(['black', 'turn', 'build', 'countrys', 'advanced', 'whose',\n",
       "       'crisis', 'create', '23', 'sources', 'body', 'militant', 'hope',\n",
       "       'event', 'started', 'ready', 'jones', 'lawsuit', 'focus',\n",
       "       'singapore'], dtype='<U14')"
      ]
     },
     "execution_count": 43,
     "metadata": {
      "tags": []
     },
     "output_type": "execute_result"
    }
   ],
   "source": [
    "vocab[-20:]"
   ]
  },
  {
   "cell_type": "markdown",
   "metadata": {
    "id": "mjId5pua3jHQ"
   },
   "source": [
    "Once the vocabulary is set, the layer can encode text into indices. The tensors of indices are 0-padded to the longest sequence in the batch (unless you set a fixed `output_sequence_length`):"
   ]
  },
  {
   "cell_type": "code",
   "execution_count": 44,
   "metadata": {
    "colab": {
     "base_uri": "https://localhost:8080/"
    },
    "id": "RGc7C9WiwRWs",
    "outputId": "3e33ecec-1754-431f-fce6-c94276991118"
   },
   "outputs": [
    {
     "data": {
      "text/plain": [
       "array([[149, 237,  70,  94,  33, 583,   4,   1,   3,   1,   5, 735,   1,\n",
       "          7,   1,   1,   3,   1,   5,   1,   6,   2,   1,   1,   2, 323,\n",
       "          5, 411,   1,   1,  17,   8,  43,   0,   0,   0,   0,   0,   0,\n",
       "          0,   0,   0,   0,   0,   0,   0,   0,   0,   0,   0,   0,   0,\n",
       "          0,   0,   0,   0,   0,   0,   0,   0,   0,   0,   0,   0,   0,\n",
       "          0,   0,   0,   0,   0,   0,   0,   0,   0,   0,   0,   0,   0,\n",
       "          0,   0,   0,   0,   0,   0,   0,   0,   0,   0,   0,   0,   0,\n",
       "          0],\n",
       "       [336,  21,   1,  11, 488,  16,   1,  29,   2, 167,  11, 237, 171,\n",
       "         52, 586,   2, 371,   1,   1,  12,   1,   0,   0,   0,   0,   0,\n",
       "          0,   0,   0,   0,   0,   0,   0,   0,   0,   0,   0,   0,   0,\n",
       "          0,   0,   0,   0,   0,   0,   0,   0,   0,   0,   0,   0,   0,\n",
       "          0,   0,   0,   0,   0,   0,   0,   0,   0,   0,   0,   0,   0,\n",
       "          0,   0,   0,   0,   0,   0,   0,   0,   0,   0,   0,   0,   0,\n",
       "          0,   0,   0,   0,   0,   0,   0,   0,   0,   0,   0,   0,   0,\n",
       "          0],\n",
       "       [ 35,   2, 184, 639,  20,   1,  41,  57,   1,  69,   6,   2, 330,\n",
       "         38,  77,   4, 857, 455,   1,   6,   1,   1,   4, 971, 693, 215,\n",
       "          1,   1,   4, 757,  25, 387,   7,   1,   4,   1,   1,   1,   1,\n",
       "         36, 192,  54, 217,   1,   1, 250,   0,   0,   0,   0,   0,   0,\n",
       "          0,   0,   0,   0,   0,   0,   0,   0,   0,   0,   0,   0,   0,\n",
       "          0,   0,   0,   0,   0,   0,   0,   0,   0,   0,   0,   0,   0,\n",
       "          0,   0,   0,   0,   0,   0,   0,   0,   0,   0,   0,   0,   0,\n",
       "          0]])"
      ]
     },
     "execution_count": 44,
     "metadata": {
      "tags": []
     },
     "output_type": "execute_result"
    }
   ],
   "source": [
    "encoded_example = encoder(example)[:3].numpy()\n",
    "encoded_example"
   ]
  },
  {
   "cell_type": "markdown",
   "metadata": {
    "id": "F5cjz0bS39IN"
   },
   "source": [
    "With the default settings, the process is not completely reversible. There are three main reasons for that:\n",
    "\n",
    "1. The default value for `preprocessing.TextVectorization`'s `standardize` argument is `\"lower_and_strip_punctuation\"`.\n",
    "2. The limited vocabulary size and lack of character-based fallback results in some unknown tokens."
   ]
  },
  {
   "cell_type": "code",
   "execution_count": 45,
   "metadata": {
    "colab": {
     "base_uri": "https://localhost:8080/"
    },
    "id": "N_tD0QY5wXaK",
    "outputId": "7bce316c-8b65-41cd-d621-2329d7b2339d"
   },
   "outputs": [
    {
     "name": "stdout",
     "output_type": "stream",
     "text": [
      "Original:  b'Record high oil prices are likely to trigger a rash of airline mergers and tie-ups, accelerating a wave of consolidation in the aviation sector, the head of Australian carrier Qantas said on Wednesday.'\n",
      "Round-trip:  record high oil prices are likely to [UNK] a [UNK] of airline [UNK] and [UNK] [UNK] a [UNK] of [UNK] in the [UNK] [UNK] the head of australian [UNK] [UNK] said on wednesday                                                           \n",
      "\n",
      "Original:  b'AIR New Zealand #39;s future is uncertain after the country #39;s High Court yesterday ended the long awaited nuptials with Qantas.'\n",
      "Round-trip:  air new [UNK] 39s future is [UNK] after the country 39s high court yesterday ended the long [UNK] [UNK] with [UNK]                                                                       \n",
      "\n",
      "Original:  b\"AP - The Bush administration has spent more than  #36;65 million in the past two years to aid political organizations in Ukraine, paying to bring opposition leader Viktor Yushchenko to meet U.S. leaders and helping to underwrite exit polls indicating he won last month's disputed runoff election.\"\n",
      "Round-trip:  ap the bush administration has [UNK] more than [UNK] million in the past two years to aid political [UNK] in [UNK] [UNK] to bring opposition leader [UNK] [UNK] to meet us leaders and [UNK] to [UNK] [UNK] [UNK] [UNK] he won last months [UNK] [UNK] election                                              \n",
      "\n"
     ]
    }
   ],
   "source": [
    "for n in range(3):\n",
    "  print(\"Original: \", example[n].numpy())\n",
    "  print(\"Round-trip: \", \" \".join(vocab[encoded_example[n]]))\n",
    "  print()"
   ]
  },
  {
   "cell_type": "markdown",
   "metadata": {
    "id": "bjUqGVBxGw-t"
   },
   "source": [
    "## Create the model"
   ]
  },
  {
   "cell_type": "markdown",
   "metadata": {
    "id": "W7zsmInBOCPO"
   },
   "source": [
    "![A drawing of the information flow in the model](https://github.com/tensorflow/docs/blob/master/site/en/tutorials/text/images/bidirectional.png?raw=1)"
   ]
  },
  {
   "cell_type": "markdown",
   "metadata": {
    "id": "bgs6nnSTGw-t"
   },
   "source": [
    "Above is a diagram of the model. \n",
    "\n",
    "1. This model can be build as a `tf.keras.Sequential`.\n",
    "\n",
    "1. The first layer is the `encoder`, which converts the text to a sequence of token indices.\n",
    "\n",
    "2. After the encoder is an embedding layer. An embedding layer stores one vector per word. When called, it converts the sequences of word indices to sequences of vectors. These vectors are trainable. After training (on enough data), words with similar meanings often have similar vectors.\n",
    "\n",
    "  This index-lookup is much more efficient than the equivalent operation of passing a one-hot encoded vector through a `tf.keras.layers.Dense` layer.\n",
    "\n",
    "3. A recurrent neural network (RNN) processes sequence input by iterating through the elements. RNNs pass the outputs from one timestep to their input on the next timestep.\n",
    "\n",
    "  The `tf.keras.layers.Bidirectional` wrapper can also be used with an RNN layer. This propagates the input forward and backwards through the RNN layer and then concatenates the final output. \n",
    "\n",
    "  * The main advantage to a bidirectional RNN is that the signal from the beginning of the input doesn't need to be processed all the way through every timestep to affect the output.  \n",
    "\n",
    "  * The main disadvantage of a bidirectional RNN is that you can't efficiently stream predictions as words are being added to the end.\n",
    "\n",
    "1. After the RNN has converted the sequence to a single vector the two `layers.Dense` do some final processing, and convert from this vector representation to a single logit as the classification output. \n"
   ]
  },
  {
   "cell_type": "markdown",
   "metadata": {
    "id": "9EODAFUjNaDC"
   },
   "source": [
    "<div class=\"alert alert-block alert-info\">\n",
    "    <b>tf.keras.layers.Bidirectional</b><br>\n",
    "    https://www.tensorflow.org/api_docs/python/tf/keras/layers/Bidirectional\n",
    "    </div>"
   ]
  },
  {
   "cell_type": "markdown",
   "metadata": {
    "id": "-6Qzwsj5QH0S"
   },
   "source": [
    "<img src=\"https://github.com/djp840/MSDS_458_Public/blob/master/images/BidirectionalRNN.png?raw=1\">"
   ]
  },
  {
   "cell_type": "code",
   "execution_count": 46,
   "metadata": {
    "id": "LwfoBkmRYcP3"
   },
   "outputs": [],
   "source": [
    "num_classes = 4\n",
    "model = tf.keras.Sequential([\n",
    "                              encoder\n",
    "                              ,tf.keras.layers.Embedding(input_dim=len(encoder.get_vocabulary())\n",
    "                              ,output_dim=64\n",
    "                                # Use masking to handle the variable sequence lengths\n",
    "                              ,mask_zero=True)\n",
    "                              ,tf.keras.layers.Bidirectional(tf.keras.layers.LSTM(64))\n",
    "                              ,tf.keras.layers.Dense(64, activation='relu')\n",
    "                              ,tf.keras.layers.Dense(num_classes,activation='softmax')   # num_classes = 4\n",
    "])"
   ]
  },
  {
   "cell_type": "markdown",
   "metadata": {
    "id": "dfNGE58PNaDD"
   },
   "source": [
    "<div class=\"alert alert-block alert-success\"> \n",
    "Please note that we choose to Keras sequential model here since all the layers in the model only have single input and produce single output. </div>"
   ]
  },
  {
   "cell_type": "markdown",
   "metadata": {
    "id": "KTqE1NQXNaDD"
   },
   "source": [
    "<div class=\"alert alert-block alert-info\"> \n",
    "<b>tf.keras.Model</b><br>\n",
    "https://www.tensorflow.org/api_docs/python/tf/keras/Model\n",
    "</div>  "
   ]
  },
  {
   "cell_type": "markdown",
   "metadata": {
    "id": "RztlbCugEFaI"
   },
   "source": [
    "## Compile Model "
   ]
  },
  {
   "cell_type": "markdown",
   "metadata": {
    "id": "aNazQp3lEDv7"
   },
   "source": [
    "<div class=\"alert alert-block alert-info\">\n",
    "<b>tf.keras.losses.SparseCategoricalCrossentropy</b><br>\n",
    "https://www.tensorflow.org/api_docs/python/tf/keras/losses/SparseCategoricalCrossentropy</div>"
   ]
  },
  {
   "cell_type": "code",
   "execution_count": 47,
   "metadata": {
    "id": "ZmWbBazIDe_-"
   },
   "outputs": [],
   "source": [
    "model.compile(optimizer=tf.keras.optimizers.Adam(1e-4)\n",
    "              ,loss=tf.keras.losses.SparseCategoricalCrossentropy() # if we set from_logits=True we don not have specify a softmax activation function in the last layer\n",
    "              ,metrics=['accuracy'])"
   ]
  },
  {
   "cell_type": "markdown",
   "metadata": {
    "id": "QIGmIGkkouUb"
   },
   "source": [
    "Please note that Keras sequential model is used here since all the layers in the model only have single input and produce single output. In case you want to use stateful RNN layer, you might want to build your model with Keras functional API or model subclassing so that you can retrieve and reuse the RNN layer states. Please check [Keras RNN guide](https://www.tensorflow.org/guide/keras/rnn#rnn_state_reuse) for more details."
   ]
  },
  {
   "cell_type": "markdown",
   "metadata": {
    "id": "kF-PsCk1LwjY"
   },
   "source": [
    "The embedding layer [uses masking](../../guide/keras/masking_and_padding) to handle the varying sequence-lengths. All the layers after the `Embedding` support masking:"
   ]
  },
  {
   "cell_type": "code",
   "execution_count": 48,
   "metadata": {
    "colab": {
     "base_uri": "https://localhost:8080/"
    },
    "id": "87a8-CwfKebw",
    "outputId": "712c2b7e-d58d-4961-f298-354bc17412c5"
   },
   "outputs": [
    {
     "name": "stdout",
     "output_type": "stream",
     "text": [
      "[False, True, True, True, True]\n"
     ]
    }
   ],
   "source": [
    "print([layer.supports_masking for layer in model.layers])"
   ]
  },
  {
   "cell_type": "markdown",
   "metadata": {
    "id": "zIwH3nto596k"
   },
   "source": [
    "## Train the model"
   ]
  },
  {
   "cell_type": "markdown",
   "metadata": {
    "id": "7oHB6X8i0u2H"
   },
   "source": [
    "<div class=\"alert alert-block alert-success\">\n",
    "    <b>Module: tf.keras.callbacks</b></div>"
   ]
  },
  {
   "cell_type": "markdown",
   "metadata": {
    "id": "th1k9Dha0vCl"
   },
   "source": [
    "<div class=\"alert alert-block alert-info\">\n",
    "<b>tf.keras.callbacks.EarlyStopping</b><br>\n",
    "https://www.tensorflow.org/api_docs/python/tf/keras/callbacks/EarlyStopping</div>\n",
    "\n",
    "<div class=\"alert alert-block alert-info\">\n",
    "<b>tf.keras.callbacks.ModelCheckpoint</b><br>\n",
    "https://www.tensorflow.org/api_docs/python/tf/keras/callbacks/ModelCheckpoint</div>"
   ]
  },
  {
   "cell_type": "code",
   "execution_count": 49,
   "metadata": {
    "colab": {
     "base_uri": "https://localhost:8080/"
    },
    "id": "hw86wWS4YgR2",
    "outputId": "08577232-248f-4ad3-9527-01f6a46c06be"
   },
   "outputs": [
    {
     "name": "stdout",
     "output_type": "stream",
     "text": [
      "Epoch 1/200\n",
      "1782/1782 [==============================] - 166s 88ms/step - loss: 0.9627 - accuracy: 0.5995 - val_loss: 0.4903 - val_accuracy: 0.8387\n",
      "Epoch 2/200\n",
      "1782/1782 [==============================] - 162s 91ms/step - loss: 0.4766 - accuracy: 0.8309 - val_loss: 0.4440 - val_accuracy: 0.8443\n",
      "Epoch 3/200\n",
      "1782/1782 [==============================] - 135s 76ms/step - loss: 0.4265 - accuracy: 0.8474 - val_loss: 0.4168 - val_accuracy: 0.8533\n",
      "Epoch 4/200\n",
      "1782/1782 [==============================] - 134s 75ms/step - loss: 0.4020 - accuracy: 0.8542 - val_loss: 0.4002 - val_accuracy: 0.8588\n",
      "Epoch 5/200\n",
      "1782/1782 [==============================] - 137s 77ms/step - loss: 0.3887 - accuracy: 0.8586 - val_loss: 0.4018 - val_accuracy: 0.8553\n",
      "Epoch 6/200\n",
      "1782/1782 [==============================] - 132s 74ms/step - loss: 0.3816 - accuracy: 0.8608 - val_loss: 0.3885 - val_accuracy: 0.8630\n",
      "Epoch 7/200\n",
      "1782/1782 [==============================] - 132s 74ms/step - loss: 0.3756 - accuracy: 0.8629 - val_loss: 0.4025 - val_accuracy: 0.8568\n",
      "Epoch 8/200\n",
      "1782/1782 [==============================] - 130s 73ms/step - loss: 0.3722 - accuracy: 0.8635 - val_loss: 0.3862 - val_accuracy: 0.8647\n",
      "Epoch 9/200\n",
      "1782/1782 [==============================] - 132s 74ms/step - loss: 0.3685 - accuracy: 0.8649 - val_loss: 0.3873 - val_accuracy: 0.8612\n",
      "Epoch 10/200\n",
      "1782/1782 [==============================] - 130s 73ms/step - loss: 0.3642 - accuracy: 0.8658 - val_loss: 0.3780 - val_accuracy: 0.8660\n",
      "Epoch 11/200\n",
      "1782/1782 [==============================] - 137s 77ms/step - loss: 0.3641 - accuracy: 0.8657 - val_loss: 0.3856 - val_accuracy: 0.8618\n",
      "Epoch 12/200\n",
      "1782/1782 [==============================] - 133s 75ms/step - loss: 0.3585 - accuracy: 0.8693 - val_loss: 0.3836 - val_accuracy: 0.8638\n"
     ]
    }
   ],
   "source": [
    "history = model.fit(train_dataset\n",
    "                    ,epochs = 200\n",
    "                    ,validation_data=validation_dataset\n",
    "                    ,callbacks=[tf.keras.callbacks.EarlyStopping(monitor='val_accuracy', patience=2)]\n",
    "                    )"
   ]
  },
  {
   "cell_type": "code",
   "execution_count": 50,
   "metadata": {
    "colab": {
     "base_uri": "https://localhost:8080/"
    },
    "id": "BaNbXi43YgUT",
    "outputId": "6f28bfb4-151e-44a3-a71f-f6a790f4be90"
   },
   "outputs": [
    {
     "name": "stdout",
     "output_type": "stream",
     "text": [
      "119/119 [==============================] - 3s 24ms/step - loss: 0.4033 - accuracy: 0.8520\n",
      "Test Loss: 0.40333378314971924\n",
      "Test Accuracy: 0.8519737124443054\n"
     ]
    }
   ],
   "source": [
    "test_loss, test_acc = model.evaluate(test_dataset)\n",
    "\n",
    "print('Test Loss: {}'.format(test_loss))\n",
    "print('Test Accuracy: {}'.format(test_acc))"
   ]
  },
  {
   "cell_type": "markdown",
   "metadata": {
    "id": "OUZyCyI33fPU"
   },
   "source": [
    "## Plotting Performance Metrics - Single Layer Bidirectional RNN"
   ]
  },
  {
   "cell_type": "markdown",
   "metadata": {
    "id": "uFK6utDG3fjX"
   },
   "source": [
    "We use Matplotlib to create 2 plots--displaying the training and validation loss (resp. accuracy) for each (training) epoch side by side."
   ]
  },
  {
   "cell_type": "code",
   "execution_count": 51,
   "metadata": {
    "colab": {
     "base_uri": "https://localhost:8080/"
    },
    "id": "HzEOTxsc1JTJ",
    "outputId": "eb017d14-7501-44a1-c802-2f2a1777ffd3"
   },
   "outputs": [
    {
     "data": {
      "text/plain": [
       "dict_keys(['loss', 'accuracy', 'val_loss', 'val_accuracy'])"
      ]
     },
     "execution_count": 51,
     "metadata": {
      "tags": []
     },
     "output_type": "execute_result"
    }
   ],
   "source": [
    "history_dict = history.history\n",
    "history_dict.keys()"
   ]
  },
  {
   "cell_type": "code",
   "execution_count": 52,
   "metadata": {
    "colab": {
     "base_uri": "https://localhost:8080/",
     "height": 356
    },
    "id": "2VV8VwoA1Je1",
    "outputId": "ceeddf23-1afa-4d83-9ebd-a1e934f2dae4"
   },
   "outputs": [
    {
     "data": {
      "text/html": [
       "<div>\n",
       "<style scoped>\n",
       "    .dataframe tbody tr th:only-of-type {\n",
       "        vertical-align: middle;\n",
       "    }\n",
       "\n",
       "    .dataframe tbody tr th {\n",
       "        vertical-align: top;\n",
       "    }\n",
       "\n",
       "    .dataframe thead th {\n",
       "        text-align: right;\n",
       "    }\n",
       "</style>\n",
       "<table border=\"1\" class=\"dataframe\">\n",
       "  <thead>\n",
       "    <tr style=\"text-align: right;\">\n",
       "      <th></th>\n",
       "      <th>loss</th>\n",
       "      <th>accuracy</th>\n",
       "      <th>val_loss</th>\n",
       "      <th>val_accuracy</th>\n",
       "    </tr>\n",
       "  </thead>\n",
       "  <tbody>\n",
       "    <tr>\n",
       "      <th>2</th>\n",
       "      <td>0.425206</td>\n",
       "      <td>0.847605</td>\n",
       "      <td>0.416830</td>\n",
       "      <td>0.853333</td>\n",
       "    </tr>\n",
       "    <tr>\n",
       "      <th>3</th>\n",
       "      <td>0.401219</td>\n",
       "      <td>0.855289</td>\n",
       "      <td>0.400210</td>\n",
       "      <td>0.858833</td>\n",
       "    </tr>\n",
       "    <tr>\n",
       "      <th>4</th>\n",
       "      <td>0.389823</td>\n",
       "      <td>0.858728</td>\n",
       "      <td>0.401834</td>\n",
       "      <td>0.855333</td>\n",
       "    </tr>\n",
       "    <tr>\n",
       "      <th>5</th>\n",
       "      <td>0.383326</td>\n",
       "      <td>0.860982</td>\n",
       "      <td>0.388488</td>\n",
       "      <td>0.863000</td>\n",
       "    </tr>\n",
       "    <tr>\n",
       "      <th>6</th>\n",
       "      <td>0.377692</td>\n",
       "      <td>0.862456</td>\n",
       "      <td>0.402509</td>\n",
       "      <td>0.856833</td>\n",
       "    </tr>\n",
       "    <tr>\n",
       "      <th>7</th>\n",
       "      <td>0.373911</td>\n",
       "      <td>0.863728</td>\n",
       "      <td>0.386151</td>\n",
       "      <td>0.864667</td>\n",
       "    </tr>\n",
       "    <tr>\n",
       "      <th>8</th>\n",
       "      <td>0.370425</td>\n",
       "      <td>0.864544</td>\n",
       "      <td>0.387311</td>\n",
       "      <td>0.861167</td>\n",
       "    </tr>\n",
       "    <tr>\n",
       "      <th>9</th>\n",
       "      <td>0.366998</td>\n",
       "      <td>0.865825</td>\n",
       "      <td>0.378022</td>\n",
       "      <td>0.866000</td>\n",
       "    </tr>\n",
       "    <tr>\n",
       "      <th>10</th>\n",
       "      <td>0.365018</td>\n",
       "      <td>0.866903</td>\n",
       "      <td>0.385607</td>\n",
       "      <td>0.861833</td>\n",
       "    </tr>\n",
       "    <tr>\n",
       "      <th>11</th>\n",
       "      <td>0.361986</td>\n",
       "      <td>0.868132</td>\n",
       "      <td>0.383596</td>\n",
       "      <td>0.863833</td>\n",
       "    </tr>\n",
       "  </tbody>\n",
       "</table>\n",
       "</div>"
      ],
      "text/plain": [
       "        loss  accuracy  val_loss  val_accuracy\n",
       "2   0.425206  0.847605  0.416830      0.853333\n",
       "3   0.401219  0.855289  0.400210      0.858833\n",
       "4   0.389823  0.858728  0.401834      0.855333\n",
       "5   0.383326  0.860982  0.388488      0.863000\n",
       "6   0.377692  0.862456  0.402509      0.856833\n",
       "7   0.373911  0.863728  0.386151      0.864667\n",
       "8   0.370425  0.864544  0.387311      0.861167\n",
       "9   0.366998  0.865825  0.378022      0.866000\n",
       "10  0.365018  0.866903  0.385607      0.861833\n",
       "11  0.361986  0.868132  0.383596      0.863833"
      ]
     },
     "execution_count": 52,
     "metadata": {
      "tags": []
     },
     "output_type": "execute_result"
    }
   ],
   "source": [
    "history_df=pd.DataFrame(history_dict)\n",
    "history_df.tail(10)"
   ]
  },
  {
   "cell_type": "code",
   "execution_count": 53,
   "metadata": {
    "id": "NvA2u5do1JqA"
   },
   "outputs": [],
   "source": [
    "losses = history.history['loss']\n",
    "accs = history.history['accuracy']\n",
    "val_losses = history.history['val_loss']\n",
    "val_accs = history.history['val_accuracy']\n",
    "epochs = len(losses)"
   ]
  },
  {
   "cell_type": "code",
   "execution_count": 54,
   "metadata": {
    "colab": {
     "base_uri": "https://localhost:8080/",
     "height": 265
    },
    "id": "JGoRjq2T1SUp",
    "outputId": "ac4a902e-8a72-4259-811c-5889caa0b38e"
   },
   "outputs": [
    {
     "data": {
      "image/png": "[encoded data removed]",
      "text/plain": [
       "<Figure size 1152x288 with 2 Axes>"
      ]
     },
     "metadata": {
      "needs_background": "light",
      "tags": []
     },
     "output_type": "display_data"
    }
   ],
   "source": [
    "plt.figure(figsize=(16, 4))\n",
    "for i, metrics in enumerate(zip([losses, accs], [val_losses, val_accs], ['Loss', 'Accuracy'])):\n",
    "    plt.subplot(1, 2, i + 1)\n",
    "    plt.plot(range(epochs), metrics[0], label='Training {}'.format(metrics[2]))\n",
    "    plt.plot(range(epochs), metrics[1], label='Validation {}'.format(metrics[2]))\n",
    "    plt.legend()\n",
    "plt.show()"
   ]
  },
  {
   "cell_type": "markdown",
   "metadata": {
    "id": "bawulBahPZQq"
   },
   "source": [
    "## Model Architecture Summary Single Layer Bidirectional RNN"
   ]
  },
  {
   "cell_type": "code",
   "execution_count": 55,
   "metadata": {
    "colab": {
     "base_uri": "https://localhost:8080/"
    },
    "id": "KVd7MMCoOjMp",
    "outputId": "1c616bb8-a96a-4820-a6b4-9f21b33d4e49"
   },
   "outputs": [
    {
     "name": "stdout",
     "output_type": "stream",
     "text": [
      "Model: \"sequential\"\n",
      "_________________________________________________________________\n",
      "Layer (type)                 Output Shape              Param #   \n",
      "=================================================================\n",
      "text_vectorization_2 (TextVe (None, None)              0         \n",
      "_________________________________________________________________\n",
      "embedding (Embedding)        (None, None, 64)          64000     \n",
      "_________________________________________________________________\n",
      "bidirectional (Bidirectional (None, 128)               66048     \n",
      "_________________________________________________________________\n",
      "dense (Dense)                (None, 64)                8256      \n",
      "_________________________________________________________________\n",
      "dense_1 (Dense)              (None, 4)                 260       \n",
      "=================================================================\n",
      "Total params: 138,564\n",
      "Trainable params: 138,564\n",
      "Non-trainable params: 0\n",
      "_________________________________________________________________\n"
     ]
    }
   ],
   "source": [
    "model.summary()"
   ]
  },
  {
   "cell_type": "code",
   "execution_count": 56,
   "metadata": {
    "colab": {
     "base_uri": "https://localhost:8080/",
     "height": 644
    },
    "id": "2o0oUFPAOjht",
    "outputId": "fe238d2b-bc2e-488f-e9d7-0a658666b61f"
   },
   "outputs": [
    {
     "data": {
      "image/png": "[encoded data removed]",
      "text/plain": [
       "<IPython.core.display.Image object>"
      ]
     },
     "execution_count": 56,
     "metadata": {
      "tags": []
     },
     "output_type": "execute_result"
    }
   ],
   "source": [
    "keras.utils.plot_model(model, \"BiDirectionalLSTM.png\", show_shapes=True)"
   ]
  },
  {
   "cell_type": "markdown",
   "metadata": {
    "id": "7g1evcaRpTKm"
   },
   "source": [
    "## Stack two or more LSTM layers\n",
    "\n",
    "Keras recurrent layers have two available modes that are controlled by the `return_sequences` constructor argument:\n",
    "\n",
    "* If `False` it returns only the last output for each input sequence (a 2D tensor of shape (batch_size, output_features)). This is the default, used in the previous model.\n",
    "\n",
    "* If `True` the full sequences of successive outputs for each timestep is returned (a 3D tensor of shape `(batch_size, timesteps, output_features)`).\n",
    "\n",
    "Here is what the flow of information looks like with `return_sequences=True`:\n",
    "\n",
    "![layered_bidirectional]?raw=1\""
   ]
  },
  {
   "cell_type": "markdown",
   "metadata": {
    "id": "wbSClCrG1z8l"
   },
   "source": [
    "The interesting thing about using an `RNN` with `return_sequences=True` is that the output still has 3-axes, like the input, so it can be passed to another RNN layer, like this:"
   ]
  },
  {
   "cell_type": "markdown",
   "metadata": {
    "id": "TJTx1dsTRUtW"
   },
   "source": [
    "<img src=\"https://github.com/djp840/MSDS_458_Public/blob/master/images/multilayerBidirectionalLSTM.png?raw=1\">"
   ]
  },
  {
   "cell_type": "code",
   "execution_count": 57,
   "metadata": {
    "id": "jo1jjO3vn0jo"
   },
   "outputs": [],
   "source": [
    "model2 = tf.keras.Sequential([\n",
    "                              encoder\n",
    "                              ,tf.keras.layers.Embedding(len(encoder.get_vocabulary()), 64, mask_zero=True)\n",
    "                              ,tf.keras.layers.Bidirectional(tf.keras.layers.LSTM(64,  return_sequences=True))\n",
    "                              ,tf.keras.layers.Bidirectional(tf.keras.layers.LSTM(32))\n",
    "                              ,tf.keras.layers.Dense(64, activation='relu')\n",
    "                              ,tf.keras.layers.Dropout(0.5)\n",
    "                              ,tf.keras.layers.Dense(num_classes,activation='softmax')   # not binary since there are num_classes categories\n",
    "])"
   ]
  },
  {
   "cell_type": "markdown",
   "metadata": {
    "id": "iukhoA9vR7gx"
   },
   "source": [
    "<div class=\"alert alert-block alert-info\">\n",
    "<b>tf.keras.losses.SparseCategoricalCrossentropy</b><br>\n",
    "https://www.tensorflow.org/api_docs/python/tf/keras/losses/SparseCategoricalCrossentropy</div>"
   ]
  },
  {
   "cell_type": "code",
   "execution_count": 58,
   "metadata": {
    "id": "_zjWuJesR72x"
   },
   "outputs": [],
   "source": [
    "model2.compile(optimizer='adam'\n",
    "              ,loss=tf.keras.losses.SparseCategoricalCrossentropy() # if we set from_logits=True we do not have specify a softmax activation function in the last layer\n",
    "              ,metrics=['accuracy'])"
   ]
  },
  {
   "cell_type": "code",
   "execution_count": 59,
   "metadata": {
    "colab": {
     "base_uri": "https://localhost:8080/"
    },
    "id": "LeSE-YjdqAeN",
    "outputId": "a85ddbee-83f4-454f-987f-64f73c18fe5e"
   },
   "outputs": [
    {
     "name": "stdout",
     "output_type": "stream",
     "text": [
      "Epoch 1/200\n",
      "1782/1782 [==============================] - 280s 148ms/step - loss: 0.6723 - accuracy: 0.7358 - val_loss: 0.4253 - val_accuracy: 0.8505\n",
      "Epoch 2/200\n",
      "1782/1782 [==============================] - 267s 150ms/step - loss: 0.4297 - accuracy: 0.8504 - val_loss: 0.4239 - val_accuracy: 0.8401\n",
      "Epoch 3/200\n",
      "1782/1782 [==============================] - 238s 134ms/step - loss: 0.4087 - accuracy: 0.8549 - val_loss: 0.3800 - val_accuracy: 0.8620\n",
      "Epoch 4/200\n",
      "1782/1782 [==============================] - 233s 131ms/step - loss: 0.3890 - accuracy: 0.8623 - val_loss: 0.4056 - val_accuracy: 0.8422\n",
      "Epoch 5/200\n",
      "1782/1782 [==============================] - 261s 146ms/step - loss: 0.3729 - accuracy: 0.8672 - val_loss: 0.3712 - val_accuracy: 0.8651\n",
      "Epoch 6/200\n",
      "1782/1782 [==============================] - 242s 136ms/step - loss: 0.3576 - accuracy: 0.8717 - val_loss: 0.3953 - val_accuracy: 0.8557\n",
      "Epoch 7/200\n",
      "1782/1782 [==============================] - 236s 133ms/step - loss: 0.3401 - accuracy: 0.8781 - val_loss: 0.3561 - val_accuracy: 0.8677\n",
      "Epoch 8/200\n",
      "1782/1782 [==============================] - 243s 136ms/step - loss: 0.3266 - accuracy: 0.8823 - val_loss: 0.3519 - val_accuracy: 0.8719\n",
      "Epoch 9/200\n",
      "1782/1782 [==============================] - 233s 131ms/step - loss: 0.3125 - accuracy: 0.8860 - val_loss: 0.3886 - val_accuracy: 0.8589\n",
      "Epoch 10/200\n",
      "1782/1782 [==============================] - 296s 166ms/step - loss: 0.3014 - accuracy: 0.8903 - val_loss: 0.3785 - val_accuracy: 0.8630\n"
     ]
    }
   ],
   "source": [
    "history2 = model2.fit(train_dataset\n",
    "                    ,epochs=200\n",
    "                    ,validation_data=validation_dataset\n",
    "                    ,validation_steps=30\n",
    "                    ,callbacks=[tf.keras.callbacks.EarlyStopping(monitor='val_accuracy', patience=2)]\n",
    "                    )"
   ]
  },
  {
   "cell_type": "code",
   "execution_count": 60,
   "metadata": {
    "colab": {
     "base_uri": "https://localhost:8080/"
    },
    "id": "_LdwilM1qPM3",
    "outputId": "2d21be8a-5e2c-4346-f703-2fccf152e0b0"
   },
   "outputs": [
    {
     "name": "stdout",
     "output_type": "stream",
     "text": [
      "119/119 [==============================] - 3s 25ms/step - loss: 0.4033 - accuracy: 0.8520\n",
      "Test Loss: 0.40333378314971924\n",
      "Test Accuracy: 0.8519737124443054\n"
     ]
    }
   ],
   "source": [
    "test_loss, test_acc = model.evaluate(test_dataset)\n",
    "\n",
    "print('Test Loss: {}'.format(test_loss))\n",
    "print('Test Accuracy: {}'.format(test_acc))"
   ]
  },
  {
   "cell_type": "markdown",
   "metadata": {
    "id": "x44eh6w-SjPa"
   },
   "source": [
    "## Plotting Performance Metrics - Multi-Layer Bidirectional RNN"
   ]
  },
  {
   "cell_type": "markdown",
   "metadata": {
    "id": "7YwGAxu3SjbG"
   },
   "source": [
    "We use Matplotlib to create 2 plots--displaying the training and validation loss (resp. accuracy) for each (training) epoch side by side."
   ]
  },
  {
   "cell_type": "code",
   "execution_count": 61,
   "metadata": {
    "colab": {
     "base_uri": "https://localhost:8080/"
    },
    "id": "l5Wa2bx7Suny",
    "outputId": "c919466a-9c46-4d02-f41e-ebb3c3c57345"
   },
   "outputs": [
    {
     "data": {
      "text/plain": [
       "dict_keys(['loss', 'accuracy', 'val_loss', 'val_accuracy'])"
      ]
     },
     "execution_count": 61,
     "metadata": {
      "tags": []
     },
     "output_type": "execute_result"
    }
   ],
   "source": [
    "history_dict2 = history2.history\n",
    "history_dict2.keys()"
   ]
  },
  {
   "cell_type": "code",
   "execution_count": 62,
   "metadata": {
    "colab": {
     "base_uri": "https://localhost:8080/",
     "height": 202
    },
    "id": "cwzqjLbrSurM",
    "outputId": "860ac580-95a1-4653-f34e-cfcebff67ee3"
   },
   "outputs": [
    {
     "data": {
      "text/html": [
       "<div>\n",
       "<style scoped>\n",
       "    .dataframe tbody tr th:only-of-type {\n",
       "        vertical-align: middle;\n",
       "    }\n",
       "\n",
       "    .dataframe tbody tr th {\n",
       "        vertical-align: top;\n",
       "    }\n",
       "\n",
       "    .dataframe thead th {\n",
       "        text-align: right;\n",
       "    }\n",
       "</style>\n",
       "<table border=\"1\" class=\"dataframe\">\n",
       "  <thead>\n",
       "    <tr style=\"text-align: right;\">\n",
       "      <th></th>\n",
       "      <th>loss</th>\n",
       "      <th>accuracy</th>\n",
       "      <th>val_loss</th>\n",
       "      <th>val_accuracy</th>\n",
       "    </tr>\n",
       "  </thead>\n",
       "  <tbody>\n",
       "    <tr>\n",
       "      <th>5</th>\n",
       "      <td>0.353736</td>\n",
       "      <td>0.872939</td>\n",
       "      <td>0.395270</td>\n",
       "      <td>0.855729</td>\n",
       "    </tr>\n",
       "    <tr>\n",
       "      <th>6</th>\n",
       "      <td>0.339182</td>\n",
       "      <td>0.878298</td>\n",
       "      <td>0.356094</td>\n",
       "      <td>0.867708</td>\n",
       "    </tr>\n",
       "    <tr>\n",
       "      <th>7</th>\n",
       "      <td>0.325586</td>\n",
       "      <td>0.883167</td>\n",
       "      <td>0.351915</td>\n",
       "      <td>0.871875</td>\n",
       "    </tr>\n",
       "    <tr>\n",
       "      <th>8</th>\n",
       "      <td>0.312808</td>\n",
       "      <td>0.886509</td>\n",
       "      <td>0.388607</td>\n",
       "      <td>0.858854</td>\n",
       "    </tr>\n",
       "    <tr>\n",
       "      <th>9</th>\n",
       "      <td>0.299535</td>\n",
       "      <td>0.890895</td>\n",
       "      <td>0.378461</td>\n",
       "      <td>0.863021</td>\n",
       "    </tr>\n",
       "  </tbody>\n",
       "</table>\n",
       "</div>"
      ],
      "text/plain": [
       "       loss  accuracy  val_loss  val_accuracy\n",
       "5  0.353736  0.872939  0.395270      0.855729\n",
       "6  0.339182  0.878298  0.356094      0.867708\n",
       "7  0.325586  0.883167  0.351915      0.871875\n",
       "8  0.312808  0.886509  0.388607      0.858854\n",
       "9  0.299535  0.890895  0.378461      0.863021"
      ]
     },
     "execution_count": 62,
     "metadata": {
      "tags": []
     },
     "output_type": "execute_result"
    }
   ],
   "source": [
    "history2_df=pd.DataFrame(history_dict2)\n",
    "history2_df.tail()"
   ]
  },
  {
   "cell_type": "code",
   "execution_count": 63,
   "metadata": {
    "id": "5CrnwjN7Suu5"
   },
   "outputs": [],
   "source": [
    "losses = history2.history['loss']\n",
    "accs = history2.history['accuracy']\n",
    "val_losses = history2.history['val_loss']\n",
    "val_accs = history2.history['val_accuracy']\n",
    "epochs = len(losses)"
   ]
  },
  {
   "cell_type": "code",
   "execution_count": 64,
   "metadata": {
    "colab": {
     "base_uri": "https://localhost:8080/",
     "height": 265
    },
    "id": "Uw20TBZxSuye",
    "outputId": "96c9c384-7e74-47e9-9681-c61e220d3d83"
   },
   "outputs": [
    {
     "data": {
      "image/png": "[encoded data removed]",
      "text/plain": [
       "<Figure size 1152x288 with 2 Axes>"
      ]
     },
     "metadata": {
      "needs_background": "light",
      "tags": []
     },
     "output_type": "display_data"
    }
   ],
   "source": [
    "plt.figure(figsize=(16, 4))\n",
    "for i, metrics in enumerate(zip([losses, accs], [val_losses, val_accs], ['Loss', 'Accuracy'])):\n",
    "    plt.subplot(1, 2, i + 1)\n",
    "    plt.plot(range(epochs), metrics[0], label='Training {}'.format(metrics[2]))\n",
    "    plt.plot(range(epochs), metrics[1], label='Validation {}'.format(metrics[2]))\n",
    "    plt.legend()\n",
    "plt.show()"
   ]
  },
  {
   "cell_type": "markdown",
   "metadata": {
    "id": "A3RlxHyPTCrD"
   },
   "source": [
    "#### Model Architecture Summary Single Layer Bidirectional RNN"
   ]
  },
  {
   "cell_type": "code",
   "execution_count": 65,
   "metadata": {
    "colab": {
     "base_uri": "https://localhost:8080/"
    },
    "id": "idRIHfoySu12",
    "outputId": "5bec7130-1f2c-4f7e-b9f3-e6ae982deebf"
   },
   "outputs": [
    {
     "name": "stdout",
     "output_type": "stream",
     "text": [
      "Model: \"sequential_1\"\n",
      "_________________________________________________________________\n",
      "Layer (type)                 Output Shape              Param #   \n",
      "=================================================================\n",
      "text_vectorization_2 (TextVe (None, None)              0         \n",
      "_________________________________________________________________\n",
      "embedding_1 (Embedding)      (None, None, 64)          64000     \n",
      "_________________________________________________________________\n",
      "bidirectional_1 (Bidirection (None, None, 128)         66048     \n",
      "_________________________________________________________________\n",
      "bidirectional_2 (Bidirection (None, 64)                41216     \n",
      "_________________________________________________________________\n",
      "dense_2 (Dense)              (None, 64)                4160      \n",
      "_________________________________________________________________\n",
      "dropout (Dropout)            (None, 64)                0         \n",
      "_________________________________________________________________\n",
      "dense_3 (Dense)              (None, 4)                 260       \n",
      "=================================================================\n",
      "Total params: 175,684\n",
      "Trainable params: 175,684\n",
      "Non-trainable params: 0\n",
      "_________________________________________________________________\n"
     ]
    }
   ],
   "source": [
    "model2.summary()"
   ]
  },
  {
   "cell_type": "code",
   "execution_count": 66,
   "metadata": {
    "colab": {
     "base_uri": "https://localhost:8080/",
     "height": 865
    },
    "id": "o01y6ZMVTF8J",
    "outputId": "795473aa-5d61-4f35-daff-ee0d21544a4e"
   },
   "outputs": [
    {
     "data": {
      "image/png": "[encoded data removed]",
      "text/plain": [
       "<IPython.core.display.Image object>"
      ]
     },
     "execution_count": 66,
     "metadata": {
      "tags": []
     },
     "output_type": "execute_result"
    }
   ],
   "source": [
    "keras.utils.plot_model(model2, \"2Layer_BiDirectionalLSTM.png\", show_shapes=True)"
   ]
  },
  {
   "cell_type": "markdown",
   "metadata": {
    "id": "9xvpE3BaGw_V"
   },
   "source": [
    "Check out other existing recurrent layers such as [GRU layers](https://www.tensorflow.org/api_docs/python/tf/keras/layers/GRU).\n",
    "\n",
    "If you're interestied in building custom RNNs, see the [Keras RNN Guide](../../guide/keras/rnn.ipynb).\n"
   ]
  }
 ],
 "metadata": {
  "accelerator": "TPU",
  "colab": {
   "collapsed_sections": [],
   "machine_shape": "hm",
   "name": "MSDS458_Assignment_03_20210314_DEV_v12.ipynb",
   "provenance": [],
   "toc_visible": true
  },
  "kernelspec": {
   "display_name": "Python 3",
   "language": "python",
   "name": "python3"
  },
  "language_info": {
   "codemirror_mode": {
    "name": "ipython",
    "version": 3
   },
   "file_extension": ".py",
   "mimetype": "text/x-python",
   "name": "python",
   "nbconvert_exporter": "python",
   "pygments_lexer": "ipython3",
   "version": "3.6.9"
  },
  "toc": {
   "base_numbering": 1,
   "nav_menu": {},
   "number_sections": false,
   "sideBar": true,
   "skip_h1_title": false,
   "title_cell": "Table of Contents",
   "title_sidebar": "Contents",
   "toc_cell": false,
   "toc_position": {},
   "toc_section_display": true,
   "toc_window_display": false
  }
 },
 "nbformat": 4,
 "nbformat_minor": 1
}

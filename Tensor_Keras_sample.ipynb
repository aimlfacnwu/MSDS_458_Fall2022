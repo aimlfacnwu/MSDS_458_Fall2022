{
  "nbformat": 4,
  "nbformat_minor": 0,
  "metadata": {
    "colab": {
      "provenance": [],
      "gpuType": "T4",
      "authorship_tag": "ABX9TyPPIOQNZBIT1S6u5OWllDKH",
      "include_colab_link": true
    },
    "kernelspec": {
      "name": "python3",
      "display_name": "Python 3"
    },
    "language_info": {
      "name": "python"
    },
    "accelerator": "GPU"
  },
  "cells": [
    {
      "cell_type": "markdown",
      "metadata": {
        "id": "view-in-github",
        "colab_type": "text"
      },
      "source": [
        "<a href=\"https://colab.research.google.com/github/aimlfacnwu/MSDS_458_Fall2022/blob/master/Tensor_Keras_sample.ipynb\" target=\"_parent\"><img src=\"https://colab.research.google.com/assets/colab-badge.svg\" alt=\"Open In Colab\"/></a>"
      ]
    },
    {
      "cell_type": "code",
      "source": [
        "import tensorflow as tf\n"
      ],
      "metadata": {
        "id": "5ka8ovPoM49q"
      },
      "execution_count": 2,
      "outputs": []
    },
    {
      "cell_type": "code",
      "execution_count": 8,
      "metadata": {
        "colab": {
          "base_uri": "https://localhost:8080/"
        },
        "id": "Z8Ghjg0T3oZd",
        "outputId": "fe88aed5-f0b3-492f-cba3-70d4053cdf0f"
      },
      "outputs": [
        {
          "output_type": "stream",
          "name": "stdout",
          "text": [
            "rank_4_tensor size of elements:360\n",
            "Type of rank_4:<dtype: 'float32'>\n",
            "Dimensions of rank_4_tensor:4\n",
            "Number of elements along axis 0:3 \n"
          ]
        }
      ],
      "source": [
        "rank_4_tensor = tf.zeros([3,6,4,5])\n",
        "print(f\"rank_4_tensor size of elements:{tf.size(rank_4_tensor)}\")\n",
        "print(f\"Type of rank_4:{rank_4_tensor.dtype}\")\n",
        "print(f\"Dimensions of rank_4_tensor:{rank_4_tensor.ndim}\")\n",
        "print(f\"Number of elements along axis 0:{rank_4_tensor.shape[0]} \")"
      ]
    },
    {
      "cell_type": "code",
      "source": [],
      "metadata": {
        "id": "u6sLDnh1On9N"
      },
      "execution_count": null,
      "outputs": []
    }
  ]
}
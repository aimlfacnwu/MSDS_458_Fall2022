{
 "cells": [
  {
   "cell_type": "markdown",
   "metadata": {
    "id": "3-yji0OXBQS1"
   },
   "source": [
    "\n",
    "\n",
    "\n",
    "\n",
    "\n",
    "<img src=\"https://github.com/djp840/MSDS_458_Public/blob/master/images/NorthwesternHeader.png?raw=1\">"
   ]
  },
  {
   "cell_type": "markdown",
   "metadata": {
    "id": "SRLmkqrHBQS2"
   },
   "source": [
    "## MSDS458 Research Assignment 02 - Part 1\n",
    "<div class=\"alert alert-block alert-success\">\n",
    "    <b>More Technical</b>: Throughout the notebook. This types of boxes provide more technical details and extra references about what you are seeing. They contain helpful tips, but you can safely skip them the first time you run through the code.\n",
    "</div><br>"
   ]
  },
  {
   "cell_type": "markdown",
   "metadata": {
    "id": "v2-7tctUBQS2"
   },
   "source": [
    "The CIFAR-10 dataset (Canadian Institute For Advanced Research) is a collection of images that are commonly used to train machine learning and computer vision algorithms. It is one of the most widely used datasets for machine learning research. The CIFAR-10 dataset contains 60,000 32x32 color images in 10 different classes. The 10 different classes represent airplanes, cars, birds, cats, deer, dogs, frogs, horses, ships, and trucks. There are 6,000 images of each class."
   ]
  },
  {
   "cell_type": "markdown",
   "metadata": {
    "id": "pNvM9PVNAIyq"
   },
   "source": [
    "<div class=\"alert alert-block alert-info\">\n",
    "<b>The CIFAR-10 dataset</b><br>\n",
    "https://www.cs.toronto.edu/~kriz/cifar.html\n",
    "    </div>"
   ]
  },
  {
   "cell_type": "markdown",
   "metadata": {
    "id": "sSPcQhKUBQS2"
   },
   "source": [
    "## Import packages needed "
   ]
  },
  {
   "cell_type": "code",
   "execution_count": null,
   "metadata": {
    "id": "eHmjw7WoBQS2"
   },
   "outputs": [],
   "source": [
    "import datetime\n",
    "import time\n",
    "import numpy as np\n",
    "import pandas as pd\n",
    "from packaging import version\n",
    "from collections import Counter\n",
    "\n",
    "from sklearn.metrics import confusion_matrix, classification_report\n",
    "from sklearn.metrics import accuracy_score\n",
    "from sklearn.metrics import mean_squared_error as MSE\n",
    "from sklearn.model_selection import train_test_split\n",
    "from sklearn.manifold import TSNE\n",
    "\n",
    "import matplotlib.pyplot as plt\n",
    "import matplotlib as mpl\n",
    "import seaborn as sns\n",
    "\n",
    "import tensorflow as tf\n",
    "from tensorflow import keras\n",
    "from tensorflow.keras import models, layers\n",
    "from tensorflow.keras.models import Sequential\n",
    "from tensorflow.keras.layers import Conv2D, MaxPool2D, BatchNormalization, Dropout, Flatten, Input, Dense\n",
    "from tensorflow.keras.callbacks import ModelCheckpoint, EarlyStopping\n",
    "from tensorflow.keras.preprocessing import image\n",
    "from tensorflow.keras.utils import to_categorical"
   ]
  },
  {
   "cell_type": "code",
   "execution_count": null,
   "metadata": {
    "id": "_cXetOQXBQS3"
   },
   "outputs": [],
   "source": [
    "%matplotlib inline\n",
    "np.set_printoptions(precision=3, suppress=True)"
   ]
  },
  {
   "cell_type": "markdown",
   "metadata": {
    "id": "yIDm78WyBQS3"
   },
   "source": [
    "## Verify TensorFlow Version and Keras Version"
   ]
  },
  {
   "cell_type": "code",
   "execution_count": null,
   "metadata": {
    "colab": {
     "base_uri": "https://localhost:8080/"
    },
    "id": "Z54Ct2ouBQS3",
    "outputId": "19af225c-3b58-496b-c1d8-111b9a178dac"
   },
   "outputs": [],
   "source": [
    "print(\"This notebook requires TensorFlow 2.0 or above\")\n",
    "print(\"TensorFlow version: \", tf.__version__)\n",
    "assert version.parse(tf.__version__).release[0] >=2"
   ]
  },
  {
   "cell_type": "code",
   "execution_count": null,
   "metadata": {
    "colab": {
     "base_uri": "https://localhost:8080/"
    },
    "id": "3dgj2RJnBQS6",
    "outputId": "30e29d52-072c-4d51-d554-7eaa0f3bdf09"
   },
   "outputs": [],
   "source": [
    "print(\"Keras version: \", keras.__version__)"
   ]
  },
  {
   "cell_type": "markdown",
   "metadata": {
    "id": "ApjAZzsZBQS6"
   },
   "source": [
    "## Mount Google Drive to Colab Environment"
   ]
  },
  {
   "cell_type": "code",
   "execution_count": null,
   "metadata": {
    "colab": {
     "base_uri": "https://localhost:8080/"
    },
    "id": "UqJfFzLIBQS6",
    "outputId": "40fdccd7-f0a6-4802-836a-b1500f124b5b"
   },
   "outputs": [],
   "source": [
    "from google.colab import drive\n",
    "drive.mount('/content/gdrive')"
   ]
  },
  {
   "cell_type": "markdown",
   "metadata": {
    "id": "wheq-fA-5VuQ"
   },
   "source": [
    "## Functions for Research Assignment"
   ]
  },
  {
   "cell_type": "code",
   "execution_count": null,
   "metadata": {
    "id": "hMmC4BQy5UoQ"
   },
   "outputs": [],
   "source": [
    "def print_validation_report(y_test, predictions):\n",
    "    print(\"Classification Report\")\n",
    "    print(classification_report(y_test, predictions))\n",
    "    print('Accuracy Score: {}'.format(accuracy_score(y_test, predictions)))\n",
    "    print('Root Mean Square Error: {}'.format(np.sqrt(MSE(y_test, predictions)))) "
   ]
  },
  {
   "cell_type": "code",
   "execution_count": null,
   "metadata": {
    "id": "oJKrRAYk5dCm"
   },
   "outputs": [],
   "source": [
    "def plot_confusion_matrix(y_true, y_pred):\n",
    "    mtx = confusion_matrix(y_true, y_pred)\n",
    "    fig, ax = plt.subplots(figsize=(8,8))\n",
    "    sns.heatmap(mtx, annot=True, fmt='d', linewidths=.75,  cbar=False, ax=ax,cmap='Blues',linecolor='white')\n",
    "    #  square=True,\n",
    "    plt.ylabel('true label')\n",
    "    plt.xlabel('predicted label')"
   ]
  },
  {
   "cell_type": "markdown",
   "metadata": {
    "id": "m2smn4LPBQS6"
   },
   "source": [
    "## Loading cifar10 Dataset\n",
    "\n",
    "The CIFAR-10 dataset consists of 60000 32x32 colour images in 10 classes, with 6000 images per class. There are 50000 training images and 10000 test images.<br>\n",
    "\n",
    "The dataset is divided into five training batches and one test batch, each with 10000 images. The test batch contains exactly 1000 randomly-selected images from each class. The training batches contain the remaining images in random order, but some training batches may contain more images from one class than another. Between them, the training batches contain exactly 5000 images from each class.\n"
   ]
  },
  {
   "cell_type": "code",
   "execution_count": null,
   "metadata": {
    "colab": {
     "base_uri": "https://localhost:8080/"
    },
    "id": "Bs_WjVbQE9TQ",
    "outputId": "2926c21c-64c6-4904-cad4-a9e4c36b8b62"
   },
   "outputs": [],
   "source": [
    "(x_train, y_train), (x_test, y_test) = keras.datasets.cifar10.load_data()"
   ]
  },
  {
   "cell_type": "markdown",
   "metadata": {
    "id": "L1nXyX8xBQS6"
   },
   "source": [
    "* Tuple of Numpy arrays: (x_train, y_train), (x_test, y_test).\n",
    "* x_train, x_test: uint8 arrays of color image data with shapes (num_samples, 32, 32).\n",
    "* y_train, y_test: uint8 arrays of digit labels (integers in range 0-9)"
   ]
  },
  {
   "cell_type": "markdown",
   "metadata": {
    "id": "0qXkOUboBQS6"
   },
   "source": [
    "## EDA Training and Test Datasets\n",
    "\n",
    "* Imported 50000 examples for training and 10000 examples for test \n",
    "* Imported 50000 labels for training and 10000 labels for test "
   ]
  },
  {
   "cell_type": "code",
   "execution_count": null,
   "metadata": {
    "colab": {
     "base_uri": "https://localhost:8080/"
    },
    "id": "un0LuWX2BQS7",
    "outputId": "3b6dddeb-f509-46fc-aab8-67f72b3e2f4f"
   },
   "outputs": [],
   "source": [
    "print('train_images:\\t{}'.format(x_train.shape))\n",
    "print('train_labels:\\t{}'.format(y_train.shape))\n",
    "print('test_images:\\t\\t{}'.format(x_test.shape))\n",
    "print('test_labels:\\t\\t{}'.format(y_test.shape))"
   ]
  },
  {
   "cell_type": "markdown",
   "metadata": {
    "id": "tDL-RelMBQS7"
   },
   "source": [
    "## Review labels for training dataset"
   ]
  },
  {
   "cell_type": "code",
   "execution_count": null,
   "metadata": {
    "colab": {
     "base_uri": "https://localhost:8080/"
    },
    "id": "L_gEoattBQS7",
    "outputId": "8fea641a-8484-4e3f-e1b5-2ff777b6c424"
   },
   "outputs": [],
   "source": [
    "print(\"First ten labels training dataset:\\n {}\\n\".format(y_train[0:10]))\n",
    "print(\"This output the numeric label, need to convert to item description\")"
   ]
  },
  {
   "cell_type": "markdown",
   "metadata": {
    "id": "Fpba3_-nBQS7"
   },
   "source": [
    "## Plot Examples"
   ]
  },
  {
   "cell_type": "code",
   "execution_count": null,
   "metadata": {
    "id": "JSoJySfUBQS7"
   },
   "outputs": [],
   "source": [
    "def get_three_classes(x, y):\n",
    "    def indices_of(class_id):\n",
    "        indices, _ = np.where(y == float(class_id))\n",
    "        return indices\n",
    "\n",
    "    indices = np.concatenate([indices_of(0), indices_of(1), indices_of(2)], axis=0)\n",
    "    \n",
    "    x = x[indices]\n",
    "    y = y[indices]\n",
    "    \n",
    "    count = x.shape[0]\n",
    "    indices = np.random.choice(range(count), count, replace=False)\n",
    "    \n",
    "    x = x[indices]\n",
    "    y = y[indices]\n",
    "    \n",
    "    y = tf.keras.utils.to_categorical(y)\n",
    "    \n",
    "    return x, y"
   ]
  },
  {
   "cell_type": "code",
   "execution_count": null,
   "metadata": {
    "id": "E-OB0cAWBQS7"
   },
   "outputs": [],
   "source": [
    "(train_images, train_labels),(test_images, test_labels)= tf.keras.datasets.cifar10.load_data()"
   ]
  },
  {
   "cell_type": "code",
   "execution_count": null,
   "metadata": {
    "id": "w4JdRKm5BQS7"
   },
   "outputs": [],
   "source": [
    "x_preview, y_preview = get_three_classes(train_images, train_labels)\n",
    "x_preview, y_preview = get_three_classes(test_images, test_labels)"
   ]
  },
  {
   "cell_type": "code",
   "execution_count": null,
   "metadata": {
    "colab": {
     "base_uri": "https://localhost:8080/",
     "height": 288
    },
    "id": "PrUAgX78BQS8",
    "outputId": "e578b72a-9cc3-4a40-c623-2b8b38456f90"
   },
   "outputs": [],
   "source": [
    "class_names_preview = ['aeroplane', 'car', 'bird']\n",
    "\n",
    "def show_random_examples(x, y, p):\n",
    "    indices = np.random.choice(range(x.shape[0]), 10, replace=False)\n",
    "    \n",
    "    x = x[indices]\n",
    "    y = y[indices]\n",
    "    p = p[indices]\n",
    "    \n",
    "    plt.figure(figsize=(10, 5))\n",
    "    for i in range(10):\n",
    "        plt.subplot(2, 5, i + 1)\n",
    "        plt.imshow(x[i])\n",
    "        plt.xticks([])\n",
    "        plt.yticks([])\n",
    "        col = 'green' if np.argmax(y[i]) == np.argmax(p[i]) else 'red'\n",
    "        plt.xlabel(class_names_preview[np.argmax(p[i])], color=col)\n",
    "    plt.show()\n",
    "\n",
    "show_random_examples(x_preview, y_preview, y_preview)"
   ]
  },
  {
   "cell_type": "markdown",
   "metadata": {
    "id": "zmOULZ_8BQS8"
   },
   "source": [
    "## Preprocessing Data for Model Development"
   ]
  },
  {
   "cell_type": "markdown",
   "metadata": {
    "id": "fWrM9M7tBQS9"
   },
   "source": [
    "The labels are an array of integers, ranging from 0 to 9. These correspond to the class of clothing the image represents:\n",
    "\n",
    "|Label  |Class_  |\n",
    "|-------|--------|\n",
    "|0|\tairplane     |\n",
    "|1|\tautomobile   |\n",
    "|2|\tbird         |\n",
    "|3|\tcat          |\n",
    "|4|\tdeer         |\n",
    "|5|\tdog          |\n",
    "|6|\tfrog         |\n",
    "|7|\thorse        |\n",
    "|8|\tship         |\n",
    "|9|\ttruck        |"
   ]
  },
  {
   "cell_type": "code",
   "execution_count": null,
   "metadata": {
    "id": "0pOir5__BQS9"
   },
   "outputs": [],
   "source": [
    "class_names = ['airplane'\n",
    ",'automobile'\n",
    ",'bird'\n",
    ",'cat'\n",
    ",'deer'\n",
    ",'dog'\n",
    ",'frog' \n",
    ",'horse'\n",
    ",'ship'\n",
    ",'truck']"
   ]
  },
  {
   "cell_type": "markdown",
   "metadata": {
    "id": "VLEIzXIhGimu"
   },
   "source": [
    "## Create Validation Data Set"
   ]
  },
  {
   "cell_type": "code",
   "execution_count": null,
   "metadata": {
    "id": "FwsWXD4VGvbI"
   },
   "outputs": [],
   "source": [
    "x_train_split, x_valid_split, y_train_split, y_valid_split = train_test_split(x_train\n",
    "                                                                              ,y_train\n",
    "                                                                              ,test_size=.1\n",
    "                                                                              ,random_state=42\n",
    "                                                                              ,shuffle=True)"
   ]
  },
  {
   "cell_type": "markdown",
   "metadata": {
    "id": "4m3HBmXfG_eO"
   },
   "source": [
    "## Confirm Datasets {Train, Validation, Test}"
   ]
  },
  {
   "cell_type": "code",
   "execution_count": null,
   "metadata": {
    "colab": {
     "base_uri": "https://localhost:8080/"
    },
    "id": "RvERfc-kGvhG",
    "outputId": "aa978d27-092a-4c8e-f5bc-e5013f5c14db"
   },
   "outputs": [],
   "source": [
    "print(x_train_split.shape, x_valid_split.shape, x_test.shape)"
   ]
  },
  {
   "cell_type": "markdown",
   "metadata": {
    "id": "f1Bc7VFlBQS9"
   },
   "source": [
    "## Rescale Examples  {Train, Validation, Test}\n",
    "The images are 28x28 NumPy arrays, with pixel values ranging from 0 to 255\n",
    " "
   ]
  },
  {
   "cell_type": "markdown",
   "metadata": {
    "id": "83IzVivSBQS9"
   },
   "source": [
    "1. Each element in each example is a pixel value\n",
    "2. Pixel values range from 0 to 255\n",
    "3. 0 = black\n",
    "4. 255 = white"
   ]
  },
  {
   "cell_type": "code",
   "execution_count": null,
   "metadata": {
    "id": "42FmtjcVBQS9"
   },
   "outputs": [],
   "source": [
    "x_train_norm = x_train_split/255\n",
    "x_valid_norm = x_valid_split/255\n",
    "x_test_norm = x_test/255"
   ]
  },
  {
   "cell_type": "markdown",
   "metadata": {
    "id": "SMrBHqFDBQS-"
   },
   "source": [
    "## Create the Model"
   ]
  },
  {
   "cell_type": "markdown",
   "metadata": {
    "id": "rDy9MDMEBQS-"
   },
   "source": [
    "<img src=\"https://github.com/djp840/MSDS_458_Public/blob/master/images/CNN_architecture_v4.png?raw=1\">\n"
   ]
  },
  {
   "cell_type": "markdown",
   "metadata": {
    "id": "ZQksDxFtBQS-"
   },
   "source": [
    "## Build CNN Model"
   ]
  },
  {
   "cell_type": "markdown",
   "metadata": {
    "id": "kUAXSso3BQS-"
   },
   "source": [
    "We use a Sequential class defined in Keras to create our model. The first 9 layers Conv2D MaxPooling, Dropout handle feature learning.  The last 3 layers, handle classification"
   ]
  },
  {
   "cell_type": "code",
   "execution_count": null,
   "metadata": {
    "id": "s8pXP2OxBQS-"
   },
   "outputs": [],
   "source": [
    "model = models.Sequential()\n",
    "model.add(layers.Conv2D(filters=512, kernel_size=(3, 3), strides=(1, 1), activation=tf.nn.relu,input_shape=(32, 32, 3)))\n",
    "model.add(layers.MaxPool2D((2, 2),strides=2))\n",
    "model.add(layers.Dropout(0.3))\n",
    "model.add(layers.Conv2D(filters=256, kernel_size=(3, 3), strides=(1, 1), activation=tf.nn.relu))\n",
    "model.add(layers.MaxPool2D(pool_size=(2, 2),strides=2))\n",
    "model.add(layers.Dropout(0.3))\n",
    "model.add(layers.Conv2D(filters=128, kernel_size=(3, 3), strides=(1, 1), activation=tf.nn.relu))\n",
    "model.add(layers.MaxPool2D(pool_size=(2, 2),strides=2))\n",
    "model.add(layers.Dropout(0.3))\n",
    "model.add(layers.Flatten())\n",
    "model.add(layers.BatchNormalization())\n",
    "model.add(layers.Dense(units=384, activation=tf.nn.relu,kernel_regularizer=tf.keras.regularizers.L2(0.001)))\n",
    "model.add(layers.Dense(units=10, activation=tf.nn.softmax))"
   ]
  },
  {
   "cell_type": "code",
   "execution_count": null,
   "metadata": {
    "colab": {
     "base_uri": "https://localhost:8080/"
    },
    "id": "9-sVZXeoBQS-",
    "outputId": "e8bc8642-925b-4058-eb43-76f7ed95e2ac"
   },
   "outputs": [],
   "source": [
    "model.summary()"
   ]
  },
  {
   "cell_type": "code",
   "execution_count": null,
   "metadata": {
    "colab": {
     "base_uri": "https://localhost:8080/",
     "height": 1000
    },
    "id": "04XBVY0pBQS-",
    "outputId": "66216f39-4c3f-4993-fbb0-3ee5f2aec096",
    "scrolled": false
   },
   "outputs": [],
   "source": [
    "keras.utils.plot_model(model, \"CIFAR10.png\", show_shapes=True) "
   ]
  },
  {
   "cell_type": "markdown",
   "metadata": {
    "id": "dTfZ8L55BQS-"
   },
   "source": [
    "## Compiling the model"
   ]
  },
  {
   "cell_type": "markdown",
   "metadata": {
    "id": "uNsQ6Qb-BQS-"
   },
   "source": [
    "In addition to setting up our model architecture, we also need to define which algorithm should the model use in order to optimize the weights and biases as per the given data. We will use stochastic gradient descent.\n",
    "\n",
    "We also need to define a loss function. Think of this function as the difference between the predicted outputs and the actual outputs given in the dataset. This loss needs to be minimised in order to have a higher model accuracy. That's what the optimization algorithm essentially does - it minimises the loss during model training. For our multi-class classification problem, categorical cross entropy is commonly used.\n",
    "\n",
    "Finally, we will use the accuracy during training as a metric to keep track of as the model trains."
   ]
  },
  {
   "cell_type": "markdown",
   "metadata": {
    "id": "kPIeG65BT_0R"
   },
   "source": [
    "<div class=\"alert alert-block alert-info\">\n",
    "<b>tf.keras.losses.SparseCategoricalCrossentropy</b><br>\n",
    "https://www.tensorflow.org/api_docs/python/tf/keras/losses/SparseCategoricalCrossentropy</div>"
   ]
  },
  {
   "cell_type": "code",
   "execution_count": null,
   "metadata": {
    "id": "nizhoIobBQS-"
   },
   "outputs": [],
   "source": [
    "model.compile(optimizer='adam',\n",
    "              loss=tf.keras.losses.SparseCategoricalCrossentropy(from_logits=False),\n",
    "              metrics=['accuracy'])"
   ]
  },
  {
   "cell_type": "markdown",
   "metadata": {
    "id": "r5ZMEIgVBQS-"
   },
   "source": [
    "## Training the model"
   ]
  },
  {
   "cell_type": "markdown",
   "metadata": {
    "id": "X71tbaZaT_0R"
   },
   "source": [
    "<div class=\"alert alert-block alert-success\">\n",
    "    <b>Module: tf.keras.callbacks</b></div>"
   ]
  },
  {
   "cell_type": "markdown",
   "metadata": {
    "id": "m88yYO0qT_0R"
   },
   "source": [
    "<div class=\"alert alert-block alert-info\">\n",
    "<b>tf.keras.callbacks.EarlyStopping</b><br>\n",
    "https://www.tensorflow.org/api_docs/python/tf/keras/callbacks/EarlyStopping</div>"
   ]
  },
  {
   "cell_type": "markdown",
   "metadata": {
    "id": "-08cH7qgT_0R"
   },
   "source": [
    "<div class=\"alert alert-block alert-info\">\n",
    "<b>tf.keras.callbacks.ModelCheckpoint</b><br>\n",
    "https://www.tensorflow.org/api_docs/python/tf/keras/callbacks/ModelCheckpoint</div>"
   ]
  },
  {
   "cell_type": "code",
   "execution_count": null,
   "metadata": {
    "colab": {
     "base_uri": "https://localhost:8080/"
    },
    "id": "JF67tVFKBQS-",
    "outputId": "146f8b0d-5d09-4a97-b5e2-ee2c783f2851"
   },
   "outputs": [],
   "source": [
    "history = model.fit(x_train_norm\n",
    "                    ,y_train_split\n",
    "                    ,epochs=200\n",
    "                    ,batch_size=512\n",
    "                    ,validation_data=(x_valid_norm, y_valid_split)\n",
    "                    ,callbacks=[\n",
    "                    tf.keras.callbacks.EarlyStopping(monitor='val_accuracy', patience=3),\n",
    "                    tf.keras.callbacks.ModelCheckpoint('/content/gdrive/My Drive/Colab Notebooks/models/model_{val_accuracy:.4f}.h5', save_best_only=True,\n",
    "                                        save_weights_only=False, monitor='val_accuracy')]                                                                                                           \n",
    "                   )"
   ]
  },
  {
   "cell_type": "markdown",
   "metadata": {
    "id": "bfvsmiZ1BQS_"
   },
   "source": [
    "## Validation Data\n",
    "Data on which to evaluate the loss and any model metrics at the end of each epoch<br>\n",
    "The model will not be trained on this data"
   ]
  },
  {
   "cell_type": "markdown",
   "metadata": {
    "id": "Y8bj0gb4BQS_"
   },
   "source": [
    "## Evaluate the model"
   ]
  },
  {
   "cell_type": "markdown",
   "metadata": {
    "id": "fCENqAxPBQS_"
   },
   "source": [
    "In order to ensure that this is not a simple \"memorization\" by the machine, we should evaluate the performance on the test set. This is easy to do, we simply use the `evaluate` method on our model."
   ]
  },
  {
   "cell_type": "code",
   "execution_count": null,
   "metadata": {
    "colab": {
     "base_uri": "https://localhost:8080/"
    },
    "id": "n5ou4G4FBQS_",
    "outputId": "f5cbae57-40ef-485d-8740-e4e165330e4e"
   },
   "outputs": [],
   "source": [
    "loss, accuracy = model.evaluate(x_test_norm, y_test)\n",
    "print('test set accuracy: ', accuracy * 100)"
   ]
  },
  {
   "cell_type": "markdown",
   "metadata": {
    "id": "SnGY6erRBQS_"
   },
   "source": [
    "## Predictions"
   ]
  },
  {
   "cell_type": "code",
   "execution_count": null,
   "metadata": {
    "colab": {
     "base_uri": "https://localhost:8080/"
    },
    "id": "RFDcNklXBQS_",
    "outputId": "ca43a9cc-a8de-44de-82e2-2eddd7ca963a"
   },
   "outputs": [],
   "source": [
    "preds = model.predict(x_test_norm)\n",
    "print('shape of preds: ', preds.shape)"
   ]
  },
  {
   "cell_type": "markdown",
   "metadata": {
    "id": "Q1dk3sX1BQS_"
   },
   "source": [
    "## Plotting Performance Metrics \n",
    "\n",
    "We use Matplotlib to create 2 plots--displaying the training and validation loss (resp. accuracy) for each (training) epoch side by side."
   ]
  },
  {
   "cell_type": "code",
   "execution_count": null,
   "metadata": {
    "colab": {
     "base_uri": "https://localhost:8080/"
    },
    "id": "ROIyEsUtBQS_",
    "outputId": "90f6cab3-cd78-49db-c3e5-6d06137a3dd3"
   },
   "outputs": [],
   "source": [
    "history_dict = history.history\n",
    "history_dict.keys()"
   ]
  },
  {
   "cell_type": "code",
   "execution_count": null,
   "metadata": {
    "colab": {
     "base_uri": "https://localhost:8080/",
     "height": 200
    },
    "id": "NxYHCMOlBQS_",
    "outputId": "33733d90-ed73-4de5-cb2d-0e165f97248b"
   },
   "outputs": [],
   "source": [
    "history_df=pd.DataFrame(history_dict)\n",
    "history_df.tail().round(3)"
   ]
  },
  {
   "cell_type": "code",
   "execution_count": null,
   "metadata": {
    "id": "d0WufsyEBQS_"
   },
   "outputs": [],
   "source": [
    "losses = history.history['loss']\n",
    "accs = history.history['accuracy']\n",
    "val_losses = history.history['val_loss']\n",
    "val_accs = history.history['val_accuracy']\n",
    "epochs = len(losses)"
   ]
  },
  {
   "cell_type": "code",
   "execution_count": null,
   "metadata": {
    "colab": {
     "base_uri": "https://localhost:8080/",
     "height": 265
    },
    "id": "PX_RmAQgBQS_",
    "outputId": "70781082-94ae-4bf9-b9da-aa607136679a",
    "scrolled": false
   },
   "outputs": [],
   "source": [
    "plt.figure(figsize=(16, 4))\n",
    "for i, metrics in enumerate(zip([losses, accs], [val_losses, val_accs], ['Loss', 'Accuracy'])):\n",
    "    plt.subplot(1, 2, i + 1)\n",
    "    plt.plot(range(epochs), metrics[0], label='Training {}'.format(metrics[2]))\n",
    "    plt.plot(range(epochs), metrics[1], label='Validation {}'.format(metrics[2]))\n",
    "    plt.legend()\n",
    "plt.show()"
   ]
  },
  {
   "cell_type": "markdown",
   "metadata": {
    "id": "eo4quLxCBQTA"
   },
   "source": [
    "## Confusion matrices\n",
    "Using both `sklearn.metrics`. Then we visualize the confusion matrix and see what that tells us."
   ]
  },
  {
   "cell_type": "code",
   "execution_count": null,
   "metadata": {
    "id": "SJQl4PTC1z3b"
   },
   "outputs": [],
   "source": [
    "pred1= model.predict(x_test_norm)\n",
    "pred1=np.argmax(pred1, axis=1)"
   ]
  },
  {
   "cell_type": "code",
   "execution_count": null,
   "metadata": {
    "colab": {
     "base_uri": "https://localhost:8080/"
    },
    "id": "bGmYQw9J142G",
    "outputId": "8aa5c3b0-19cd-44da-99be-6e72d980d662"
   },
   "outputs": [],
   "source": [
    "print_validation_report(y_test, pred1)"
   ]
  },
  {
   "cell_type": "code",
   "execution_count": null,
   "metadata": {
    "colab": {
     "base_uri": "https://localhost:8080/",
     "height": 497
    },
    "id": "26OXI2N22D4B",
    "outputId": "a2464765-0caf-4d7c-afca-d107714dc6de"
   },
   "outputs": [],
   "source": [
    "plot_confusion_matrix(y_test,pred1)"
   ]
  },
  {
   "cell_type": "markdown",
   "metadata": {
    "id": "7uyMNPRdBQTA"
   },
   "source": [
    "## Load HDF5 Model Format "
   ]
  },
  {
   "cell_type": "markdown",
   "metadata": {
    "id": "PRoYhaAVT_0T"
   },
   "source": [
    "<div class=\"alert alert-block alert-info\">\n",
    "<b>tf.keras.models.load_model</b><br>\n",
    "https://www.tensorflow.org/api_docs/python/tf/keras/models/load_model</div>"
   ]
  },
  {
   "cell_type": "code",
   "execution_count": null,
   "metadata": {
    "id": "QjE3aqniBQTA"
   },
   "outputs": [],
   "source": [
    "model = tf.keras.models.load_model('/content/gdrive/My Drive/Colab Notebooks/models/model_0.8072.h5')"
   ]
  },
  {
   "cell_type": "code",
   "execution_count": null,
   "metadata": {
    "id": "LzxYqvOVBQTA"
   },
   "outputs": [],
   "source": [
    "preds = model.predict(x_test_norm)"
   ]
  },
  {
   "cell_type": "code",
   "execution_count": null,
   "metadata": {
    "colab": {
     "base_uri": "https://localhost:8080/"
    },
    "id": "fOIByBY-BQTA",
    "outputId": "6d3d9844-e29b-40f4-8caf-7399a74d63d9"
   },
   "outputs": [],
   "source": [
    "preds.shape"
   ]
  },
  {
   "cell_type": "markdown",
   "metadata": {
    "id": "q1h-XqX5BQTB"
   },
   "source": [
    "\n"
   ]
  },
  {
   "cell_type": "markdown",
   "metadata": {
    "id": "qgK4yZt4BQTB"
   },
   "source": [
    "## Predictions"
   ]
  },
  {
   "cell_type": "code",
   "execution_count": null,
   "metadata": {
    "id": "yur69upzBQTB"
   },
   "outputs": [],
   "source": [
    "cm = sns.light_palette((260, 75, 60), input=\"husl\", as_cmap=True)"
   ]
  },
  {
   "cell_type": "code",
   "execution_count": null,
   "metadata": {
    "colab": {
     "base_uri": "https://localhost:8080/",
     "height": 427
    },
    "id": "FoXrnXb8BQTB",
    "outputId": "2ffbd34d-4e16-471b-c599-f38aa10cdd30"
   },
   "outputs": [],
   "source": [
    "df = pd.DataFrame(preds[0:20], columns = ['airplane', 'automobile', 'bird', 'cat', 'deer', 'dog', 'frog', 'horse', 'ship', 'truck'])\n",
    "df.style.format(\"{:.2%}\").background_gradient(cmap=cm)"
   ]
  },
  {
   "cell_type": "code",
   "execution_count": null,
   "metadata": {
    "colab": {
     "base_uri": "https://localhost:8080/",
     "height": 247
    },
    "id": "--jq-EuoaTh8",
    "outputId": "e2451e0b-5b77-4f41-bccb-d459b38cf73b"
   },
   "outputs": [],
   "source": [
    "(_,_), (test_images, test_labels) = tf.keras.datasets.cifar10.load_data()\n",
    "\n",
    "img = test_images[2004]\n",
    "img_tensor = image.img_to_array(img)\n",
    "img_tensor = np.expand_dims(img_tensor, axis=0)\n",
    "\n",
    "class_names = ['airplane'\n",
    ",'automobile'\n",
    ",'bird'\n",
    ",'cat'\n",
    ",'deer'\n",
    ",'dog'\n",
    ",'frog' \n",
    ",'horse'\n",
    ",'ship'\n",
    ",'truck']\n",
    "\n",
    "plt.imshow(img, cmap='viridis')\n",
    "plt.axis('off')\n",
    "plt.show()"
   ]
  },
  {
   "cell_type": "code",
   "execution_count": null,
   "metadata": {
    "id": "v7HMVYT_aUNs"
   },
   "outputs": [],
   "source": [
    "# Extracts the outputs of the top 8 layers:\n",
    "layer_outputs = [layer.output for layer in model.layers[:8]]\n",
    "# Creates a model that will return these outputs, given the model input:\n",
    "activation_model = models.Model(inputs=model.input, outputs=layer_outputs)"
   ]
  },
  {
   "cell_type": "code",
   "execution_count": null,
   "metadata": {
    "colab": {
     "base_uri": "https://localhost:8080/"
    },
    "id": "Q9sSr6LpBQTB",
    "outputId": "0eb0010d-3547-4ff0-b1c8-d427bc51241f"
   },
   "outputs": [],
   "source": [
    "activations = activation_model.predict(img_tensor)\n",
    "len(activations)"
   ]
  },
  {
   "cell_type": "code",
   "execution_count": null,
   "metadata": {
    "colab": {
     "base_uri": "https://localhost:8080/"
    },
    "id": "kdf1Xm4Zc0T2",
    "outputId": "c0c95794-5755-4cc0-a4c7-9951fb922197"
   },
   "outputs": [],
   "source": [
    "layer_names = []\n",
    "for layer in model.layers:\n",
    "    layer_names.append(layer.name)\n",
    "    \n",
    "layer_names"
   ]
  },
  {
   "cell_type": "code",
   "execution_count": null,
   "metadata": {
    "colab": {
     "base_uri": "https://localhost:8080/",
     "height": 1000
    },
    "id": "E_KkKxCuBQTB",
    "outputId": "0749a29e-6e3b-4853-f9a9-83ed247394e8",
    "scrolled": false
   },
   "outputs": [],
   "source": [
    "# These are the names of the layers, so can have them as part of our plot\n",
    "layer_names = []\n",
    "for layer in model.layers[:3]:\n",
    "    layer_names.append(layer.name)\n",
    "\n",
    "images_per_row = 16\n",
    "\n",
    "# Now let's display our feature maps\n",
    "for layer_name, layer_activation in zip(layer_names, activations):\n",
    "    # This is the number of features in the feature map\n",
    "    n_features = layer_activation.shape[-1]\n",
    "\n",
    "    # The feature map has shape (1, size, size, n_features)\n",
    "    size = layer_activation.shape[1]\n",
    "\n",
    "    # We will tile the activation channels in this matrix\n",
    "    n_cols = n_features // images_per_row\n",
    "    display_grid = np.zeros((size * n_cols, images_per_row * size))\n",
    "\n",
    "    # We'll tile each filter into this big horizontal grid\n",
    "    for col in range(n_cols):\n",
    "        for row in range(images_per_row):\n",
    "            channel_image = layer_activation[0,\n",
    "                                             :, :,\n",
    "                                             col * images_per_row + row]\n",
    "            # Post-process the feature to make it visually palatable\n",
    "            channel_image -= channel_image.mean()\n",
    "            channel_image /= channel_image.std()\n",
    "            channel_image *= 64\n",
    "            channel_image += 128\n",
    "            channel_image = np.clip(channel_image, 0, 255).astype('uint8')\n",
    "            display_grid[col * size : (col + 1) * size,\n",
    "                         row * size : (row + 1) * size] = channel_image\n",
    "\n",
    "    # Display the grid\n",
    "    scale = 1. / size\n",
    "    plt.figure(figsize=(scale * display_grid.shape[1],\n",
    "                        scale * display_grid.shape[0]))\n",
    "    plt.title(layer_name)\n",
    "    plt.grid(False)\n",
    "    plt.imshow(display_grid, aspect='auto', cmap='viridis')\n",
    "    \n",
    "plt.show();"
   ]
  }
 ],
 "metadata": {
  "accelerator": "GPU",
  "colab": {
   "collapsed_sections": [],
   "machine_shape": "hm",
   "name": "MSDS458_Assignment_02_ResearchExample_20210920_COLAB_Part1.ipynb",
   "provenance": []
  },
  "kernelspec": {
   "display_name": "Python 3",
   "language": "python",
   "name": "python3"
  },
  "language_info": {
   "codemirror_mode": {
    "name": "ipython",
    "version": 3
   },
   "file_extension": ".py",
   "mimetype": "text/x-python",
   "name": "python",
   "nbconvert_exporter": "python",
   "pygments_lexer": "ipython3",
   "version": "3.8.10"
  },
  "toc": {
   "base_numbering": 1,
   "nav_menu": {},
   "number_sections": false,
   "sideBar": true,
   "skip_h1_title": false,
   "title_cell": "Table of Contents",
   "title_sidebar": "Contents",
   "toc_cell": false,
   "toc_position": {},
   "toc_section_display": true,
   "toc_window_display": false
  }
 },
 "nbformat": 4,
 "nbformat_minor": 1
}

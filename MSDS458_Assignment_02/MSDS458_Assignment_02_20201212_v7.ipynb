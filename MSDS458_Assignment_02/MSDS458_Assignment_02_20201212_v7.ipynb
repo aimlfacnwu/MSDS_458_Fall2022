{
 "cells": [
  {
   "cell_type": "markdown",
   "metadata": {
    "id": "3-yji0OXBQS1"
   },
   "source": [
    "<img src=\"https://github.com/djp840/MSDS_458_Public/blob/master/images/NorthwesternHeader.png?raw=1\">"
   ]
  },
  {
   "cell_type": "markdown",
   "metadata": {
    "id": "SRLmkqrHBQS2"
   },
   "source": [
    "## MSDS458 Research Assignment 2\n",
    "<div class=\"alert alert-block alert-success\">\n",
    "    <b>More Technical</b>: Throughout the notebook. This types of boxes provide more technical details and extra references about what you are seeing. They contain helpful tips, but you can safely skip them the first time you run through the code.\n",
    "</div><br>"
   ]
  },
  {
   "cell_type": "markdown",
   "metadata": {
    "id": "v2-7tctUBQS2"
   },
   "source": [
    "The CIFAR-10 dataset (Canadian Institute For Advanced Research) is a collection of images that are commonly used to train machine learning and computer vision algorithms. It is one of the most widely used datasets for machine learning research. The CIFAR-10 dataset contains 60,000 32x32 color images in 10 different classes. The 10 different classes represent airplanes, cars, birds, cats, deer, dogs, frogs, horses, ships, and trucks. There are 6,000 images of each class."
   ]
  },
  {
   "cell_type": "markdown",
   "metadata": {
    "id": "sSPcQhKUBQS2"
   },
   "source": [
    "## Import packages needed "
   ]
  },
  {
   "cell_type": "code",
   "execution_count": 1,
   "metadata": {
    "executionInfo": {
     "elapsed": 3450,
     "status": "ok",
     "timestamp": 1607096051749,
     "user": {
      "displayName": "Daniel Jensen",
      "photoUrl": "https://lh3.googleusercontent.com/a-/AOh14GgxK0y1Y-W44vjnQC53Ak8_BakmvjpvLobUMJWbWQ=s64",
      "userId": "09835133420012498824"
     },
     "user_tz": 300
    },
    "id": "eHmjw7WoBQS2"
   },
   "outputs": [],
   "source": [
    "# Helper libraries\n",
    "import datetime\n",
    "from packaging import version\n",
    "import matplotlib.pyplot as plt\n",
    "import seaborn as sns\n",
    "\n",
    "import sklearn\n",
    "from sklearn.metrics import confusion_matrix\n",
    "from collections import Counter\n",
    "import numpy as np\n",
    "import pandas as pd\n",
    "\n",
    "# TensorFlow and tf.keras\n",
    "import tensorflow as tf\n",
    "from tensorflow import keras\n",
    "from tensorflow.keras.utils import to_categorical\n",
    "from tensorflow.keras import models, layers\n",
    "from tensorflow.keras.models import Sequential\n",
    "from tensorflow.keras.layers import Conv2D, MaxPooling2D\n",
    "from tensorflow.keras.layers import Dropout, Flatten, Input, Dense"
   ]
  },
  {
   "cell_type": "code",
   "execution_count": 2,
   "metadata": {
    "executionInfo": {
     "elapsed": 3448,
     "status": "ok",
     "timestamp": 1607096051754,
     "user": {
      "displayName": "Daniel Jensen",
      "photoUrl": "https://lh3.googleusercontent.com/a-/AOh14GgxK0y1Y-W44vjnQC53Ak8_BakmvjpvLobUMJWbWQ=s64",
      "userId": "09835133420012498824"
     },
     "user_tz": 300
    },
    "id": "_cXetOQXBQS3"
   },
   "outputs": [],
   "source": [
    "%matplotlib inline\n",
    "np.set_printoptions(precision=3, suppress=True)"
   ]
  },
  {
   "cell_type": "markdown",
   "metadata": {
    "id": "yIDm78WyBQS3"
   },
   "source": [
    "### Verify TensorFlow Version and Keras Version"
   ]
  },
  {
   "cell_type": "code",
   "execution_count": 3,
   "metadata": {
    "colab": {
     "base_uri": "https://localhost:8080/"
    },
    "executionInfo": {
     "elapsed": 3417,
     "status": "ok",
     "timestamp": 1607096051756,
     "user": {
      "displayName": "Daniel Jensen",
      "photoUrl": "https://lh3.googleusercontent.com/a-/AOh14GgxK0y1Y-W44vjnQC53Ak8_BakmvjpvLobUMJWbWQ=s64",
      "userId": "09835133420012498824"
     },
     "user_tz": 300
    },
    "id": "Z54Ct2ouBQS3",
    "outputId": "256b05ee-2509-4599-dadd-766540bbe0ee"
   },
   "outputs": [
    {
     "name": "stdout",
     "output_type": "stream",
     "text": [
      "This notebook requires TensorFlow 2.0 or above\n",
      "TensorFlow version:  2.3.0\n"
     ]
    }
   ],
   "source": [
    "print(\"This notebook requires TensorFlow 2.0 or above\")\n",
    "print(\"TensorFlow version: \", tf.__version__)\n",
    "assert version.parse(tf.__version__).release[0] >=2"
   ]
  },
  {
   "cell_type": "code",
   "execution_count": 4,
   "metadata": {
    "colab": {
     "base_uri": "https://localhost:8080/"
    },
    "executionInfo": {
     "elapsed": 3408,
     "status": "ok",
     "timestamp": 1607096051756,
     "user": {
      "displayName": "Daniel Jensen",
      "photoUrl": "https://lh3.googleusercontent.com/a-/AOh14GgxK0y1Y-W44vjnQC53Ak8_BakmvjpvLobUMJWbWQ=s64",
      "userId": "09835133420012498824"
     },
     "user_tz": 300
    },
    "id": "3dgj2RJnBQS6",
    "outputId": "bfe16c45-08cc-4dbf-ae84-4380aa9f3c0f"
   },
   "outputs": [
    {
     "name": "stdout",
     "output_type": "stream",
     "text": [
      "Keras version:  2.4.0\n"
     ]
    }
   ],
   "source": [
    "print(\"Keras version: \", keras.__version__)"
   ]
  },
  {
   "cell_type": "markdown",
   "metadata": {
    "id": "L2zXOmrvBQS6"
   },
   "source": [
    "<div class=\"alert alert-block alert-info\">\n",
    "    <b>Suppress warning messages</b></div>"
   ]
  },
  {
   "cell_type": "code",
   "execution_count": 5,
   "metadata": {
    "executionInfo": {
     "elapsed": 3403,
     "status": "ok",
     "timestamp": 1607096051757,
     "user": {
      "displayName": "Daniel Jensen",
      "photoUrl": "https://lh3.googleusercontent.com/a-/AOh14GgxK0y1Y-W44vjnQC53Ak8_BakmvjpvLobUMJWbWQ=s64",
      "userId": "09835133420012498824"
     },
     "user_tz": 300
    },
    "id": "EoQfl0PlBQS6"
   },
   "outputs": [],
   "source": [
    "def warn(*args, **kwargs):\n",
    "    pass\n",
    "import warnings\n",
    "warnings.warn = warn"
   ]
  },
  {
   "cell_type": "markdown",
   "metadata": {
    "id": "ApjAZzsZBQS6"
   },
   "source": [
    "### Mount Google Drive to Colab Enviorment"
   ]
  },
  {
   "cell_type": "code",
   "execution_count": 6,
   "metadata": {
    "colab": {
     "base_uri": "https://localhost:8080/"
    },
    "executionInfo": {
     "elapsed": 35781,
     "status": "ok",
     "timestamp": 1607096084145,
     "user": {
      "displayName": "Daniel Jensen",
      "photoUrl": "https://lh3.googleusercontent.com/a-/AOh14GgxK0y1Y-W44vjnQC53Ak8_BakmvjpvLobUMJWbWQ=s64",
      "userId": "09835133420012498824"
     },
     "user_tz": 300
    },
    "id": "UqJfFzLIBQS6",
    "outputId": "3bca84ad-f098-42ba-fee9-4d49e7db0c20"
   },
   "outputs": [
    {
     "name": "stdout",
     "output_type": "stream",
     "text": [
      "Mounted at /content/gdrive\n"
     ]
    }
   ],
   "source": [
    "from google.colab import drive\n",
    "drive.mount('/content/gdrive')"
   ]
  },
  {
   "cell_type": "markdown",
   "metadata": {
    "id": "m2smn4LPBQS6"
   },
   "source": [
    "## Loading cifar10 Dataset\n",
    "\n",
    "The CIFAR-10 dataset consists of 60000 32x32 colour images in 10 classes, with 6000 images per class. There are 50000 training images and 10000 test images.<br>\n",
    "\n",
    "The dataset is divided into five training batches and one test batch, each with 10000 images. The test batch contains exactly 1000 randomly-selected images from each class. The training batches contain the remaining images in random order, but some training batches may contain more images from one class than another. Between them, the training batches contain exactly 5000 images from each class.\n"
   ]
  },
  {
   "cell_type": "code",
   "execution_count": 7,
   "metadata": {
    "colab": {
     "base_uri": "https://localhost:8080/"
    },
    "executionInfo": {
     "elapsed": 39895,
     "status": "ok",
     "timestamp": 1607096088268,
     "user": {
      "displayName": "Daniel Jensen",
      "photoUrl": "https://lh3.googleusercontent.com/a-/AOh14GgxK0y1Y-W44vjnQC53Ak8_BakmvjpvLobUMJWbWQ=s64",
      "userId": "09835133420012498824"
     },
     "user_tz": 300
    },
    "id": "thzn80jMBQS6",
    "outputId": "dd8aea3c-af14-439c-f8ae-6fd7f382ba27"
   },
   "outputs": [
    {
     "name": "stdout",
     "output_type": "stream",
     "text": [
      "Downloading data from https://www.cs.toronto.edu/~kriz/cifar-10-python.tar.gz\n",
      "170500096/170498071 [==============================] - 2s 0us/step\n"
     ]
    }
   ],
   "source": [
    "(train_images, train_labels),(test_images, test_labels)= tf.keras.datasets.cifar10.load_data()"
   ]
  },
  {
   "cell_type": "markdown",
   "metadata": {
    "id": "L1nXyX8xBQS6"
   },
   "source": [
    "* Tuple of Numpy arrays: (x_train, y_train), (x_test, y_test).\n",
    "* x_train, x_test: uint8 arrays of color image data with shapes (num_samples, 32, 32).\n",
    "* y_train, y_test: uint8 arrays of digit labels (integers in range 0-9)"
   ]
  },
  {
   "cell_type": "markdown",
   "metadata": {
    "id": "0qXkOUboBQS6"
   },
   "source": [
    "## EDA Training and Test Datasets\n",
    "\n",
    "* Imported 50000 examples for training and 10000 examples for test \n",
    "* Imported 50000 labels for training and 10000 labels for test "
   ]
  },
  {
   "cell_type": "code",
   "execution_count": 8,
   "metadata": {
    "colab": {
     "base_uri": "https://localhost:8080/"
    },
    "executionInfo": {
     "elapsed": 40374,
     "status": "ok",
     "timestamp": 1607096088763,
     "user": {
      "displayName": "Daniel Jensen",
      "photoUrl": "https://lh3.googleusercontent.com/a-/AOh14GgxK0y1Y-W44vjnQC53Ak8_BakmvjpvLobUMJWbWQ=s64",
      "userId": "09835133420012498824"
     },
     "user_tz": 300
    },
    "id": "un0LuWX2BQS7",
    "outputId": "b9b20c69-1409-45ae-b42e-22e98dd6152c"
   },
   "outputs": [
    {
     "name": "stdout",
     "output_type": "stream",
     "text": [
      "train_images:\t(50000, 32, 32, 3)\n",
      "train_labels:\t(50000, 1)\n",
      "test_images:\t\t(10000, 32, 32, 3)\n",
      "test_labels:\t\t(10000, 1)\n"
     ]
    }
   ],
   "source": [
    "print('train_images:\\t{}'.format(train_images.shape))\n",
    "print('train_labels:\\t{}'.format(train_labels.shape))\n",
    "print('test_images:\\t\\t{}'.format(test_images.shape))\n",
    "print('test_labels:\\t\\t{}'.format(test_labels.shape))"
   ]
  },
  {
   "cell_type": "markdown",
   "metadata": {
    "id": "tDL-RelMBQS7"
   },
   "source": [
    "### Review labels for training dataset"
   ]
  },
  {
   "cell_type": "code",
   "execution_count": 9,
   "metadata": {
    "colab": {
     "base_uri": "https://localhost:8080/"
    },
    "executionInfo": {
     "elapsed": 40542,
     "status": "ok",
     "timestamp": 1607096088948,
     "user": {
      "displayName": "Daniel Jensen",
      "photoUrl": "https://lh3.googleusercontent.com/a-/AOh14GgxK0y1Y-W44vjnQC53Ak8_BakmvjpvLobUMJWbWQ=s64",
      "userId": "09835133420012498824"
     },
     "user_tz": 300
    },
    "id": "L_gEoattBQS7",
    "outputId": "954135f9-f53b-4b0d-a31e-8a10d51a8d27"
   },
   "outputs": [
    {
     "name": "stdout",
     "output_type": "stream",
     "text": [
      "First ten labels training dataset:\n",
      " [[6]\n",
      " [9]\n",
      " [9]\n",
      " [4]\n",
      " [1]\n",
      " [1]\n",
      " [2]\n",
      " [7]\n",
      " [8]\n",
      " [3]]\n",
      "\n",
      "This output the numeric label, need to convert to item description\n"
     ]
    }
   ],
   "source": [
    "print(\"First ten labels training dataset:\\n {}\\n\".format(train_labels[0:10]))\n",
    "print(\"This output the numeric label, need to convert to item description\")"
   ]
  },
  {
   "cell_type": "markdown",
   "metadata": {
    "id": "Fpba3_-nBQS7"
   },
   "source": [
    "### Plot Examples"
   ]
  },
  {
   "cell_type": "code",
   "execution_count": 10,
   "metadata": {
    "executionInfo": {
     "elapsed": 40538,
     "status": "ok",
     "timestamp": 1607096088949,
     "user": {
      "displayName": "Daniel Jensen",
      "photoUrl": "https://lh3.googleusercontent.com/a-/AOh14GgxK0y1Y-W44vjnQC53Ak8_BakmvjpvLobUMJWbWQ=s64",
      "userId": "09835133420012498824"
     },
     "user_tz": 300
    },
    "id": "JSoJySfUBQS7"
   },
   "outputs": [],
   "source": [
    "def get_three_classes(x, y):\n",
    "    def indices_of(class_id):\n",
    "        indices, _ = np.where(y == float(class_id))\n",
    "        return indices\n",
    "\n",
    "    indices = np.concatenate([indices_of(0), indices_of(1), indices_of(2)], axis=0)\n",
    "    \n",
    "    x = x[indices]\n",
    "    y = y[indices]\n",
    "    \n",
    "    count = x.shape[0]\n",
    "    indices = np.random.choice(range(count), count, replace=False)\n",
    "    \n",
    "    x = x[indices]\n",
    "    y = y[indices]\n",
    "    \n",
    "    y = tf.keras.utils.to_categorical(y)\n",
    "    \n",
    "    return x, y"
   ]
  },
  {
   "cell_type": "code",
   "execution_count": 11,
   "metadata": {
    "executionInfo": {
     "elapsed": 41060,
     "status": "ok",
     "timestamp": 1607096089477,
     "user": {
      "displayName": "Daniel Jensen",
      "photoUrl": "https://lh3.googleusercontent.com/a-/AOh14GgxK0y1Y-W44vjnQC53Ak8_BakmvjpvLobUMJWbWQ=s64",
      "userId": "09835133420012498824"
     },
     "user_tz": 300
    },
    "id": "E-OB0cAWBQS7"
   },
   "outputs": [],
   "source": [
    "(x_train, y_train), (x_test, y_test) = tf.keras.datasets.cifar10.load_data()"
   ]
  },
  {
   "cell_type": "code",
   "execution_count": 12,
   "metadata": {
    "executionInfo": {
     "elapsed": 41182,
     "status": "ok",
     "timestamp": 1607096089605,
     "user": {
      "displayName": "Daniel Jensen",
      "photoUrl": "https://lh3.googleusercontent.com/a-/AOh14GgxK0y1Y-W44vjnQC53Ak8_BakmvjpvLobUMJWbWQ=s64",
      "userId": "09835133420012498824"
     },
     "user_tz": 300
    },
    "id": "w4JdRKm5BQS7"
   },
   "outputs": [],
   "source": [
    "x_preview, y_preview = get_three_classes(x_train, y_train)\n",
    "x_preview, y_preview = get_three_classes(x_test, y_test)"
   ]
  },
  {
   "cell_type": "code",
   "execution_count": 13,
   "metadata": {
    "colab": {
     "base_uri": "https://localhost:8080/",
     "height": 288
    },
    "executionInfo": {
     "elapsed": 41599,
     "status": "ok",
     "timestamp": 1607096090038,
     "user": {
      "displayName": "Daniel Jensen",
      "photoUrl": "https://lh3.googleusercontent.com/a-/AOh14GgxK0y1Y-W44vjnQC53Ak8_BakmvjpvLobUMJWbWQ=s64",
      "userId": "09835133420012498824"
     },
     "user_tz": 300
    },
    "id": "PrUAgX78BQS8",
    "outputId": "fabeb101-7277-443a-9351-6727a891f5ab"
   },
   "outputs": [
    {
     "data": {
      "image/png": "[encoded data removed]",
      "text/plain": [
       "<Figure size 720x360 with 10 Axes>"
      ]
     },
     "metadata": {
      "tags": []
     },
     "output_type": "display_data"
    }
   ],
   "source": [
    "class_names_preview = ['aeroplane', 'car', 'bird']\n",
    "\n",
    "def show_random_examples(x, y, p):\n",
    "    indices = np.random.choice(range(x.shape[0]), 10, replace=False)\n",
    "    \n",
    "    x = x[indices]\n",
    "    y = y[indices]\n",
    "    p = p[indices]\n",
    "    \n",
    "    plt.figure(figsize=(10, 5))\n",
    "    for i in range(10):\n",
    "        plt.subplot(2, 5, i + 1)\n",
    "        plt.imshow(x[i])\n",
    "        plt.xticks([])\n",
    "        plt.yticks([])\n",
    "        col = 'green' if np.argmax(y[i]) == np.argmax(p[i]) else 'red'\n",
    "        plt.xlabel(class_names_preview[np.argmax(p[i])], color=col)\n",
    "    plt.show()\n",
    "\n",
    "show_random_examples(x_preview, y_preview, y_preview)"
   ]
  },
  {
   "cell_type": "markdown",
   "metadata": {
    "id": "rjdk5-jvBQS8"
   },
   "source": [
    "### Random Review of Examples "
   ]
  },
  {
   "cell_type": "code",
   "execution_count": 14,
   "metadata": {
    "colab": {
     "base_uri": "https://localhost:8080/",
     "height": 288
    },
    "executionInfo": {
     "elapsed": 41772,
     "status": "ok",
     "timestamp": 1607096090226,
     "user": {
      "displayName": "Daniel Jensen",
      "photoUrl": "https://lh3.googleusercontent.com/a-/AOh14GgxK0y1Y-W44vjnQC53Ak8_BakmvjpvLobUMJWbWQ=s64",
      "userId": "09835133420012498824"
     },
     "user_tz": 300
    },
    "id": "P-JkYdP9BQS8",
    "outputId": "b2368403-b5bd-47f5-f741-45d63a990eae"
   },
   "outputs": [
    {
     "data": {
      "image/png": "[encoded data removed]",
      "text/plain": [
       "<Figure size 720x360 with 10 Axes>"
      ]
     },
     "metadata": {
      "tags": []
     },
     "output_type": "display_data"
    }
   ],
   "source": [
    "show_random_examples(x_preview, y_preview, y_preview)"
   ]
  },
  {
   "cell_type": "markdown",
   "metadata": {
    "id": "zmOULZ_8BQS8"
   },
   "source": [
    "## Preprocessing Data for Model Development"
   ]
  },
  {
   "cell_type": "markdown",
   "metadata": {
    "id": "fWrM9M7tBQS9"
   },
   "source": [
    "The labels are an array of integers, ranging from 0 to 9. These correspond to the class of clothing the image represents:\n",
    "\n",
    "|Label  |Class_  |\n",
    "|-------|--------|\n",
    "|0|\tairplane     |\n",
    "|1|\tautomobile   |\n",
    "|2|\tbird         |\n",
    "|3|\tcat          |\n",
    "|4|\tdeer         |\n",
    "|5|\tdog          |\n",
    "|6|\tfrog         |\n",
    "|7|\thorse        |\n",
    "|8|\tship         |\n",
    "|9|\ttruck        |"
   ]
  },
  {
   "cell_type": "code",
   "execution_count": 15,
   "metadata": {
    "executionInfo": {
     "elapsed": 41769,
     "status": "ok",
     "timestamp": 1607096090228,
     "user": {
      "displayName": "Daniel Jensen",
      "photoUrl": "https://lh3.googleusercontent.com/a-/AOh14GgxK0y1Y-W44vjnQC53Ak8_BakmvjpvLobUMJWbWQ=s64",
      "userId": "09835133420012498824"
     },
     "user_tz": 300
    },
    "id": "0pOir5__BQS9"
   },
   "outputs": [],
   "source": [
    "class_names = [['airplane'\n",
    ",'automobile'\n",
    ",'bird'\n",
    ",'cat'\n",
    ",'deer'\n",
    ",'dog'\n",
    ",'frog' \n",
    ",'horse'\n",
    ",'ship'\n",
    ",'truck']]"
   ]
  },
  {
   "cell_type": "markdown",
   "metadata": {
    "id": "f1Bc7VFlBQS9"
   },
   "source": [
    "### Preprocessing the Examples\n",
    " The images are 28x28 NumPy arrays, with pixel values ranging from 0 to 255.\n",
    " "
   ]
  },
  {
   "cell_type": "markdown",
   "metadata": {
    "id": "83IzVivSBQS9"
   },
   "source": [
    "1. Each element in each example is a pixel value\n",
    "2. Pixel values range from 0 to 255\n",
    "3. 0 = black\n",
    "4. 255 = white"
   ]
  },
  {
   "cell_type": "code",
   "execution_count": 16,
   "metadata": {
    "executionInfo": {
     "elapsed": 42729,
     "status": "ok",
     "timestamp": 1607096091194,
     "user": {
      "displayName": "Daniel Jensen",
      "photoUrl": "https://lh3.googleusercontent.com/a-/AOh14GgxK0y1Y-W44vjnQC53Ak8_BakmvjpvLobUMJWbWQ=s64",
      "userId": "09835133420012498824"
     },
     "user_tz": 300
    },
    "id": "42FmtjcVBQS9"
   },
   "outputs": [],
   "source": [
    "train_images_norm = train_images.astype('float32')/255.\n",
    "test_images_norm = test_images.astype('float32')/255."
   ]
  },
  {
   "cell_type": "code",
   "execution_count": 17,
   "metadata": {
    "colab": {
     "base_uri": "https://localhost:8080/"
    },
    "executionInfo": {
     "elapsed": 42727,
     "status": "ok",
     "timestamp": 1607096091206,
     "user": {
      "displayName": "Daniel Jensen",
      "photoUrl": "https://lh3.googleusercontent.com/a-/AOh14GgxK0y1Y-W44vjnQC53Ak8_BakmvjpvLobUMJWbWQ=s64",
      "userId": "09835133420012498824"
     },
     "user_tz": 300
    },
    "id": "nNBnEiGXBQS9",
    "outputId": "0a70a5b3-086e-4fe2-9425-dc3b5dafd720"
   },
   "outputs": [
    {
     "data": {
      "text/plain": [
       "((50000, 32, 32, 3), (10000, 32, 32, 3))"
      ]
     },
     "execution_count": 17,
     "metadata": {
      "tags": []
     },
     "output_type": "execute_result"
    }
   ],
   "source": [
    "train_images_norm.shape, test_images_norm.shape"
   ]
  },
  {
   "cell_type": "markdown",
   "metadata": {
    "id": "DIBw_FpHBQS9"
   },
   "source": [
    "## Validating our approach\n",
    "\n",
    "10,000 samples of our training data to use as a validation set. "
   ]
  },
  {
   "cell_type": "code",
   "execution_count": 18,
   "metadata": {
    "executionInfo": {
     "elapsed": 42725,
     "status": "ok",
     "timestamp": 1607096091210,
     "user": {
      "displayName": "Daniel Jensen",
      "photoUrl": "https://lh3.googleusercontent.com/a-/AOh14GgxK0y1Y-W44vjnQC53Ak8_BakmvjpvLobUMJWbWQ=s64",
      "userId": "09835133420012498824"
     },
     "user_tz": 300
    },
    "id": "3O46PLZ_BQS9"
   },
   "outputs": [],
   "source": [
    "val_images_norm, train_images_norm = train_images_norm[:10000], train_images_norm[10000:] \n",
    "val_labels, train_labels = train_labels[:10000], train_labels[10000:]"
   ]
  },
  {
   "cell_type": "code",
   "execution_count": 19,
   "metadata": {
    "colab": {
     "base_uri": "https://localhost:8080/"
    },
    "executionInfo": {
     "elapsed": 42708,
     "status": "ok",
     "timestamp": 1607096091211,
     "user": {
      "displayName": "Daniel Jensen",
      "photoUrl": "https://lh3.googleusercontent.com/a-/AOh14GgxK0y1Y-W44vjnQC53Ak8_BakmvjpvLobUMJWbWQ=s64",
      "userId": "09835133420012498824"
     },
     "user_tz": 300
    },
    "id": "tVeC1hPGBQS9",
    "outputId": "93ea8901-5279-47fb-f463-549d782986d6"
   },
   "outputs": [
    {
     "data": {
      "text/plain": [
       "((10000, 32, 32, 3), (10000, 1))"
      ]
     },
     "execution_count": 19,
     "metadata": {
      "tags": []
     },
     "output_type": "execute_result"
    }
   ],
   "source": [
    "val_images_norm.shape, val_labels.shape"
   ]
  },
  {
   "cell_type": "code",
   "execution_count": 20,
   "metadata": {
    "colab": {
     "base_uri": "https://localhost:8080/"
    },
    "executionInfo": {
     "elapsed": 42690,
     "status": "ok",
     "timestamp": 1607096091212,
     "user": {
      "displayName": "Daniel Jensen",
      "photoUrl": "https://lh3.googleusercontent.com/a-/AOh14GgxK0y1Y-W44vjnQC53Ak8_BakmvjpvLobUMJWbWQ=s64",
      "userId": "09835133420012498824"
     },
     "user_tz": 300
    },
    "id": "LJUZ31c5BQS9",
    "outputId": "71f3ee33-19d3-4be0-8c58-7c91ea77a3b3"
   },
   "outputs": [
    {
     "data": {
      "text/plain": [
       "((40000, 32, 32, 3), (40000, 1))"
      ]
     },
     "execution_count": 20,
     "metadata": {
      "tags": []
     },
     "output_type": "execute_result"
    }
   ],
   "source": [
    "train_images_norm.shape, train_labels.shape"
   ]
  },
  {
   "cell_type": "markdown",
   "metadata": {
    "id": "SMrBHqFDBQS-"
   },
   "source": [
    "## Create the Model"
   ]
  },
  {
   "cell_type": "markdown",
   "metadata": {
    "id": "rDy9MDMEBQS-"
   },
   "source": [
    "<img src=\"https://github.com/djp840/MSDS_458_Public/blob/master/images/CNN_architecture_v4.png?raw=1\">\n"
   ]
  },
  {
   "cell_type": "markdown",
   "metadata": {
    "id": "ZQksDxFtBQS-"
   },
   "source": [
    "### Build CNN Model"
   ]
  },
  {
   "cell_type": "markdown",
   "metadata": {
    "id": "kUAXSso3BQS-"
   },
   "source": [
    "We use a Sequential class defined in Keras to create our model. The first 4 layers Conv2D and MaxPooling handle feature learning.  The last 3 layers, handle classification.  "
   ]
  },
  {
   "cell_type": "code",
   "execution_count": 21,
   "metadata": {
    "executionInfo": {
     "elapsed": 42800,
     "status": "ok",
     "timestamp": 1607096091329,
     "user": {
      "displayName": "Daniel Jensen",
      "photoUrl": "https://lh3.googleusercontent.com/a-/AOh14GgxK0y1Y-W44vjnQC53Ak8_BakmvjpvLobUMJWbWQ=s64",
      "userId": "09835133420012498824"
     },
     "user_tz": 300
    },
    "id": "s8pXP2OxBQS-"
   },
   "outputs": [],
   "source": [
    "model = models.Sequential()\n",
    "model.add(layers.Conv2D(filters=256, kernel_size=(3, 3), strides=(1, 1), activation=tf.nn.relu, input_shape=(32, 32, 3)))\n",
    "model.add(layers.MaxPooling2D((2, 2),strides=2))\n",
    "model.add(layers.Conv2D(filters=512, kernel_size=(3, 3), strides=(1, 1), activation=tf.nn.relu))\n",
    "model.add(layers.MaxPooling2D(pool_size=(2, 2),strides=2))\n",
    "model.add(layers.Conv2D(filters=1024, kernel_size=(3, 3), strides=(1, 1), activation=tf.nn.relu))\n",
    "model.add(layers.MaxPooling2D(pool_size=(2, 2),strides=2))\n",
    "model.add(layers.Flatten())\n",
    "model.add(layers.Dense(units=512, activation=tf.nn.relu))\n",
    "model.add(layers.Dense(units=10, activation=tf.nn.softmax))"
   ]
  },
  {
   "cell_type": "code",
   "execution_count": 22,
   "metadata": {
    "colab": {
     "base_uri": "https://localhost:8080/"
    },
    "executionInfo": {
     "elapsed": 42782,
     "status": "ok",
     "timestamp": 1607096091330,
     "user": {
      "displayName": "Daniel Jensen",
      "photoUrl": "https://lh3.googleusercontent.com/a-/AOh14GgxK0y1Y-W44vjnQC53Ak8_BakmvjpvLobUMJWbWQ=s64",
      "userId": "09835133420012498824"
     },
     "user_tz": 300
    },
    "id": "9-sVZXeoBQS-",
    "outputId": "d617ee21-bb3b-410b-d60f-0213704ab457"
   },
   "outputs": [
    {
     "name": "stdout",
     "output_type": "stream",
     "text": [
      "Model: \"sequential\"\n",
      "_________________________________________________________________\n",
      "Layer (type)                 Output Shape              Param #   \n",
      "=================================================================\n",
      "conv2d (Conv2D)              (None, 30, 30, 256)       7168      \n",
      "_________________________________________________________________\n",
      "max_pooling2d (MaxPooling2D) (None, 15, 15, 256)       0         \n",
      "_________________________________________________________________\n",
      "conv2d_1 (Conv2D)            (None, 13, 13, 512)       1180160   \n",
      "_________________________________________________________________\n",
      "max_pooling2d_1 (MaxPooling2 (None, 6, 6, 512)         0         \n",
      "_________________________________________________________________\n",
      "conv2d_2 (Conv2D)            (None, 4, 4, 1024)        4719616   \n",
      "_________________________________________________________________\n",
      "max_pooling2d_2 (MaxPooling2 (None, 2, 2, 1024)        0         \n",
      "_________________________________________________________________\n",
      "flatten (Flatten)            (None, 4096)              0         \n",
      "_________________________________________________________________\n",
      "dense (Dense)                (None, 512)               2097664   \n",
      "_________________________________________________________________\n",
      "dense_1 (Dense)              (None, 10)                5130      \n",
      "=================================================================\n",
      "Total params: 8,009,738\n",
      "Trainable params: 8,009,738\n",
      "Non-trainable params: 0\n",
      "_________________________________________________________________\n"
     ]
    }
   ],
   "source": [
    "model.summary()"
   ]
  },
  {
   "cell_type": "code",
   "execution_count": 23,
   "metadata": {
    "colab": {
     "base_uri": "https://localhost:8080/",
     "height": 1000
    },
    "executionInfo": {
     "elapsed": 43133,
     "status": "ok",
     "timestamp": 1607096091697,
     "user": {
      "displayName": "Daniel Jensen",
      "photoUrl": "https://lh3.googleusercontent.com/a-/AOh14GgxK0y1Y-W44vjnQC53Ak8_BakmvjpvLobUMJWbWQ=s64",
      "userId": "09835133420012498824"
     },
     "user_tz": 300
    },
    "id": "04XBVY0pBQS-",
    "outputId": "e484cd54-3bb4-4ba1-e8af-8d22b25b5701",
    "scrolled": false
   },
   "outputs": [
    {
     "data": {
      "image/png": "[encoded data removed]",
      "text/plain": [
       "<IPython.core.display.Image object>"
      ]
     },
     "execution_count": 23,
     "metadata": {
      "tags": []
     },
     "output_type": "execute_result"
    }
   ],
   "source": [
    "keras.utils.plot_model(model, \"CIFAR10.png\", show_shapes=True) "
   ]
  },
  {
   "cell_type": "markdown",
   "metadata": {
    "id": "dTfZ8L55BQS-"
   },
   "source": [
    "### Compiling the model"
   ]
  },
  {
   "cell_type": "markdown",
   "metadata": {
    "id": "uNsQ6Qb-BQS-"
   },
   "source": [
    "In addition to setting up our model architecture, we also need to define which algorithm should the model use in order to optimize the weights and biases as per the given data. We will use stochastic gradient descent.\n",
    "\n",
    "We also need to define a loss function. Think of this function as the difference between the predicted outputs and the actual outputs given in the dataset. This loss needs to be minimised in order to have a higher model accuracy. That's what the optimization algorithm essentially does - it minimises the loss during model training. For our multi-class classification problem, categorical cross entropy is commonly used.\n",
    "\n",
    "Finally, we will use the accuracy during training as a metric to keep track of as the model trains."
   ]
  },
  {
   "cell_type": "markdown",
   "metadata": {
    "id": "kPIeG65BT_0R"
   },
   "source": [
    "<div class=\"alert alert-block alert-info\">\n",
    "<b>tf.keras.losses.SparseCategoricalCrossentropy</b><br>\n",
    "https://www.tensorflow.org/api_docs/python/tf/keras/losses/SparseCategoricalCrossentropy</div>"
   ]
  },
  {
   "cell_type": "code",
   "execution_count": 43,
   "metadata": {
    "executionInfo": {
     "elapsed": 233,
     "status": "ok",
     "timestamp": 1607098993232,
     "user": {
      "displayName": "Daniel Jensen",
      "photoUrl": "https://lh3.googleusercontent.com/a-/AOh14GgxK0y1Y-W44vjnQC53Ak8_BakmvjpvLobUMJWbWQ=s64",
      "userId": "09835133420012498824"
     },
     "user_tz": 300
    },
    "id": "nizhoIobBQS-"
   },
   "outputs": [],
   "source": [
    "model.compile(optimizer='adam',\n",
    "              loss=tf.keras.losses.SparseCategoricalCrossentropy(from_logits=False),\n",
    "              metrics=['accuracy'])"
   ]
  },
  {
   "cell_type": "markdown",
   "metadata": {
    "id": "r5ZMEIgVBQS-"
   },
   "source": [
    "## Training the model"
   ]
  },
  {
   "cell_type": "markdown",
   "metadata": {
    "id": "X71tbaZaT_0R"
   },
   "source": [
    "<div class=\"alert alert-block alert-success\">\n",
    "    <b>Module: tf.keras.callbacks</b></div>"
   ]
  },
  {
   "cell_type": "markdown",
   "metadata": {
    "id": "m88yYO0qT_0R"
   },
   "source": [
    "<div class=\"alert alert-block alert-info\">\n",
    "<b>tf.keras.callbacks.EarlyStopping</b><br>\n",
    "https://www.tensorflow.org/api_docs/python/tf/keras/callbacks/EarlyStopping</div>"
   ]
  },
  {
   "cell_type": "markdown",
   "metadata": {
    "id": "-08cH7qgT_0R"
   },
   "source": [
    "<div class=\"alert alert-block alert-info\">\n",
    "<b>tf.keras.callbacks.ModelCheckpoint</b><br>\n",
    "https://www.tensorflow.org/api_docs/python/tf/keras/callbacks/ModelCheckpoint</div>"
   ]
  },
  {
   "cell_type": "code",
   "execution_count": 44,
   "metadata": {
    "colab": {
     "base_uri": "https://localhost:8080/"
    },
    "executionInfo": {
     "elapsed": 907908,
     "status": "ok",
     "timestamp": 1607099903631,
     "user": {
      "displayName": "Daniel Jensen",
      "photoUrl": "https://lh3.googleusercontent.com/a-/AOh14GgxK0y1Y-W44vjnQC53Ak8_BakmvjpvLobUMJWbWQ=s64",
      "userId": "09835133420012498824"
     },
     "user_tz": 300
    },
    "id": "JF67tVFKBQS-",
    "outputId": "dae3fa99-40b1-471d-f384-6ba66c6463dd"
   },
   "outputs": [
    {
     "name": "stdout",
     "output_type": "stream",
     "text": [
      "Epoch 1/200\n",
      "79/79 [==============================] - 213s 3s/step - loss: 0.6495 - accuracy: 0.8561 - val_loss: 0.7840 - val_accuracy: 0.7474\n",
      "Epoch 2/200\n",
      "79/79 [==============================] - 223s 3s/step - loss: 0.3889 - accuracy: 0.8996 - val_loss: 0.7752 - val_accuracy: 0.7537\n",
      "Epoch 3/200\n",
      "79/79 [==============================] - 226s 3s/step - loss: 0.2721 - accuracy: 0.9242 - val_loss: 0.8323 - val_accuracy: 0.7468\n",
      "Epoch 4/200\n",
      "79/79 [==============================] - 234s 3s/step - loss: 0.1767 - accuracy: 0.9500 - val_loss: 0.9341 - val_accuracy: 0.7428\n"
     ]
    }
   ],
   "source": [
    "history = model.fit(train_images_norm\n",
    "                    ,train_labels\n",
    "                    ,epochs=200\n",
    "                    ,batch_size=512\n",
    "                    ,validation_data=(val_images_norm,val_labels)\n",
    "                    ,callbacks=[\n",
    "                    tf.keras.callbacks.EarlyStopping(monitor='val_accuracy', patience=2),\n",
    "                    tf.keras.callbacks.ModelCheckpoint('/content/gdrive/My Drive/Colab Notebooks/model_{val_accuracy:.4f}.h5', save_best_only=True,\n",
    "                                        save_weights_only=False, monitor='val_accuracy')]                                                                                                           \n",
    "                   )"
   ]
  },
  {
   "cell_type": "markdown",
   "metadata": {
    "id": "bfvsmiZ1BQS_"
   },
   "source": [
    "### Validation Data\n",
    "Data on which to evaluate the loss and any model metrics at the end of each epoch<br>\n",
    "The model will not be trained on this data"
   ]
  },
  {
   "cell_type": "markdown",
   "metadata": {
    "id": "Y8bj0gb4BQS_"
   },
   "source": [
    "## Evaluate the model"
   ]
  },
  {
   "cell_type": "markdown",
   "metadata": {
    "id": "fCENqAxPBQS_"
   },
   "source": [
    "In order to ensure that this is not a simple \"memorization\" by the machine, we should evaluate the performance on the test set. This is easy to do, we simply use the `evaluate` method on our model."
   ]
  },
  {
   "cell_type": "code",
   "execution_count": 45,
   "metadata": {
    "colab": {
     "base_uri": "https://localhost:8080/"
    },
    "executionInfo": {
     "elapsed": 8425,
     "status": "ok",
     "timestamp": 1607099996004,
     "user": {
      "displayName": "Daniel Jensen",
      "photoUrl": "https://lh3.googleusercontent.com/a-/AOh14GgxK0y1Y-W44vjnQC53Ak8_BakmvjpvLobUMJWbWQ=s64",
      "userId": "09835133420012498824"
     },
     "user_tz": 300
    },
    "id": "n5ou4G4FBQS_",
    "outputId": "d7e0901e-c029-4117-f95d-c6eb30c7fdd1"
   },
   "outputs": [
    {
     "name": "stdout",
     "output_type": "stream",
     "text": [
      "313/313 [==============================] - 8s 25ms/step - loss: 0.9849 - accuracy: 0.7344\n",
      "test set accuracy:  73.43999743461609\n"
     ]
    }
   ],
   "source": [
    "loss, accuracy = model.evaluate(test_images_norm, test_labels)\n",
    "print('test set accuracy: ', accuracy * 100)"
   ]
  },
  {
   "cell_type": "markdown",
   "metadata": {
    "id": "SnGY6erRBQS_"
   },
   "source": [
    "## Predictions"
   ]
  },
  {
   "cell_type": "code",
   "execution_count": 46,
   "metadata": {
    "colab": {
     "base_uri": "https://localhost:8080/"
    },
    "executionInfo": {
     "elapsed": 7869,
     "status": "ok",
     "timestamp": 1607100006070,
     "user": {
      "displayName": "Daniel Jensen",
      "photoUrl": "https://lh3.googleusercontent.com/a-/AOh14GgxK0y1Y-W44vjnQC53Ak8_BakmvjpvLobUMJWbWQ=s64",
      "userId": "09835133420012498824"
     },
     "user_tz": 300
    },
    "id": "RFDcNklXBQS_",
    "outputId": "1d564cd2-fee0-46a3-dcef-2004b2e0d2f8"
   },
   "outputs": [
    {
     "name": "stdout",
     "output_type": "stream",
     "text": [
      "shape of preds:  (10000, 10)\n"
     ]
    }
   ],
   "source": [
    "preds = model.predict(test_images_norm)\n",
    "print('shape of preds: ', preds.shape)"
   ]
  },
  {
   "cell_type": "markdown",
   "metadata": {
    "id": "Q1dk3sX1BQS_"
   },
   "source": [
    "## Plotting Performance Metrics \n",
    "\n",
    "We use Matplotlib to create 2 plots--displaying the training and validation loss (resp. accuracy) for each (training) epoch side by side."
   ]
  },
  {
   "cell_type": "code",
   "execution_count": 47,
   "metadata": {
    "colab": {
     "base_uri": "https://localhost:8080/"
    },
    "executionInfo": {
     "elapsed": 238,
     "status": "ok",
     "timestamp": 1607100008192,
     "user": {
      "displayName": "Daniel Jensen",
      "photoUrl": "https://lh3.googleusercontent.com/a-/AOh14GgxK0y1Y-W44vjnQC53Ak8_BakmvjpvLobUMJWbWQ=s64",
      "userId": "09835133420012498824"
     },
     "user_tz": 300
    },
    "id": "ROIyEsUtBQS_",
    "outputId": "6cc8fbd9-7b60-4133-a4a7-3352e3357e15"
   },
   "outputs": [
    {
     "data": {
      "text/plain": [
       "dict_keys(['loss', 'accuracy', 'val_loss', 'val_accuracy'])"
      ]
     },
     "execution_count": 47,
     "metadata": {
      "tags": []
     },
     "output_type": "execute_result"
    }
   ],
   "source": [
    "history_dict = history.history\n",
    "history_dict.keys()"
   ]
  },
  {
   "cell_type": "code",
   "execution_count": 48,
   "metadata": {
    "colab": {
     "base_uri": "https://localhost:8080/",
     "height": 162
    },
    "executionInfo": {
     "elapsed": 320,
     "status": "ok",
     "timestamp": 1607100009774,
     "user": {
      "displayName": "Daniel Jensen",
      "photoUrl": "https://lh3.googleusercontent.com/a-/AOh14GgxK0y1Y-W44vjnQC53Ak8_BakmvjpvLobUMJWbWQ=s64",
      "userId": "09835133420012498824"
     },
     "user_tz": 300
    },
    "id": "NxYHCMOlBQS_",
    "outputId": "0e2a67e7-205b-447d-f8ee-e1ff09fde0da"
   },
   "outputs": [
    {
     "data": {
      "text/html": [
       "<div>\n",
       "<style scoped>\n",
       "    .dataframe tbody tr th:only-of-type {\n",
       "        vertical-align: middle;\n",
       "    }\n",
       "\n",
       "    .dataframe tbody tr th {\n",
       "        vertical-align: top;\n",
       "    }\n",
       "\n",
       "    .dataframe thead th {\n",
       "        text-align: right;\n",
       "    }\n",
       "</style>\n",
       "<table border=\"1\" class=\"dataframe\">\n",
       "  <thead>\n",
       "    <tr style=\"text-align: right;\">\n",
       "      <th></th>\n",
       "      <th>loss</th>\n",
       "      <th>accuracy</th>\n",
       "      <th>val_loss</th>\n",
       "      <th>val_accuracy</th>\n",
       "    </tr>\n",
       "  </thead>\n",
       "  <tbody>\n",
       "    <tr>\n",
       "      <th>0</th>\n",
       "      <td>0.649511</td>\n",
       "      <td>0.856075</td>\n",
       "      <td>0.784030</td>\n",
       "      <td>0.7474</td>\n",
       "    </tr>\n",
       "    <tr>\n",
       "      <th>1</th>\n",
       "      <td>0.388867</td>\n",
       "      <td>0.899600</td>\n",
       "      <td>0.775170</td>\n",
       "      <td>0.7537</td>\n",
       "    </tr>\n",
       "    <tr>\n",
       "      <th>2</th>\n",
       "      <td>0.272062</td>\n",
       "      <td>0.924225</td>\n",
       "      <td>0.832328</td>\n",
       "      <td>0.7468</td>\n",
       "    </tr>\n",
       "    <tr>\n",
       "      <th>3</th>\n",
       "      <td>0.176730</td>\n",
       "      <td>0.950025</td>\n",
       "      <td>0.934135</td>\n",
       "      <td>0.7428</td>\n",
       "    </tr>\n",
       "  </tbody>\n",
       "</table>\n",
       "</div>"
      ],
      "text/plain": [
       "       loss  accuracy  val_loss  val_accuracy\n",
       "0  0.649511  0.856075  0.784030        0.7474\n",
       "1  0.388867  0.899600  0.775170        0.7537\n",
       "2  0.272062  0.924225  0.832328        0.7468\n",
       "3  0.176730  0.950025  0.934135        0.7428"
      ]
     },
     "execution_count": 48,
     "metadata": {
      "tags": []
     },
     "output_type": "execute_result"
    }
   ],
   "source": [
    "history_df=pd.DataFrame(history_dict)\n",
    "history_df.tail()"
   ]
  },
  {
   "cell_type": "code",
   "execution_count": 49,
   "metadata": {
    "executionInfo": {
     "elapsed": 192,
     "status": "ok",
     "timestamp": 1607100012088,
     "user": {
      "displayName": "Daniel Jensen",
      "photoUrl": "https://lh3.googleusercontent.com/a-/AOh14GgxK0y1Y-W44vjnQC53Ak8_BakmvjpvLobUMJWbWQ=s64",
      "userId": "09835133420012498824"
     },
     "user_tz": 300
    },
    "id": "d0WufsyEBQS_"
   },
   "outputs": [],
   "source": [
    "losses = history.history['loss']\n",
    "accs = history.history['accuracy']\n",
    "val_losses = history.history['val_loss']\n",
    "val_accs = history.history['val_accuracy']\n",
    "epochs = len(losses)"
   ]
  },
  {
   "cell_type": "code",
   "execution_count": 50,
   "metadata": {
    "colab": {
     "base_uri": "https://localhost:8080/",
     "height": 265
    },
    "executionInfo": {
     "elapsed": 473,
     "status": "ok",
     "timestamp": 1607100013998,
     "user": {
      "displayName": "Daniel Jensen",
      "photoUrl": "https://lh3.googleusercontent.com/a-/AOh14GgxK0y1Y-W44vjnQC53Ak8_BakmvjpvLobUMJWbWQ=s64",
      "userId": "09835133420012498824"
     },
     "user_tz": 300
    },
    "id": "PX_RmAQgBQS_",
    "outputId": "2213d29f-cce3-4e97-b890-221affcd66c1",
    "scrolled": false
   },
   "outputs": [
    {
     "data": {
      "image/png": "[encoded data removed]",
      "text/plain": [
       "<Figure size 1152x288 with 2 Axes>"
      ]
     },
     "metadata": {
      "needs_background": "light",
      "tags": []
     },
     "output_type": "display_data"
    }
   ],
   "source": [
    "plt.figure(figsize=(16, 4))\n",
    "for i, metrics in enumerate(zip([losses, accs], [val_losses, val_accs], ['Loss', 'Accuracy'])):\n",
    "    plt.subplot(1, 2, i + 1)\n",
    "    plt.plot(range(epochs), metrics[0], label='Training {}'.format(metrics[2]))\n",
    "    plt.plot(range(epochs), metrics[1], label='Validation {}'.format(metrics[2]))\n",
    "    plt.legend()\n",
    "plt.show()"
   ]
  },
  {
   "cell_type": "markdown",
   "metadata": {
    "id": "eo4quLxCBQTA"
   },
   "source": [
    "## Creating confusion matrices\n",
    "\n",
    "Let us see what the confusion matrix looks like. Using both `sklearn.metrics`. Then we visualize the confusion matrix and see what that tells us."
   ]
  },
  {
   "cell_type": "markdown",
   "metadata": {
    "id": "GIVWUVh2BQTA"
   },
   "source": [
    "Get the predicted classes"
   ]
  },
  {
   "cell_type": "code",
   "execution_count": 51,
   "metadata": {
    "colab": {
     "base_uri": "https://localhost:8080/"
    },
    "executionInfo": {
     "elapsed": 31112,
     "status": "ok",
     "timestamp": 1607100048897,
     "user": {
      "displayName": "Daniel Jensen",
      "photoUrl": "https://lh3.googleusercontent.com/a-/AOh14GgxK0y1Y-W44vjnQC53Ak8_BakmvjpvLobUMJWbWQ=s64",
      "userId": "09835133420012498824"
     },
     "user_tz": 300
    },
    "id": "7gog1UjgBQTA",
    "outputId": "ca79fd54-44d6-4a3c-95ba-c8be0a4ccb8a"
   },
   "outputs": [
    {
     "data": {
      "text/plain": [
       "array([1, 6, 6, ..., 9, 1, 1])"
      ]
     },
     "execution_count": 51,
     "metadata": {
      "tags": []
     },
     "output_type": "execute_result"
    }
   ],
   "source": [
    "pred_classes = np.argmax(model.predict(train_images_norm), axis=-1)\n",
    "pred_classes"
   ]
  },
  {
   "cell_type": "markdown",
   "metadata": {
    "id": "DFGIarKqBQTA"
   },
   "source": [
    "### Visualizing the confusion matrix"
   ]
  },
  {
   "cell_type": "code",
   "execution_count": 52,
   "metadata": {
    "colab": {
     "base_uri": "https://localhost:8080/"
    },
    "executionInfo": {
     "elapsed": 357,
     "status": "ok",
     "timestamp": 1607100056596,
     "user": {
      "displayName": "Daniel Jensen",
      "photoUrl": "https://lh3.googleusercontent.com/a-/AOh14GgxK0y1Y-W44vjnQC53Ak8_BakmvjpvLobUMJWbWQ=s64",
      "userId": "09835133420012498824"
     },
     "user_tz": 300
    },
    "id": "e8ocOl5iBQTA",
    "outputId": "52c5bf61-62f6-491a-cc9c-591cec6dd719"
   },
   "outputs": [
    {
     "data": {
      "text/plain": [
       "<tf.Tensor: shape=(10, 10), dtype=int32, numpy=\n",
       "array([[3644,    6,  168,   54,   61,   10,   20,    6,   14,   12],\n",
       "       [   3, 3954,    8,    9,    2,    6,    8,    1,    7,   28],\n",
       "       [   4,    0, 3870,   20,   32,   12,   25,    3,    2,    0],\n",
       "       [   1,    0,   25, 3842,   41,   28,   41,    4,    2,    0],\n",
       "       [   2,    0,   13,   12, 3954,    7,   11,    1,    1,    0],\n",
       "       [   0,    0,   20,   68,   45, 3892,   30,    6,    2,    0],\n",
       "       [   1,    1,   12,    5,   17,    5, 3929,    0,    0,    0],\n",
       "       [   1,    0,   18,   21,   43,   21,    9, 3886,    0,    0],\n",
       "       [  11,    3,   10,   15,   15,    5,    9,    0, 3902,    5],\n",
       "       [   5,    9,    8,   15,    7,    3,    9,    0,   12, 3951]],\n",
       "      dtype=int32)>"
      ]
     },
     "execution_count": 52,
     "metadata": {
      "tags": []
     },
     "output_type": "execute_result"
    }
   ],
   "source": [
    "conf_mx = tf.math.confusion_matrix(train_labels, pred_classes)\n",
    "conf_mx"
   ]
  },
  {
   "cell_type": "code",
   "execution_count": 53,
   "metadata": {
    "colab": {
     "base_uri": "https://localhost:8080/",
     "height": 507
    },
    "executionInfo": {
     "elapsed": 389,
     "status": "ok",
     "timestamp": 1607100061958,
     "user": {
      "displayName": "Daniel Jensen",
      "photoUrl": "https://lh3.googleusercontent.com/a-/AOh14GgxK0y1Y-W44vjnQC53Ak8_BakmvjpvLobUMJWbWQ=s64",
      "userId": "09835133420012498824"
     },
     "user_tz": 300
    },
    "id": "s8AA5bHLBQTA",
    "outputId": "0efb9347-b6fe-479e-ea51-3317b292b8d8"
   },
   "outputs": [
    {
     "data": {
      "image/png": "[encoded data removed]",
      "text/plain": [
       "<Figure size 1152x576 with 1 Axes>"
      ]
     },
     "metadata": {
      "needs_background": "light",
      "tags": []
     },
     "output_type": "display_data"
    }
   ],
   "source": [
    "plt.figure(figsize=(16,8))\n",
    "plt.matshow(conf_mx, cmap=plt.cm.Blues,fignum=1)\n",
    "plt.xlabel(\"Predicted Classes\")\n",
    "plt.ylabel(\"Actual Classes\")\n",
    "plt.show()"
   ]
  },
  {
   "cell_type": "markdown",
   "metadata": {
    "id": "7uyMNPRdBQTA"
   },
   "source": [
    "### Load HDF5 Model Format "
   ]
  },
  {
   "cell_type": "markdown",
   "metadata": {
    "id": "PRoYhaAVT_0T"
   },
   "source": [
    "<div class=\"alert alert-block alert-info\">\n",
    "<b>tf.keras.models.load_model</b><br>\n",
    "https://www.tensorflow.org/api_docs/python/tf/keras/models/load_model</div>"
   ]
  },
  {
   "cell_type": "code",
   "execution_count": 56,
   "metadata": {
    "executionInfo": {
     "elapsed": 1886,
     "status": "ok",
     "timestamp": 1607100144510,
     "user": {
      "displayName": "Daniel Jensen",
      "photoUrl": "https://lh3.googleusercontent.com/a-/AOh14GgxK0y1Y-W44vjnQC53Ak8_BakmvjpvLobUMJWbWQ=s64",
      "userId": "09835133420012498824"
     },
     "user_tz": 300
    },
    "id": "QjE3aqniBQTA"
   },
   "outputs": [],
   "source": [
    "model = tf.keras.models.load_model('/content/gdrive/My Drive/Colab Notebooks/msds458/MSDS458_assignment_02b_development/models/model_0.7537.h5')"
   ]
  },
  {
   "cell_type": "code",
   "execution_count": 57,
   "metadata": {
    "executionInfo": {
     "elapsed": 8011,
     "status": "ok",
     "timestamp": 1607100155635,
     "user": {
      "displayName": "Daniel Jensen",
      "photoUrl": "https://lh3.googleusercontent.com/a-/AOh14GgxK0y1Y-W44vjnQC53Ak8_BakmvjpvLobUMJWbWQ=s64",
      "userId": "09835133420012498824"
     },
     "user_tz": 300
    },
    "id": "LzxYqvOVBQTA"
   },
   "outputs": [],
   "source": [
    "preds = model.predict(test_images_norm)"
   ]
  },
  {
   "cell_type": "code",
   "execution_count": 58,
   "metadata": {
    "colab": {
     "base_uri": "https://localhost:8080/"
    },
    "executionInfo": {
     "elapsed": 363,
     "status": "ok",
     "timestamp": 1607100157557,
     "user": {
      "displayName": "Daniel Jensen",
      "photoUrl": "https://lh3.googleusercontent.com/a-/AOh14GgxK0y1Y-W44vjnQC53Ak8_BakmvjpvLobUMJWbWQ=s64",
      "userId": "09835133420012498824"
     },
     "user_tz": 300
    },
    "id": "fOIByBY-BQTA",
    "outputId": "0b46c96b-3944-45b0-88ec-a89da2590187"
   },
   "outputs": [
    {
     "data": {
      "text/plain": [
       "(10000, 10)"
      ]
     },
     "execution_count": 58,
     "metadata": {
      "tags": []
     },
     "output_type": "execute_result"
    }
   ],
   "source": [
    "preds.shape"
   ]
  },
  {
   "cell_type": "code",
   "execution_count": 59,
   "metadata": {
    "colab": {
     "base_uri": "https://localhost:8080/"
    },
    "executionInfo": {
     "elapsed": 204,
     "status": "ok",
     "timestamp": 1607100158912,
     "user": {
      "displayName": "Daniel Jensen",
      "photoUrl": "https://lh3.googleusercontent.com/a-/AOh14GgxK0y1Y-W44vjnQC53Ak8_BakmvjpvLobUMJWbWQ=s64",
      "userId": "09835133420012498824"
     },
     "user_tz": 300
    },
    "id": "zw0iUhGkBQTA",
    "outputId": "127b7304-896e-41a4-f101-1b8529f60069"
   },
   "outputs": [
    {
     "name": "stdout",
     "output_type": "stream",
     "text": [
      "The first predictions\n",
      " [0.052 0.021 0.003 0.872 0.001 0.018 0.003 0.    0.029 0.   ]\n",
      "\n"
     ]
    }
   ],
   "source": [
    "print(\"The first predictions\\n {}\\n\".format(preds[0]))"
   ]
  },
  {
   "cell_type": "code",
   "execution_count": 60,
   "metadata": {
    "colab": {
     "base_uri": "https://localhost:8080/"
    },
    "executionInfo": {
     "elapsed": 223,
     "status": "ok",
     "timestamp": 1607100160697,
     "user": {
      "displayName": "Daniel Jensen",
      "photoUrl": "https://lh3.googleusercontent.com/a-/AOh14GgxK0y1Y-W44vjnQC53Ak8_BakmvjpvLobUMJWbWQ=s64",
      "userId": "09835133420012498824"
     },
     "user_tz": 300
    },
    "id": "Shruj0brBQTA",
    "outputId": "9045e642-fe6a-42d9-d7d3-eecba541aef7"
   },
   "outputs": [
    {
     "name": "stdout",
     "output_type": "stream",
     "text": [
      "[['airplane', 'automobile', 'bird', 'cat', 'deer', 'dog', 'frog', 'horse', 'ship', 'truck']]\n"
     ]
    }
   ],
   "source": [
    "print(class_names)"
   ]
  },
  {
   "cell_type": "code",
   "execution_count": 61,
   "metadata": {
    "colab": {
     "base_uri": "https://localhost:8080/"
    },
    "executionInfo": {
     "elapsed": 219,
     "status": "ok",
     "timestamp": 1607100163544,
     "user": {
      "displayName": "Daniel Jensen",
      "photoUrl": "https://lh3.googleusercontent.com/a-/AOh14GgxK0y1Y-W44vjnQC53Ak8_BakmvjpvLobUMJWbWQ=s64",
      "userId": "09835133420012498824"
     },
     "user_tz": 300
    },
    "id": "rdCDoPKxBQTA",
    "outputId": "c418fbf5-32b0-4453-960e-a74829e7e0d3"
   },
   "outputs": [
    {
     "name": "stdout",
     "output_type": "stream",
     "text": [
      "First ten entries of the predictions:\n",
      " [[0.052 0.021 0.003 0.872 0.001 0.018 0.003 0.    0.029 0.   ]\n",
      " [0.001 0.    0.    0.    0.    0.    0.    0.    0.998 0.   ]\n",
      " [0.076 0.087 0.001 0.001 0.001 0.002 0.001 0.004 0.45  0.377]\n",
      " [0.982 0.003 0.012 0.    0.002 0.    0.    0.    0.001 0.   ]\n",
      " [0.    0.    0.003 0.002 0.21  0.001 0.783 0.    0.    0.   ]\n",
      " [0.    0.    0.002 0.001 0.    0.006 0.991 0.    0.    0.   ]\n",
      " [0.002 0.249 0.    0.    0.    0.    0.    0.    0.001 0.748]\n",
      " [0.002 0.    0.051 0.004 0.007 0.011 0.92  0.004 0.    0.001]\n",
      " [0.    0.    0.    0.977 0.002 0.012 0.005 0.003 0.    0.001]\n",
      " [0.006 0.412 0.    0.    0.    0.    0.003 0.    0.004 0.574]\n",
      " [0.713 0.    0.048 0.005 0.133 0.037 0.    0.029 0.034 0.   ]\n",
      " [0.    0.    0.    0.    0.    0.    0.    0.    0.    1.   ]\n",
      " [0.    0.    0.002 0.009 0.003 0.977 0.005 0.003 0.    0.   ]\n",
      " [0.    0.    0.    0.    0.005 0.001 0.    0.993 0.    0.   ]\n",
      " [0.    0.    0.    0.    0.    0.    0.    0.    0.    1.   ]\n",
      " [0.014 0.005 0.008 0.004 0.061 0.001 0.682 0.    0.224 0.   ]\n",
      " [0.    0.    0.    0.001 0.    0.999 0.    0.    0.    0.   ]\n",
      " [0.004 0.    0.02  0.027 0.055 0.115 0.005 0.769 0.001 0.004]\n",
      " [0.003 0.001 0.    0.    0.    0.    0.    0.    0.996 0.   ]\n",
      " [0.    0.    0.    0.    0.    0.    0.999 0.    0.    0.   ]]\n",
      "\n"
     ]
    }
   ],
   "source": [
    "print(\"First ten entries of the predictions:\\n {}\\n\".format(preds[0:20]))"
   ]
  },
  {
   "cell_type": "markdown",
   "metadata": {
    "id": "q1h-XqX5BQTB"
   },
   "source": [
    "\n"
   ]
  },
  {
   "cell_type": "markdown",
   "metadata": {
    "id": "qgK4yZt4BQTB"
   },
   "source": [
    "### Predictions"
   ]
  },
  {
   "cell_type": "code",
   "execution_count": 62,
   "metadata": {
    "executionInfo": {
     "elapsed": 233,
     "status": "ok",
     "timestamp": 1607100169658,
     "user": {
      "displayName": "Daniel Jensen",
      "photoUrl": "https://lh3.googleusercontent.com/a-/AOh14GgxK0y1Y-W44vjnQC53Ak8_BakmvjpvLobUMJWbWQ=s64",
      "userId": "09835133420012498824"
     },
     "user_tz": 300
    },
    "id": "yur69upzBQTB"
   },
   "outputs": [],
   "source": [
    "cm = sns.light_palette((260, 75, 60), input=\"husl\", as_cmap=True)"
   ]
  },
  {
   "cell_type": "code",
   "execution_count": 63,
   "metadata": {
    "colab": {
     "base_uri": "https://localhost:8080/",
     "height": 386
    },
    "executionInfo": {
     "elapsed": 250,
     "status": "ok",
     "timestamp": 1607100170937,
     "user": {
      "displayName": "Daniel Jensen",
      "photoUrl": "https://lh3.googleusercontent.com/a-/AOh14GgxK0y1Y-W44vjnQC53Ak8_BakmvjpvLobUMJWbWQ=s64",
      "userId": "09835133420012498824"
     },
     "user_tz": 300
    },
    "id": "FoXrnXb8BQTB",
    "outputId": "7b06283e-7b62-4522-cd1d-3e167f4f83c7"
   },
   "outputs": [
    {
     "data": {
      "text/html": [
       "<style  type=\"text/css\" >\n",
       "#T_bf7928d6_364f_11eb_86d5_0242ac1c0002row0_col0,#T_bf7928d6_364f_11eb_86d5_0242ac1c0002row0_col1{\n",
       "            background-color:  #eaebf1;\n",
       "            color:  #000000;\n",
       "        }#T_bf7928d6_364f_11eb_86d5_0242ac1c0002row0_col2{\n",
       "            background-color:  #e9ebf1;\n",
       "            color:  #000000;\n",
       "        }#T_bf7928d6_364f_11eb_86d5_0242ac1c0002row0_col3{\n",
       "            background-color:  #8496e5;\n",
       "            color:  #000000;\n",
       "        }#T_bf7928d6_364f_11eb_86d5_0242ac1c0002row0_col4,#T_bf7928d6_364f_11eb_86d5_0242ac1c0002row2_col4,#T_bf7928d6_364f_11eb_86d5_0242ac1c0002row3_col1,#T_bf7928d6_364f_11eb_86d5_0242ac1c0002row3_col4,#T_bf7928d6_364f_11eb_86d5_0242ac1c0002row5_col5,#T_bf7928d6_364f_11eb_86d5_0242ac1c0002row7_col3,#T_bf7928d6_364f_11eb_86d5_0242ac1c0002row7_col7,#T_bf7928d6_364f_11eb_86d5_0242ac1c0002row8_col2,#T_bf7928d6_364f_11eb_86d5_0242ac1c0002row8_col4,#T_bf7928d6_364f_11eb_86d5_0242ac1c0002row8_col6,#T_bf7928d6_364f_11eb_86d5_0242ac1c0002row9_col0,#T_bf7928d6_364f_11eb_86d5_0242ac1c0002row9_col8,#T_bf7928d6_364f_11eb_86d5_0242ac1c0002row10_col3,#T_bf7928d6_364f_11eb_86d5_0242ac1c0002row12_col6,#T_bf7928d6_364f_11eb_86d5_0242ac1c0002row15_col3,#T_bf7928d6_364f_11eb_86d5_0242ac1c0002row17_col0,#T_bf7928d6_364f_11eb_86d5_0242ac1c0002row17_col6,#T_bf7928d6_364f_11eb_86d5_0242ac1c0002row17_col9{\n",
       "            background-color:  #f0f0f2;\n",
       "            color:  #000000;\n",
       "        }#T_bf7928d6_364f_11eb_86d5_0242ac1c0002row0_col5,#T_bf7928d6_364f_11eb_86d5_0242ac1c0002row2_col2,#T_bf7928d6_364f_11eb_86d5_0242ac1c0002row13_col4{\n",
       "            background-color:  #eeeff2;\n",
       "            color:  #000000;\n",
       "        }#T_bf7928d6_364f_11eb_86d5_0242ac1c0002row0_col6,#T_bf7928d6_364f_11eb_86d5_0242ac1c0002row0_col7,#T_bf7928d6_364f_11eb_86d5_0242ac1c0002row0_col9,#T_bf7928d6_364f_11eb_86d5_0242ac1c0002row1_col0,#T_bf7928d6_364f_11eb_86d5_0242ac1c0002row1_col1,#T_bf7928d6_364f_11eb_86d5_0242ac1c0002row1_col2,#T_bf7928d6_364f_11eb_86d5_0242ac1c0002row1_col3,#T_bf7928d6_364f_11eb_86d5_0242ac1c0002row1_col4,#T_bf7928d6_364f_11eb_86d5_0242ac1c0002row1_col5,#T_bf7928d6_364f_11eb_86d5_0242ac1c0002row1_col6,#T_bf7928d6_364f_11eb_86d5_0242ac1c0002row1_col7,#T_bf7928d6_364f_11eb_86d5_0242ac1c0002row1_col9,#T_bf7928d6_364f_11eb_86d5_0242ac1c0002row2_col3,#T_bf7928d6_364f_11eb_86d5_0242ac1c0002row2_col5,#T_bf7928d6_364f_11eb_86d5_0242ac1c0002row2_col6,#T_bf7928d6_364f_11eb_86d5_0242ac1c0002row2_col7,#T_bf7928d6_364f_11eb_86d5_0242ac1c0002row3_col3,#T_bf7928d6_364f_11eb_86d5_0242ac1c0002row3_col5,#T_bf7928d6_364f_11eb_86d5_0242ac1c0002row3_col6,#T_bf7928d6_364f_11eb_86d5_0242ac1c0002row3_col7,#T_bf7928d6_364f_11eb_86d5_0242ac1c0002row3_col8,#T_bf7928d6_364f_11eb_86d5_0242ac1c0002row3_col9,#T_bf7928d6_364f_11eb_86d5_0242ac1c0002row4_col0,#T_bf7928d6_364f_11eb_86d5_0242ac1c0002row4_col1,#T_bf7928d6_364f_11eb_86d5_0242ac1c0002row4_col3,#T_bf7928d6_364f_11eb_86d5_0242ac1c0002row4_col5,#T_bf7928d6_364f_11eb_86d5_0242ac1c0002row4_col7,#T_bf7928d6_364f_11eb_86d5_0242ac1c0002row4_col8,#T_bf7928d6_364f_11eb_86d5_0242ac1c0002row4_col9,#T_bf7928d6_364f_11eb_86d5_0242ac1c0002row5_col0,#T_bf7928d6_364f_11eb_86d5_0242ac1c0002row5_col1,#T_bf7928d6_364f_11eb_86d5_0242ac1c0002row5_col3,#T_bf7928d6_364f_11eb_86d5_0242ac1c0002row5_col4,#T_bf7928d6_364f_11eb_86d5_0242ac1c0002row5_col7,#T_bf7928d6_364f_11eb_86d5_0242ac1c0002row5_col8,#T_bf7928d6_364f_11eb_86d5_0242ac1c0002row5_col9,#T_bf7928d6_364f_11eb_86d5_0242ac1c0002row6_col0,#T_bf7928d6_364f_11eb_86d5_0242ac1c0002row6_col2,#T_bf7928d6_364f_11eb_86d5_0242ac1c0002row6_col3,#T_bf7928d6_364f_11eb_86d5_0242ac1c0002row6_col4,#T_bf7928d6_364f_11eb_86d5_0242ac1c0002row6_col5,#T_bf7928d6_364f_11eb_86d5_0242ac1c0002row6_col6,#T_bf7928d6_364f_11eb_86d5_0242ac1c0002row6_col7,#T_bf7928d6_364f_11eb_86d5_0242ac1c0002row6_col8,#T_bf7928d6_364f_11eb_86d5_0242ac1c0002row7_col0,#T_bf7928d6_364f_11eb_86d5_0242ac1c0002row7_col1,#T_bf7928d6_364f_11eb_86d5_0242ac1c0002row7_col8,#T_bf7928d6_364f_11eb_86d5_0242ac1c0002row7_col9,#T_bf7928d6_364f_11eb_86d5_0242ac1c0002row8_col0,#T_bf7928d6_364f_11eb_86d5_0242ac1c0002row8_col1,#T_bf7928d6_364f_11eb_86d5_0242ac1c0002row8_col7,#T_bf7928d6_364f_11eb_86d5_0242ac1c0002row8_col8,#T_bf7928d6_364f_11eb_86d5_0242ac1c0002row8_col9,#T_bf7928d6_364f_11eb_86d5_0242ac1c0002row9_col3,#T_bf7928d6_364f_11eb_86d5_0242ac1c0002row9_col4,#T_bf7928d6_364f_11eb_86d5_0242ac1c0002row9_col5,#T_bf7928d6_364f_11eb_86d5_0242ac1c0002row9_col6,#T_bf7928d6_364f_11eb_86d5_0242ac1c0002row9_col7,#T_bf7928d6_364f_11eb_86d5_0242ac1c0002row10_col1,#T_bf7928d6_364f_11eb_86d5_0242ac1c0002row10_col6,#T_bf7928d6_364f_11eb_86d5_0242ac1c0002row10_col9,#T_bf7928d6_364f_11eb_86d5_0242ac1c0002row11_col0,#T_bf7928d6_364f_11eb_86d5_0242ac1c0002row11_col1,#T_bf7928d6_364f_11eb_86d5_0242ac1c0002row11_col2,#T_bf7928d6_364f_11eb_86d5_0242ac1c0002row11_col3,#T_bf7928d6_364f_11eb_86d5_0242ac1c0002row11_col4,#T_bf7928d6_364f_11eb_86d5_0242ac1c0002row11_col5,#T_bf7928d6_364f_11eb_86d5_0242ac1c0002row11_col6,#T_bf7928d6_364f_11eb_86d5_0242ac1c0002row11_col7,#T_bf7928d6_364f_11eb_86d5_0242ac1c0002row11_col8,#T_bf7928d6_364f_11eb_86d5_0242ac1c0002row12_col0,#T_bf7928d6_364f_11eb_86d5_0242ac1c0002row12_col1,#T_bf7928d6_364f_11eb_86d5_0242ac1c0002row12_col7,#T_bf7928d6_364f_11eb_86d5_0242ac1c0002row12_col8,#T_bf7928d6_364f_11eb_86d5_0242ac1c0002row12_col9,#T_bf7928d6_364f_11eb_86d5_0242ac1c0002row13_col0,#T_bf7928d6_364f_11eb_86d5_0242ac1c0002row13_col1,#T_bf7928d6_364f_11eb_86d5_0242ac1c0002row13_col2,#T_bf7928d6_364f_11eb_86d5_0242ac1c0002row13_col3,#T_bf7928d6_364f_11eb_86d5_0242ac1c0002row13_col5,#T_bf7928d6_364f_11eb_86d5_0242ac1c0002row13_col6,#T_bf7928d6_364f_11eb_86d5_0242ac1c0002row13_col8,#T_bf7928d6_364f_11eb_86d5_0242ac1c0002row13_col9,#T_bf7928d6_364f_11eb_86d5_0242ac1c0002row14_col0,#T_bf7928d6_364f_11eb_86d5_0242ac1c0002row14_col1,#T_bf7928d6_364f_11eb_86d5_0242ac1c0002row14_col2,#T_bf7928d6_364f_11eb_86d5_0242ac1c0002row14_col3,#T_bf7928d6_364f_11eb_86d5_0242ac1c0002row14_col4,#T_bf7928d6_364f_11eb_86d5_0242ac1c0002row14_col5,#T_bf7928d6_364f_11eb_86d5_0242ac1c0002row14_col6,#T_bf7928d6_364f_11eb_86d5_0242ac1c0002row14_col7,#T_bf7928d6_364f_11eb_86d5_0242ac1c0002row14_col8,#T_bf7928d6_364f_11eb_86d5_0242ac1c0002row15_col5,#T_bf7928d6_364f_11eb_86d5_0242ac1c0002row15_col7,#T_bf7928d6_364f_11eb_86d5_0242ac1c0002row15_col9,#T_bf7928d6_364f_11eb_86d5_0242ac1c0002row16_col0,#T_bf7928d6_364f_11eb_86d5_0242ac1c0002row16_col1,#T_bf7928d6_364f_11eb_86d5_0242ac1c0002row16_col2,#T_bf7928d6_364f_11eb_86d5_0242ac1c0002row16_col3,#T_bf7928d6_364f_11eb_86d5_0242ac1c0002row16_col4,#T_bf7928d6_364f_11eb_86d5_0242ac1c0002row16_col6,#T_bf7928d6_364f_11eb_86d5_0242ac1c0002row16_col7,#T_bf7928d6_364f_11eb_86d5_0242ac1c0002row16_col8,#T_bf7928d6_364f_11eb_86d5_0242ac1c0002row16_col9,#T_bf7928d6_364f_11eb_86d5_0242ac1c0002row17_col1,#T_bf7928d6_364f_11eb_86d5_0242ac1c0002row17_col8,#T_bf7928d6_364f_11eb_86d5_0242ac1c0002row18_col0,#T_bf7928d6_364f_11eb_86d5_0242ac1c0002row18_col1,#T_bf7928d6_364f_11eb_86d5_0242ac1c0002row18_col2,#T_bf7928d6_364f_11eb_86d5_0242ac1c0002row18_col3,#T_bf7928d6_364f_11eb_86d5_0242ac1c0002row18_col4,#T_bf7928d6_364f_11eb_86d5_0242ac1c0002row18_col5,#T_bf7928d6_364f_11eb_86d5_0242ac1c0002row18_col6,#T_bf7928d6_364f_11eb_86d5_0242ac1c0002row18_col7,#T_bf7928d6_364f_11eb_86d5_0242ac1c0002row18_col9,#T_bf7928d6_364f_11eb_86d5_0242ac1c0002row19_col0,#T_bf7928d6_364f_11eb_86d5_0242ac1c0002row19_col1,#T_bf7928d6_364f_11eb_86d5_0242ac1c0002row19_col2,#T_bf7928d6_364f_11eb_86d5_0242ac1c0002row19_col3,#T_bf7928d6_364f_11eb_86d5_0242ac1c0002row19_col4,#T_bf7928d6_364f_11eb_86d5_0242ac1c0002row19_col5,#T_bf7928d6_364f_11eb_86d5_0242ac1c0002row19_col7,#T_bf7928d6_364f_11eb_86d5_0242ac1c0002row19_col8,#T_bf7928d6_364f_11eb_86d5_0242ac1c0002row19_col9{\n",
       "            background-color:  #f0f1f2;\n",
       "            color:  #000000;\n",
       "        }#T_bf7928d6_364f_11eb_86d5_0242ac1c0002row0_col8,#T_bf7928d6_364f_11eb_86d5_0242ac1c0002row5_col2,#T_bf7928d6_364f_11eb_86d5_0242ac1c0002row10_col7,#T_bf7928d6_364f_11eb_86d5_0242ac1c0002row17_col3{\n",
       "            background-color:  #edeef2;\n",
       "            color:  #000000;\n",
       "        }#T_bf7928d6_364f_11eb_86d5_0242ac1c0002row1_col8,#T_bf7928d6_364f_11eb_86d5_0242ac1c0002row3_col0,#T_bf7928d6_364f_11eb_86d5_0242ac1c0002row4_col4,#T_bf7928d6_364f_11eb_86d5_0242ac1c0002row7_col2,#T_bf7928d6_364f_11eb_86d5_0242ac1c0002row8_col3,#T_bf7928d6_364f_11eb_86d5_0242ac1c0002row9_col1,#T_bf7928d6_364f_11eb_86d5_0242ac1c0002row11_col9,#T_bf7928d6_364f_11eb_86d5_0242ac1c0002row13_col7,#T_bf7928d6_364f_11eb_86d5_0242ac1c0002row14_col9,#T_bf7928d6_364f_11eb_86d5_0242ac1c0002row16_col5,#T_bf7928d6_364f_11eb_86d5_0242ac1c0002row18_col8,#T_bf7928d6_364f_11eb_86d5_0242ac1c0002row19_col6{\n",
       "            background-color:  #778ce4;\n",
       "            color:  #000000;\n",
       "        }#T_bf7928d6_364f_11eb_86d5_0242ac1c0002row2_col0{\n",
       "            background-color:  #e7e9f1;\n",
       "            color:  #000000;\n",
       "        }#T_bf7928d6_364f_11eb_86d5_0242ac1c0002row2_col1{\n",
       "            background-color:  #d7dbef;\n",
       "            color:  #000000;\n",
       "        }#T_bf7928d6_364f_11eb_86d5_0242ac1c0002row2_col8{\n",
       "            background-color:  #bac3ec;\n",
       "            color:  #000000;\n",
       "        }#T_bf7928d6_364f_11eb_86d5_0242ac1c0002row2_col9{\n",
       "            background-color:  #c3cbed;\n",
       "            color:  #000000;\n",
       "        }#T_bf7928d6_364f_11eb_86d5_0242ac1c0002row3_col2{\n",
       "            background-color:  #d4d9ef;\n",
       "            color:  #000000;\n",
       "        }#T_bf7928d6_364f_11eb_86d5_0242ac1c0002row4_col2{\n",
       "            background-color:  #e8eaf1;\n",
       "            color:  #000000;\n",
       "        }#T_bf7928d6_364f_11eb_86d5_0242ac1c0002row4_col6{\n",
       "            background-color:  #91a1e7;\n",
       "            color:  #000000;\n",
       "        }#T_bf7928d6_364f_11eb_86d5_0242ac1c0002row5_col6{\n",
       "            background-color:  #788ce4;\n",
       "            color:  #000000;\n",
       "        }#T_bf7928d6_364f_11eb_86d5_0242ac1c0002row6_col1{\n",
       "            background-color:  #a7b4e9;\n",
       "            color:  #000000;\n",
       "        }#T_bf7928d6_364f_11eb_86d5_0242ac1c0002row6_col9{\n",
       "            background-color:  #95a5e7;\n",
       "            color:  #000000;\n",
       "        }#T_bf7928d6_364f_11eb_86d5_0242ac1c0002row7_col4,#T_bf7928d6_364f_11eb_86d5_0242ac1c0002row10_col5,#T_bf7928d6_364f_11eb_86d5_0242ac1c0002row10_col8,#T_bf7928d6_364f_11eb_86d5_0242ac1c0002row12_col2{\n",
       "            background-color:  #ecedf2;\n",
       "            color:  #000000;\n",
       "        }#T_bf7928d6_364f_11eb_86d5_0242ac1c0002row7_col5,#T_bf7928d6_364f_11eb_86d5_0242ac1c0002row9_col2,#T_bf7928d6_364f_11eb_86d5_0242ac1c0002row12_col3{\n",
       "            background-color:  #eff0f2;\n",
       "            color:  #000000;\n",
       "        }#T_bf7928d6_364f_11eb_86d5_0242ac1c0002row7_col6{\n",
       "            background-color:  #8093e5;\n",
       "            color:  #000000;\n",
       "        }#T_bf7928d6_364f_11eb_86d5_0242ac1c0002row8_col5,#T_bf7928d6_364f_11eb_86d5_0242ac1c0002row12_col4,#T_bf7928d6_364f_11eb_86d5_0242ac1c0002row15_col0,#T_bf7928d6_364f_11eb_86d5_0242ac1c0002row15_col1{\n",
       "            background-color:  #efeff2;\n",
       "            color:  #000000;\n",
       "        }#T_bf7928d6_364f_11eb_86d5_0242ac1c0002row9_col9{\n",
       "            background-color:  #abb7ea;\n",
       "            color:  #000000;\n",
       "        }#T_bf7928d6_364f_11eb_86d5_0242ac1c0002row10_col0{\n",
       "            background-color:  #98a7e8;\n",
       "            color:  #000000;\n",
       "        }#T_bf7928d6_364f_11eb_86d5_0242ac1c0002row10_col2{\n",
       "            background-color:  #7e92e4;\n",
       "            color:  #000000;\n",
       "        }#T_bf7928d6_364f_11eb_86d5_0242ac1c0002row10_col4{\n",
       "            background-color:  #a4b1e9;\n",
       "            color:  #000000;\n",
       "        }#T_bf7928d6_364f_11eb_86d5_0242ac1c0002row12_col5{\n",
       "            background-color:  #798ee4;\n",
       "            color:  #000000;\n",
       "        }#T_bf7928d6_364f_11eb_86d5_0242ac1c0002row15_col2{\n",
       "            background-color:  #dde1f0;\n",
       "            color:  #000000;\n",
       "        }#T_bf7928d6_364f_11eb_86d5_0242ac1c0002row15_col4{\n",
       "            background-color:  #cdd3ee;\n",
       "            color:  #000000;\n",
       "        }#T_bf7928d6_364f_11eb_86d5_0242ac1c0002row15_col6{\n",
       "            background-color:  #9dace8;\n",
       "            color:  #000000;\n",
       "        }#T_bf7928d6_364f_11eb_86d5_0242ac1c0002row15_col8{\n",
       "            background-color:  #d5daef;\n",
       "            color:  #000000;\n",
       "        }#T_bf7928d6_364f_11eb_86d5_0242ac1c0002row17_col2{\n",
       "            background-color:  #c2caed;\n",
       "            color:  #000000;\n",
       "        }#T_bf7928d6_364f_11eb_86d5_0242ac1c0002row17_col4{\n",
       "            background-color:  #d1d6ee;\n",
       "            color:  #000000;\n",
       "        }#T_bf7928d6_364f_11eb_86d5_0242ac1c0002row17_col5{\n",
       "            background-color:  #e2e5f1;\n",
       "            color:  #000000;\n",
       "        }#T_bf7928d6_364f_11eb_86d5_0242ac1c0002row17_col7{\n",
       "            background-color:  #92a2e7;\n",
       "            color:  #000000;\n",
       "        }</style><table id=\"T_bf7928d6_364f_11eb_86d5_0242ac1c0002\" ><thead>    <tr>        <th class=\"blank level0\" ></th>        <th class=\"col_heading level0 col0\" >airplane</th>        <th class=\"col_heading level0 col1\" >automobile</th>        <th class=\"col_heading level0 col2\" >bird</th>        <th class=\"col_heading level0 col3\" >cat</th>        <th class=\"col_heading level0 col4\" >deer</th>        <th class=\"col_heading level0 col5\" >dog</th>        <th class=\"col_heading level0 col6\" >frog</th>        <th class=\"col_heading level0 col7\" >horse</th>        <th class=\"col_heading level0 col8\" >ship</th>        <th class=\"col_heading level0 col9\" >truck</th>    </tr></thead><tbody>\n",
       "                <tr>\n",
       "                        <th id=\"T_bf7928d6_364f_11eb_86d5_0242ac1c0002level0_row0\" class=\"row_heading level0 row0\" >0</th>\n",
       "                        <td id=\"T_bf7928d6_364f_11eb_86d5_0242ac1c0002row0_col0\" class=\"data row0 col0\" >5.20%</td>\n",
       "                        <td id=\"T_bf7928d6_364f_11eb_86d5_0242ac1c0002row0_col1\" class=\"data row0 col1\" >2.13%</td>\n",
       "                        <td id=\"T_bf7928d6_364f_11eb_86d5_0242ac1c0002row0_col2\" class=\"data row0 col2\" >0.30%</td>\n",
       "                        <td id=\"T_bf7928d6_364f_11eb_86d5_0242ac1c0002row0_col3\" class=\"data row0 col3\" >87.21%</td>\n",
       "                        <td id=\"T_bf7928d6_364f_11eb_86d5_0242ac1c0002row0_col4\" class=\"data row0 col4\" >0.09%</td>\n",
       "                        <td id=\"T_bf7928d6_364f_11eb_86d5_0242ac1c0002row0_col5\" class=\"data row0 col5\" >1.82%</td>\n",
       "                        <td id=\"T_bf7928d6_364f_11eb_86d5_0242ac1c0002row0_col6\" class=\"data row0 col6\" >0.26%</td>\n",
       "                        <td id=\"T_bf7928d6_364f_11eb_86d5_0242ac1c0002row0_col7\" class=\"data row0 col7\" >0.01%</td>\n",
       "                        <td id=\"T_bf7928d6_364f_11eb_86d5_0242ac1c0002row0_col8\" class=\"data row0 col8\" >2.95%</td>\n",
       "                        <td id=\"T_bf7928d6_364f_11eb_86d5_0242ac1c0002row0_col9\" class=\"data row0 col9\" >0.04%</td>\n",
       "            </tr>\n",
       "            <tr>\n",
       "                        <th id=\"T_bf7928d6_364f_11eb_86d5_0242ac1c0002level0_row1\" class=\"row_heading level0 row1\" >1</th>\n",
       "                        <td id=\"T_bf7928d6_364f_11eb_86d5_0242ac1c0002row1_col0\" class=\"data row1 col0\" >0.14%</td>\n",
       "                        <td id=\"T_bf7928d6_364f_11eb_86d5_0242ac1c0002row1_col1\" class=\"data row1 col1\" >0.02%</td>\n",
       "                        <td id=\"T_bf7928d6_364f_11eb_86d5_0242ac1c0002row1_col2\" class=\"data row1 col2\" >0.00%</td>\n",
       "                        <td id=\"T_bf7928d6_364f_11eb_86d5_0242ac1c0002row1_col3\" class=\"data row1 col3\" >0.00%</td>\n",
       "                        <td id=\"T_bf7928d6_364f_11eb_86d5_0242ac1c0002row1_col4\" class=\"data row1 col4\" >0.00%</td>\n",
       "                        <td id=\"T_bf7928d6_364f_11eb_86d5_0242ac1c0002row1_col5\" class=\"data row1 col5\" >0.00%</td>\n",
       "                        <td id=\"T_bf7928d6_364f_11eb_86d5_0242ac1c0002row1_col6\" class=\"data row1 col6\" >0.00%</td>\n",
       "                        <td id=\"T_bf7928d6_364f_11eb_86d5_0242ac1c0002row1_col7\" class=\"data row1 col7\" >0.00%</td>\n",
       "                        <td id=\"T_bf7928d6_364f_11eb_86d5_0242ac1c0002row1_col8\" class=\"data row1 col8\" >99.84%</td>\n",
       "                        <td id=\"T_bf7928d6_364f_11eb_86d5_0242ac1c0002row1_col9\" class=\"data row1 col9\" >0.01%</td>\n",
       "            </tr>\n",
       "            <tr>\n",
       "                        <th id=\"T_bf7928d6_364f_11eb_86d5_0242ac1c0002level0_row2\" class=\"row_heading level0 row2\" >2</th>\n",
       "                        <td id=\"T_bf7928d6_364f_11eb_86d5_0242ac1c0002row2_col0\" class=\"data row2 col0\" >7.57%</td>\n",
       "                        <td id=\"T_bf7928d6_364f_11eb_86d5_0242ac1c0002row2_col1\" class=\"data row2 col1\" >8.71%</td>\n",
       "                        <td id=\"T_bf7928d6_364f_11eb_86d5_0242ac1c0002row2_col2\" class=\"data row2 col2\" >0.09%</td>\n",
       "                        <td id=\"T_bf7928d6_364f_11eb_86d5_0242ac1c0002row2_col3\" class=\"data row2 col3\" >0.13%</td>\n",
       "                        <td id=\"T_bf7928d6_364f_11eb_86d5_0242ac1c0002row2_col4\" class=\"data row2 col4\" >0.14%</td>\n",
       "                        <td id=\"T_bf7928d6_364f_11eb_86d5_0242ac1c0002row2_col5\" class=\"data row2 col5\" >0.18%</td>\n",
       "                        <td id=\"T_bf7928d6_364f_11eb_86d5_0242ac1c0002row2_col6\" class=\"data row2 col6\" >0.08%</td>\n",
       "                        <td id=\"T_bf7928d6_364f_11eb_86d5_0242ac1c0002row2_col7\" class=\"data row2 col7\" >0.38%</td>\n",
       "                        <td id=\"T_bf7928d6_364f_11eb_86d5_0242ac1c0002row2_col8\" class=\"data row2 col8\" >44.99%</td>\n",
       "                        <td id=\"T_bf7928d6_364f_11eb_86d5_0242ac1c0002row2_col9\" class=\"data row2 col9\" >37.74%</td>\n",
       "            </tr>\n",
       "            <tr>\n",
       "                        <th id=\"T_bf7928d6_364f_11eb_86d5_0242ac1c0002level0_row3\" class=\"row_heading level0 row3\" >3</th>\n",
       "                        <td id=\"T_bf7928d6_364f_11eb_86d5_0242ac1c0002row3_col0\" class=\"data row3 col0\" >98.20%</td>\n",
       "                        <td id=\"T_bf7928d6_364f_11eb_86d5_0242ac1c0002row3_col1\" class=\"data row3 col1\" >0.26%</td>\n",
       "                        <td id=\"T_bf7928d6_364f_11eb_86d5_0242ac1c0002row3_col2\" class=\"data row3 col2\" >1.21%</td>\n",
       "                        <td id=\"T_bf7928d6_364f_11eb_86d5_0242ac1c0002row3_col3\" class=\"data row3 col3\" >0.03%</td>\n",
       "                        <td id=\"T_bf7928d6_364f_11eb_86d5_0242ac1c0002row3_col4\" class=\"data row3 col4\" >0.16%</td>\n",
       "                        <td id=\"T_bf7928d6_364f_11eb_86d5_0242ac1c0002row3_col5\" class=\"data row3 col5\" >0.01%</td>\n",
       "                        <td id=\"T_bf7928d6_364f_11eb_86d5_0242ac1c0002row3_col6\" class=\"data row3 col6\" >0.00%</td>\n",
       "                        <td id=\"T_bf7928d6_364f_11eb_86d5_0242ac1c0002row3_col7\" class=\"data row3 col7\" >0.03%</td>\n",
       "                        <td id=\"T_bf7928d6_364f_11eb_86d5_0242ac1c0002row3_col8\" class=\"data row3 col8\" >0.06%</td>\n",
       "                        <td id=\"T_bf7928d6_364f_11eb_86d5_0242ac1c0002row3_col9\" class=\"data row3 col9\" >0.04%</td>\n",
       "            </tr>\n",
       "            <tr>\n",
       "                        <th id=\"T_bf7928d6_364f_11eb_86d5_0242ac1c0002level0_row4\" class=\"row_heading level0 row4\" >4</th>\n",
       "                        <td id=\"T_bf7928d6_364f_11eb_86d5_0242ac1c0002row4_col0\" class=\"data row4 col0\" >0.00%</td>\n",
       "                        <td id=\"T_bf7928d6_364f_11eb_86d5_0242ac1c0002row4_col1\" class=\"data row4 col1\" >0.00%</td>\n",
       "                        <td id=\"T_bf7928d6_364f_11eb_86d5_0242ac1c0002row4_col2\" class=\"data row4 col2\" >0.35%</td>\n",
       "                        <td id=\"T_bf7928d6_364f_11eb_86d5_0242ac1c0002row4_col3\" class=\"data row4 col3\" >0.18%</td>\n",
       "                        <td id=\"T_bf7928d6_364f_11eb_86d5_0242ac1c0002row4_col4\" class=\"data row4 col4\" >21.04%</td>\n",
       "                        <td id=\"T_bf7928d6_364f_11eb_86d5_0242ac1c0002row4_col5\" class=\"data row4 col5\" >0.06%</td>\n",
       "                        <td id=\"T_bf7928d6_364f_11eb_86d5_0242ac1c0002row4_col6\" class=\"data row4 col6\" >78.35%</td>\n",
       "                        <td id=\"T_bf7928d6_364f_11eb_86d5_0242ac1c0002row4_col7\" class=\"data row4 col7\" >0.00%</td>\n",
       "                        <td id=\"T_bf7928d6_364f_11eb_86d5_0242ac1c0002row4_col8\" class=\"data row4 col8\" >0.01%</td>\n",
       "                        <td id=\"T_bf7928d6_364f_11eb_86d5_0242ac1c0002row4_col9\" class=\"data row4 col9\" >0.00%</td>\n",
       "            </tr>\n",
       "            <tr>\n",
       "                        <th id=\"T_bf7928d6_364f_11eb_86d5_0242ac1c0002level0_row5\" class=\"row_heading level0 row5\" >5</th>\n",
       "                        <td id=\"T_bf7928d6_364f_11eb_86d5_0242ac1c0002row5_col0\" class=\"data row5 col0\" >0.01%</td>\n",
       "                        <td id=\"T_bf7928d6_364f_11eb_86d5_0242ac1c0002row5_col1\" class=\"data row5 col1\" >0.00%</td>\n",
       "                        <td id=\"T_bf7928d6_364f_11eb_86d5_0242ac1c0002row5_col2\" class=\"data row5 col2\" >0.15%</td>\n",
       "                        <td id=\"T_bf7928d6_364f_11eb_86d5_0242ac1c0002row5_col3\" class=\"data row5 col3\" >0.11%</td>\n",
       "                        <td id=\"T_bf7928d6_364f_11eb_86d5_0242ac1c0002row5_col4\" class=\"data row5 col4\" >0.04%</td>\n",
       "                        <td id=\"T_bf7928d6_364f_11eb_86d5_0242ac1c0002row5_col5\" class=\"data row5 col5\" >0.57%</td>\n",
       "                        <td id=\"T_bf7928d6_364f_11eb_86d5_0242ac1c0002row5_col6\" class=\"data row5 col6\" >99.07%</td>\n",
       "                        <td id=\"T_bf7928d6_364f_11eb_86d5_0242ac1c0002row5_col7\" class=\"data row5 col7\" >0.03%</td>\n",
       "                        <td id=\"T_bf7928d6_364f_11eb_86d5_0242ac1c0002row5_col8\" class=\"data row5 col8\" >0.01%</td>\n",
       "                        <td id=\"T_bf7928d6_364f_11eb_86d5_0242ac1c0002row5_col9\" class=\"data row5 col9\" >0.00%</td>\n",
       "            </tr>\n",
       "            <tr>\n",
       "                        <th id=\"T_bf7928d6_364f_11eb_86d5_0242ac1c0002level0_row6\" class=\"row_heading level0 row6\" >6</th>\n",
       "                        <td id=\"T_bf7928d6_364f_11eb_86d5_0242ac1c0002row6_col0\" class=\"data row6 col0\" >0.16%</td>\n",
       "                        <td id=\"T_bf7928d6_364f_11eb_86d5_0242ac1c0002row6_col1\" class=\"data row6 col1\" >24.92%</td>\n",
       "                        <td id=\"T_bf7928d6_364f_11eb_86d5_0242ac1c0002row6_col2\" class=\"data row6 col2\" >0.01%</td>\n",
       "                        <td id=\"T_bf7928d6_364f_11eb_86d5_0242ac1c0002row6_col3\" class=\"data row6 col3\" >0.01%</td>\n",
       "                        <td id=\"T_bf7928d6_364f_11eb_86d5_0242ac1c0002row6_col4\" class=\"data row6 col4\" >0.00%</td>\n",
       "                        <td id=\"T_bf7928d6_364f_11eb_86d5_0242ac1c0002row6_col5\" class=\"data row6 col5\" >0.01%</td>\n",
       "                        <td id=\"T_bf7928d6_364f_11eb_86d5_0242ac1c0002row6_col6\" class=\"data row6 col6\" >0.00%</td>\n",
       "                        <td id=\"T_bf7928d6_364f_11eb_86d5_0242ac1c0002row6_col7\" class=\"data row6 col7\" >0.00%</td>\n",
       "                        <td id=\"T_bf7928d6_364f_11eb_86d5_0242ac1c0002row6_col8\" class=\"data row6 col8\" >0.11%</td>\n",
       "                        <td id=\"T_bf7928d6_364f_11eb_86d5_0242ac1c0002row6_col9\" class=\"data row6 col9\" >74.78%</td>\n",
       "            </tr>\n",
       "            <tr>\n",
       "                        <th id=\"T_bf7928d6_364f_11eb_86d5_0242ac1c0002level0_row7\" class=\"row_heading level0 row7\" >7</th>\n",
       "                        <td id=\"T_bf7928d6_364f_11eb_86d5_0242ac1c0002row7_col0\" class=\"data row7 col0\" >0.15%</td>\n",
       "                        <td id=\"T_bf7928d6_364f_11eb_86d5_0242ac1c0002row7_col1\" class=\"data row7 col1\" >0.01%</td>\n",
       "                        <td id=\"T_bf7928d6_364f_11eb_86d5_0242ac1c0002row7_col2\" class=\"data row7 col2\" >5.15%</td>\n",
       "                        <td id=\"T_bf7928d6_364f_11eb_86d5_0242ac1c0002row7_col3\" class=\"data row7 col3\" >0.38%</td>\n",
       "                        <td id=\"T_bf7928d6_364f_11eb_86d5_0242ac1c0002row7_col4\" class=\"data row7 col4\" >0.69%</td>\n",
       "                        <td id=\"T_bf7928d6_364f_11eb_86d5_0242ac1c0002row7_col5\" class=\"data row7 col5\" >1.08%</td>\n",
       "                        <td id=\"T_bf7928d6_364f_11eb_86d5_0242ac1c0002row7_col6\" class=\"data row7 col6\" >92.04%</td>\n",
       "                        <td id=\"T_bf7928d6_364f_11eb_86d5_0242ac1c0002row7_col7\" class=\"data row7 col7\" >0.44%</td>\n",
       "                        <td id=\"T_bf7928d6_364f_11eb_86d5_0242ac1c0002row7_col8\" class=\"data row7 col8\" >0.00%</td>\n",
       "                        <td id=\"T_bf7928d6_364f_11eb_86d5_0242ac1c0002row7_col9\" class=\"data row7 col9\" >0.06%</td>\n",
       "            </tr>\n",
       "            <tr>\n",
       "                        <th id=\"T_bf7928d6_364f_11eb_86d5_0242ac1c0002level0_row8\" class=\"row_heading level0 row8\" >8</th>\n",
       "                        <td id=\"T_bf7928d6_364f_11eb_86d5_0242ac1c0002row8_col0\" class=\"data row8 col0\" >0.03%</td>\n",
       "                        <td id=\"T_bf7928d6_364f_11eb_86d5_0242ac1c0002row8_col1\" class=\"data row8 col1\" >0.01%</td>\n",
       "                        <td id=\"T_bf7928d6_364f_11eb_86d5_0242ac1c0002row8_col2\" class=\"data row8 col2\" >0.03%</td>\n",
       "                        <td id=\"T_bf7928d6_364f_11eb_86d5_0242ac1c0002row8_col3\" class=\"data row8 col3\" >97.69%</td>\n",
       "                        <td id=\"T_bf7928d6_364f_11eb_86d5_0242ac1c0002row8_col4\" class=\"data row8 col4\" >0.16%</td>\n",
       "                        <td id=\"T_bf7928d6_364f_11eb_86d5_0242ac1c0002row8_col5\" class=\"data row8 col5\" >1.21%</td>\n",
       "                        <td id=\"T_bf7928d6_364f_11eb_86d5_0242ac1c0002row8_col6\" class=\"data row8 col6\" >0.51%</td>\n",
       "                        <td id=\"T_bf7928d6_364f_11eb_86d5_0242ac1c0002row8_col7\" class=\"data row8 col7\" >0.27%</td>\n",
       "                        <td id=\"T_bf7928d6_364f_11eb_86d5_0242ac1c0002row8_col8\" class=\"data row8 col8\" >0.00%</td>\n",
       "                        <td id=\"T_bf7928d6_364f_11eb_86d5_0242ac1c0002row8_col9\" class=\"data row8 col9\" >0.10%</td>\n",
       "            </tr>\n",
       "            <tr>\n",
       "                        <th id=\"T_bf7928d6_364f_11eb_86d5_0242ac1c0002level0_row9\" class=\"row_heading level0 row9\" >9</th>\n",
       "                        <td id=\"T_bf7928d6_364f_11eb_86d5_0242ac1c0002row9_col0\" class=\"data row9 col0\" >0.57%</td>\n",
       "                        <td id=\"T_bf7928d6_364f_11eb_86d5_0242ac1c0002row9_col1\" class=\"data row9 col1\" >41.24%</td>\n",
       "                        <td id=\"T_bf7928d6_364f_11eb_86d5_0242ac1c0002row9_col2\" class=\"data row9 col2\" >0.05%</td>\n",
       "                        <td id=\"T_bf7928d6_364f_11eb_86d5_0242ac1c0002row9_col3\" class=\"data row9 col3\" >0.02%</td>\n",
       "                        <td id=\"T_bf7928d6_364f_11eb_86d5_0242ac1c0002row9_col4\" class=\"data row9 col4\" >0.01%</td>\n",
       "                        <td id=\"T_bf7928d6_364f_11eb_86d5_0242ac1c0002row9_col5\" class=\"data row9 col5\" >0.02%</td>\n",
       "                        <td id=\"T_bf7928d6_364f_11eb_86d5_0242ac1c0002row9_col6\" class=\"data row9 col6\" >0.29%</td>\n",
       "                        <td id=\"T_bf7928d6_364f_11eb_86d5_0242ac1c0002row9_col7\" class=\"data row9 col7\" >0.00%</td>\n",
       "                        <td id=\"T_bf7928d6_364f_11eb_86d5_0242ac1c0002row9_col8\" class=\"data row9 col8\" >0.41%</td>\n",
       "                        <td id=\"T_bf7928d6_364f_11eb_86d5_0242ac1c0002row9_col9\" class=\"data row9 col9\" >57.40%</td>\n",
       "            </tr>\n",
       "            <tr>\n",
       "                        <th id=\"T_bf7928d6_364f_11eb_86d5_0242ac1c0002level0_row10\" class=\"row_heading level0 row10\" >10</th>\n",
       "                        <td id=\"T_bf7928d6_364f_11eb_86d5_0242ac1c0002row10_col0\" class=\"data row10 col0\" >71.30%</td>\n",
       "                        <td id=\"T_bf7928d6_364f_11eb_86d5_0242ac1c0002row10_col1\" class=\"data row10 col1\" >0.00%</td>\n",
       "                        <td id=\"T_bf7928d6_364f_11eb_86d5_0242ac1c0002row10_col2\" class=\"data row10 col2\" >4.84%</td>\n",
       "                        <td id=\"T_bf7928d6_364f_11eb_86d5_0242ac1c0002row10_col3\" class=\"data row10 col3\" >0.50%</td>\n",
       "                        <td id=\"T_bf7928d6_364f_11eb_86d5_0242ac1c0002row10_col4\" class=\"data row10 col4\" >13.28%</td>\n",
       "                        <td id=\"T_bf7928d6_364f_11eb_86d5_0242ac1c0002row10_col5\" class=\"data row10 col5\" >3.73%</td>\n",
       "                        <td id=\"T_bf7928d6_364f_11eb_86d5_0242ac1c0002row10_col6\" class=\"data row10 col6\" >0.01%</td>\n",
       "                        <td id=\"T_bf7928d6_364f_11eb_86d5_0242ac1c0002row10_col7\" class=\"data row10 col7\" >2.93%</td>\n",
       "                        <td id=\"T_bf7928d6_364f_11eb_86d5_0242ac1c0002row10_col8\" class=\"data row10 col8\" >3.36%</td>\n",
       "                        <td id=\"T_bf7928d6_364f_11eb_86d5_0242ac1c0002row10_col9\" class=\"data row10 col9\" >0.05%</td>\n",
       "            </tr>\n",
       "            <tr>\n",
       "                        <th id=\"T_bf7928d6_364f_11eb_86d5_0242ac1c0002level0_row11\" class=\"row_heading level0 row11\" >11</th>\n",
       "                        <td id=\"T_bf7928d6_364f_11eb_86d5_0242ac1c0002row11_col0\" class=\"data row11 col0\" >0.00%</td>\n",
       "                        <td id=\"T_bf7928d6_364f_11eb_86d5_0242ac1c0002row11_col1\" class=\"data row11 col1\" >0.00%</td>\n",
       "                        <td id=\"T_bf7928d6_364f_11eb_86d5_0242ac1c0002row11_col2\" class=\"data row11 col2\" >0.00%</td>\n",
       "                        <td id=\"T_bf7928d6_364f_11eb_86d5_0242ac1c0002row11_col3\" class=\"data row11 col3\" >0.00%</td>\n",
       "                        <td id=\"T_bf7928d6_364f_11eb_86d5_0242ac1c0002row11_col4\" class=\"data row11 col4\" >0.00%</td>\n",
       "                        <td id=\"T_bf7928d6_364f_11eb_86d5_0242ac1c0002row11_col5\" class=\"data row11 col5\" >0.00%</td>\n",
       "                        <td id=\"T_bf7928d6_364f_11eb_86d5_0242ac1c0002row11_col6\" class=\"data row11 col6\" >0.00%</td>\n",
       "                        <td id=\"T_bf7928d6_364f_11eb_86d5_0242ac1c0002row11_col7\" class=\"data row11 col7\" >0.00%</td>\n",
       "                        <td id=\"T_bf7928d6_364f_11eb_86d5_0242ac1c0002row11_col8\" class=\"data row11 col8\" >0.00%</td>\n",
       "                        <td id=\"T_bf7928d6_364f_11eb_86d5_0242ac1c0002row11_col9\" class=\"data row11 col9\" >100.00%</td>\n",
       "            </tr>\n",
       "            <tr>\n",
       "                        <th id=\"T_bf7928d6_364f_11eb_86d5_0242ac1c0002level0_row12\" class=\"row_heading level0 row12\" >12</th>\n",
       "                        <td id=\"T_bf7928d6_364f_11eb_86d5_0242ac1c0002row12_col0\" class=\"data row12 col0\" >0.03%</td>\n",
       "                        <td id=\"T_bf7928d6_364f_11eb_86d5_0242ac1c0002row12_col1\" class=\"data row12 col1\" >0.03%</td>\n",
       "                        <td id=\"T_bf7928d6_364f_11eb_86d5_0242ac1c0002row12_col2\" class=\"data row12 col2\" >0.20%</td>\n",
       "                        <td id=\"T_bf7928d6_364f_11eb_86d5_0242ac1c0002row12_col3\" class=\"data row12 col3\" >0.88%</td>\n",
       "                        <td id=\"T_bf7928d6_364f_11eb_86d5_0242ac1c0002row12_col4\" class=\"data row12 col4\" >0.25%</td>\n",
       "                        <td id=\"T_bf7928d6_364f_11eb_86d5_0242ac1c0002row12_col5\" class=\"data row12 col5\" >97.71%</td>\n",
       "                        <td id=\"T_bf7928d6_364f_11eb_86d5_0242ac1c0002row12_col6\" class=\"data row12 col6\" >0.53%</td>\n",
       "                        <td id=\"T_bf7928d6_364f_11eb_86d5_0242ac1c0002row12_col7\" class=\"data row12 col7\" >0.33%</td>\n",
       "                        <td id=\"T_bf7928d6_364f_11eb_86d5_0242ac1c0002row12_col8\" class=\"data row12 col8\" >0.03%</td>\n",
       "                        <td id=\"T_bf7928d6_364f_11eb_86d5_0242ac1c0002row12_col9\" class=\"data row12 col9\" >0.01%</td>\n",
       "            </tr>\n",
       "            <tr>\n",
       "                        <th id=\"T_bf7928d6_364f_11eb_86d5_0242ac1c0002level0_row13\" class=\"row_heading level0 row13\" >13</th>\n",
       "                        <td id=\"T_bf7928d6_364f_11eb_86d5_0242ac1c0002row13_col0\" class=\"data row13 col0\" >0.02%</td>\n",
       "                        <td id=\"T_bf7928d6_364f_11eb_86d5_0242ac1c0002row13_col1\" class=\"data row13 col1\" >0.00%</td>\n",
       "                        <td id=\"T_bf7928d6_364f_11eb_86d5_0242ac1c0002row13_col2\" class=\"data row13 col2\" >0.00%</td>\n",
       "                        <td id=\"T_bf7928d6_364f_11eb_86d5_0242ac1c0002row13_col3\" class=\"data row13 col3\" >0.01%</td>\n",
       "                        <td id=\"T_bf7928d6_364f_11eb_86d5_0242ac1c0002row13_col4\" class=\"data row13 col4\" >0.48%</td>\n",
       "                        <td id=\"T_bf7928d6_364f_11eb_86d5_0242ac1c0002row13_col5\" class=\"data row13 col5\" >0.15%</td>\n",
       "                        <td id=\"T_bf7928d6_364f_11eb_86d5_0242ac1c0002row13_col6\" class=\"data row13 col6\" >0.00%</td>\n",
       "                        <td id=\"T_bf7928d6_364f_11eb_86d5_0242ac1c0002row13_col7\" class=\"data row13 col7\" >99.34%</td>\n",
       "                        <td id=\"T_bf7928d6_364f_11eb_86d5_0242ac1c0002row13_col8\" class=\"data row13 col8\" >0.00%</td>\n",
       "                        <td id=\"T_bf7928d6_364f_11eb_86d5_0242ac1c0002row13_col9\" class=\"data row13 col9\" >0.00%</td>\n",
       "            </tr>\n",
       "            <tr>\n",
       "                        <th id=\"T_bf7928d6_364f_11eb_86d5_0242ac1c0002level0_row14\" class=\"row_heading level0 row14\" >14</th>\n",
       "                        <td id=\"T_bf7928d6_364f_11eb_86d5_0242ac1c0002row14_col0\" class=\"data row14 col0\" >0.00%</td>\n",
       "                        <td id=\"T_bf7928d6_364f_11eb_86d5_0242ac1c0002row14_col1\" class=\"data row14 col1\" >0.00%</td>\n",
       "                        <td id=\"T_bf7928d6_364f_11eb_86d5_0242ac1c0002row14_col2\" class=\"data row14 col2\" >0.00%</td>\n",
       "                        <td id=\"T_bf7928d6_364f_11eb_86d5_0242ac1c0002row14_col3\" class=\"data row14 col3\" >0.00%</td>\n",
       "                        <td id=\"T_bf7928d6_364f_11eb_86d5_0242ac1c0002row14_col4\" class=\"data row14 col4\" >0.00%</td>\n",
       "                        <td id=\"T_bf7928d6_364f_11eb_86d5_0242ac1c0002row14_col5\" class=\"data row14 col5\" >0.00%</td>\n",
       "                        <td id=\"T_bf7928d6_364f_11eb_86d5_0242ac1c0002row14_col6\" class=\"data row14 col6\" >0.00%</td>\n",
       "                        <td id=\"T_bf7928d6_364f_11eb_86d5_0242ac1c0002row14_col7\" class=\"data row14 col7\" >0.00%</td>\n",
       "                        <td id=\"T_bf7928d6_364f_11eb_86d5_0242ac1c0002row14_col8\" class=\"data row14 col8\" >0.00%</td>\n",
       "                        <td id=\"T_bf7928d6_364f_11eb_86d5_0242ac1c0002row14_col9\" class=\"data row14 col9\" >100.00%</td>\n",
       "            </tr>\n",
       "            <tr>\n",
       "                        <th id=\"T_bf7928d6_364f_11eb_86d5_0242ac1c0002level0_row15\" class=\"row_heading level0 row15\" >15</th>\n",
       "                        <td id=\"T_bf7928d6_364f_11eb_86d5_0242ac1c0002row15_col0\" class=\"data row15 col0\" >1.43%</td>\n",
       "                        <td id=\"T_bf7928d6_364f_11eb_86d5_0242ac1c0002row15_col1\" class=\"data row15 col1\" >0.54%</td>\n",
       "                        <td id=\"T_bf7928d6_364f_11eb_86d5_0242ac1c0002row15_col2\" class=\"data row15 col2\" >0.82%</td>\n",
       "                        <td id=\"T_bf7928d6_364f_11eb_86d5_0242ac1c0002row15_col3\" class=\"data row15 col3\" >0.45%</td>\n",
       "                        <td id=\"T_bf7928d6_364f_11eb_86d5_0242ac1c0002row15_col4\" class=\"data row15 col4\" >6.14%</td>\n",
       "                        <td id=\"T_bf7928d6_364f_11eb_86d5_0242ac1c0002row15_col5\" class=\"data row15 col5\" >0.07%</td>\n",
       "                        <td id=\"T_bf7928d6_364f_11eb_86d5_0242ac1c0002row15_col6\" class=\"data row15 col6\" >68.16%</td>\n",
       "                        <td id=\"T_bf7928d6_364f_11eb_86d5_0242ac1c0002row15_col7\" class=\"data row15 col7\" >0.00%</td>\n",
       "                        <td id=\"T_bf7928d6_364f_11eb_86d5_0242ac1c0002row15_col8\" class=\"data row15 col8\" >22.36%</td>\n",
       "                        <td id=\"T_bf7928d6_364f_11eb_86d5_0242ac1c0002row15_col9\" class=\"data row15 col9\" >0.03%</td>\n",
       "            </tr>\n",
       "            <tr>\n",
       "                        <th id=\"T_bf7928d6_364f_11eb_86d5_0242ac1c0002level0_row16\" class=\"row_heading level0 row16\" >16</th>\n",
       "                        <td id=\"T_bf7928d6_364f_11eb_86d5_0242ac1c0002row16_col0\" class=\"data row16 col0\" >0.00%</td>\n",
       "                        <td id=\"T_bf7928d6_364f_11eb_86d5_0242ac1c0002row16_col1\" class=\"data row16 col1\" >0.01%</td>\n",
       "                        <td id=\"T_bf7928d6_364f_11eb_86d5_0242ac1c0002row16_col2\" class=\"data row16 col2\" >0.00%</td>\n",
       "                        <td id=\"T_bf7928d6_364f_11eb_86d5_0242ac1c0002row16_col3\" class=\"data row16 col3\" >0.06%</td>\n",
       "                        <td id=\"T_bf7928d6_364f_11eb_86d5_0242ac1c0002row16_col4\" class=\"data row16 col4\" >0.00%</td>\n",
       "                        <td id=\"T_bf7928d6_364f_11eb_86d5_0242ac1c0002row16_col5\" class=\"data row16 col5\" >99.89%</td>\n",
       "                        <td id=\"T_bf7928d6_364f_11eb_86d5_0242ac1c0002row16_col6\" class=\"data row16 col6\" >0.01%</td>\n",
       "                        <td id=\"T_bf7928d6_364f_11eb_86d5_0242ac1c0002row16_col7\" class=\"data row16 col7\" >0.02%</td>\n",
       "                        <td id=\"T_bf7928d6_364f_11eb_86d5_0242ac1c0002row16_col8\" class=\"data row16 col8\" >0.00%</td>\n",
       "                        <td id=\"T_bf7928d6_364f_11eb_86d5_0242ac1c0002row16_col9\" class=\"data row16 col9\" >0.01%</td>\n",
       "            </tr>\n",
       "            <tr>\n",
       "                        <th id=\"T_bf7928d6_364f_11eb_86d5_0242ac1c0002level0_row17\" class=\"row_heading level0 row17\" >17</th>\n",
       "                        <td id=\"T_bf7928d6_364f_11eb_86d5_0242ac1c0002row17_col0\" class=\"data row17 col0\" >0.40%</td>\n",
       "                        <td id=\"T_bf7928d6_364f_11eb_86d5_0242ac1c0002row17_col1\" class=\"data row17 col1\" >0.02%</td>\n",
       "                        <td id=\"T_bf7928d6_364f_11eb_86d5_0242ac1c0002row17_col2\" class=\"data row17 col2\" >1.97%</td>\n",
       "                        <td id=\"T_bf7928d6_364f_11eb_86d5_0242ac1c0002row17_col3\" class=\"data row17 col3\" >2.68%</td>\n",
       "                        <td id=\"T_bf7928d6_364f_11eb_86d5_0242ac1c0002row17_col4\" class=\"data row17 col4\" >5.46%</td>\n",
       "                        <td id=\"T_bf7928d6_364f_11eb_86d5_0242ac1c0002row17_col5\" class=\"data row17 col5\" >11.50%</td>\n",
       "                        <td id=\"T_bf7928d6_364f_11eb_86d5_0242ac1c0002row17_col6\" class=\"data row17 col6\" >0.55%</td>\n",
       "                        <td id=\"T_bf7928d6_364f_11eb_86d5_0242ac1c0002row17_col7\" class=\"data row17 col7\" >76.90%</td>\n",
       "                        <td id=\"T_bf7928d6_364f_11eb_86d5_0242ac1c0002row17_col8\" class=\"data row17 col8\" >0.10%</td>\n",
       "                        <td id=\"T_bf7928d6_364f_11eb_86d5_0242ac1c0002row17_col9\" class=\"data row17 col9\" >0.43%</td>\n",
       "            </tr>\n",
       "            <tr>\n",
       "                        <th id=\"T_bf7928d6_364f_11eb_86d5_0242ac1c0002level0_row18\" class=\"row_heading level0 row18\" >18</th>\n",
       "                        <td id=\"T_bf7928d6_364f_11eb_86d5_0242ac1c0002row18_col0\" class=\"data row18 col0\" >0.34%</td>\n",
       "                        <td id=\"T_bf7928d6_364f_11eb_86d5_0242ac1c0002row18_col1\" class=\"data row18 col1\" >0.05%</td>\n",
       "                        <td id=\"T_bf7928d6_364f_11eb_86d5_0242ac1c0002row18_col2\" class=\"data row18 col2\" >0.00%</td>\n",
       "                        <td id=\"T_bf7928d6_364f_11eb_86d5_0242ac1c0002row18_col3\" class=\"data row18 col3\" >0.00%</td>\n",
       "                        <td id=\"T_bf7928d6_364f_11eb_86d5_0242ac1c0002row18_col4\" class=\"data row18 col4\" >0.00%</td>\n",
       "                        <td id=\"T_bf7928d6_364f_11eb_86d5_0242ac1c0002row18_col5\" class=\"data row18 col5\" >0.00%</td>\n",
       "                        <td id=\"T_bf7928d6_364f_11eb_86d5_0242ac1c0002row18_col6\" class=\"data row18 col6\" >0.00%</td>\n",
       "                        <td id=\"T_bf7928d6_364f_11eb_86d5_0242ac1c0002row18_col7\" class=\"data row18 col7\" >0.00%</td>\n",
       "                        <td id=\"T_bf7928d6_364f_11eb_86d5_0242ac1c0002row18_col8\" class=\"data row18 col8\" >99.56%</td>\n",
       "                        <td id=\"T_bf7928d6_364f_11eb_86d5_0242ac1c0002row18_col9\" class=\"data row18 col9\" >0.04%</td>\n",
       "            </tr>\n",
       "            <tr>\n",
       "                        <th id=\"T_bf7928d6_364f_11eb_86d5_0242ac1c0002level0_row19\" class=\"row_heading level0 row19\" >19</th>\n",
       "                        <td id=\"T_bf7928d6_364f_11eb_86d5_0242ac1c0002row19_col0\" class=\"data row19 col0\" >0.00%</td>\n",
       "                        <td id=\"T_bf7928d6_364f_11eb_86d5_0242ac1c0002row19_col1\" class=\"data row19 col1\" >0.00%</td>\n",
       "                        <td id=\"T_bf7928d6_364f_11eb_86d5_0242ac1c0002row19_col2\" class=\"data row19 col2\" >0.01%</td>\n",
       "                        <td id=\"T_bf7928d6_364f_11eb_86d5_0242ac1c0002row19_col3\" class=\"data row19 col3\" >0.04%</td>\n",
       "                        <td id=\"T_bf7928d6_364f_11eb_86d5_0242ac1c0002row19_col4\" class=\"data row19 col4\" >0.00%</td>\n",
       "                        <td id=\"T_bf7928d6_364f_11eb_86d5_0242ac1c0002row19_col5\" class=\"data row19 col5\" >0.02%</td>\n",
       "                        <td id=\"T_bf7928d6_364f_11eb_86d5_0242ac1c0002row19_col6\" class=\"data row19 col6\" >99.93%</td>\n",
       "                        <td id=\"T_bf7928d6_364f_11eb_86d5_0242ac1c0002row19_col7\" class=\"data row19 col7\" >0.00%</td>\n",
       "                        <td id=\"T_bf7928d6_364f_11eb_86d5_0242ac1c0002row19_col8\" class=\"data row19 col8\" >0.00%</td>\n",
       "                        <td id=\"T_bf7928d6_364f_11eb_86d5_0242ac1c0002row19_col9\" class=\"data row19 col9\" >0.00%</td>\n",
       "            </tr>\n",
       "    </tbody></table>"
      ],
      "text/plain": [
       "<pandas.io.formats.style.Styler at 0x7f11ac122b00>"
      ]
     },
     "execution_count": 63,
     "metadata": {
      "tags": []
     },
     "output_type": "execute_result"
    }
   ],
   "source": [
    "df = pd.DataFrame(preds[0:20], columns = ['airplane', 'automobile', 'bird', 'cat', 'deer', 'dog', 'frog', 'horse', 'ship', 'truck'])\n",
    "df.style.format(\"{:.2%}\").background_gradient(cmap=cm)"
   ]
  },
  {
   "cell_type": "code",
   "execution_count": 42,
   "metadata": {
    "executionInfo": {
     "elapsed": 2273956,
     "status": "ok",
     "timestamp": 1607098322719,
     "user": {
      "displayName": "Daniel Jensen",
      "photoUrl": "https://lh3.googleusercontent.com/a-/AOh14GgxK0y1Y-W44vjnQC53Ak8_BakmvjpvLobUMJWbWQ=s64",
      "userId": "09835133420012498824"
     },
     "user_tz": 300
    },
    "id": "Q9sSr6LpBQTB"
   },
   "outputs": [],
   "source": []
  },
  {
   "cell_type": "code",
   "execution_count": 42,
   "metadata": {
    "executionInfo": {
     "elapsed": 2273954,
     "status": "ok",
     "timestamp": 1607098322720,
     "user": {
      "displayName": "Daniel Jensen",
      "photoUrl": "https://lh3.googleusercontent.com/a-/AOh14GgxK0y1Y-W44vjnQC53Ak8_BakmvjpvLobUMJWbWQ=s64",
      "userId": "09835133420012498824"
     },
     "user_tz": 300
    },
    "id": "E_KkKxCuBQTB"
   },
   "outputs": [],
   "source": []
  }
 ],
 "metadata": {
  "accelerator": "TPU",
  "colab": {
   "collapsed_sections": [],
   "machine_shape": "hm",
   "name": "MSDS458_Assignment_02b_20201118_DEV_v6_GoogleColab.ipynb",
   "provenance": [],
   "toc_visible": true
  },
  "kernelspec": {
   "display_name": "Python 3",
   "language": "python",
   "name": "python3"
  },
  "language_info": {
   "codemirror_mode": {
    "name": "ipython",
    "version": 3
   },
   "file_extension": ".py",
   "mimetype": "text/x-python",
   "name": "python",
   "nbconvert_exporter": "python",
   "pygments_lexer": "ipython3",
   "version": "3.6.9"
  },
  "toc": {
   "base_numbering": 1,
   "nav_menu": {},
   "number_sections": false,
   "sideBar": true,
   "skip_h1_title": false,
   "title_cell": "Table of Contents",
   "title_sidebar": "Contents",
   "toc_cell": false,
   "toc_position": {},
   "toc_section_display": true,
   "toc_window_display": false
  }
 },
 "nbformat": 4,
 "nbformat_minor": 1
}

{
 "cells": [
  {
   "cell_type": "markdown",
   "metadata": {
    "id": "orJYAIqHkn5y"
   },
   "source": [
    "<img src=\"https://github.com/djp840/MSDS_458_Public/blob/master/images/NorthwesternHeader.png?raw=1\">"
   ]
  },
  {
   "cell_type": "markdown",
   "metadata": {
    "id": "zy62HRWykn53"
   },
   "source": [
    "## MSDS458 Research Assignment 1:\n",
    "\n",
    "* In this notebook, we will build a `DNN` model for classifying MNIST digits. The `DNN` model will consist of 784 input nodes, a hidden layer with 128 nodes and 10 output nodes (corresponding to the 10 digits). \n",
    "* We use `mnist.load_data()` to get the 70,000 images divided into a set of 60,000 training images and 10,000 test images. We hold back 5,000 of the 60,000 training images for validation. \n",
    "* After training and analyzing the performance of the model, we obtain the 60,000 `activation values` of one of the hidden nodes for the (original) set of training. \n",
    "* Our goal is to look for correlations between the activation values of thie chosen nodes and 10 predicted classes using `box plots`. For comparison, we use a `scatter plot` to visual the contributions the pixel values at two fixed locations in the image to the predicated class values.\n",
    "* We don't expect the activation values of a single hidden node to have much predictive power in isolation from the rest of the 128 hidden nodes and the two chose pixels (out of 784) to have even less. But in the scenario where we have only hidden node, the activation value should completely determine the predicted class values.\n",
    "* We also apply the PCA decomposition on both the raw data of 784 pixel values and 128 hidden node activation values to reduce the number of features to 2 in each case. In each case, we use a `scatter plot` to visualize the contribution of two principal component values to the predicated class values.\n",
    "*  Finally, we use a Random Forest Classifier to find the relative importance of the 784 features (pixels) in the training set. We then select the 70 most important feature (pixels) from the training, validation and test images to test our 'best' model on."
   ]
  },
  {
   "cell_type": "markdown",
   "metadata": {
    "id": "4dTs_msbkn54"
   },
   "source": [
    "## 1. Importing Packages \n",
    "\n",
    "* First we import all the packages that will be used in the assignment.\n",
    "\n",
    "* Since Keras is integrated in TensorFlow 2.x, we import `keras` from `tensorflow` and use `tenserflow.keras.xxx` to import all other Keras packages. The seed argument produces a deterministic sequence of tensors across multiple calls."
   ]
  },
  {
   "cell_type": "code",
   "execution_count": null,
   "metadata": {
    "id": "6RE2Olj5kn54"
   },
   "outputs": [],
   "source": [
    "# Helper libraries\n",
    "import datetime\n",
    "from packaging import version\n",
    "import matplotlib.pyplot as plt\n",
    "from mpl_toolkits.mplot3d import Axes3D\n",
    "import seaborn as sns\n",
    "from sklearn.metrics import confusion_matrix\n",
    "from sklearn.preprocessing import StandardScaler\n",
    "from sklearn.decomposition import PCA\n",
    "from sklearn.manifold import TSNE\n",
    "from sklearn.ensemble import RandomForestClassifier\n",
    "\n",
    "from collections import Counter\n",
    "import numpy as np\n",
    "import pandas as pd\n",
    "\n",
    "# TensorFlow and tf.keras\n",
    "import tensorflow as tf\n",
    "from tensorflow.keras.utils import to_categorical\n",
    "from tensorflow import keras\n",
    "from tensorflow.keras import models\n",
    "from tensorflow.keras.models import Sequential\n",
    "from tensorflow.keras.layers import Dense, Flatten\n",
    "from tensorflow.keras.datasets import mnist\n",
    "#from plot_keras_history import plot_history"
   ]
  },
  {
   "cell_type": "code",
   "execution_count": null,
   "metadata": {
    "id": "ZU6vom71kn55"
   },
   "outputs": [],
   "source": [
    "%matplotlib inline\n",
    "# These options determine the way floating point numbers, arrays and other NumPy objects are displayed.\n",
    "# See https://numpy.org/doc/stable/reference/generated/numpy.set_printoptions.html\n",
    "np.set_printoptions(precision=3, suppress=True) "
   ]
  },
  {
   "cell_type": "markdown",
   "metadata": {
    "id": "3XwlONPLkn55"
   },
   "source": [
    "### Verify TensorFlow version and Keras version"
   ]
  },
  {
   "cell_type": "code",
   "execution_count": null,
   "metadata": {
    "colab": {
     "base_uri": "https://localhost:8080/"
    },
    "id": "9HSeZcnpkn55",
    "outputId": "f6a59671-663c-46a7-ca07-f3a5e2bacba6"
   },
   "outputs": [],
   "source": [
    "print(\"This notebook requires TensorFlow 2.0 or above\")\n",
    "print(\"TensorFlow version: \", tf.__version__)\n",
    "assert version.parse(tf.__version__).release[0] >=2"
   ]
  },
  {
   "cell_type": "code",
   "execution_count": null,
   "metadata": {
    "colab": {
     "base_uri": "https://localhost:8080/"
    },
    "id": "SJ9PpKc0kn56",
    "outputId": "1cce6d65-d10b-4e9b-99e3-2e7840fc2cf6"
   },
   "outputs": [],
   "source": [
    "print(\"Keras version: \", keras.__version__)"
   ]
  },
  {
   "cell_type": "markdown",
   "metadata": {
    "id": "kr8DPDQ2kn56"
   },
   "source": [
    "### Mount Google Drive to Colab environment"
   ]
  },
  {
   "cell_type": "code",
   "execution_count": null,
   "metadata": {
    "id": "DEU8D6Jekn56"
   },
   "outputs": [],
   "source": [
    "#from google.colab import drive\n",
    "#drive.mount('/content/gdrive')"
   ]
  },
  {
   "cell_type": "markdown",
   "metadata": {
    "id": "DAWHh09ckn56"
   },
   "source": [
    "## 2. Loading MNIST Dataset\n",
    "\n",
    "* The MNIST dataset of handwritten digits has a training set of 60,000 images, and a test set of 10,000 images. It comes prepackaged as part of `tf.Keras`. Use the `tf.keras.datasets.mnist.load_data` to the get these datasets (and the corresponding labels) as Numpy arrays."
   ]
  },
  {
   "cell_type": "code",
   "execution_count": null,
   "metadata": {
    "id": "6b-9FrSukn57"
   },
   "outputs": [],
   "source": [
    "(x_train, y_train), (x_test, y_test)= tf.keras.datasets.mnist.load_data()"
   ]
  },
  {
   "cell_type": "markdown",
   "metadata": {
    "id": "4qwDLcPrkn57"
   },
   "source": [
    "* Tuples of Numpy arrays: `(x_train, y_train)`, `(x_test, y_test)`\n",
    "* `x_train`, `x_test`: uint8 arrays of grayscale image data with shapes (num_samples, 28, 28).\n",
    "* `y_train`, `y_test`: uint8 arrays of digit labels (integers in range 0-9)"
   ]
  },
  {
   "cell_type": "markdown",
   "metadata": {
    "id": "uG2UuvWmkn57"
   },
   "source": [
    "## 3. EDA Training and Test Sets\n",
    "\n",
    "* Inspect the training and test sets as well as their labels as follows."
   ]
  },
  {
   "cell_type": "code",
   "execution_count": null,
   "metadata": {
    "colab": {
     "base_uri": "https://localhost:8080/"
    },
    "id": "e-3GtF0okn57",
    "outputId": "79f78395-ff2f-45c6-bce3-7f4d7c31f33e"
   },
   "outputs": [],
   "source": [
    "print('x_train:\\t{}'.format(x_train.shape))\n",
    "print('y_train:\\t{}'.format(y_train.shape))\n",
    "print('x_test:\\t\\t{}'.format(x_test.shape))\n",
    "print('y_test:\\t\\t{}'.format(y_test.shape))"
   ]
  },
  {
   "cell_type": "markdown",
   "metadata": {
    "id": "aknb-WH8kn57"
   },
   "source": [
    "### Review labels for training set"
   ]
  },
  {
   "cell_type": "code",
   "execution_count": null,
   "metadata": {
    "colab": {
     "base_uri": "https://localhost:8080/"
    },
    "id": "9KLr92thkn58",
    "outputId": "6d5da64d-8ef8-4b07-b3d0-89f839e524f7"
   },
   "outputs": [],
   "source": [
    "print(\"First ten labels training dataset:\\n {}\\n\".format(y_train[0:10]))"
   ]
  },
  {
   "cell_type": "markdown",
   "metadata": {
    "id": "qR5_IJZdkn58"
   },
   "source": [
    "### Find frequency of each label in training and test sets"
   ]
  },
  {
   "cell_type": "code",
   "execution_count": null,
   "metadata": {
    "colab": {
     "base_uri": "https://localhost:8080/"
    },
    "id": "zarPJAOEkn58",
    "outputId": "6d763c30-40a7-4f4b-d16a-c4a6af67befd"
   },
   "outputs": [],
   "source": [
    "Counter(y_train).most_common()"
   ]
  },
  {
   "cell_type": "code",
   "execution_count": null,
   "metadata": {
    "colab": {
     "base_uri": "https://localhost:8080/"
    },
    "id": "6ijQ5qIKkn58",
    "outputId": "ce17d564-9ac3-40c4-efc3-656c80d83cce"
   },
   "outputs": [],
   "source": [
    "Counter(y_test).most_common()"
   ]
  },
  {
   "cell_type": "markdown",
   "metadata": {
    "id": "Le1sKFW9kn58"
   },
   "source": [
    "### Plot sample images with their labels"
   ]
  },
  {
   "cell_type": "code",
   "execution_count": null,
   "metadata": {
    "colab": {
     "base_uri": "https://localhost:8080/",
     "height": 526
    },
    "id": "WCt1-X-mkn58",
    "outputId": "1be7eff3-bc15-4e7c-d376-5a62f9cef9af"
   },
   "outputs": [],
   "source": [
    "fig = plt.figure(figsize = (15, 9))\n",
    "\n",
    "for i in range(50):\n",
    "    plt.subplot(5, 10, 1+i)\n",
    "    plt.title(y_train[i])\n",
    "    plt.xticks([])\n",
    "    plt.yticks([])\n",
    "    plt.imshow(x_train[i].reshape(28,28), cmap='binary')"
   ]
  },
  {
   "cell_type": "markdown",
   "metadata": {
    "id": "qWhzZFiJkn58"
   },
   "source": [
    "## 4. Preprocessing Data\n",
    "\n",
    "* Before we build our model, we need to prepare the data into the shape the network expected\n",
    "* More specifically, we will convert the labels (integers 0 to 9) to 1D numpy arrays of shape (10,) with elements 0s and 1s. \n",
    "* We also reshape the images from 2D arrays of shape (28,28) to 1D *float32* arrays of shape (784,) and then rescale their elements to values between 0 and 1."
   ]
  },
  {
   "cell_type": "markdown",
   "metadata": {
    "id": "1VOxXpikkn59"
   },
   "source": [
    "### Apply one-hot encoding on the labels\n",
    "\n",
    "We will change the way the labels are represented from numbers (0 to 9) to vectors (1D arrays) of shape (10, ) with all the elements set to 0 except the one which the label belongs to - which will be set to 1. For example:\n",
    "\n",
    "\n",
    "| original label | one-hot encoded label |\n",
    "|------|------|\n",
    "| 5 | [0 0 0 0 0 1 0 0 0 0] |\n",
    "| 7 | [0 0 0 0 0 0 0 1 0 0] |\n",
    "| 1 | [0 1 0 0 0 0 0 0 0 0] |"
   ]
  },
  {
   "cell_type": "code",
   "execution_count": null,
   "metadata": {
    "colab": {
     "base_uri": "https://localhost:8080/"
    },
    "id": "q_X_hLYUkn59",
    "outputId": "021ec061-abdc-47b0-b223-380f3950183e"
   },
   "outputs": [],
   "source": [
    "y_train_encoded = to_categorical(y_train)\n",
    "y_test_encoded = to_categorical(y_test)\n",
    "\n",
    "print(\"First ten entries of y_train:\\n {}\\n\".format(y_train[0:10]))\n",
    "print(\"First ten rows of one-hot y_train:\\n {}\".format(y_train_encoded[0:10,]))"
   ]
  },
  {
   "cell_type": "code",
   "execution_count": null,
   "metadata": {
    "colab": {
     "base_uri": "https://localhost:8080/"
    },
    "id": "3eTBZED0kn59",
    "outputId": "1d5ea1bd-e956-46d7-b72e-75dff74af14b"
   },
   "outputs": [],
   "source": [
    "print('y_train_encoded shape: ', y_train_encoded.shape)\n",
    "print('y_test_encoded shape: ', y_test_encoded.shape)"
   ]
  },
  {
   "cell_type": "markdown",
   "metadata": {
    "id": "Lo3xfUCBkn59"
   },
   "source": [
    "### Reshape the images to 1D arrays\n",
    "\n",
    "Reshape the images from shape (28, 28) 2D arrays to shape (784, ) vectors (1D arrays)."
   ]
  },
  {
   "cell_type": "code",
   "execution_count": null,
   "metadata": {
    "colab": {
     "base_uri": "https://localhost:8080/"
    },
    "id": "vhj2fCiUkn59",
    "outputId": "781afd7d-f38a-4de0-9c66-4d689b606a30"
   },
   "outputs": [],
   "source": [
    "# Before reshape:\n",
    "print('x_train:\\t{}'.format(x_train.shape))\n",
    "print('x_test:\\t\\t{}'.format(x_test.shape))"
   ]
  },
  {
   "cell_type": "code",
   "execution_count": null,
   "metadata": {
    "colab": {
     "base_uri": "https://localhost:8080/"
    },
    "id": "LfyHUMWlkn59",
    "outputId": "a6fc62a1-b065-432f-cf76-c5960f5af25b"
   },
   "outputs": [],
   "source": [
    "# Reshape the images:\n",
    "x_train_reshaped = np.reshape(x_train, (60000, 784))\n",
    "x_test_reshaped = np.reshape(x_test, (10000, 784))\n",
    "\n",
    "# After reshape:\n",
    "print('x_train_reshaped shape: ', x_train_reshaped.shape)\n",
    "print('x_test_reshaped shape: ', x_test_reshaped.shape)"
   ]
  },
  {
   "cell_type": "markdown",
   "metadata": {
    "id": "F6XjR6qgkn5-"
   },
   "source": [
    "1. Each element in an image is a pixel value\n",
    "2. Pixel values range from 0 to 255\n",
    "3. 0 = Black\n",
    "4. 255 = White"
   ]
  },
  {
   "cell_type": "code",
   "execution_count": null,
   "metadata": {
    "colab": {
     "base_uri": "https://localhost:8080/"
    },
    "id": "e1joOK6Lkn5-",
    "outputId": "7ff134b2-cdae-4ab6-f41e-6c9b389d4630"
   },
   "outputs": [],
   "source": [
    "# Take a look at the first reshaped training image:\n",
    "print(set(x_train_reshaped[0]))"
   ]
  },
  {
   "cell_type": "code",
   "execution_count": null,
   "metadata": {
    "colab": {
     "base_uri": "https://localhost:8080/"
    },
    "id": "qD91Qjhikn5-",
    "outputId": "c7fe1652-7ef9-4674-dd80-9e13f686065f"
   },
   "outputs": [],
   "source": [
    "np.set_printoptions(linewidth=np.inf)\n",
    "print(\"{}\".format(x_train[2020]))"
   ]
  },
  {
   "cell_type": "markdown",
   "metadata": {
    "id": "eisT6z44kn5-"
   },
   "source": [
    "### Rescale the elements of the reshaped Training and Test Examples\n",
    "\n",
    "Rescale the elements such that they are now between 0 and 1 - Changing the values of numeric columns in the dataset to a common scale, without distorting differences in the ranges of values"
   ]
  },
  {
   "cell_type": "code",
   "execution_count": null,
   "metadata": {
    "id": "-WDlwS3hkn5_"
   },
   "outputs": [],
   "source": [
    "x_train_norm = x_train_reshaped.astype('float32') / 255\n",
    "x_test_norm = x_test_reshaped.astype('float32') / 255"
   ]
  },
  {
   "cell_type": "code",
   "execution_count": null,
   "metadata": {
    "colab": {
     "base_uri": "https://localhost:8080/"
    },
    "id": "hIBXNcdWkn5_",
    "outputId": "714e29ec-352d-4187-e42e-1bbdc2f1cc50"
   },
   "outputs": [],
   "source": [
    "# Take a look at the first reshaped and normalized training image:\n",
    "print(set(x_train_norm[0]))"
   ]
  },
  {
   "cell_type": "markdown",
   "metadata": {
    "id": "vwLvreknkn5_"
   },
   "source": [
    "## 5. Creating the DNN Model\n",
    "\n",
    "* In this step, we first choose the network architecture for the model. Then we build.compile, train and evaulate the model."
   ]
  },
  {
   "cell_type": "markdown",
   "metadata": {
    "id": "BhUDwni8kn5_"
   },
   "source": [
    "### Specify the network architecture\n",
    "\n",
    "Below is the neural network architecture we will use today for classifying MNIST digits.\n",
    "\n",
    "<img src=\"https://github.com/djp840/MSDS_458_Public/blob/master/images/DNN_architecture.png?raw=1\">"
   ]
  },
  {
   "cell_type": "markdown",
   "metadata": {
    "id": "m1bUu3ZNkn5_"
   },
   "source": [
    "### Build the DNN model\n",
    "\n",
    "We use a `Sequential` class defined in `Keras` to create our model. All the layers are going to be Dense layers. This means, like the figure shown above, all the nodes of a layer would be connected to all the nodes of the preceding layer i.e. densely connected.\n",
    "\n",
    "After the model is built, we view ...."
   ]
  },
  {
   "cell_type": "code",
   "execution_count": null,
   "metadata": {
    "id": "6OdGUkHrkn5_"
   },
   "outputs": [],
   "source": [
    "model = Sequential([\n",
    "    Dense(input_shape=[784], units = 128, activation = tf.nn.relu),\n",
    "    Dense(name = \"output_layer\", units = 10, activation = tf.nn.softmax)\n",
    "])"
   ]
  },
  {
   "cell_type": "code",
   "execution_count": null,
   "metadata": {
    "colab": {
     "base_uri": "https://localhost:8080/"
    },
    "id": "gpEmWU3mkn5_",
    "outputId": "ec34ba40-ab86-465d-e30b-c6a85675f527"
   },
   "outputs": [],
   "source": [
    "model.summary()"
   ]
  },
  {
   "cell_type": "code",
   "execution_count": null,
   "metadata": {
    "colab": {
     "base_uri": "https://localhost:8080/",
     "height": 312
    },
    "id": "hDxzWOj4kn6A",
    "outputId": "b459e958-e04f-4fea-eb44-0ce5532559ea"
   },
   "outputs": [],
   "source": [
    "keras.utils.plot_model(model, \"mnist_model.png\", show_shapes=True) "
   ]
  },
  {
   "cell_type": "markdown",
   "metadata": {
    "id": "aS7eRNF-kn6A"
   },
   "source": [
    "### Compile the DNN model\n",
    "\n",
    "In addition to setting up our model architecture, we also need to define which algorithm should the model use in order to optimize the weights and biases as per the given data. We will use stochastic gradient descent.\n",
    "\n",
    "We also need to define a loss function. Think of this function as the difference between the predicted outputs and the actual outputs given in the dataset. This loss needs to be minimized in order to have a higher model accuracy. That's what the optimization algorithm essentially does - it minimizes the loss during model training. For our multi-class classification problem, categorical cross entropy is commonly used.\n",
    "\n",
    "Finally, we will use the accuracy during training as a metric to keep track of as the model trains."
   ]
  },
  {
   "cell_type": "markdown",
   "metadata": {
    "id": "YthKw2Dqkn6A"
   },
   "source": [
    "\n",
    "<b>tf.keras.optimizers.RMSprop</b><br> \n",
    " https://www.tensorflow.org/api_docs/python/tf/keras/optimizers/RMSprop"
   ]
  },
  {
   "cell_type": "markdown",
   "metadata": {
    "id": "sikgiIMykn6A"
   },
   "source": [
    "\n",
    "<b>tf.keras.losses.CategoricalCrossentropy</b><br> \n",
    "  https://www.tensorflow.org/api_docs/python/tf/keras/losses/CategoricalCrossentropy\n"
   ]
  },
  {
   "cell_type": "code",
   "execution_count": null,
   "metadata": {
    "id": "pwX4nLPSkn6A"
   },
   "outputs": [],
   "source": [
    "model.compile(optimizer='rmsprop',           \n",
    "               loss = 'categorical_crossentropy',\n",
    "               metrics=['accuracy'])"
   ]
  },
  {
   "cell_type": "markdown",
   "metadata": {
    "id": "Qd1WOL9_kn6A"
   },
   "source": [
    "### Train the DNN model\n",
    "\n",
    "<b>tf.keras.model.fit</b><br>\n",
    "  https://www.tensorflow.org/api_docs/python/tf/keras/Model#fit"
   ]
  },
  {
   "cell_type": "markdown",
   "metadata": {
    "id": "9YKqHTog9_dK"
   },
   "source": [
    "<b>tf.keras.callbacks.EarlyStopping</b><br>\n",
    "https://www.tensorflow.org/api_docs/python/tf/keras/callbacks/EarlyStopping"
   ]
  },
  {
   "cell_type": "markdown",
   "metadata": {
    "id": "njfPY2PIkn6B"
   },
   "source": [
    "<div class=\"alert alert-block alert-warning\">\n",
    "Attention to the <b>callbacks</b><br> \n",
    "ToDo - Early Stopping<br>\n",
    "ToDo - Model Checkpoints\n",
    "</div> "
   ]
  },
  {
   "cell_type": "code",
   "execution_count": null,
   "metadata": {
    "colab": {
     "base_uri": "https://localhost:8080/"
    },
    "id": "f7sb2d_Skn6B",
    "outputId": "6822466d-ab06-4bd6-ff3a-89d403507c1c"
   },
   "outputs": [],
   "source": [
    "history = model.fit(\n",
    "    x_train_norm\n",
    "    ,y_train_encoded\n",
    "    ,epochs = 200\n",
    "    ,validation_split=0.20 \n",
    "    ,callbacks=[tf.keras.callbacks.EarlyStopping(monitor='val_accuracy', patience=2)] \n",
    "    )"
   ]
  },
  {
   "cell_type": "markdown",
   "metadata": {
    "id": "rDRd2ciikn6B"
   },
   "source": [
    "### Evaluate the DNN model\n",
    "\n",
    "In order to ensure that this is not a simple \"memorization\" by the machine, we should evaluate the performance on the test set. This is easy to do, we simply use the `evaluate` method on our model."
   ]
  },
  {
   "cell_type": "code",
   "execution_count": null,
   "metadata": {
    "colab": {
     "base_uri": "https://localhost:8080/"
    },
    "id": "CibH0FCVkn6B",
    "outputId": "374d7cd3-f69e-4459-bf52-6c97b10a9542"
   },
   "outputs": [],
   "source": [
    "loss, accuracy = model.evaluate(x_test_norm, y_test_encoded)\n",
    "print('test set accuracy: ', accuracy * 100)"
   ]
  },
  {
   "cell_type": "markdown",
   "metadata": {
    "id": "WvOFT-E0kn6B"
   },
   "source": [
    "## 6. Making Predictions"
   ]
  },
  {
   "cell_type": "code",
   "execution_count": null,
   "metadata": {
    "colab": {
     "base_uri": "https://localhost:8080/"
    },
    "id": "KFJWF2LQkn6B",
    "outputId": "a8bbafbf-96df-47f5-fb77-c3b82a09b303"
   },
   "outputs": [],
   "source": [
    "preds = model.predict(x_test_norm)\n",
    "print('shape of preds: ', preds.shape)"
   ]
  },
  {
   "cell_type": "markdown",
   "metadata": {
    "id": "0OnRD-4Mkn6B"
   },
   "source": [
    "Look at the first 25 - Plot test set images along with their predicted and actual labels to understand how the trained model actually performed"
   ]
  },
  {
   "cell_type": "code",
   "execution_count": null,
   "metadata": {
    "colab": {
     "base_uri": "https://localhost:8080/",
     "height": 698
    },
    "id": "yHf320Lukn6B",
    "outputId": "bf30118a-98d7-40ed-d6d7-612c31a293cd"
   },
   "outputs": [],
   "source": [
    "plt.figure(figsize = (12, 12))\n",
    "\n",
    "start_index = 0\n",
    "\n",
    "for i in range(25):\n",
    "    plt.subplot(5, 5, i + 1)\n",
    "    plt.grid(False)\n",
    "    plt.xticks([])\n",
    "    plt.yticks([])\n",
    "    pred = np.argmax(preds[start_index + i])\n",
    "    actual = np.argmax(y_test_encoded[start_index + i])\n",
    "    col = 'g'\n",
    "    if pred != actual:\n",
    "        col = 'r'\n",
    "    plt.xlabel('i={} | pred={} | true={}'.format(start_index + i, pred, actual), color = col)\n",
    "    plt.imshow(x_test[start_index + i], cmap='binary')\n",
    "plt.show()"
   ]
  },
  {
   "cell_type": "code",
   "execution_count": null,
   "metadata": {
    "colab": {
     "base_uri": "https://localhost:8080/",
     "height": 265
    },
    "id": "YSMY4EGukn6C",
    "outputId": "db373fc5-52ba-4746-d3ee-0cdbf070502c"
   },
   "outputs": [],
   "source": [
    "\"\"\"\n",
    "Enter the index value in place of the value 17 below for the prediction\n",
    "that you want to plot the probability scores for\n",
    "\"\"\"\n",
    "index = 17\n",
    "\n",
    "plt.plot(preds[index])\n",
    "plt.show()"
   ]
  },
  {
   "cell_type": "markdown",
   "metadata": {
    "id": "sPnulsTmkn6C"
   },
   "source": [
    "## 7. Reviewing Performance"
   ]
  },
  {
   "cell_type": "code",
   "execution_count": null,
   "metadata": {
    "colab": {
     "base_uri": "https://localhost:8080/"
    },
    "id": "Inn4TNjSkn6C",
    "outputId": "47f9ad09-4a77-4d14-c91d-b3bac479d5b4"
   },
   "outputs": [],
   "source": [
    "history_dict = history.history\n",
    "history_dict.keys()"
   ]
  },
  {
   "cell_type": "markdown",
   "metadata": {
    "id": "4DsCNcVRkn6C"
   },
   "source": [
    "### Plot performance metrics \n",
    "\n",
    "We use `Matplotlib` to create 2 plots--displaying the training and validation loss (resp. accuracy) for each (training) epoch side by side."
   ]
  },
  {
   "cell_type": "code",
   "execution_count": null,
   "metadata": {
    "id": "502MFM_dkn6C"
   },
   "outputs": [],
   "source": [
    "#plot_history(history.history)\n",
    "#plt.show()"
   ]
  },
  {
   "cell_type": "code",
   "execution_count": null,
   "metadata": {
    "colab": {
     "base_uri": "https://localhost:8080/"
    },
    "id": "XvGSTvsGkn6C",
    "outputId": "3fe17a01-fbfd-440d-9fef-d7aace2f31a3"
   },
   "outputs": [],
   "source": [
    "history_dict = history.history\n",
    "history_dict.keys()"
   ]
  },
  {
   "cell_type": "code",
   "execution_count": null,
   "metadata": {
    "id": "2Div9bSFkn6C"
   },
   "outputs": [],
   "source": [
    "losses = history.history['loss']\n",
    "accs = history.history['accuracy']\n",
    "val_losses = history.history['val_loss']\n",
    "val_accs = history.history['val_accuracy']\n",
    "epochs = len(losses)"
   ]
  },
  {
   "cell_type": "code",
   "execution_count": null,
   "metadata": {
    "colab": {
     "base_uri": "https://localhost:8080/",
     "height": 265
    },
    "id": "k9_OJwBFkn6C",
    "outputId": "fb286f14-5ed2-4da6-d0fe-ecd58726a665"
   },
   "outputs": [],
   "source": [
    "plt.figure(figsize=(16, 4))\n",
    "for i, metrics in enumerate(zip([losses, accs], [val_losses, val_accs], ['Loss', 'Accuracy'])):\n",
    "    plt.subplot(1, 2, i + 1)\n",
    "    plt.plot(range(epochs), metrics[0], label='Training {}'.format(metrics[2]))\n",
    "    plt.plot(range(epochs), metrics[1], label='Validation {}'.format(metrics[2]))\n",
    "    plt.legend()\n",
    "plt.show()"
   ]
  },
  {
   "cell_type": "markdown",
   "metadata": {
    "id": "SUvBrDijkn6D"
   },
   "source": [
    "### Create the confusion matrix\n",
    "\n",
    "Let us see what the confusion matrix looks like. Using both `sklearn.metrics`. Then we visualize the confusion matrix and see what that tells us."
   ]
  },
  {
   "cell_type": "code",
   "execution_count": null,
   "metadata": {
    "colab": {
     "base_uri": "https://localhost:8080/"
    },
    "id": "6fo5rd2ckn6D",
    "outputId": "cd9b8a2d-df4a-4f73-da01-0f78979dcb42"
   },
   "outputs": [],
   "source": [
    "# Get the predicted classes:\n",
    "# pred_classes = model.predict_classes(x_train_norm)# give deprecation warning\n",
    "pred_classes = np.argmax(model.predict(x_train_norm), axis=-1)\n",
    "pred_classes"
   ]
  },
  {
   "cell_type": "markdown",
   "metadata": {
    "id": "nbChYsktkn6D"
   },
   "source": [
    "<div class=\"alert alert-block alert-info\">\n",
    "    <b>Correlation matrix that measures the linear relationships</b><br> \n",
    "    https://pandas.pydata.org/pandas-docs/stable/reference/api/pandas.DataFrame.corr.html\n",
    "    </div>"
   ]
  },
  {
   "cell_type": "code",
   "execution_count": null,
   "metadata": {
    "colab": {
     "base_uri": "https://localhost:8080/"
    },
    "id": "DH8JERwmkn6D",
    "outputId": "bd73c5e3-ad2a-47d1-9270-c78dc8f22740"
   },
   "outputs": [],
   "source": [
    "conf_mx = tf.math.confusion_matrix(y_train, pred_classes)\n",
    "conf_mx"
   ]
  },
  {
   "cell_type": "code",
   "execution_count": null,
   "metadata": {
    "colab": {
     "base_uri": "https://localhost:8080/"
    },
    "id": "GCR_QkY6kn6D",
    "outputId": "ffd61f3a-a5b6-447d-94e4-9ec778a114c4"
   },
   "outputs": [],
   "source": [
    "print(\"The first prediction\\n {}\\n\".format(pred_classes[0]))"
   ]
  },
  {
   "cell_type": "code",
   "execution_count": null,
   "metadata": {
    "colab": {
     "base_uri": "https://localhost:8080/"
    },
    "id": "xLXFgcN3kn6D",
    "outputId": "6c54e6b1-fbf3-4a3d-b500-35506a16869b"
   },
   "outputs": [],
   "source": [
    "print(\"First ten entries of the predictions:\\n {}\\n\".format(pred_classes[0:10]))"
   ]
  },
  {
   "cell_type": "code",
   "execution_count": null,
   "metadata": {
    "id": "GMBxtiqykn6D"
   },
   "outputs": [],
   "source": [
    "cm = sns.light_palette((260, 75, 60), input=\"husl\", as_cmap=True)"
   ]
  },
  {
   "cell_type": "code",
   "execution_count": null,
   "metadata": {
    "colab": {
     "base_uri": "https://localhost:8080/",
     "height": 0
    },
    "id": "RhTjgh9lkn6D",
    "outputId": "b2d420b5-548f-4b5a-c65b-96e7bae36764"
   },
   "outputs": [],
   "source": [
    "df = pd.DataFrame(preds[0:20], columns = ['0', '1', '2', '3', '4', '5', '6', '7', '8', '9'])\n",
    "df.style.format(\"{:.2%}\").background_gradient(cmap=cm)"
   ]
  },
  {
   "cell_type": "markdown",
   "metadata": {
    "id": "G0L29J_9kn6E"
   },
   "source": [
    "### Visualize the confusion matrix\n",
    "\n",
    "We use code from chapter 3 of Hands on Machine Learning (A. Geron) (cf. https://github.com/ageron/handson-ml2/blob/master/03_classification.ipynb) to display a \"heat map\" of the confusion matrix. Then we normalize the confusion matrix so we can compare error rates. \n",
    "\n",
    "See https://learning.oreilly.com/library/view/hands-on-machine-learning/9781492032632/ch03.html#classification_chapter"
   ]
  },
  {
   "cell_type": "markdown",
   "metadata": {
    "id": "1qqNZrDGkn6E"
   },
   "source": [
    "<div class=\"alert alert-block alert-info\">\n",
    "    <b>Correlation matrix that measures the linear relationships</b><br> \n",
    "    https://pandas.pydata.org/pandas-docs/stable/reference/api/pandas.DataFrame.corr.html\n",
    "    </div>"
   ]
  },
  {
   "cell_type": "code",
   "execution_count": null,
   "metadata": {
    "id": "6sT4vALTkn6E"
   },
   "outputs": [],
   "source": [
    "def plot_confusion_matrix(matrix):\n",
    "    \"\"\"If you prefer color and a colorbar\"\"\"\n",
    "    fig = plt.figure(figsize=(8,8))\n",
    "    ax = fig.add_subplot(111)\n",
    "    cax = ax.matshow(matrix)\n",
    "    fig.colorbar(cax)"
   ]
  },
  {
   "cell_type": "markdown",
   "metadata": {
    "id": "WbH-bZkPkn6E"
   },
   "source": [
    "Note that the rows represent actual classes while the columns represent predicted classes."
   ]
  },
  {
   "cell_type": "code",
   "execution_count": null,
   "metadata": {
    "colab": {
     "base_uri": "https://localhost:8080/",
     "height": 508
    },
    "id": "UBDmG8hNkn6E",
    "outputId": "af9592a8-0d0f-4e17-94f2-d4c3189ea749",
    "scrolled": false
   },
   "outputs": [],
   "source": [
    "plt.figure(figsize=(16,8))\n",
    "plt.matshow(conf_mx, cmap=plt.cm.Blues,  fignum=1)\n",
    "plt.xlabel(\"Predicted Classes\")\n",
    "plt.ylabel(\"Actual Classes\")\n",
    "plt.show()"
   ]
  },
  {
   "cell_type": "markdown",
   "metadata": {
    "id": "UKaLoYl6kn6E"
   },
   "source": [
    "The confusion matrix looks quite good!"
   ]
  },
  {
   "cell_type": "markdown",
   "metadata": {
    "id": "peJdGyavkn6E"
   },
   "source": [
    "Looks like 28 fours were misclassified as nines (and 10 nines were classifed fours). We display some of these misclassfications along with exam of fours and nines that were correctly identified."
   ]
  },
  {
   "cell_type": "code",
   "execution_count": null,
   "metadata": {
    "id": "PoBQ7bxqkn6E"
   },
   "outputs": [],
   "source": [
    "def plot_digits(instances, pos, images_per_row=5, **options):\n",
    "    size = 28\n",
    "    images_per_row = min(len(instances), images_per_row)\n",
    "    images = [instance.reshape(size,size) for instance in instances]\n",
    "    n_rows = (len(instances) - 1) // images_per_row + 1\n",
    "    row_images = []\n",
    "    n_empty = n_rows * images_per_row - len(instances)\n",
    "    images.append(np.zeros((size, size * n_empty)))\n",
    "    for row in range(n_rows):\n",
    "        rimages = images[row * images_per_row : (row + 1) * images_per_row]\n",
    "        row_images.append(np.concatenate(rimages, axis=1))\n",
    "    image = np.concatenate(row_images, axis=0)\n",
    "    pos.imshow(image, cmap = 'binary', **options)\n",
    "    pos.axis(\"off\")"
   ]
  },
  {
   "cell_type": "code",
   "execution_count": null,
   "metadata": {
    "colab": {
     "base_uri": "https://localhost:8080/",
     "height": 373
    },
    "id": "VLEckUsCkn6F",
    "outputId": "6a489af9-c586-4bbd-d0b2-ea26d9bcecbc"
   },
   "outputs": [],
   "source": [
    "cl_a, cl_b = 4, 9\n",
    "X_aa = x_train_norm[(y_train == cl_a) & (pred_classes == cl_a)]\n",
    "X_ab = x_train_norm[(y_train == cl_a) & (pred_classes == cl_b)]\n",
    "X_ba = x_train_norm[(y_train == cl_b) & (pred_classes == cl_a)]\n",
    "X_bb = x_train_norm[(y_train == cl_b) & (pred_classes == cl_b)]\n",
    "\n",
    "plt.figure(figsize=(6,6))\n",
    "\n",
    "p1 = plt.subplot(221)\n",
    "p2 = plt.subplot(222)\n",
    "p3 = plt.subplot(223)\n",
    "p4 = plt.subplot(224)\n",
    "\n",
    "plot_digits(X_aa[:25], p1, images_per_row=5);\n",
    "plot_digits(X_ab[:25], p2, images_per_row=5);\n",
    "plot_digits(X_ba[:25], p3, images_per_row=5);  \n",
    "plot_digits(X_bb[:25], p4, images_per_row=5);\n",
    "\n",
    "\n",
    "p1.set_title(f\"{cl_a}'s classified as {cl_a}'s\")\n",
    "p2.set_title(f\"{cl_a}'s classified as {cl_b}'s\")\n",
    "p3.set_title(f\"{cl_b}'s classified as {cl_a}'s\")\n",
    "p4.set_title(f\"{cl_b}'s classified as {cl_b}'s\")\n",
    "\n",
    "# plt.savefig(\"error_analysis_digits_plot_EXP1_valid\")\n",
    "\n",
    "plt.show()"
   ]
  },
  {
   "cell_type": "markdown",
   "metadata": {
    "id": "lajJOHV4kn6F"
   },
   "source": [
    "First, display 50 of the 4's classified correctly..."
   ]
  },
  {
   "cell_type": "code",
   "execution_count": null,
   "metadata": {
    "colab": {
     "base_uri": "https://localhost:8080/",
     "height": 310
    },
    "id": "I_wmy36Ekn6F",
    "outputId": "8ad7476b-ffb2-40f4-800c-5d2544091d30"
   },
   "outputs": [],
   "source": [
    "# display 50 of the 4's classified correctly\n",
    "plt.figure(figsize=(10,10))\n",
    "plot_digits(X_aa[:50],plt,images_per_row = 10)"
   ]
  },
  {
   "cell_type": "markdown",
   "metadata": {
    "id": "Z7YjQjOTkn6F"
   },
   "source": [
    "Then all the 4's classified as 9's..."
   ]
  },
  {
   "cell_type": "code",
   "execution_count": null,
   "metadata": {
    "colab": {
     "base_uri": "https://localhost:8080/",
     "height": 198
    },
    "id": "J-Ibmfkrkn6F",
    "outputId": "66200ce5-fb66-45b0-c864-bac4b39c578e"
   },
   "outputs": [],
   "source": [
    "num = X_ab.shape[0]\n",
    "plt.figure(figsize=(10,10))\n",
    "plot_digits(X_ab[:num],plt, images_per_row = 10)"
   ]
  },
  {
   "cell_type": "markdown",
   "metadata": {
    "id": "w7kBojhekn6G"
   },
   "source": [
    "Then display 50 of the 9's classified correctly"
   ]
  },
  {
   "cell_type": "code",
   "execution_count": null,
   "metadata": {
    "colab": {
     "base_uri": "https://localhost:8080/",
     "height": 310
    },
    "id": "B5rEEFXRkn6G",
    "outputId": "c6ae9da3-9f91-4aae-9fc6-e7a971538e6e"
   },
   "outputs": [],
   "source": [
    "plt.figure(figsize=(10,10))\n",
    "plot_digits(X_bb[:50],plt, images_per_row = 10)"
   ]
  },
  {
   "cell_type": "markdown",
   "metadata": {
    "id": "-GX-_ETrkn6G"
   },
   "source": [
    "Finally, display al the 9's classified as 4's."
   ]
  },
  {
   "cell_type": "code",
   "execution_count": null,
   "metadata": {
    "colab": {
     "base_uri": "https://localhost:8080/",
     "height": 142
    },
    "id": "oUmYG1gXkn6G",
    "outputId": "1cf09bb2-3a98-4771-cfef-0c43a9542c84"
   },
   "outputs": [],
   "source": [
    "# display all the 7's classified as 3's\n",
    "num = X_ba.shape[0]\n",
    "plt.figure(figsize=(10,10))\n",
    "plot_digits(X_ba[:num],plt, images_per_row = 10)"
   ]
  },
  {
   "cell_type": "markdown",
   "metadata": {
    "id": "NKP9zbW6kn6G"
   },
   "source": [
    "## 8. Analyzing the Activation Values of the Hidden Nodes\n",
    "\n",
    "We want to examine the contribution of the individual hidden nodes to the classifications made by the model. We first get the activation values of all the hidden nodes for each of the 60,000 training images and treat these *128 activations* as the features that determine the classification class. For the sake of comparison,  we also consider the *784 pixels* of each training image and determine the contribution of the individual pixels to the predicted classification class. \n",
    "\n",
    "Our goal is to use *box* and *scatter* plots to visualize how these features (*pixel* and *activation* values) correlate with the predicted classes. Because of the high dimension of the feature spaces, we apply *PCA decomposition* and *t-Distributed stochastic neighbor embedding* (`t-SNE`) to reduce the number of features in each case. \n",
    "\n",
    "We use the following two articles as reference\n",
    "\n",
    " * https://towardsdatascience.com/pca-using-python-scikit-learn-e653f8989e60\n",
    " * https://towardsdatascience.com/visualising-high-dimensional-datasets-using-pca-and-t-sne-in-python-8ef87e7915b\n"
   ]
  },
  {
   "cell_type": "markdown",
   "metadata": {
    "id": "DWdXfzLDkn6G"
   },
   "source": [
    "1) Raw data is 60,000 X 784. Just do a scatter plot of col 1 vs col 2. Overlay the color coded classes. We  should not see any patterns since there is not much info in 2 cols to discriminate.\n",
    "\n",
    "2) PCA of raw data – as we discussed earlier. Plot PC1 vs PC2 with overlay. This should be ‘better’ since these 2 capture the info from all 784 cols.\n",
    "\n",
    "3) PCA of activation values – as we discussed earlier. This should be ‘better’ than the previous 2 since it has captured specific features of discrimination."
   ]
  },
  {
   "cell_type": "markdown",
   "metadata": {
    "id": "TB2I3nXkkn6H"
   },
   "source": [
    " ### Get the activation values of the hidden nodes\n",
    " \n",
    "To get the activation values of the hidden nodes, we need to create a new model, `activation_model`, that takes the same input as our current model but outputs the activation value of the hidden layer, i.e. of the hidden node. Then use the `predict` function to get the activation values."
   ]
  },
  {
   "cell_type": "code",
   "execution_count": null,
   "metadata": {
    "colab": {
     "base_uri": "https://localhost:8080/"
    },
    "id": "qDYg78ljkn6H",
    "outputId": "e9e307a7-db82-4350-98fa-dfb9356ed960"
   },
   "outputs": [],
   "source": [
    "# Extracts the outputs of the 2 layers:\n",
    "layer_outputs = [layer.output for layer in model.layers]\n",
    "\n",
    "# Creates a model that will return these outputs, given the model input:\n",
    "activation_model = models.Model(inputs=model.input, outputs=layer_outputs)\n",
    "\n",
    "print(f\"There are {len(layer_outputs)} layers\")\n",
    "layer_outputs # description of the layers"
   ]
  },
  {
   "cell_type": "code",
   "execution_count": null,
   "metadata": {
    "colab": {
     "base_uri": "https://localhost:8080/"
    },
    "id": "Cb6RjwIHkn6H",
    "outputId": "a818844a-42e3-4a66-f11a-635a897dc1ed"
   },
   "outputs": [],
   "source": [
    "# Get the outputs of all the hidden nodes for each of the 60000 training images\n",
    "activations = activation_model.predict(x_train_norm)\n",
    "hidden_layer_activation = activations[0]\n",
    "output_layer_activations = activations[1]\n",
    "hidden_layer_activation.shape   #  each of the 128 hidden nodes has one activation value per training image"
   ]
  },
  {
   "cell_type": "code",
   "execution_count": null,
   "metadata": {
    "colab": {
     "base_uri": "https://localhost:8080/"
    },
    "id": "mJHVnXVOkn6H",
    "outputId": "d511b09a-835e-4796-a79f-0ec64721858b"
   },
   "outputs": [],
   "source": [
    "output_layer_activations.shape"
   ]
  },
  {
   "cell_type": "code",
   "execution_count": null,
   "metadata": {
    "colab": {
     "base_uri": "https://localhost:8080/"
    },
    "id": "z87WPcOYkn6H",
    "outputId": "99e1e6e7-afdc-49b5-b008-aff4602aa418"
   },
   "outputs": [],
   "source": [
    "print(f\"The maximum activation value of the hidden nodes in the hidden layer is \\\n",
    "{hidden_layer_activation.max()}\")"
   ]
  },
  {
   "cell_type": "code",
   "execution_count": null,
   "metadata": {
    "colab": {
     "base_uri": "https://localhost:8080/"
    },
    "id": "SizumOVikn6H",
    "outputId": "afbe47e2-adb5-4e49-cb0e-c4285f1439ba"
   },
   "outputs": [],
   "source": [
    "# Some stats about the output layer as an aside...\n",
    "np.set_printoptions(suppress = True)  # display probabilities as decimals and NOT in scientific notation\n",
    "ouput_layer_activation = activations[1]\n",
    "print(f\"The output node has shape {ouput_layer_activation.shape}\")\n",
    "print(f\"The output for the first image are {ouput_layer_activation[0].round(4)}\")\n",
    "print(f\"The sum of the probabilities is (approximately) {ouput_layer_activation[0].sum()}\")"
   ]
  },
  {
   "cell_type": "markdown",
   "metadata": {
    "id": "aFf3WWuakn6I"
   },
   "source": [
    " ### Create a dataframe with the activation values and predicted classes"
   ]
  },
  {
   "cell_type": "code",
   "execution_count": null,
   "metadata": {
    "colab": {
     "base_uri": "https://localhost:8080/",
     "height": 247
    },
    "id": "PdDSFdaSkn6I",
    "outputId": "094e9f03-a167-46ef-d388-154369faf34b"
   },
   "outputs": [],
   "source": [
    "#Get the dataframe of all the node values\n",
    "activation_data = {'pred_class':pred_classes}\n",
    "for k in range(0,128): \n",
    "    activation_data[f\"act_val_{k}\"] = hidden_layer_activation[:,k]\n",
    "\n",
    "activation_df = pd.DataFrame(activation_data)\n",
    "activation_df.head()"
   ]
  },
  {
   "cell_type": "code",
   "execution_count": null,
   "metadata": {
    "id": "OiO6nv5uHifn"
   },
   "outputs": [],
   "source": []
  },
  {
   "cell_type": "markdown",
   "metadata": {
    "id": "aayj64JEkn6I"
   },
   "source": [
    " ### Visualize the activation values with boxplots\n",
    " \n",
    "We get the activation values of the first hidden node and combine them with the corresponding predicted classes into a DataFrame. We use both `matplotlib` and `seaborn` to create boxplots from the dataframe. "
   ]
  },
  {
   "cell_type": "markdown",
   "metadata": {
    "id": "YvjUHIlykn6I"
   },
   "source": [
    "<div class=\"alert alert-block alert-info\">\n",
    "    <b>Correlation matrix that measures the linear relationships</b><br> \n",
    "    https://pandas.pydata.org/pandas-docs/stable/reference/api/pandas.DataFrame.corr.html\n",
    "    </div>"
   ]
  },
  {
   "cell_type": "markdown",
   "metadata": {
    "id": "_d0Kahs2kn6I"
   },
   "source": [
    "<div class=\"alert alert-block alert-info\">\n",
    "    <b>Correlation matrix that measures the linear relationships</b><br> \n",
    "    https://pandas.pydata.org/pandas-docs/stable/reference/api/pandas.DataFrame.corr.html\n",
    "    </div>"
   ]
  },
  {
   "cell_type": "code",
   "execution_count": null,
   "metadata": {
    "colab": {
     "base_uri": "https://localhost:8080/",
     "height": 280
    },
    "id": "UJyRfUNXkn6I",
    "outputId": "c670118f-af0b-4eca-b022-7de762c45d54"
   },
   "outputs": [],
   "source": [
    "# To see how closely the hidden node activation values correlate with the class predictions\n",
    "# Let us use seaborn for the boxplots this time.\n",
    "bplot = sns.boxplot(y='act_val_0', x='pred_class', \n",
    "                 data=activation_df[['act_val_0','pred_class']], \n",
    "                 width=0.5,\n",
    "                 palette=\"colorblind\")"
   ]
  },
  {
   "cell_type": "code",
   "execution_count": null,
   "metadata": {
    "colab": {
     "base_uri": "https://localhost:8080/",
     "height": 348
    },
    "id": "ABkg3h9Qv2oa",
    "outputId": "dbed763f-88a0-48a8-bd60-e85aff44944d"
   },
   "outputs": [],
   "source": [
    "# displaying the range of activation values for each predictied class\n",
    "activation_df.groupby(\"pred_class\")[\"act_val_0\"].apply(lambda x: [min(x.tolist()),max(x.tolist())]).reset_index().rename(columns={\"act_val_0\": \"range_of_act_values\"})"
   ]
  },
  {
   "cell_type": "markdown",
   "metadata": {
    "id": "UQuOhPXEkn6I"
   },
   "source": [
    " ### Create a dataframe with the pixel values and predicted classes"
   ]
  },
  {
   "cell_type": "code",
   "execution_count": null,
   "metadata": {
    "colab": {
     "base_uri": "https://localhost:8080/",
     "height": 247
    },
    "id": "VQEq7TtNkn6J",
    "outputId": "57404f91-5594-4ec3-9a8b-9d4ecae97dc6"
   },
   "outputs": [],
   "source": [
    "#Get the dataframe of all the pixel values\n",
    "pixel_data = {'pred_class':pred_classes}\n",
    "for k in range(0,784): \n",
    "    pixel_data[f\"pix_val_{k}\"] = x_train_norm[:,k]\n",
    "pixel_df = pd.DataFrame(pixel_data)\n",
    "pixel_df.head()"
   ]
  },
  {
   "cell_type": "code",
   "execution_count": null,
   "metadata": {
    "colab": {
     "base_uri": "https://localhost:8080/"
    },
    "id": "QoatLqVqkn6J",
    "outputId": "89ca20b9-a230-4775-de2c-d9974252451c"
   },
   "outputs": [],
   "source": [
    "pixel_df.pix_val_77.value_counts()"
   ]
  },
  {
   "cell_type": "code",
   "execution_count": null,
   "metadata": {
    "colab": {
     "base_uri": "https://localhost:8080/"
    },
    "id": "hGG5iGTOkn6J",
    "outputId": "1d000700-a8ac-4ce3-e717-223ccd94f293"
   },
   "outputs": [],
   "source": [
    "pixel_df.pix_val_78.value_counts()"
   ]
  },
  {
   "cell_type": "markdown",
   "metadata": {
    "id": "CHNQJYbxkn6J"
   },
   "source": [
    "### Use a scatter plot to visualize the contribution of two pixel location values to the predicated classes\n",
    "\n",
    "We use a scatter plot to determine the correlation between the `pix_val_77` and `pix_val_78` values and the `pred_class` values."
   ]
  },
  {
   "cell_type": "code",
   "execution_count": null,
   "metadata": {
    "colab": {
     "base_uri": "https://localhost:8080/",
     "height": 523
    },
    "id": "ATT6f8mskn6J",
    "outputId": "b6405def-df3f-4c77-d4c3-40324c8c39e5"
   },
   "outputs": [],
   "source": [
    "fig = plt.figure(figsize = (8,8))\n",
    "ax = fig.add_subplot(1,1,1) \n",
    "ax.set_xlabel('Pixel Values 0', fontsize = 15)\n",
    "ax.set_ylabel('Pixel Values 1', fontsize = 15)\n",
    "ax.set_title('2 Pixel Values', fontsize = 20)\n",
    "targets = [0,1,2,3,4,5,6,7,8,9]\n",
    "#colors = ['r', 'g', 'b']\n",
    "from matplotlib import cm\n",
    "\n",
    "\n",
    "colors = cm.rainbow(np.linspace(0, 1, 10))\n",
    "\n",
    "for target, color in zip(targets,colors):\n",
    "    indicesToKeep = pixel_df['pred_class'] == target\n",
    "    ax.scatter(pixel_df.loc[indicesToKeep, 'pix_val_77']\n",
    "               , pixel_df.loc[indicesToKeep, 'pix_val_78']\n",
    "               , c = color.reshape(1,-1)\n",
    "               , s = 50)\n",
    "ax.legend(targets)\n",
    "ax.grid()"
   ]
  },
  {
   "cell_type": "markdown",
   "metadata": {
    "id": "1BsbwZVMkn6J"
   },
   "source": [
    "## 9. PCA Feature Reduction / Model Optimization "
   ]
  },
  {
   "cell_type": "markdown",
   "metadata": {
    "id": "QA63_GUkkn6J"
   },
   "source": [
    "<div class=\"alert alert-block alert-info\">\n",
    "    <b>Correlation matrix that measures the linear relationships</b><br> \n",
    "    https://pandas.pydata.org/pandas-docs/stable/reference/api/pandas.DataFrame.corr.html\n",
    "    </div>"
   ]
  },
  {
   "cell_type": "markdown",
   "metadata": {
    "id": "cKF8nrFFkn6J"
   },
   "source": [
    "### Use PCA decomposition to reduce the number of features from 784 features to 2 features "
   ]
  },
  {
   "cell_type": "code",
   "execution_count": null,
   "metadata": {
    "id": "JhSw_7Vokn6J"
   },
   "outputs": [],
   "source": [
    "# from sklearn.decomposition import PCA\n",
    "\n",
    "# Separating out the features\n",
    "features = [*pixel_data][1:] # ['pix_val_0', 'pix_val_1',...]\n",
    "x = pixel_df.loc[:, features].values \n",
    "\n",
    "pca = PCA(n_components=2)\n",
    "principalComponents = pca.fit_transform(x)\n",
    "principalDf = pd.DataFrame(data = principalComponents\n",
    "             , columns = ['principal component 1', 'principal component 2'])"
   ]
  },
  {
   "cell_type": "code",
   "execution_count": null,
   "metadata": {
    "id": "LO5K6-7akn6K"
   },
   "outputs": [],
   "source": [
    "pixel_pca_df = pd.concat([principalDf, pixel_df[['pred_class']]], axis = 1)"
   ]
  },
  {
   "cell_type": "code",
   "execution_count": null,
   "metadata": {
    "colab": {
     "base_uri": "https://localhost:8080/",
     "height": 198
    },
    "id": "HGFswzktkn6K",
    "outputId": "3e52d113-e805-4d07-fa28-14898301ae32"
   },
   "outputs": [],
   "source": [
    "pixel_pca_df.head()"
   ]
  },
  {
   "cell_type": "code",
   "execution_count": null,
   "metadata": {
    "colab": {
     "base_uri": "https://localhost:8080/"
    },
    "id": "m6hO43kckn6K",
    "outputId": "a7cd364e-eca8-407d-8f00-650be565c4d8"
   },
   "outputs": [],
   "source": [
    "pca.explained_variance_ratio_"
   ]
  },
  {
   "cell_type": "markdown",
   "metadata": {
    "id": "Meh9cAFMkn6K"
   },
   "source": [
    "### Use a scatter plot to visualize the contribution of two principal component values to the predicated class values"
   ]
  },
  {
   "cell_type": "code",
   "execution_count": null,
   "metadata": {
    "colab": {
     "base_uri": "https://localhost:8080/",
     "height": 523
    },
    "id": "iOT4jgaRkn6K",
    "outputId": "1f202cd2-f4c0-4201-fcb5-8a99bc1ce622"
   },
   "outputs": [],
   "source": [
    "fig = plt.figure(figsize = (8,8))\n",
    "ax = fig.add_subplot(1,1,1) \n",
    "ax.set_xlabel('Principal Component 1', fontsize = 15)\n",
    "ax.set_ylabel('Principal Component 2', fontsize = 15)\n",
    "ax.set_title('2 component PCA', fontsize = 20)\n",
    "targets = [0,1,2,3,4,5,6,7,8,9]\n",
    "#colors = ['r', 'g', 'b']\n",
    "from matplotlib import cm\n",
    "\n",
    "\n",
    "colors = cm.rainbow(np.linspace(0, 1, 10))\n",
    "\n",
    "for target, color in zip(targets,colors):\n",
    "    indicesToKeep = pixel_pca_df['pred_class'] == target\n",
    "    ax.scatter(pixel_pca_df.loc[indicesToKeep, 'principal component 1']\n",
    "               , pixel_pca_df.loc[indicesToKeep, 'principal component 2']\n",
    "               , c = color.reshape(1,-1)\n",
    "               , s = 50)\n",
    "ax.legend(targets)\n",
    "ax.grid()"
   ]
  },
  {
   "cell_type": "markdown",
   "metadata": {
    "id": "WxuJNwF4kn6K"
   },
   "source": [
    "Using seaborn this time..."
   ]
  },
  {
   "cell_type": "code",
   "execution_count": null,
   "metadata": {
    "colab": {
     "base_uri": "https://localhost:8080/",
     "height": 624
    },
    "id": "fQUlSV8nkn6K",
    "outputId": "2827a1c5-3e54-4a59-9d2a-9b0ba1d8436a"
   },
   "outputs": [],
   "source": [
    "plt.figure(figsize=(16,10))\n",
    "sns.scatterplot(\n",
    "    x=\"principal component 1\", y=\"principal component 2\",\n",
    "    hue=\"pred_class\",\n",
    "    palette=sns.color_palette(\"hls\", 10),\n",
    "    data=pixel_pca_df,\n",
    "    legend=\"full\",\n",
    "    alpha=0.3\n",
    ")"
   ]
  },
  {
   "cell_type": "markdown",
   "metadata": {
    "id": "z_o9TU0Qkn6L"
   },
   "source": [
    "### Use PCA decomposition to reduce the (activation) features from 128 (= num of hidden nodes) to 2"
   ]
  },
  {
   "cell_type": "code",
   "execution_count": null,
   "metadata": {
    "colab": {
     "base_uri": "https://localhost:8080/",
     "height": 198
    },
    "id": "WVN-ilL_kn6L",
    "outputId": "48b45c0f-73b7-4a77-ce26-db839067d2da"
   },
   "outputs": [],
   "source": [
    "# Separating out the features\n",
    "features = [*activation_data][1:] # ['act_val_0', 'act_val_1',...]\n",
    "x = activation_df.loc[:, features].values \n",
    "\n",
    "pca = PCA(n_components=2)\n",
    "principalComponents = pca.fit_transform(x)\n",
    "principalDf = pd.DataFrame(data = principalComponents\n",
    "             , columns = ['principal component 1', 'principal component 2'])\n",
    "principalDf.head()"
   ]
  },
  {
   "cell_type": "code",
   "execution_count": null,
   "metadata": {
    "colab": {
     "base_uri": "https://localhost:8080/",
     "height": 198
    },
    "id": "tJXz-6sDkn6L",
    "outputId": "dd83cce6-7d1c-4665-e803-c8163c6142e4"
   },
   "outputs": [],
   "source": [
    "activation_pca_df = pd.concat([principalDf, activation_df[['pred_class']]], axis = 1)\n",
    "activation_pca_df.head()"
   ]
  },
  {
   "cell_type": "code",
   "execution_count": null,
   "metadata": {
    "colab": {
     "base_uri": "https://localhost:8080/"
    },
    "id": "goHqTkABkn6L",
    "outputId": "50479879-089e-4494-93e8-5d4daf818506"
   },
   "outputs": [],
   "source": [
    "pca.explained_variance_ratio_"
   ]
  },
  {
   "cell_type": "markdown",
   "metadata": {
    "id": "35Fze3uLkn6L"
   },
   "source": [
    "### Use a scatter plot to visualize the contribution of *two* principal component values to the predicated class values"
   ]
  },
  {
   "cell_type": "code",
   "execution_count": null,
   "metadata": {
    "colab": {
     "base_uri": "https://localhost:8080/",
     "height": 0
    },
    "id": "1wlls5Mrkn6L",
    "outputId": "709e2718-c641-4aed-c852-74911fe3e874"
   },
   "outputs": [],
   "source": [
    "fig = plt.figure(figsize = (8,8))\n",
    "ax = fig.add_subplot(1,1,1) \n",
    "ax.set_xlabel('Principal Component 1', fontsize = 15)\n",
    "ax.set_ylabel('Principal Component 2', fontsize = 15)\n",
    "ax.set_title('2 component PCA', fontsize = 20)\n",
    "targets = [0,1,2,3,4,5,6,7,8,9]\n",
    "#colors = ['r', 'g', 'b']\n",
    "from matplotlib import cm\n",
    "\n",
    "\n",
    "colors = cm.rainbow(np.linspace(0, 1, 10))\n",
    "\n",
    "for target, color in zip(targets,colors):\n",
    "    indicesToKeep = activation_pca_df['pred_class'] == target\n",
    "    ax.scatter(activation_pca_df.loc[indicesToKeep, 'principal component 1']\n",
    "               , activation_pca_df.loc[indicesToKeep, 'principal component 2']\n",
    "               , c = color.reshape(1,-1)\n",
    "               , s = 50)\n",
    "ax.legend(targets)\n",
    "ax.grid()"
   ]
  },
  {
   "cell_type": "markdown",
   "metadata": {
    "id": "aLs1s2Nfkn6L"
   },
   "source": [
    "Using seaborn this time"
   ]
  },
  {
   "cell_type": "code",
   "execution_count": null,
   "metadata": {
    "colab": {
     "base_uri": "https://localhost:8080/",
     "height": 0
    },
    "id": "V4Cxy2S-kn6L",
    "outputId": "2ea58232-fb27-43be-ab85-daeb900c0f50"
   },
   "outputs": [],
   "source": [
    "plt.figure(figsize=(16,10))\n",
    "sns.scatterplot(\n",
    "    x=\"principal component 1\", y=\"principal component 2\",\n",
    "    hue=\"pred_class\",\n",
    "    palette=sns.color_palette(\"hls\", 10),\n",
    "    data=activation_pca_df,\n",
    "    legend=\"full\",\n",
    "    alpha=0.3\n",
    ")"
   ]
  },
  {
   "cell_type": "markdown",
   "metadata": {
    "id": "gYMQ20h7kn6M"
   },
   "source": [
    "### Use PCA decomposition to reduce the (activation) features from 128 (= num of hidden nodes) to 3"
   ]
  },
  {
   "cell_type": "code",
   "execution_count": null,
   "metadata": {
    "colab": {
     "base_uri": "https://localhost:8080/",
     "height": 0
    },
    "id": "LurC46Mfkn6M",
    "outputId": "a3e59f14-8a53-454c-b7a7-74c9e94fa11d"
   },
   "outputs": [],
   "source": [
    "# Separating out the features\n",
    "features = [*activation_data][1:] # ['act_val_0', 'act_val_1',...]\n",
    "x = activation_df.loc[:, features].values \n",
    "\n",
    "pca = PCA(n_components=3)\n",
    "principalComponents = pca.fit_transform(x)\n",
    "principalDf = pd.DataFrame(data = principalComponents\n",
    "             , columns = ['pca-one', 'pca-two', 'pca-three'])\n",
    "principalDf.head()"
   ]
  },
  {
   "cell_type": "code",
   "execution_count": null,
   "metadata": {
    "colab": {
     "base_uri": "https://localhost:8080/"
    },
    "id": "ocCYpbxPkn6M",
    "outputId": "0bd868eb-cfb0-4097-ed56-babddbc76b6e"
   },
   "outputs": [],
   "source": [
    "pca.explained_variance_ratio_"
   ]
  },
  {
   "cell_type": "code",
   "execution_count": null,
   "metadata": {
    "colab": {
     "base_uri": "https://localhost:8080/",
     "height": 0
    },
    "id": "GVmnxrSEkn6M",
    "outputId": "e8a11c5d-30fd-4978-8906-52ef0333c0e1"
   },
   "outputs": [],
   "source": [
    "activation_pca_df = pd.concat([principalDf, activation_df[['pred_class']]], axis = 1)\n",
    "activation_pca_df.head()"
   ]
  },
  {
   "cell_type": "markdown",
   "metadata": {
    "id": "gMfy7Wqakn6M"
   },
   "source": [
    "### Use a scatter plot to visualize the contribution of *three* principal component values to the predicated class values"
   ]
  },
  {
   "cell_type": "code",
   "execution_count": null,
   "metadata": {
    "colab": {
     "base_uri": "https://localhost:8080/",
     "height": 0
    },
    "id": "kRb0E_9Jkn6M",
    "outputId": "0076ca19-dba5-47ef-c970-fd79824d903a",
    "scrolled": false
   },
   "outputs": [],
   "source": [
    "# uncomment to to able to rotate the graph...\n",
    "# %matplotlib notebook   \n",
    "ax = plt.figure(figsize=(16,10)).gca(projection='3d')\n",
    "ax.scatter(\n",
    "    xs=activation_pca_df.loc[:,\"pca-one\"], \n",
    "    ys=activation_pca_df.loc[:,\"pca-two\"], \n",
    "    zs=activation_pca_df.loc[:,\"pca-three\"], \n",
    "    c=activation_pca_df.loc[:,\"pred_class\"], \n",
    "    cmap='tab10'\n",
    ")\n",
    "ax.set_xlabel('pca-one')\n",
    "ax.set_ylabel('pca-two')\n",
    "ax.set_zlabel('pca-three')\n",
    "plt.show()"
   ]
  },
  {
   "cell_type": "markdown",
   "metadata": {
    "id": "DFpWdY_Lkn6N"
   },
   "source": [
    "### Use t-Distributed Stochastic Neighbor Embedding (**t-SNE**)  to reduce the (activation) features from 128 (= num of hidden nodes) to 2\n",
    "\n",
    "`t-Distributed Stochastic Neighbor Embedding` (**t-SNE**) is another technique for dimensionality reduction and is particularly well suited for the visualization of high-dimensional datasets. This time we only use the first 10,000 training images (N=10000) since the technique is computationally expensive.\n",
    "\n",
    "See http://jmlr.org/papers/volume9/vandermaaten08a/vandermaaten08a.pdf"
   ]
  },
  {
   "cell_type": "markdown",
   "metadata": {
    "id": "Ie056N_mkn6N"
   },
   "source": [
    "<div class=\"alert alert-block alert-info\">\n",
    "    <b>Correlation matrix that measures the linear relationships</b><br> \n",
    "    https://pandas.pydata.org/pandas-docs/stable/reference/api/pandas.DataFrame.corr.html\n",
    "    </div>"
   ]
  },
  {
   "cell_type": "code",
   "execution_count": null,
   "metadata": {
    "colab": {
     "base_uri": "https://localhost:8080/"
    },
    "id": "LIyXEjBUkn6N",
    "outputId": "7514f7f0-dbca-4c92-c571-f9de31b33203"
   },
   "outputs": [],
   "source": [
    "N=10000\n",
    "activation_df_subset = activation_df.iloc[:N].copy()\n",
    "activation_df_subset.shape"
   ]
  },
  {
   "cell_type": "code",
   "execution_count": null,
   "metadata": {
    "colab": {
     "base_uri": "https://localhost:8080/"
    },
    "id": "FmVarnbLkn6N",
    "outputId": "7a807617-8c38-4f78-d472-44bab75689fd"
   },
   "outputs": [],
   "source": [
    "data_subset = activation_df_subset[features].values\n",
    "data_subset.shape"
   ]
  },
  {
   "cell_type": "code",
   "execution_count": null,
   "metadata": {
    "colab": {
     "base_uri": "https://localhost:8080/"
    },
    "id": "jj_G_gBHkn6N",
    "outputId": "d07d2de0-2750-4f13-f067-3d959e08843e"
   },
   "outputs": [],
   "source": [
    "tsne = TSNE(n_components=2, verbose=1, perplexity=40, n_iter=300)\n",
    "tsne_results = tsne.fit_transform(data_subset)"
   ]
  },
  {
   "cell_type": "code",
   "execution_count": null,
   "metadata": {
    "colab": {
     "base_uri": "https://localhost:8080/",
     "height": 624
    },
    "id": "JTmH1oC1kn6N",
    "outputId": "7f4f4cd9-8c2b-4701-e3d2-bb16128dd02d",
    "scrolled": false
   },
   "outputs": [],
   "source": [
    "activation_df_subset['tsne-2d-one'] = tsne_results[:,0]\n",
    "activation_df_subset['tsne-2d-two'] = tsne_results[:,1]\n",
    "\n",
    "plt.figure(figsize=(16,10))\n",
    "sns.scatterplot(\n",
    "    x=\"tsne-2d-one\", y=\"tsne-2d-two\",\n",
    "    hue=\"pred_class\",\n",
    "    palette=sns.color_palette(\"hls\", 10),\n",
    "    data=activation_df_subset,\n",
    "    legend=\"full\",\n",
    "    alpha=0.3\n",
    ")"
   ]
  },
  {
   "cell_type": "markdown",
   "metadata": {
    "id": "49-8XWfMkn6N"
   },
   "source": [
    "## 10. Reducing dimensionality of the data with Random Forests.\n",
    "\n",
    "We create a Random Forest Classifier (with the default 100 trees) and use it to find the relative importance of the 784 features (pixels) in the training set. We produce a heat map to visual the relative importance of the features (using code from Hands On Machine Learning by A. Geron). Finally, we select the 70 most important feature (pixels) from the training, validation and test images to test our 'best' model on."
   ]
  },
  {
   "cell_type": "markdown",
   "metadata": {
    "id": "IQB0eG7rkn6N"
   },
   "source": [
    "<div class=\"alert alert-block alert-info\">\n",
    "    <b>Correlation matrix that measures the linear relationships</b><br> \n",
    "    https://pandas.pydata.org/pandas-docs/stable/reference/api/pandas.DataFrame.corr.html\n",
    "    </div>"
   ]
  },
  {
   "cell_type": "code",
   "execution_count": null,
   "metadata": {
    "colab": {
     "base_uri": "https://localhost:8080/"
    },
    "id": "41iidtM8kn6O",
    "outputId": "362daf38-1e19-40a8-861b-a8abb8c006d5"
   },
   "outputs": [],
   "source": [
    "rnd_clf = RandomForestClassifier(n_estimators=100, random_state=42)\n",
    "rnd_clf.fit(x_train_norm,y_train_encoded)"
   ]
  },
  {
   "cell_type": "code",
   "execution_count": null,
   "metadata": {
    "colab": {
     "base_uri": "https://localhost:8080/",
     "height": 258
    },
    "id": "N84jCjrHkn6O",
    "outputId": "1276061f-578f-4ff4-d01c-63641f915b68"
   },
   "outputs": [],
   "source": [
    "def plot_digit(data):\n",
    "    image = data.reshape(28, 28)\n",
    "    plt.imshow(image, cmap = 'hot',\n",
    "               interpolation=\"nearest\")\n",
    "    plt.axis(\"off\")\n",
    "\n",
    "plot_digit(rnd_clf.feature_importances_)\n",
    "cbar = plt.colorbar(ticks=[rnd_clf.feature_importances_.min(), rnd_clf.feature_importances_.max()])\n",
    "cbar.ax.set_yticklabels(['Not important', 'Very important'])\n",
    "plt.show()"
   ]
  },
  {
   "cell_type": "markdown",
   "metadata": {
    "id": "kuzt-oy5kn6O"
   },
   "source": [
    "<div class=\"alert alert-block alert-info\">\n",
    "    <b>Correlation matrix that measures the linear relationships</b><br> \n",
    "    https://pandas.pydata.org/pandas-docs/stable/reference/api/pandas.DataFrame.corr.html\n",
    "    </div>"
   ]
  },
  {
   "cell_type": "code",
   "execution_count": null,
   "metadata": {
    "colab": {
     "base_uri": "https://localhost:8080/"
    },
    "id": "Vj8H8MyNkn6O",
    "outputId": "fb3e64f4-9739-4c71-a5f0-e1efb5df6ee2"
   },
   "outputs": [],
   "source": [
    "# https://stackoverflow.com/questions/6910641/how-do-i-get-indices-of-n-maximum-values-in-a-numpy-array\n",
    "n = 70\n",
    "imp_arr = rnd_clf.feature_importances_\n",
    "idx = (-imp_arr).argsort()[:n]          # get the indices of the 70 \"most important\" features/pixels\n",
    "len(idx)"
   ]
  },
  {
   "cell_type": "code",
   "execution_count": null,
   "metadata": {
    "colab": {
     "base_uri": "https://localhost:8080/"
    },
    "id": "1bjSKY1Nkn6O",
    "outputId": "bc03b4f9-6bc2-46f5-c252-9605c9197d29"
   },
   "outputs": [],
   "source": [
    "# Create training and test images using just the 70 pixel locations obtained above\n",
    "train_images_sm = x_train_norm[:,idx]\n",
    "test_images_sm = x_test_norm[:,idx]\n",
    "train_images_sm.shape, test_images_sm.shape # the reduced images have dimension 70"
   ]
  },
  {
   "cell_type": "markdown",
   "metadata": {
    "id": "UC-WiBYxkn6O"
   },
   "source": [
    "### Visualize the 70 pixels\n",
    "We convert the array of indexes to ordered pairs and plot them as red circles on the second training image. These are the features (pixels) we train our neural network on."
   ]
  },
  {
   "cell_type": "code",
   "execution_count": null,
   "metadata": {
    "id": "OLv2ajRAkn6O"
   },
   "outputs": [],
   "source": [
    "# to convert an index n, 0<= n < 784\n",
    "def pair(n,size):\n",
    "    x = n//size \n",
    "    y = n%size\n",
    "    return x,y"
   ]
  },
  {
   "cell_type": "code",
   "execution_count": null,
   "metadata": {
    "colab": {
     "base_uri": "https://localhost:8080/",
     "height": 282
    },
    "id": "CkkoeKprkn6O",
    "outputId": "ed20c100-c45c-487f-fd7c-e2f0d3f53032"
   },
   "outputs": [],
   "source": [
    "plt.imshow(x_train_norm[1].reshape(28,28),cmap='binary')\n",
    "x, y = np.array([pair(k,28) for k in idx]).T\n",
    "plt.scatter(x,y,color='red',s=20)"
   ]
  },
  {
   "cell_type": "code",
   "execution_count": null,
   "metadata": {
    "id": "akCOBIqckn6P"
   },
   "outputs": [],
   "source": []
  }
 ],
 "metadata": {
  "accelerator": "TPU",
  "colab": {
   "collapsed_sections": [
    "1VOxXpikkn59",
    "BhUDwni8kn5_",
    "SUvBrDijkn6D",
    "35Fze3uLkn6L",
    "gYMQ20h7kn6M",
    "gMfy7Wqakn6M"
   ],
   "name": "MSDS458_Assignment_01_20201120_v10b.ipynb",
   "provenance": []
  },
  "kernelspec": {
   "display_name": "Python 3",
   "language": "python",
   "name": "python3"
  },
  "language_info": {
   "codemirror_mode": {
    "name": "ipython",
    "version": 3
   },
   "file_extension": ".py",
   "mimetype": "text/x-python",
   "name": "python",
   "nbconvert_exporter": "python",
   "pygments_lexer": "ipython3",
   "version": "3.6.9"
  },
  "toc": {
   "base_numbering": 1,
   "nav_menu": {},
   "number_sections": false,
   "sideBar": true,
   "skip_h1_title": false,
   "title_cell": "Table of Contents",
   "title_sidebar": "Contents",
   "toc_cell": false,
   "toc_position": {},
   "toc_section_display": true,
   "toc_window_display": false
  }
 },
 "nbformat": 4,
 "nbformat_minor": 1
}
